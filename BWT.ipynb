{
 "cells": [
  {
   "cell_type": "markdown",
   "id": "c05233d8",
   "metadata": {},
   "source": [
    "# Project 2: BWT\n"
   ]
  },
  {
   "cell_type": "code",
   "execution_count": 1,
   "id": "32a2003b",
   "metadata": {},
   "outputs": [],
   "source": [
    "import tensorflow as tf\n",
    "import numpy as np\n",
    "from tensorflow import keras"
   ]
  },
  {
   "cell_type": "code",
   "execution_count": 31,
   "id": "bf7c7c20",
   "metadata": {},
   "outputs": [
    {
     "name": "stdout",
     "output_type": "stream",
     "text": [
      "AGTGCCATG$\n"
     ]
    }
   ],
   "source": [
    "# read the text files\n",
    "with open(\"text.txt\") as f:\n",
    "    text = f.read()\n",
    "print(text)"
   ]
  },
  {
   "cell_type": "markdown",
   "id": "c63d7abd",
   "metadata": {},
   "source": [
    "<div class=\"alert alert-block alert-info\">\n",
    "\n",
    "Instantiate an object tokenizer of type tf.keras.preprocessing.text.Tokenzier.\n",
    "</div>"
   ]
  },
  {
   "cell_type": "code",
   "execution_count": 3,
   "id": "89446f2b",
   "metadata": {},
   "outputs": [],
   "source": [
    "tokenizer = tf.keras.preprocessing.text.Tokenizer(char_level=True)"
   ]
  },
  {
   "cell_type": "markdown",
   "id": "34cebec0",
   "metadata": {},
   "source": [
    "<div class=\"alert alert-block alert-info\">\n",
    "\n",
    "The object tokenizer will ultimately be used to encode the strings \"text\" as integer sequences in which each single number represents a specific character.\n",
    "</div>"
   ]
  },
  {
   "cell_type": "code",
   "execution_count": 4,
   "id": "49e64570",
   "metadata": {},
   "outputs": [],
   "source": [
    "tokenizer.fit_on_texts(list(text))"
   ]
  },
  {
   "cell_type": "markdown",
   "id": "1cdc78f7",
   "metadata": {},
   "source": [
    "<div class=\"alert alert-block alert-info\">\n",
    "\n",
    "Display the attribute word_index of tokenizer which contains the created vocabulary. \n",
    "</div>"
   ]
  },
  {
   "cell_type": "code",
   "execution_count": 5,
   "id": "87266dcd",
   "metadata": {},
   "outputs": [
    {
     "data": {
      "text/plain": [
       "{'g': 1, 'a': 2, 't': 3, 'c': 4, '$': 5}"
      ]
     },
     "execution_count": 5,
     "metadata": {},
     "output_type": "execute_result"
    }
   ],
   "source": [
    "tokenizer.word_index"
   ]
  },
  {
   "cell_type": "markdown",
   "id": "da2a41ed",
   "metadata": {},
   "source": [
    "<div class=\"alert alert-block alert-info\">\n",
    "\n",
    "Compute the length of the vocabulary\n",
    "</div>\n"
   ]
  },
  {
   "cell_type": "code",
   "execution_count": 9,
   "id": "461733f0",
   "metadata": {},
   "outputs": [],
   "source": [
    "max_id = len(tokenizer.word_index)"
   ]
  },
  {
   "cell_type": "markdown",
   "id": "a085c9d4",
   "metadata": {},
   "source": [
    "<div class=\"alert alert-block alert-info\">\n",
    "\n",
    "Using the method texts_to_sequences of tokenzier to encode\n",
    "</div>\n"
   ]
  },
  {
   "cell_type": "code",
   "execution_count": 27,
   "id": "3eed200c",
   "metadata": {},
   "outputs": [],
   "source": [
    "text_encoded = np.array(tokenizer.texts_to_sequences(text)).flatten()-1"
   ]
  },
  {
   "cell_type": "code",
   "execution_count": 32,
   "id": "a4361f1c",
   "metadata": {},
   "outputs": [
    {
     "name": "stdout",
     "output_type": "stream",
     "text": [
      "[1 0 2 0 3 3 1 2 0 4]\n"
     ]
    }
   ],
   "source": [
    "print(text_encoded)"
   ]
  },
  {
   "cell_type": "markdown",
   "id": "ba63c474",
   "metadata": {},
   "source": [
    "<div class=\"alert alert-block alert-info\">\n",
    "\n",
    "The original texts can be recovered via the method sequences_to_texts of tokenizer.\n",
    " <br>\n",
    "Texts recovered in this way are all lower case and each original character is followed by a blank space.\n",
    "</div>\n"
   ]
  },
  {
   "cell_type": "code",
   "execution_count": 57,
   "id": "aa4a47a1",
   "metadata": {},
   "outputs": [],
   "source": [
    "text_decoded = tokenizer.sequences_to_texts([text_encoded+1])"
   ]
  },
  {
   "cell_type": "code",
   "execution_count": 58,
   "id": "a8b1502d",
   "metadata": {},
   "outputs": [
    {
     "name": "stdout",
     "output_type": "stream",
     "text": [
      "['a g t g c c a t g $']\n"
     ]
    }
   ],
   "source": [
    "print(text_decoded)"
   ]
  },
  {
   "cell_type": "markdown",
   "id": "50137417",
   "metadata": {},
   "source": [
    "<div class=\"alert alert-block alert-info\">\n",
    "\n",
    "Creating dataset\n",
    "</div>"
   ]
  },
  {
   "cell_type": "code",
   "execution_count": 59,
   "id": "469db9f0",
   "metadata": {},
   "outputs": [],
   "source": [
    "text_dataset = tf.data.Dataset.from_tensor_slices(text_encoded)"
   ]
  },
  {
   "cell_type": "code",
   "execution_count": 60,
   "id": "e2ecd459",
   "metadata": {},
   "outputs": [
    {
     "name": "stdout",
     "output_type": "stream",
     "text": [
      "tf.Tensor(1, shape=(), dtype=int32)\n",
      "tf.Tensor(0, shape=(), dtype=int32)\n",
      "tf.Tensor(2, shape=(), dtype=int32)\n",
      "tf.Tensor(0, shape=(), dtype=int32)\n",
      "tf.Tensor(3, shape=(), dtype=int32)\n",
      "tf.Tensor(3, shape=(), dtype=int32)\n",
      "tf.Tensor(1, shape=(), dtype=int32)\n"
     ]
    }
   ],
   "source": [
    "for element in text_dataset.take(7):\n",
    "    print(element)"
   ]
  },
  {
   "cell_type": "markdown",
   "id": "9cc00cc0",
   "metadata": {},
   "source": [
    "<div class=\"alert alert-block alert-info\">\n",
    "\n",
    "Each item of text_dataset is an integer tensor including one single value.\n",
    "</div>"
   ]
  },
  {
   "cell_type": "code",
   "execution_count": null,
   "id": "a9c0d921",
   "metadata": {},
   "outputs": [],
   "source": []
  }
 ],
 "metadata": {
  "kernelspec": {
   "display_name": "Python 3 (ipykernel)",
   "language": "python",
   "name": "python3"
  },
  "language_info": {
   "codemirror_mode": {
    "name": "ipython",
    "version": 3
   },
   "file_extension": ".py",
   "mimetype": "text/x-python",
   "name": "python",
   "nbconvert_exporter": "python",
   "pygments_lexer": "ipython3",
   "version": "3.8.0"
  }
 },
 "nbformat": 4,
 "nbformat_minor": 5
}
