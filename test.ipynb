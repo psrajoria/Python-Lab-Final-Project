{
 "cells": [
  {
   "cell_type": "code",
   "execution_count": 1,
   "id": "b12f4821",
   "metadata": {},
   "outputs": [],
   "source": [
    "def index(s, sub):\n",
    "    start = 0\n",
    "    end = 0\n",
    "    while start < len(s):\n",
    "        if s[start+end] != sub[end]:\n",
    "            start += 1\n",
    "            end = 0\n",
    "            continue\n",
    "        end += 1\n",
    "        if end == len(sub):\n",
    "            return start\n",
    "    return -1"
   ]
  },
  {
   "cell_type": "code",
   "execution_count": 2,
   "id": "844eaea6",
   "metadata": {},
   "outputs": [
    {
     "data": {
      "text/plain": [
       "2"
      ]
     },
     "execution_count": 2,
     "metadata": {},
     "output_type": "execute_result"
    }
   ],
   "source": [
    "index(\"pankaj\",\"nk\")"
   ]
  },
  {
   "cell_type": "code",
   "execution_count": 3,
   "id": "28788e96",
   "metadata": {},
   "outputs": [
    {
     "data": {
      "text/plain": [
       "-1"
      ]
     },
     "execution_count": 3,
     "metadata": {},
     "output_type": "execute_result"
    }
   ],
   "source": [
    "index(\"SASWDBHFDFHBUEGASNJFEYCTASEKJWWJWEKEWLNADAUEQWJKBFDEWYGADNCEY$\",\"AN\")"
   ]
  },
  {
   "cell_type": "code",
   "execution_count": null,
   "id": "8bbc6573",
   "metadata": {},
   "outputs": [],
   "source": []
  }
 ],
 "metadata": {
  "kernelspec": {
   "display_name": "Python 3 (ipykernel)",
   "language": "python",
   "name": "python3"
  },
  "language_info": {
   "codemirror_mode": {
    "name": "ipython",
    "version": 3
   },
   "file_extension": ".py",
   "mimetype": "text/x-python",
   "name": "python",
   "nbconvert_exporter": "python",
   "pygments_lexer": "ipython3",
   "version": "3.8.0"
  }
 },
 "nbformat": 4,
 "nbformat_minor": 5
}
