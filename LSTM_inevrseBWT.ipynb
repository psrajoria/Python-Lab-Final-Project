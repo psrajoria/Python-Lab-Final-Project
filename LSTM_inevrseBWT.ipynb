{
 "cells": [
  {
   "cell_type": "code",
   "execution_count": 1,
   "id": "09e07c07",
   "metadata": {},
   "outputs": [],
   "source": [
    "import numpy as np\n",
    "import pandas as pd\n",
    "import matplotlib.pyplot as plt\n",
    "import tensorflow as tf\n",
    "from sklearn.model_selection import train_test_split\n",
    "from keras.preprocessing.text import one_hot\n",
    "from keras_preprocessing.sequence import pad_sequences\n",
    "from keras.models import Sequential\n",
    "from keras.layers import Embedding, LSTM, Dense, Dropout"
   ]
  },
  {
   "cell_type": "code",
   "execution_count": 2,
   "id": "ac1c5f0e",
   "metadata": {},
   "outputs": [
    {
     "data": {
      "text/html": [
       "<div>\n",
       "<style scoped>\n",
       "    .dataframe tbody tr th:only-of-type {\n",
       "        vertical-align: middle;\n",
       "    }\n",
       "\n",
       "    .dataframe tbody tr th {\n",
       "        vertical-align: top;\n",
       "    }\n",
       "\n",
       "    .dataframe thead th {\n",
       "        text-align: right;\n",
       "    }\n",
       "</style>\n",
       "<table border=\"1\" class=\"dataframe\">\n",
       "  <thead>\n",
       "    <tr style=\"text-align: right;\">\n",
       "      <th></th>\n",
       "      <th>String</th>\n",
       "      <th>BWT_string</th>\n",
       "    </tr>\n",
       "  </thead>\n",
       "  <tbody>\n",
       "    <tr>\n",
       "      <th>0</th>\n",
       "      <td>OTITBO</td>\n",
       "      <td>OTTB$IO</td>\n",
       "    </tr>\n",
       "    <tr>\n",
       "      <th>1</th>\n",
       "      <td>BNIUMP</td>\n",
       "      <td>P$NUBMI</td>\n",
       "    </tr>\n",
       "    <tr>\n",
       "      <th>2</th>\n",
       "      <td>AKSFAQZU</td>\n",
       "      <td>U$FSAAKZQ</td>\n",
       "    </tr>\n",
       "    <tr>\n",
       "      <th>3</th>\n",
       "      <td>GEDAKX</td>\n",
       "      <td>XDEG$AK</td>\n",
       "    </tr>\n",
       "    <tr>\n",
       "      <th>4</th>\n",
       "      <td>BJFVWZA</td>\n",
       "      <td>AZ$JBFVW</td>\n",
       "    </tr>\n",
       "    <tr>\n",
       "      <th>...</th>\n",
       "      <td>...</td>\n",
       "      <td>...</td>\n",
       "    </tr>\n",
       "    <tr>\n",
       "      <th>99995</th>\n",
       "      <td>PZEKZJA</td>\n",
       "      <td>AJZZE$PK</td>\n",
       "    </tr>\n",
       "    <tr>\n",
       "      <th>99996</th>\n",
       "      <td>EWWWRCLH</td>\n",
       "      <td>HR$LCWWWE</td>\n",
       "    </tr>\n",
       "    <tr>\n",
       "      <th>99997</th>\n",
       "      <td>ZSDPDT</td>\n",
       "      <td>TSPDZD$</td>\n",
       "    </tr>\n",
       "    <tr>\n",
       "      <th>99998</th>\n",
       "      <td>ZBRBBVIE</td>\n",
       "      <td>ERZBIVBB$</td>\n",
       "    </tr>\n",
       "    <tr>\n",
       "      <th>99999</th>\n",
       "      <td>YRWEBTMM</td>\n",
       "      <td>MEWMTYBR$</td>\n",
       "    </tr>\n",
       "  </tbody>\n",
       "</table>\n",
       "<p>100000 rows × 2 columns</p>\n",
       "</div>"
      ],
      "text/plain": [
       "         String BWT_string\n",
       "0        OTITBO    OTTB$IO\n",
       "1        BNIUMP    P$NUBMI\n",
       "2      AKSFAQZU  U$FSAAKZQ\n",
       "3        GEDAKX    XDEG$AK\n",
       "4       BJFVWZA   AZ$JBFVW\n",
       "...         ...        ...\n",
       "99995   PZEKZJA   AJZZE$PK\n",
       "99996  EWWWRCLH  HR$LCWWWE\n",
       "99997    ZSDPDT    TSPDZD$\n",
       "99998  ZBRBBVIE  ERZBIVBB$\n",
       "99999  YRWEBTMM  MEWMTYBR$\n",
       "\n",
       "[100000 rows x 2 columns]"
      ]
     },
     "execution_count": 2,
     "metadata": {},
     "output_type": "execute_result"
    }
   ],
   "source": [
    "df = pd.read_csv('dataset.csv')\n",
    "df"
   ]
  },
  {
   "cell_type": "code",
   "execution_count": 3,
   "id": "338e6311",
   "metadata": {},
   "outputs": [],
   "source": [
    "X = df['String']\n",
    "y = df['BWT_string']"
   ]
  },
  {
   "cell_type": "code",
   "execution_count": 4,
   "id": "ff5445da",
   "metadata": {},
   "outputs": [],
   "source": [
    "vocab_size = 10000\n",
    "encoded_X = [ one_hot(d, vocab_size) for d in X]\n",
    "encoded_y = [ one_hot(d, vocab_size) for d in y]"
   ]
  },
  {
   "cell_type": "code",
   "execution_count": 5,
   "id": "ecf4db77",
   "metadata": {},
   "outputs": [],
   "source": [
    "embedding_length = 5\n",
    "max_len = 5\n",
    "padded_X = pad_sequences(encoded_X, truncating='post', padding='post', maxlen=max_len)\n",
    "padded_y = pad_sequences(encoded_y, truncating='post', padding='post', maxlen=max_len)"
   ]
  },
  {
   "cell_type": "code",
   "execution_count": 6,
   "id": "1880218b",
   "metadata": {},
   "outputs": [],
   "source": [
    "X_train,X_test,y_train,y_test = train_test_split(padded_X, padded_y, test_size = 0.2, random_state =4)"
   ]
  },
  {
   "cell_type": "code",
   "execution_count": 7,
   "id": "a4316ee5",
   "metadata": {},
   "outputs": [
    {
     "name": "stdout",
     "output_type": "stream",
     "text": [
      "Model: \"sequential\"\n",
      "_________________________________________________________________\n",
      " Layer (type)                Output Shape              Param #   \n",
      "=================================================================\n",
      " embedding (Embedding)       (None, 5, 5)              50000     \n",
      "                                                                 \n",
      " lstm (LSTM)                 (None, 5, 1000)           4024000   \n",
      "                                                                 \n",
      " dropout (Dropout)           (None, 5, 1000)           0         \n",
      "                                                                 \n",
      " lstm_1 (LSTM)               (None, 100)               440400    \n",
      "                                                                 \n",
      " dense (Dense)               (None, 10)                1010      \n",
      "                                                                 \n",
      " dropout_1 (Dropout)         (None, 10)                0         \n",
      "                                                                 \n",
      " dense_1 (Dense)             (None, 5)                 55        \n",
      "                                                                 \n",
      "=================================================================\n",
      "Total params: 4,515,465\n",
      "Trainable params: 4,515,465\n",
      "Non-trainable params: 0\n",
      "_________________________________________________________________\n"
     ]
    }
   ],
   "source": [
    "model = Sequential()\n",
    "model.add(Embedding(vocab_size, embedding_length, input_length=max_len))\n",
    "\n",
    "model.add(LSTM((1000),batch_input_shape=(1000, 100000, 5), return_sequences=True))\n",
    "model.add(Dropout(0.2))\n",
    "\n",
    "model.add(LSTM(100))\n",
    "model.add(Dense(10, activation='relu'))\n",
    "model.add(Dropout(0.2))\n",
    "\n",
    "#model.add(LSTM((5), activation='softmax', return_sequences=False))\n",
    "#Adding the output layer\n",
    "model.add(Dense(5, activation='softmax'))\n",
    "\n",
    "model.compile(loss='mean_absolute_error',\n",
    "#              optimizer=tf.keras.optimizers.Adam(learning_rate=0.001, decay=1e-6),\n",
    "              optimizer='adam',\n",
    "              metrics=['accuracy'])\n",
    "\n",
    "model.summary()\n",
    "\n",
    "#output = model.predict(X_train)\n",
    "#print(output.shape)\n",
    "#print(output)"
   ]
  },
  {
   "cell_type": "code",
   "execution_count": 8,
   "id": "110d4e7c",
   "metadata": {},
   "outputs": [
    {
     "name": "stdout",
     "output_type": "stream",
     "text": [
      "Epoch 1/20\n",
      "2500/2500 [==============================] - 302s 119ms/step - loss: 1899.0736 - accuracy: 0.5729 - val_loss: 1901.9132 - val_accuracy: 0.5771\n",
      "Epoch 2/20\n",
      "2500/2500 [==============================] - 265s 106ms/step - loss: 1899.0704 - accuracy: 0.5733 - val_loss: 1901.9132 - val_accuracy: 0.5771\n",
      "Epoch 3/20\n",
      "2500/2500 [==============================] - 241s 97ms/step - loss: 1899.0698 - accuracy: 0.5733 - val_loss: 1901.9132 - val_accuracy: 0.5771\n",
      "Epoch 4/20\n",
      "2500/2500 [==============================] - 216s 87ms/step - loss: 1899.0695 - accuracy: 0.5733 - val_loss: 1901.9132 - val_accuracy: 0.5771\n",
      "Epoch 5/20\n",
      "2500/2500 [==============================] - 216s 86ms/step - loss: 1899.0674 - accuracy: 0.5733 - val_loss: 1901.9132 - val_accuracy: 0.5771\n",
      "Epoch 6/20\n",
      "2500/2500 [==============================] - 215s 86ms/step - loss: 1899.0699 - accuracy: 0.5733 - val_loss: 1901.9132 - val_accuracy: 0.5771\n",
      "Epoch 7/20\n",
      "2500/2500 [==============================] - 220s 88ms/step - loss: 1899.0690 - accuracy: 0.5733 - val_loss: 1901.9132 - val_accuracy: 0.5771\n",
      "Epoch 8/20\n",
      "2500/2500 [==============================] - 310s 124ms/step - loss: 1899.0696 - accuracy: 0.5733 - val_loss: 1901.9132 - val_accuracy: 0.5771\n",
      "Epoch 9/20\n",
      "2500/2500 [==============================] - 270s 108ms/step - loss: 1899.0702 - accuracy: 0.5733 - val_loss: 1901.9132 - val_accuracy: 0.5771\n",
      "Epoch 10/20\n",
      "2500/2500 [==============================] - 273s 109ms/step - loss: 1899.0682 - accuracy: 0.5733 - val_loss: 1901.9132 - val_accuracy: 0.5771\n",
      "Epoch 11/20\n",
      "2500/2500 [==============================] - 274s 110ms/step - loss: 1899.0688 - accuracy: 0.5733 - val_loss: 1901.9132 - val_accuracy: 0.5771\n",
      "Epoch 12/20\n",
      "2500/2500 [==============================] - 275s 110ms/step - loss: 1899.0710 - accuracy: 0.5733 - val_loss: 1901.9132 - val_accuracy: 0.5771\n",
      "Epoch 13/20\n",
      "2500/2500 [==============================] - 275s 110ms/step - loss: 1899.0699 - accuracy: 0.5733 - val_loss: 1901.9132 - val_accuracy: 0.5771\n",
      "Epoch 14/20\n",
      "2500/2500 [==============================] - 273s 109ms/step - loss: 1899.0696 - accuracy: 0.5733 - val_loss: 1901.9132 - val_accuracy: 0.5771\n",
      "Epoch 15/20\n",
      "2500/2500 [==============================] - 274s 109ms/step - loss: 1899.0708 - accuracy: 0.5733 - val_loss: 1901.9132 - val_accuracy: 0.5771\n",
      "Epoch 16/20\n",
      "2500/2500 [==============================] - 277s 111ms/step - loss: 1899.0699 - accuracy: 0.5733 - val_loss: 1901.9132 - val_accuracy: 0.5771\n",
      "Epoch 17/20\n",
      "2500/2500 [==============================] - 277s 111ms/step - loss: 1899.0726 - accuracy: 0.5733 - val_loss: 1901.9132 - val_accuracy: 0.5771\n",
      "Epoch 18/20\n",
      "2500/2500 [==============================] - 278s 111ms/step - loss: 1899.0734 - accuracy: 0.5733 - val_loss: 1901.9132 - val_accuracy: 0.5771\n",
      "Epoch 19/20\n",
      "2500/2500 [==============================] - 279s 111ms/step - loss: 1899.0688 - accuracy: 0.5733 - val_loss: 1901.9132 - val_accuracy: 0.5771\n",
      "Epoch 20/20\n",
      "2500/2500 [==============================] - 259s 104ms/step - loss: 1899.0704 - accuracy: 0.5733 - val_loss: 1901.9132 - val_accuracy: 0.5771\n"
     ]
    }
   ],
   "source": [
    "history = model.fit(X_train, y_train, epochs=20, validation_data=(X_test,y_test))"
   ]
  },
  {
   "cell_type": "code",
   "execution_count": 12,
   "id": "9fd59c06",
   "metadata": {},
   "outputs": [
    {
     "name": "stdout",
     "output_type": "stream",
     "text": [
      "625/625 [==============================] - 16s 26ms/step\n"
     ]
    },
    {
     "data": {
      "text/plain": [
       "array([[1., 0., 0., 0., 0.],\n",
       "       [1., 0., 0., 0., 0.],\n",
       "       [1., 0., 0., 0., 0.],\n",
       "       ...,\n",
       "       [1., 0., 0., 0., 0.],\n",
       "       [1., 0., 0., 0., 0.],\n",
       "       [1., 0., 0., 0., 0.]], dtype=float32)"
      ]
     },
     "execution_count": 12,
     "metadata": {},
     "output_type": "execute_result"
    }
   ],
   "source": [
    "results = model.predict(X_test)\n",
    "results"
   ]
  },
  {
   "cell_type": "code",
   "execution_count": 13,
   "id": "c76b76f0",
   "metadata": {},
   "outputs": [
    {
     "name": "stdout",
     "output_type": "stream",
     "text": [
      "625/625 [==============================] - 16s 26ms/step - loss: 1901.9132 - accuracy: 0.5771\n",
      "Test Loss: 1901.9132080078125\n",
      "Test Accuracy: 0.5770999789237976\n"
     ]
    }
   ],
   "source": [
    "test_loss, test_acc = model.evaluate(X_test, y_test)\n",
    "print('Test Loss: {}'.format(test_loss))\n",
    "print('Test Accuracy: {}'.format(test_acc))"
   ]
  },
  {
   "cell_type": "code",
   "execution_count": 14,
   "id": "a0d42326",
   "metadata": {},
   "outputs": [
    {
     "data": {
      "text/plain": [
       "<function matplotlib.pyplot.show(close=None, block=None)>"
      ]
     },
     "execution_count": 14,
     "metadata": {},
     "output_type": "execute_result"
    },
    {
     "data": {
      "image/png": "[encoded data removed]",
      "text/plain": [
       "<Figure size 432x288 with 1 Axes>"
      ]
     },
     "metadata": {
      "needs_background": "light"
     },
     "output_type": "display_data"
    }
   ],
   "source": [
    "plt.plot(history.history['loss'])\n",
    "plt.show"
   ]
  },
  {
   "cell_type": "code",
   "execution_count": null,
   "id": "9a57b1f7",
   "metadata": {},
   "outputs": [],
   "source": []
  }
 ],
 "metadata": {
  "kernelspec": {
   "display_name": "Python 3 (ipykernel)",
   "language": "python",
   "name": "python3"
  },
  "language_info": {
   "codemirror_mode": {
    "name": "ipython",
    "version": 3
   },
   "file_extension": ".py",
   "mimetype": "text/x-python",
   "name": "python",
   "nbconvert_exporter": "python",
   "pygments_lexer": "ipython3",
   "version": "3.8.0"
  }
 },
 "nbformat": 4,
 "nbformat_minor": 5
}
