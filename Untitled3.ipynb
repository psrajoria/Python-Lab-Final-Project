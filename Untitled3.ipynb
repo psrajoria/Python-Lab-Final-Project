{
 "cells": [
  {
   "cell_type": "code",
   "execution_count": 1,
   "id": "6ee28b2b",
   "metadata": {},
   "outputs": [
    {
     "data": {
      "application/javascript": [
       "\n",
       "            setTimeout(function() {\n",
       "                var nbb_cell_id = 1;\n",
       "                var nbb_unformatted_code = \"%load_ext nb_black\";\n",
       "                var nbb_formatted_code = \"%load_ext nb_black\";\n",
       "                var nbb_cells = Jupyter.notebook.get_cells();\n",
       "                for (var i = 0; i < nbb_cells.length; ++i) {\n",
       "                    if (nbb_cells[i].input_prompt_number == nbb_cell_id) {\n",
       "                        if (nbb_cells[i].get_text() == nbb_unformatted_code) {\n",
       "                             nbb_cells[i].set_text(nbb_formatted_code);\n",
       "                        }\n",
       "                        break;\n",
       "                    }\n",
       "                }\n",
       "            }, 500);\n",
       "            "
      ],
      "text/plain": [
       "<IPython.core.display.Javascript object>"
      ]
     },
     "metadata": {},
     "output_type": "display_data"
    }
   ],
   "source": [
    "%load_ext nb_black"
   ]
  },
  {
   "cell_type": "code",
   "execution_count": 2,
   "id": "a926c32f",
   "metadata": {},
   "outputs": [
    {
     "data": {
      "application/javascript": [
       "\n",
       "            setTimeout(function() {\n",
       "                var nbb_cell_id = 2;\n",
       "                var nbb_unformatted_code = \"## load the libraries \\nfrom keras.layers import Dense, Input, Conv2D, LSTM, MaxPool2D, UpSampling2D\\nimport tensorflow as tf\\nfrom sklearn.model_selection import train_test_split\\nfrom keras.callbacks import EarlyStopping\\n\\nfrom numpy import argmax, array_equal\\nimport matplotlib.pyplot as plt\\nfrom keras.models import Model\\nfrom imgaug import augmenters\\nfrom random import randint\\nimport pandas as pd\\nimport numpy as np\\nfrom tensorflow.keras.utils import to_categorical\";\n",
       "                var nbb_formatted_code = \"## load the libraries\\nfrom keras.layers import Dense, Input, Conv2D, LSTM, MaxPool2D, UpSampling2D\\nimport tensorflow as tf\\nfrom sklearn.model_selection import train_test_split\\nfrom keras.callbacks import EarlyStopping\\n\\nfrom numpy import argmax, array_equal\\nimport matplotlib.pyplot as plt\\nfrom keras.models import Model\\nfrom imgaug import augmenters\\nfrom random import randint\\nimport pandas as pd\\nimport numpy as np\\nfrom tensorflow.keras.utils import to_categorical\";\n",
       "                var nbb_cells = Jupyter.notebook.get_cells();\n",
       "                for (var i = 0; i < nbb_cells.length; ++i) {\n",
       "                    if (nbb_cells[i].input_prompt_number == nbb_cell_id) {\n",
       "                        if (nbb_cells[i].get_text() == nbb_unformatted_code) {\n",
       "                             nbb_cells[i].set_text(nbb_formatted_code);\n",
       "                        }\n",
       "                        break;\n",
       "                    }\n",
       "                }\n",
       "            }, 500);\n",
       "            "
      ],
      "text/plain": [
       "<IPython.core.display.Javascript object>"
      ]
     },
     "metadata": {},
     "output_type": "display_data"
    }
   ],
   "source": [
    "## load the libraries\n",
    "from keras.layers import Dense, Input, Conv2D, LSTM, MaxPool2D, UpSampling2D\n",
    "import tensorflow as tf\n",
    "from sklearn.model_selection import train_test_split\n",
    "from keras.callbacks import EarlyStopping\n",
    "\n",
    "from numpy import argmax, array_equal\n",
    "import matplotlib.pyplot as plt\n",
    "from keras.models import Model\n",
    "from imgaug import augmenters\n",
    "from random import randint\n",
    "import pandas as pd\n",
    "import numpy as np\n",
    "from tensorflow.keras.utils import to_categorical"
   ]
  },
  {
   "cell_type": "code",
   "execution_count": 3,
   "id": "2cec547a",
   "metadata": {},
   "outputs": [
    {
     "data": {
      "application/javascript": [
       "\n",
       "            setTimeout(function() {\n",
       "                var nbb_cell_id = 3;\n",
       "                var nbb_unformatted_code = \"##  Generate Data\\n\\n\\nimport numpy as np\\nimport random\\n\\nrandom.seed(42)\\n\\n\\ndef random_dna_sequence(length):\\n    return \\\"\\\".join(random.choice(\\\"ACTG\\\") for _ in range(length))\\n\\n\\ndef base_frequency(dna):\\n    d = {}\\n    for base in \\\"ATCG\\\":\\n        d[base] = dna.count(base) / float(len(dna))\\n    return d\\n\\n\\ndata = []\\nfor _ in range(100):\\n    dna = random_dna_sequence(40)\\n    data.append(dna)\\n#     print(dna, base_frequency(dna))\";\n",
       "                var nbb_formatted_code = \"##  Generate Data\\n\\n\\nimport numpy as np\\nimport random\\n\\nrandom.seed(42)\\n\\n\\ndef random_dna_sequence(length):\\n    return \\\"\\\".join(random.choice(\\\"ACTG\\\") for _ in range(length))\\n\\n\\ndef base_frequency(dna):\\n    d = {}\\n    for base in \\\"ATCG\\\":\\n        d[base] = dna.count(base) / float(len(dna))\\n    return d\\n\\n\\ndata = []\\nfor _ in range(100):\\n    dna = random_dna_sequence(40)\\n    data.append(dna)\\n#     print(dna, base_frequency(dna))\";\n",
       "                var nbb_cells = Jupyter.notebook.get_cells();\n",
       "                for (var i = 0; i < nbb_cells.length; ++i) {\n",
       "                    if (nbb_cells[i].input_prompt_number == nbb_cell_id) {\n",
       "                        if (nbb_cells[i].get_text() == nbb_unformatted_code) {\n",
       "                             nbb_cells[i].set_text(nbb_formatted_code);\n",
       "                        }\n",
       "                        break;\n",
       "                    }\n",
       "                }\n",
       "            }, 500);\n",
       "            "
      ],
      "text/plain": [
       "<IPython.core.display.Javascript object>"
      ]
     },
     "metadata": {},
     "output_type": "display_data"
    }
   ],
   "source": [
    "##  Generate Data\n",
    "\n",
    "\n",
    "import numpy as np\n",
    "import random\n",
    "\n",
    "random.seed(42)\n",
    "\n",
    "\n",
    "def random_dna_sequence(length):\n",
    "    return \"\".join(random.choice(\"ACTG\") for _ in range(length))\n",
    "\n",
    "\n",
    "def base_frequency(dna):\n",
    "    d = {}\n",
    "    for base in \"ATCG\":\n",
    "        d[base] = dna.count(base) / float(len(dna))\n",
    "    return d\n",
    "\n",
    "\n",
    "data = []\n",
    "for _ in range(100):\n",
    "    dna = random_dna_sequence(40)\n",
    "    data.append(dna)\n",
    "#     print(dna, base_frequency(dna))"
   ]
  },
  {
   "cell_type": "code",
   "execution_count": 7,
   "id": "a292e279",
   "metadata": {},
   "outputs": [
    {
     "data": {
      "text/plain": [
       "str"
      ]
     },
     "execution_count": 7,
     "metadata": {},
     "output_type": "execute_result"
    },
    {
     "data": {
      "application/javascript": [
       "\n",
       "            setTimeout(function() {\n",
       "                var nbb_cell_id = 7;\n",
       "                var nbb_unformatted_code = \"input_data = \\\"AATCCCAAGAAACCACGCGTACGTTCCTAAGATTTAGAGA\\\"\\ntype(input_data)\";\n",
       "                var nbb_formatted_code = \"input_data = \\\"AATCCCAAGAAACCACGCGTACGTTCCTAAGATTTAGAGA\\\"\\ntype(input_data)\";\n",
       "                var nbb_cells = Jupyter.notebook.get_cells();\n",
       "                for (var i = 0; i < nbb_cells.length; ++i) {\n",
       "                    if (nbb_cells[i].input_prompt_number == nbb_cell_id) {\n",
       "                        if (nbb_cells[i].get_text() == nbb_unformatted_code) {\n",
       "                             nbb_cells[i].set_text(nbb_formatted_code);\n",
       "                        }\n",
       "                        break;\n",
       "                    }\n",
       "                }\n",
       "            }, 500);\n",
       "            "
      ],
      "text/plain": [
       "<IPython.core.display.Javascript object>"
      ]
     },
     "metadata": {},
     "output_type": "display_data"
    }
   ],
   "source": [
    "input_data = \"AATCCCAAGAAACCACGCGTACGTTCCTAAGATTTAGAGA\"\n",
    "type(input_data)"
   ]
  },
  {
   "cell_type": "code",
   "execution_count": 5,
   "id": "ad6e6151",
   "metadata": {},
   "outputs": [
    {
     "data": {
      "text/plain": [
       "['AATCCCAAGAAACCACGCGTACGTTCCTAAGATTTAGAGA',\n",
       " 'TTCAACTACAGTGTCTTCTACCCGGTCTACATGTACTCGG',\n",
       " 'GCTCCTGGTCCGAAACCGAGGGTAATTATGCGATCATCCT',\n",
       " 'CATGAATTCACAAGACCGCTGCCTGTGGACCATACCAAAC',\n",
       " 'AATACTGCCGCGGCAAGTGGGAAAGTACCCGCGCTGCAGA',\n",
       " 'AAACCGGGCGACGAGTGTGGCCTCAATAAGCAACAACGAC',\n",
       " 'AAGTTCTCTGCTGTAAGAACTCTACTTCGTATACTAACTT',\n",
       " 'CTCTGTAAGTAATCTCGGAAACATCGCATTATCCATGCCC',\n",
       " 'CGACTGCTCAGAGCCGTTCCACGTTATTGTAATCTAAGTT',\n",
       " 'GAGCTAGACTGATTATTGTGTCCGGCTGATTCGTGGGCGC',\n",
       " 'ATTACTCCCAACGAGGCGGGCCAAGCCGACAGCGTGGGCG',\n",
       " 'GTCTGCTGATCTTTACCCGCCAGGTGGACGGAGGATTGGC',\n",
       " 'GCTGGAGTGCGCAGAAGCGCATGTCGTTGTGTAGAATCAA',\n",
       " 'ACCACCCGACGTTCACTAATGGCACATAATGTATAGGAGT',\n",
       " 'GCGCTGGGTTCATGCGGTAGTCGCTTTTTACACGGCGGGA',\n",
       " 'ATCGCTTGTGTTGTTTCACTACCCGTTACTCTCTACTAAT',\n",
       " 'CGAATGGGTCATGAAGGAACCTACAGCGGGTGTAACCTAC',\n",
       " 'CCACAGGGTACTTGACTCGACCTCAACTTGAGTGTGGAAG',\n",
       " 'TTAACATACGGTCGGAGTGTTACTGGTGAGATTTAGAGGA',\n",
       " 'CTGGACTCTGGAACCTAGACAGACGTTGGGCGCGCCATGT',\n",
       " 'TATTGCGGTTGGTCCGCGATGGGCGACTAGAGACGCAGTT',\n",
       " 'GATGTGAACTCAGAAGCTAATATTTGCCGCCCAGCGCCGT',\n",
       " 'GTAGTCAGTTGTGTCGGACGTTTAGTAAGTCTCCTCAATG',\n",
       " 'ATCATTGCCCTTCTGTTAGACCGTAGATAGTTGTACGATC',\n",
       " 'AGTGACAATGAACCGGTGCGAGGTATCGGCTATTAGTCAG',\n",
       " 'ACAATCCCACCCTCATCCTCAACATCTACTACGAAGGTAG',\n",
       " 'CATGAAGGGAGGAATCACTTGTGGAACGGCGTGGGATGTT',\n",
       " 'TCGAAAAGATCATAGTGATTTACCGCATTATCGATACTTT',\n",
       " 'TACCGACAACGGGTCTTTAACCAATGGGGGTCATGATGTA',\n",
       " 'CGAACTCCTTTAAGGCCGCTAGAGAGATGGGTAGATCGTA',\n",
       " 'GACGGAGTTCTCAACTTCCACTCCCACGGGTTCGAGGTTA',\n",
       " 'TATGGAATTAAGGAGCTGCAGATACACGGCTTTGGTATAT',\n",
       " 'AGTTCTACTTGCATGTCAGTATTCCTGCCCCATAATCGCC',\n",
       " 'CCGAGTCGTGCCTGCTGGTGGCCCTAGTAATACTGCGACG',\n",
       " 'TAGAGTCGATCATATCCATGCGGAAATCCGATCTAACGGA',\n",
       " 'AGACCTGATCGCATAAGGAGTTATATCATCATTCGGCCAG',\n",
       " 'ATCACATTGGTACTTATTATGGGGTCGGTTAGAGCTTAAT',\n",
       " 'TTGGCGTGATGTAAGTCACGACACTTGACGTTGACTGTTC',\n",
       " 'AACGGATTGCTGCACAGCGATTATTCCTCACCCGATTGCA',\n",
       " 'ATGGGGACTAGGTCCCGAACTCCTCTTATCTCTACCCTAA',\n",
       " 'AATCGAGTTGCGTGAACGGGGCTCTTTGCTATCGATGCCA',\n",
       " 'ATGGCCTTCCGGGTGAAGGCCTAATGGTAAGCTTGTAGAC',\n",
       " 'TTAGGTACAGTTTCCGAAACTGGCCTTCGTTGTGATTAGT',\n",
       " 'AGTCAGCGCCAACAGTGCGCGGACCTGGTCGTTTGCCTTC',\n",
       " 'TTCGTGTTTAGGTCTATATGTGCCTTCACCACCAAGTGAC',\n",
       " 'ACGGGCTTTAACACGCAGGCTAATATTGGCGTCATCGTCA',\n",
       " 'TTCCGGTAGACCGTCATGCGTTTATTCAAGTCGTATTCCC',\n",
       " 'GCGTGGCCAGTAAACCCTGACGAGAGCGGAGTAGTACAAG',\n",
       " 'TAAAGATGCCGTGGGGACTACGCCAATGGGCCGTCTCAAG',\n",
       " 'ACCAAAGACAGGCCACTCTTCTCCGTTACGGATGTGGCTG',\n",
       " 'CGCCTCGAGGCGCTCTAGTACATGAACCGCTTACCAGCCG',\n",
       " 'CTTGGTTTTGGAGTCTTGACCATGTCCTCGCGTTGGGCTC',\n",
       " 'CGCAAAAAGCCACACGTAGGAAGAATTAGCAACCCTTTGA',\n",
       " 'TGGCCTAAAGGGGAACAGGTAACCGTAATACTACCGATCC',\n",
       " 'GTGCATAAGCATGTATGGCTGGCGATCAATCGCGTTAAAT',\n",
       " 'GTTACACGGGAAATATGATGGACCGCCTTTGCACGTGTGA',\n",
       " 'TTCGCGACTAGTGTGTGCTTCGTCGTTGCTGTGTACCAGC',\n",
       " 'GTAGGCTCTCGGAGGGGATAACTCAGTGAAATCCGTGGCT',\n",
       " 'AGATGAACTTTGCGTGAGGTATAAATACCCCTGGCGCCGG',\n",
       " 'ACGGGACCTAACTTCGATGTGGATTGCTACTACTACTCGG',\n",
       " 'CGGCGCCGTCCTGATAGCCGGGGGGGCAACTATCTCGGAA',\n",
       " 'TTAGCGACTAGTTAGACCTGCCCCATTCTTTTACGATCCC',\n",
       " 'CTCGGCTGGGAAGTTGGTAAGTAGCGCGTTTTCGTAAAGA',\n",
       " 'ACGGAGCCTCTATTATCAGTCGAAACGACCGAATAGCGAC',\n",
       " 'GAAATTTCGCCAACGTCCGGCAACAGTGTCCTACTATCCG',\n",
       " 'TACGGACGAATTCGGTCGAAAATCAAGTGGGACTATACCT',\n",
       " 'GATGCACAGAGATCAACACGTTCTCTAATGTATAGGTAGC',\n",
       " 'TCTAACAAACAGTGCCAGCTCGTTATAACCAGAGTTTAGA',\n",
       " 'TCTTCGTGCCCAGACTATAGTACCGGACTAACGTGAACGA',\n",
       " 'AGCCTTTGTTGTCACCACACGGTGATCGTGTAACTACTCA',\n",
       " 'CTGATTCAGGCAGACAAACCCGTATAAACGCATAAGACGG',\n",
       " 'GAGGCTCCTTGCACTGGGAATGCGCCAGTGGTTGTCATCA',\n",
       " 'TAGTCCACCTACGTCCCTTATCCGTCGAAACCAGATCCTC',\n",
       " 'TAACCATATGATTTCCGGTCTCCGTTCCAGACTCAGCTAC',\n",
       " 'TTCATGATCCATTAAAGGGCGGGTGAGCCGAATATTAATC',\n",
       " 'GCAATGAGCGCAATCCGTTTCAAGGCATAGATGCAACCTA',\n",
       " 'GATGGGTAGCTGTCGATGGTCTACAATGCAGGGCGTAGAC',\n",
       " 'AGCCCCCAGAGCCTTAAGGTTGAGAGCCAAATTGTGGGAC',\n",
       " 'TGCGAGTCAGTTATTTTGACCTGTTGACGCGGTACATGCA',\n",
       " 'CCCACAGATCTTGGAACTGGCGTTCTATAGACCCCCTGAA',\n",
       " 'GCCACTTTGGTGTCGTGAATTTAGATTTTTTCCCAGTCAG',\n",
       " 'TTGGGACTCGTTCCTAGCTCTACTCTGTTTTGAGAAGCAG',\n",
       " 'TGACCCTGGCTCAGTCTAAGTCCCGACGGGGGGAACTATC',\n",
       " 'AACCTTCAGTCAATTGTGCTGTCCGACCCCACATAGTAAA',\n",
       " 'AAAGGGATGCCATGATCGAATAAGCCTCTGTCAGCGTCAA',\n",
       " 'AAGCAAATCGTTGAACATTTGAAAACCTTGTATTCAGGGT',\n",
       " 'GGGCACACAGGGCGTACGGAGGAATTACTAGCGTGCAACG',\n",
       " 'GCAGTCTTACGGCAGGGAGGTAGAAGGAAATCGTTACGTG',\n",
       " 'TGAACATTTTAACGCGATCCAGCGCTAGAAGGCGAAGGCC',\n",
       " 'CAGTGGCTGTTGCCGTTCCCTTCCTATGGTGAAAGCAACT',\n",
       " 'CTTCATCATGACGCTAGGGTAATCGCTCCTGCACCAGAGT',\n",
       " 'TCCTATGCACTATGTATCCACGGATCCTTTTCGAATGCCA',\n",
       " 'TGAGTTATGGATCTAACAACCGACGACAGTAAAACTACTG',\n",
       " 'GGGGTAGAAAAATATTATGGGAGCCCGTCTTACAAAGATC',\n",
       " 'TCGCCCCTCACAGATATACGTTCCATACTGGTTCTTGCAT',\n",
       " 'CCGTTCTGGGTTGACATCCTAAAAGCATGCTGCTCGAGTA',\n",
       " 'CCCGCCCGTACGCATTCACTGGGAATATTCGGTATGCGTT',\n",
       " 'GGACGCCATCCCCTACGTAGGGCCGACACCCACACTCGAT',\n",
       " 'ACGGGCCGCCTCTGACGGCAACGCACGAAAGCAGGTAGCG',\n",
       " 'GTAGCTGCATGTCAAAAGCTGTACGTTGTTGCGGCTGTTT']"
      ]
     },
     "execution_count": 5,
     "metadata": {},
     "output_type": "execute_result"
    },
    {
     "data": {
      "application/javascript": [
       "\n",
       "            setTimeout(function() {\n",
       "                var nbb_cell_id = 5;\n",
       "                var nbb_unformatted_code = \"data\";\n",
       "                var nbb_formatted_code = \"data\";\n",
       "                var nbb_cells = Jupyter.notebook.get_cells();\n",
       "                for (var i = 0; i < nbb_cells.length; ++i) {\n",
       "                    if (nbb_cells[i].input_prompt_number == nbb_cell_id) {\n",
       "                        if (nbb_cells[i].get_text() == nbb_unformatted_code) {\n",
       "                             nbb_cells[i].set_text(nbb_formatted_code);\n",
       "                        }\n",
       "                        break;\n",
       "                    }\n",
       "                }\n",
       "            }, 500);\n",
       "            "
      ],
      "text/plain": [
       "<IPython.core.display.Javascript object>"
      ]
     },
     "metadata": {},
     "output_type": "display_data"
    }
   ],
   "source": [
    "data"
   ]
  },
  {
   "cell_type": "code",
   "execution_count": 8,
   "id": "30f73757",
   "metadata": {},
   "outputs": [
    {
     "data": {
      "application/javascript": [
       "\n",
       "            setTimeout(function() {\n",
       "                var nbb_cell_id = 8;\n",
       "                var nbb_unformatted_code = \"from keras.preprocessing.text import one_hot\\n\\nvocab_size = 10000\\nencoded_X = [one_hot(d, vocab_size) for d in input_data]\\n# encoded_y = [ one_hot(data, vocab_size) for d in y]\";\n",
       "                var nbb_formatted_code = \"from keras.preprocessing.text import one_hot\\n\\nvocab_size = 10000\\nencoded_X = [one_hot(d, vocab_size) for d in input_data]\\n# encoded_y = [ one_hot(data, vocab_size) for d in y]\";\n",
       "                var nbb_cells = Jupyter.notebook.get_cells();\n",
       "                for (var i = 0; i < nbb_cells.length; ++i) {\n",
       "                    if (nbb_cells[i].input_prompt_number == nbb_cell_id) {\n",
       "                        if (nbb_cells[i].get_text() == nbb_unformatted_code) {\n",
       "                             nbb_cells[i].set_text(nbb_formatted_code);\n",
       "                        }\n",
       "                        break;\n",
       "                    }\n",
       "                }\n",
       "            }, 500);\n",
       "            "
      ],
      "text/plain": [
       "<IPython.core.display.Javascript object>"
      ]
     },
     "metadata": {},
     "output_type": "display_data"
    }
   ],
   "source": [
    "from keras.preprocessing.text import one_hot\n",
    "\n",
    "vocab_size = 10000\n",
    "encoded_X = [one_hot(d, vocab_size) for d in input_data]\n",
    "# encoded_y = [ one_hot(data, vocab_size) for d in y]"
   ]
  },
  {
   "cell_type": "code",
   "execution_count": 9,
   "id": "b61aa8ce",
   "metadata": {},
   "outputs": [
    {
     "data": {
      "text/plain": [
       "[[9788],\n",
       " [9788],\n",
       " [8667],\n",
       " [1110],\n",
       " [1110],\n",
       " [1110],\n",
       " [9788],\n",
       " [9788],\n",
       " [2783],\n",
       " [9788],\n",
       " [9788],\n",
       " [9788],\n",
       " [1110],\n",
       " [1110],\n",
       " [9788],\n",
       " [1110],\n",
       " [2783],\n",
       " [1110],\n",
       " [2783],\n",
       " [8667],\n",
       " [9788],\n",
       " [1110],\n",
       " [2783],\n",
       " [8667],\n",
       " [8667],\n",
       " [1110],\n",
       " [1110],\n",
       " [8667],\n",
       " [9788],\n",
       " [9788],\n",
       " [2783],\n",
       " [9788],\n",
       " [8667],\n",
       " [8667],\n",
       " [8667],\n",
       " [9788],\n",
       " [2783],\n",
       " [9788],\n",
       " [2783],\n",
       " [9788]]"
      ]
     },
     "execution_count": 9,
     "metadata": {},
     "output_type": "execute_result"
    },
    {
     "data": {
      "application/javascript": [
       "\n",
       "            setTimeout(function() {\n",
       "                var nbb_cell_id = 9;\n",
       "                var nbb_unformatted_code = \"encoded_X\";\n",
       "                var nbb_formatted_code = \"encoded_X\";\n",
       "                var nbb_cells = Jupyter.notebook.get_cells();\n",
       "                for (var i = 0; i < nbb_cells.length; ++i) {\n",
       "                    if (nbb_cells[i].input_prompt_number == nbb_cell_id) {\n",
       "                        if (nbb_cells[i].get_text() == nbb_unformatted_code) {\n",
       "                             nbb_cells[i].set_text(nbb_formatted_code);\n",
       "                        }\n",
       "                        break;\n",
       "                    }\n",
       "                }\n",
       "            }, 500);\n",
       "            "
      ],
      "text/plain": [
       "<IPython.core.display.Javascript object>"
      ]
     },
     "metadata": {},
     "output_type": "display_data"
    }
   ],
   "source": [
    "encoded_X"
   ]
  },
  {
   "cell_type": "code",
   "execution_count": 55,
   "id": "f5fc3c9e",
   "metadata": {},
   "outputs": [
    {
     "ename": "ValueError",
     "evalue": "Expected 2D array, got 1D array instead:\narray=['AATCCCAAGAAACCACGCGTACGTTCCTAAGATTTAGAGA'\n 'TTCAACTACAGTGTCTTCTACCCGGTCTACATGTACTCGG'\n 'GCTCCTGGTCCGAAACCGAGGGTAATTATGCGATCATCCT'\n 'CATGAATTCACAAGACCGCTGCCTGTGGACCATACCAAAC'\n 'AATACTGCCGCGGCAAGTGGGAAAGTACCCGCGCTGCAGA'\n 'AAACCGGGCGACGAGTGTGGCCTCAATAAGCAACAACGAC'\n 'AAGTTCTCTGCTGTAAGAACTCTACTTCGTATACTAACTT'\n 'CTCTGTAAGTAATCTCGGAAACATCGCATTATCCATGCCC'\n 'CGACTGCTCAGAGCCGTTCCACGTTATTGTAATCTAAGTT'\n 'GAGCTAGACTGATTATTGTGTCCGGCTGATTCGTGGGCGC'\n 'ATTACTCCCAACGAGGCGGGCCAAGCCGACAGCGTGGGCG'\n 'GTCTGCTGATCTTTACCCGCCAGGTGGACGGAGGATTGGC'\n 'GCTGGAGTGCGCAGAAGCGCATGTCGTTGTGTAGAATCAA'\n 'ACCACCCGACGTTCACTAATGGCACATAATGTATAGGAGT'\n 'GCGCTGGGTTCATGCGGTAGTCGCTTTTTACACGGCGGGA'\n 'ATCGCTTGTGTTGTTTCACTACCCGTTACTCTCTACTAAT'\n 'CGAATGGGTCATGAAGGAACCTACAGCGGGTGTAACCTAC'\n 'CCACAGGGTACTTGACTCGACCTCAACTTGAGTGTGGAAG'\n 'TTAACATACGGTCGGAGTGTTACTGGTGAGATTTAGAGGA'\n 'CTGGACTCTGGAACCTAGACAGACGTTGGGCGCGCCATGT'\n 'TATTGCGGTTGGTCCGCGATGGGCGACTAGAGACGCAGTT'\n 'GATGTGAACTCAGAAGCTAATATTTGCCGCCCAGCGCCGT'\n 'GTAGTCAGTTGTGTCGGACGTTTAGTAAGTCTCCTCAATG'\n 'ATCATTGCCCTTCTGTTAGACCGTAGATAGTTGTACGATC'\n 'AGTGACAATGAACCGGTGCGAGGTATCGGCTATTAGTCAG'\n 'ACAATCCCACCCTCATCCTCAACATCTACTACGAAGGTAG'\n 'CATGAAGGGAGGAATCACTTGTGGAACGGCGTGGGATGTT'\n 'TCGAAAAGATCATAGTGATTTACCGCATTATCGATACTTT'\n 'TACCGACAACGGGTCTTTAACCAATGGGGGTCATGATGTA'\n 'CGAACTCCTTTAAGGCCGCTAGAGAGATGGGTAGATCGTA'\n 'GACGGAGTTCTCAACTTCCACTCCCACGGGTTCGAGGTTA'\n 'TATGGAATTAAGGAGCTGCAGATACACGGCTTTGGTATAT'\n 'AGTTCTACTTGCATGTCAGTATTCCTGCCCCATAATCGCC'\n 'CCGAGTCGTGCCTGCTGGTGGCCCTAGTAATACTGCGACG'\n 'TAGAGTCGATCATATCCATGCGGAAATCCGATCTAACGGA'\n 'AGACCTGATCGCATAAGGAGTTATATCATCATTCGGCCAG'\n 'ATCACATTGGTACTTATTATGGGGTCGGTTAGAGCTTAAT'\n 'TTGGCGTGATGTAAGTCACGACACTTGACGTTGACTGTTC'\n 'AACGGATTGCTGCACAGCGATTATTCCTCACCCGATTGCA'\n 'ATGGGGACTAGGTCCCGAACTCCTCTTATCTCTACCCTAA'\n 'AATCGAGTTGCGTGAACGGGGCTCTTTGCTATCGATGCCA'\n 'ATGGCCTTCCGGGTGAAGGCCTAATGGTAAGCTTGTAGAC'\n 'TTAGGTACAGTTTCCGAAACTGGCCTTCGTTGTGATTAGT'\n 'AGTCAGCGCCAACAGTGCGCGGACCTGGTCGTTTGCCTTC'\n 'TTCGTGTTTAGGTCTATATGTGCCTTCACCACCAAGTGAC'\n 'ACGGGCTTTAACACGCAGGCTAATATTGGCGTCATCGTCA'\n 'TTCCGGTAGACCGTCATGCGTTTATTCAAGTCGTATTCCC'\n 'GCGTGGCCAGTAAACCCTGACGAGAGCGGAGTAGTACAAG'\n 'TAAAGATGCCGTGGGGACTACGCCAATGGGCCGTCTCAAG'\n 'ACCAAAGACAGGCCACTCTTCTCCGTTACGGATGTGGCTG'\n 'CGCCTCGAGGCGCTCTAGTACATGAACCGCTTACCAGCCG'\n 'CTTGGTTTTGGAGTCTTGACCATGTCCTCGCGTTGGGCTC'\n 'CGCAAAAAGCCACACGTAGGAAGAATTAGCAACCCTTTGA'\n 'TGGCCTAAAGGGGAACAGGTAACCGTAATACTACCGATCC'\n 'GTGCATAAGCATGTATGGCTGGCGATCAATCGCGTTAAAT'\n 'GTTACACGGGAAATATGATGGACCGCCTTTGCACGTGTGA'\n 'TTCGCGACTAGTGTGTGCTTCGTCGTTGCTGTGTACCAGC'\n 'GTAGGCTCTCGGAGGGGATAACTCAGTGAAATCCGTGGCT'\n 'AGATGAACTTTGCGTGAGGTATAAATACCCCTGGCGCCGG'\n 'ACGGGACCTAACTTCGATGTGGATTGCTACTACTACTCGG'\n 'CGGCGCCGTCCTGATAGCCGGGGGGGCAACTATCTCGGAA'\n 'TTAGCGACTAGTTAGACCTGCCCCATTCTTTTACGATCCC'\n 'CTCGGCTGGGAAGTTGGTAAGTAGCGCGTTTTCGTAAAGA'\n 'ACGGAGCCTCTATTATCAGTCGAAACGACCGAATAGCGAC'\n 'GAAATTTCGCCAACGTCCGGCAACAGTGTCCTACTATCCG'\n 'TACGGACGAATTCGGTCGAAAATCAAGTGGGACTATACCT'\n 'GATGCACAGAGATCAACACGTTCTCTAATGTATAGGTAGC'\n 'TCTAACAAACAGTGCCAGCTCGTTATAACCAGAGTTTAGA'\n 'TCTTCGTGCCCAGACTATAGTACCGGACTAACGTGAACGA'\n 'AGCCTTTGTTGTCACCACACGGTGATCGTGTAACTACTCA'\n 'CTGATTCAGGCAGACAAACCCGTATAAACGCATAAGACGG'\n 'GAGGCTCCTTGCACTGGGAATGCGCCAGTGGTTGTCATCA'\n 'TAGTCCACCTACGTCCCTTATCCGTCGAAACCAGATCCTC'\n 'TAACCATATGATTTCCGGTCTCCGTTCCAGACTCAGCTAC'\n 'TTCATGATCCATTAAAGGGCGGGTGAGCCGAATATTAATC'\n 'GCAATGAGCGCAATCCGTTTCAAGGCATAGATGCAACCTA'\n 'GATGGGTAGCTGTCGATGGTCTACAATGCAGGGCGTAGAC'\n 'AGCCCCCAGAGCCTTAAGGTTGAGAGCCAAATTGTGGGAC'\n 'TGCGAGTCAGTTATTTTGACCTGTTGACGCGGTACATGCA'\n 'CCCACAGATCTTGGAACTGGCGTTCTATAGACCCCCTGAA'\n 'GCCACTTTGGTGTCGTGAATTTAGATTTTTTCCCAGTCAG'\n 'TTGGGACTCGTTCCTAGCTCTACTCTGTTTTGAGAAGCAG'\n 'TGACCCTGGCTCAGTCTAAGTCCCGACGGGGGGAACTATC'\n 'AACCTTCAGTCAATTGTGCTGTCCGACCCCACATAGTAAA'\n 'AAAGGGATGCCATGATCGAATAAGCCTCTGTCAGCGTCAA'\n 'AAGCAAATCGTTGAACATTTGAAAACCTTGTATTCAGGGT'\n 'GGGCACACAGGGCGTACGGAGGAATTACTAGCGTGCAACG'\n 'GCAGTCTTACGGCAGGGAGGTAGAAGGAAATCGTTACGTG'\n 'TGAACATTTTAACGCGATCCAGCGCTAGAAGGCGAAGGCC'\n 'CAGTGGCTGTTGCCGTTCCCTTCCTATGGTGAAAGCAACT'\n 'CTTCATCATGACGCTAGGGTAATCGCTCCTGCACCAGAGT'\n 'TCCTATGCACTATGTATCCACGGATCCTTTTCGAATGCCA'\n 'TGAGTTATGGATCTAACAACCGACGACAGTAAAACTACTG'\n 'GGGGTAGAAAAATATTATGGGAGCCCGTCTTACAAAGATC'\n 'TCGCCCCTCACAGATATACGTTCCATACTGGTTCTTGCAT'\n 'CCGTTCTGGGTTGACATCCTAAAAGCATGCTGCTCGAGTA'\n 'CCCGCCCGTACGCATTCACTGGGAATATTCGGTATGCGTT'\n 'GGACGCCATCCCCTACGTAGGGCCGACACCCACACTCGAT'\n 'ACGGGCCGCCTCTGACGGCAACGCACGAAAGCAGGTAGCG'\n 'GTAGCTGCATGTCAAAAGCTGTACGTTGTTGCGGCTGTTT'].\nReshape your data either using array.reshape(-1, 1) if your data has a single feature or array.reshape(1, -1) if it contains a single sample.",
     "output_type": "error",
     "traceback": [
      "\u001b[1;31m---------------------------------------------------------------------------\u001b[0m",
      "\u001b[1;31mValueError\u001b[0m                                Traceback (most recent call last)",
      "\u001b[1;32m~\\AppData\\Local\\Temp/ipykernel_9040/2179604089.py\u001b[0m in \u001b[0;36m<module>\u001b[1;34m\u001b[0m\n\u001b[0;32m      2\u001b[0m \u001b[1;33m\u001b[0m\u001b[0m\n\u001b[0;32m      3\u001b[0m \u001b[0menc\u001b[0m \u001b[1;33m=\u001b[0m \u001b[0mOneHotEncoder\u001b[0m\u001b[1;33m(\u001b[0m\u001b[1;33m)\u001b[0m\u001b[1;33m\u001b[0m\u001b[1;33m\u001b[0m\u001b[0m\n\u001b[1;32m----> 4\u001b[1;33m \u001b[0mencoded_seqs\u001b[0m \u001b[1;33m=\u001b[0m \u001b[0menc\u001b[0m\u001b[1;33m.\u001b[0m\u001b[0mfit\u001b[0m\u001b[1;33m(\u001b[0m\u001b[0mdata\u001b[0m\u001b[1;33m,\u001b[0m \u001b[1;36m1000\u001b[0m\u001b[1;33m)\u001b[0m\u001b[1;33m\u001b[0m\u001b[1;33m\u001b[0m\u001b[0m\n\u001b[0m",
      "\u001b[1;32mc:\\users\\psraj\\appdata\\local\\programs\\python\\python38\\lib\\site-packages\\sklearn\\preprocessing\\_encoders.py\u001b[0m in \u001b[0;36mfit\u001b[1;34m(self, X, y)\u001b[0m\n\u001b[0;32m    459\u001b[0m         \"\"\"\n\u001b[0;32m    460\u001b[0m         \u001b[0mself\u001b[0m\u001b[1;33m.\u001b[0m\u001b[0m_validate_keywords\u001b[0m\u001b[1;33m(\u001b[0m\u001b[1;33m)\u001b[0m\u001b[1;33m\u001b[0m\u001b[1;33m\u001b[0m\u001b[0m\n\u001b[1;32m--> 461\u001b[1;33m         \u001b[0mself\u001b[0m\u001b[1;33m.\u001b[0m\u001b[0m_fit\u001b[0m\u001b[1;33m(\u001b[0m\u001b[0mX\u001b[0m\u001b[1;33m,\u001b[0m \u001b[0mhandle_unknown\u001b[0m\u001b[1;33m=\u001b[0m\u001b[0mself\u001b[0m\u001b[1;33m.\u001b[0m\u001b[0mhandle_unknown\u001b[0m\u001b[1;33m,\u001b[0m \u001b[0mforce_all_finite\u001b[0m\u001b[1;33m=\u001b[0m\u001b[1;34m\"allow-nan\"\u001b[0m\u001b[1;33m)\u001b[0m\u001b[1;33m\u001b[0m\u001b[1;33m\u001b[0m\u001b[0m\n\u001b[0m\u001b[0;32m    462\u001b[0m         \u001b[0mself\u001b[0m\u001b[1;33m.\u001b[0m\u001b[0mdrop_idx_\u001b[0m \u001b[1;33m=\u001b[0m \u001b[0mself\u001b[0m\u001b[1;33m.\u001b[0m\u001b[0m_compute_drop_idx\u001b[0m\u001b[1;33m(\u001b[0m\u001b[1;33m)\u001b[0m\u001b[1;33m\u001b[0m\u001b[1;33m\u001b[0m\u001b[0m\n\u001b[0;32m    463\u001b[0m         \u001b[1;32mreturn\u001b[0m \u001b[0mself\u001b[0m\u001b[1;33m\u001b[0m\u001b[1;33m\u001b[0m\u001b[0m\n",
      "\u001b[1;32mc:\\users\\psraj\\appdata\\local\\programs\\python\\python38\\lib\\site-packages\\sklearn\\preprocessing\\_encoders.py\u001b[0m in \u001b[0;36m_fit\u001b[1;34m(self, X, handle_unknown, force_all_finite)\u001b[0m\n\u001b[0;32m     75\u001b[0m         \u001b[0mself\u001b[0m\u001b[1;33m.\u001b[0m\u001b[0m_check_n_features\u001b[0m\u001b[1;33m(\u001b[0m\u001b[0mX\u001b[0m\u001b[1;33m,\u001b[0m \u001b[0mreset\u001b[0m\u001b[1;33m=\u001b[0m\u001b[1;32mTrue\u001b[0m\u001b[1;33m)\u001b[0m\u001b[1;33m\u001b[0m\u001b[1;33m\u001b[0m\u001b[0m\n\u001b[0;32m     76\u001b[0m         \u001b[0mself\u001b[0m\u001b[1;33m.\u001b[0m\u001b[0m_check_feature_names\u001b[0m\u001b[1;33m(\u001b[0m\u001b[0mX\u001b[0m\u001b[1;33m,\u001b[0m \u001b[0mreset\u001b[0m\u001b[1;33m=\u001b[0m\u001b[1;32mTrue\u001b[0m\u001b[1;33m)\u001b[0m\u001b[1;33m\u001b[0m\u001b[1;33m\u001b[0m\u001b[0m\n\u001b[1;32m---> 77\u001b[1;33m         X_list, n_samples, n_features = self._check_X(\n\u001b[0m\u001b[0;32m     78\u001b[0m             \u001b[0mX\u001b[0m\u001b[1;33m,\u001b[0m \u001b[0mforce_all_finite\u001b[0m\u001b[1;33m=\u001b[0m\u001b[0mforce_all_finite\u001b[0m\u001b[1;33m\u001b[0m\u001b[1;33m\u001b[0m\u001b[0m\n\u001b[0;32m     79\u001b[0m         )\n",
      "\u001b[1;32mc:\\users\\psraj\\appdata\\local\\programs\\python\\python38\\lib\\site-packages\\sklearn\\preprocessing\\_encoders.py\u001b[0m in \u001b[0;36m_check_X\u001b[1;34m(self, X, force_all_finite)\u001b[0m\n\u001b[0;32m     42\u001b[0m         \u001b[1;32mif\u001b[0m \u001b[1;32mnot\u001b[0m \u001b[1;33m(\u001b[0m\u001b[0mhasattr\u001b[0m\u001b[1;33m(\u001b[0m\u001b[0mX\u001b[0m\u001b[1;33m,\u001b[0m \u001b[1;34m\"iloc\"\u001b[0m\u001b[1;33m)\u001b[0m \u001b[1;32mand\u001b[0m \u001b[0mgetattr\u001b[0m\u001b[1;33m(\u001b[0m\u001b[0mX\u001b[0m\u001b[1;33m,\u001b[0m \u001b[1;34m\"ndim\"\u001b[0m\u001b[1;33m,\u001b[0m \u001b[1;36m0\u001b[0m\u001b[1;33m)\u001b[0m \u001b[1;33m==\u001b[0m \u001b[1;36m2\u001b[0m\u001b[1;33m)\u001b[0m\u001b[1;33m:\u001b[0m\u001b[1;33m\u001b[0m\u001b[1;33m\u001b[0m\u001b[0m\n\u001b[0;32m     43\u001b[0m             \u001b[1;31m# if not a dataframe, do normal check_array validation\u001b[0m\u001b[1;33m\u001b[0m\u001b[1;33m\u001b[0m\u001b[1;33m\u001b[0m\u001b[0m\n\u001b[1;32m---> 44\u001b[1;33m             \u001b[0mX_temp\u001b[0m \u001b[1;33m=\u001b[0m \u001b[0mcheck_array\u001b[0m\u001b[1;33m(\u001b[0m\u001b[0mX\u001b[0m\u001b[1;33m,\u001b[0m \u001b[0mdtype\u001b[0m\u001b[1;33m=\u001b[0m\u001b[1;32mNone\u001b[0m\u001b[1;33m,\u001b[0m \u001b[0mforce_all_finite\u001b[0m\u001b[1;33m=\u001b[0m\u001b[0mforce_all_finite\u001b[0m\u001b[1;33m)\u001b[0m\u001b[1;33m\u001b[0m\u001b[1;33m\u001b[0m\u001b[0m\n\u001b[0m\u001b[0;32m     45\u001b[0m             \u001b[1;32mif\u001b[0m \u001b[1;32mnot\u001b[0m \u001b[0mhasattr\u001b[0m\u001b[1;33m(\u001b[0m\u001b[0mX\u001b[0m\u001b[1;33m,\u001b[0m \u001b[1;34m\"dtype\"\u001b[0m\u001b[1;33m)\u001b[0m \u001b[1;32mand\u001b[0m \u001b[0mnp\u001b[0m\u001b[1;33m.\u001b[0m\u001b[0missubdtype\u001b[0m\u001b[1;33m(\u001b[0m\u001b[0mX_temp\u001b[0m\u001b[1;33m.\u001b[0m\u001b[0mdtype\u001b[0m\u001b[1;33m,\u001b[0m \u001b[0mnp\u001b[0m\u001b[1;33m.\u001b[0m\u001b[0mstr_\u001b[0m\u001b[1;33m)\u001b[0m\u001b[1;33m:\u001b[0m\u001b[1;33m\u001b[0m\u001b[1;33m\u001b[0m\u001b[0m\n\u001b[0;32m     46\u001b[0m                 \u001b[0mX\u001b[0m \u001b[1;33m=\u001b[0m \u001b[0mcheck_array\u001b[0m\u001b[1;33m(\u001b[0m\u001b[0mX\u001b[0m\u001b[1;33m,\u001b[0m \u001b[0mdtype\u001b[0m\u001b[1;33m=\u001b[0m\u001b[0mobject\u001b[0m\u001b[1;33m,\u001b[0m \u001b[0mforce_all_finite\u001b[0m\u001b[1;33m=\u001b[0m\u001b[0mforce_all_finite\u001b[0m\u001b[1;33m)\u001b[0m\u001b[1;33m\u001b[0m\u001b[1;33m\u001b[0m\u001b[0m\n",
      "\u001b[1;32mc:\\users\\psraj\\appdata\\local\\programs\\python\\python38\\lib\\site-packages\\sklearn\\utils\\validation.py\u001b[0m in \u001b[0;36mcheck_array\u001b[1;34m(array, accept_sparse, accept_large_sparse, dtype, order, copy, force_all_finite, ensure_2d, allow_nd, ensure_min_samples, ensure_min_features, estimator)\u001b[0m\n\u001b[0;32m    767\u001b[0m             \u001b[1;31m# If input is 1D raise error\u001b[0m\u001b[1;33m\u001b[0m\u001b[1;33m\u001b[0m\u001b[1;33m\u001b[0m\u001b[0m\n\u001b[0;32m    768\u001b[0m             \u001b[1;32mif\u001b[0m \u001b[0marray\u001b[0m\u001b[1;33m.\u001b[0m\u001b[0mndim\u001b[0m \u001b[1;33m==\u001b[0m \u001b[1;36m1\u001b[0m\u001b[1;33m:\u001b[0m\u001b[1;33m\u001b[0m\u001b[1;33m\u001b[0m\u001b[0m\n\u001b[1;32m--> 769\u001b[1;33m                 raise ValueError(\n\u001b[0m\u001b[0;32m    770\u001b[0m                     \u001b[1;34m\"Expected 2D array, got 1D array instead:\\narray={}.\\n\"\u001b[0m\u001b[1;33m\u001b[0m\u001b[1;33m\u001b[0m\u001b[0m\n\u001b[0;32m    771\u001b[0m                     \u001b[1;34m\"Reshape your data either using array.reshape(-1, 1) if \"\u001b[0m\u001b[1;33m\u001b[0m\u001b[1;33m\u001b[0m\u001b[0m\n",
      "\u001b[1;31mValueError\u001b[0m: Expected 2D array, got 1D array instead:\narray=['AATCCCAAGAAACCACGCGTACGTTCCTAAGATTTAGAGA'\n 'TTCAACTACAGTGTCTTCTACCCGGTCTACATGTACTCGG'\n 'GCTCCTGGTCCGAAACCGAGGGTAATTATGCGATCATCCT'\n 'CATGAATTCACAAGACCGCTGCCTGTGGACCATACCAAAC'\n 'AATACTGCCGCGGCAAGTGGGAAAGTACCCGCGCTGCAGA'\n 'AAACCGGGCGACGAGTGTGGCCTCAATAAGCAACAACGAC'\n 'AAGTTCTCTGCTGTAAGAACTCTACTTCGTATACTAACTT'\n 'CTCTGTAAGTAATCTCGGAAACATCGCATTATCCATGCCC'\n 'CGACTGCTCAGAGCCGTTCCACGTTATTGTAATCTAAGTT'\n 'GAGCTAGACTGATTATTGTGTCCGGCTGATTCGTGGGCGC'\n 'ATTACTCCCAACGAGGCGGGCCAAGCCGACAGCGTGGGCG'\n 'GTCTGCTGATCTTTACCCGCCAGGTGGACGGAGGATTGGC'\n 'GCTGGAGTGCGCAGAAGCGCATGTCGTTGTGTAGAATCAA'\n 'ACCACCCGACGTTCACTAATGGCACATAATGTATAGGAGT'\n 'GCGCTGGGTTCATGCGGTAGTCGCTTTTTACACGGCGGGA'\n 'ATCGCTTGTGTTGTTTCACTACCCGTTACTCTCTACTAAT'\n 'CGAATGGGTCATGAAGGAACCTACAGCGGGTGTAACCTAC'\n 'CCACAGGGTACTTGACTCGACCTCAACTTGAGTGTGGAAG'\n 'TTAACATACGGTCGGAGTGTTACTGGTGAGATTTAGAGGA'\n 'CTGGACTCTGGAACCTAGACAGACGTTGGGCGCGCCATGT'\n 'TATTGCGGTTGGTCCGCGATGGGCGACTAGAGACGCAGTT'\n 'GATGTGAACTCAGAAGCTAATATTTGCCGCCCAGCGCCGT'\n 'GTAGTCAGTTGTGTCGGACGTTTAGTAAGTCTCCTCAATG'\n 'ATCATTGCCCTTCTGTTAGACCGTAGATAGTTGTACGATC'\n 'AGTGACAATGAACCGGTGCGAGGTATCGGCTATTAGTCAG'\n 'ACAATCCCACCCTCATCCTCAACATCTACTACGAAGGTAG'\n 'CATGAAGGGAGGAATCACTTGTGGAACGGCGTGGGATGTT'\n 'TCGAAAAGATCATAGTGATTTACCGCATTATCGATACTTT'\n 'TACCGACAACGGGTCTTTAACCAATGGGGGTCATGATGTA'\n 'CGAACTCCTTTAAGGCCGCTAGAGAGATGGGTAGATCGTA'\n 'GACGGAGTTCTCAACTTCCACTCCCACGGGTTCGAGGTTA'\n 'TATGGAATTAAGGAGCTGCAGATACACGGCTTTGGTATAT'\n 'AGTTCTACTTGCATGTCAGTATTCCTGCCCCATAATCGCC'\n 'CCGAGTCGTGCCTGCTGGTGGCCCTAGTAATACTGCGACG'\n 'TAGAGTCGATCATATCCATGCGGAAATCCGATCTAACGGA'\n 'AGACCTGATCGCATAAGGAGTTATATCATCATTCGGCCAG'\n 'ATCACATTGGTACTTATTATGGGGTCGGTTAGAGCTTAAT'\n 'TTGGCGTGATGTAAGTCACGACACTTGACGTTGACTGTTC'\n 'AACGGATTGCTGCACAGCGATTATTCCTCACCCGATTGCA'\n 'ATGGGGACTAGGTCCCGAACTCCTCTTATCTCTACCCTAA'\n 'AATCGAGTTGCGTGAACGGGGCTCTTTGCTATCGATGCCA'\n 'ATGGCCTTCCGGGTGAAGGCCTAATGGTAAGCTTGTAGAC'\n 'TTAGGTACAGTTTCCGAAACTGGCCTTCGTTGTGATTAGT'\n 'AGTCAGCGCCAACAGTGCGCGGACCTGGTCGTTTGCCTTC'\n 'TTCGTGTTTAGGTCTATATGTGCCTTCACCACCAAGTGAC'\n 'ACGGGCTTTAACACGCAGGCTAATATTGGCGTCATCGTCA'\n 'TTCCGGTAGACCGTCATGCGTTTATTCAAGTCGTATTCCC'\n 'GCGTGGCCAGTAAACCCTGACGAGAGCGGAGTAGTACAAG'\n 'TAAAGATGCCGTGGGGACTACGCCAATGGGCCGTCTCAAG'\n 'ACCAAAGACAGGCCACTCTTCTCCGTTACGGATGTGGCTG'\n 'CGCCTCGAGGCGCTCTAGTACATGAACCGCTTACCAGCCG'\n 'CTTGGTTTTGGAGTCTTGACCATGTCCTCGCGTTGGGCTC'\n 'CGCAAAAAGCCACACGTAGGAAGAATTAGCAACCCTTTGA'\n 'TGGCCTAAAGGGGAACAGGTAACCGTAATACTACCGATCC'\n 'GTGCATAAGCATGTATGGCTGGCGATCAATCGCGTTAAAT'\n 'GTTACACGGGAAATATGATGGACCGCCTTTGCACGTGTGA'\n 'TTCGCGACTAGTGTGTGCTTCGTCGTTGCTGTGTACCAGC'\n 'GTAGGCTCTCGGAGGGGATAACTCAGTGAAATCCGTGGCT'\n 'AGATGAACTTTGCGTGAGGTATAAATACCCCTGGCGCCGG'\n 'ACGGGACCTAACTTCGATGTGGATTGCTACTACTACTCGG'\n 'CGGCGCCGTCCTGATAGCCGGGGGGGCAACTATCTCGGAA'\n 'TTAGCGACTAGTTAGACCTGCCCCATTCTTTTACGATCCC'\n 'CTCGGCTGGGAAGTTGGTAAGTAGCGCGTTTTCGTAAAGA'\n 'ACGGAGCCTCTATTATCAGTCGAAACGACCGAATAGCGAC'\n 'GAAATTTCGCCAACGTCCGGCAACAGTGTCCTACTATCCG'\n 'TACGGACGAATTCGGTCGAAAATCAAGTGGGACTATACCT'\n 'GATGCACAGAGATCAACACGTTCTCTAATGTATAGGTAGC'\n 'TCTAACAAACAGTGCCAGCTCGTTATAACCAGAGTTTAGA'\n 'TCTTCGTGCCCAGACTATAGTACCGGACTAACGTGAACGA'\n 'AGCCTTTGTTGTCACCACACGGTGATCGTGTAACTACTCA'\n 'CTGATTCAGGCAGACAAACCCGTATAAACGCATAAGACGG'\n 'GAGGCTCCTTGCACTGGGAATGCGCCAGTGGTTGTCATCA'\n 'TAGTCCACCTACGTCCCTTATCCGTCGAAACCAGATCCTC'\n 'TAACCATATGATTTCCGGTCTCCGTTCCAGACTCAGCTAC'\n 'TTCATGATCCATTAAAGGGCGGGTGAGCCGAATATTAATC'\n 'GCAATGAGCGCAATCCGTTTCAAGGCATAGATGCAACCTA'\n 'GATGGGTAGCTGTCGATGGTCTACAATGCAGGGCGTAGAC'\n 'AGCCCCCAGAGCCTTAAGGTTGAGAGCCAAATTGTGGGAC'\n 'TGCGAGTCAGTTATTTTGACCTGTTGACGCGGTACATGCA'\n 'CCCACAGATCTTGGAACTGGCGTTCTATAGACCCCCTGAA'\n 'GCCACTTTGGTGTCGTGAATTTAGATTTTTTCCCAGTCAG'\n 'TTGGGACTCGTTCCTAGCTCTACTCTGTTTTGAGAAGCAG'\n 'TGACCCTGGCTCAGTCTAAGTCCCGACGGGGGGAACTATC'\n 'AACCTTCAGTCAATTGTGCTGTCCGACCCCACATAGTAAA'\n 'AAAGGGATGCCATGATCGAATAAGCCTCTGTCAGCGTCAA'\n 'AAGCAAATCGTTGAACATTTGAAAACCTTGTATTCAGGGT'\n 'GGGCACACAGGGCGTACGGAGGAATTACTAGCGTGCAACG'\n 'GCAGTCTTACGGCAGGGAGGTAGAAGGAAATCGTTACGTG'\n 'TGAACATTTTAACGCGATCCAGCGCTAGAAGGCGAAGGCC'\n 'CAGTGGCTGTTGCCGTTCCCTTCCTATGGTGAAAGCAACT'\n 'CTTCATCATGACGCTAGGGTAATCGCTCCTGCACCAGAGT'\n 'TCCTATGCACTATGTATCCACGGATCCTTTTCGAATGCCA'\n 'TGAGTTATGGATCTAACAACCGACGACAGTAAAACTACTG'\n 'GGGGTAGAAAAATATTATGGGAGCCCGTCTTACAAAGATC'\n 'TCGCCCCTCACAGATATACGTTCCATACTGGTTCTTGCAT'\n 'CCGTTCTGGGTTGACATCCTAAAAGCATGCTGCTCGAGTA'\n 'CCCGCCCGTACGCATTCACTGGGAATATTCGGTATGCGTT'\n 'GGACGCCATCCCCTACGTAGGGCCGACACCCACACTCGAT'\n 'ACGGGCCGCCTCTGACGGCAACGCACGAAAGCAGGTAGCG'\n 'GTAGCTGCATGTCAAAAGCTGTACGTTGTTGCGGCTGTTT'].\nReshape your data either using array.reshape(-1, 1) if your data has a single feature or array.reshape(1, -1) if it contains a single sample."
     ]
    },
    {
     "data": {
      "application/javascript": [
       "\n",
       "            setTimeout(function() {\n",
       "                var nbb_cell_id = 55;\n",
       "                var nbb_unformatted_code = \"from sklearn.preprocessing import OneHotEncoder\\n\\nenc = OneHotEncoder()\\nencoded_seqs = enc.fit(data, 1000)\";\n",
       "                var nbb_formatted_code = \"from sklearn.preprocessing import OneHotEncoder\\n\\nenc = OneHotEncoder()\\nencoded_seqs = enc.fit(data, 1000)\";\n",
       "                var nbb_cells = Jupyter.notebook.get_cells();\n",
       "                for (var i = 0; i < nbb_cells.length; ++i) {\n",
       "                    if (nbb_cells[i].input_prompt_number == nbb_cell_id) {\n",
       "                        if (nbb_cells[i].get_text() == nbb_unformatted_code) {\n",
       "                             nbb_cells[i].set_text(nbb_formatted_code);\n",
       "                        }\n",
       "                        break;\n",
       "                    }\n",
       "                }\n",
       "            }, 500);\n",
       "            "
      ],
      "text/plain": [
       "<IPython.core.display.Javascript object>"
      ]
     },
     "metadata": {},
     "output_type": "display_data"
    }
   ],
   "source": [
    "from sklearn.preprocessing import OneHotEncoder\n",
    "\n",
    "enc = OneHotEncoder()\n",
    "encoded_seqs = enc.fit(data, 1000)"
   ]
  },
  {
   "cell_type": "code",
   "execution_count": 49,
   "id": "05ff85ea",
   "metadata": {},
   "outputs": [
    {
     "data": {
      "application/javascript": [
       "\n",
       "            setTimeout(function() {\n",
       "                var nbb_cell_id = 49;\n",
       "                var nbb_unformatted_code = \"from tensorflow.keras.preprocessing.text import hashing_trick\\n\\ntext_hashed = [\\n    hashing_trick(text=words, n=10000, hash_function=\\\"md5\\\") for words in data\\n]\";\n",
       "                var nbb_formatted_code = \"from tensorflow.keras.preprocessing.text import hashing_trick\\n\\ntext_hashed = [\\n    hashing_trick(text=words, n=10000, hash_function=\\\"md5\\\") for words in data\\n]\";\n",
       "                var nbb_cells = Jupyter.notebook.get_cells();\n",
       "                for (var i = 0; i < nbb_cells.length; ++i) {\n",
       "                    if (nbb_cells[i].input_prompt_number == nbb_cell_id) {\n",
       "                        if (nbb_cells[i].get_text() == nbb_unformatted_code) {\n",
       "                             nbb_cells[i].set_text(nbb_formatted_code);\n",
       "                        }\n",
       "                        break;\n",
       "                    }\n",
       "                }\n",
       "            }, 500);\n",
       "            "
      ],
      "text/plain": [
       "<IPython.core.display.Javascript object>"
      ]
     },
     "metadata": {},
     "output_type": "display_data"
    }
   ],
   "source": [
    "from tensorflow.keras.preprocessing.text import hashing_trick\n",
    "\n",
    "text_hashed = [\n",
    "    hashing_trick(text=words, n=10000, hash_function=\"md5\") for words in data\n",
    "]"
   ]
  },
  {
   "cell_type": "code",
   "execution_count": 51,
   "id": "69f0e79c",
   "metadata": {},
   "outputs": [
    {
     "data": {
      "text/plain": [
       "[[2838],\n",
       " [148],\n",
       " [1636],\n",
       " [8873],\n",
       " [5951],\n",
       " [373],\n",
       " [2442],\n",
       " [4165],\n",
       " [3570],\n",
       " [8270],\n",
       " [1506],\n",
       " [2759],\n",
       " [2844],\n",
       " [9886],\n",
       " [9324],\n",
       " [3155],\n",
       " [7666],\n",
       " [4143],\n",
       " [4074],\n",
       " [5003],\n",
       " [5366],\n",
       " [1745],\n",
       " [3591],\n",
       " [69],\n",
       " [6785],\n",
       " [9911],\n",
       " [6536],\n",
       " [6623],\n",
       " [378],\n",
       " [1855],\n",
       " [2381],\n",
       " [1826],\n",
       " [3570],\n",
       " [246],\n",
       " [7003],\n",
       " [5391],\n",
       " [7924],\n",
       " [3256],\n",
       " [5594],\n",
       " [3579],\n",
       " [9166],\n",
       " [7914],\n",
       " [2864],\n",
       " [4069],\n",
       " [1761],\n",
       " [9662],\n",
       " [7686],\n",
       " [6887],\n",
       " [4463],\n",
       " [5158],\n",
       " [7214],\n",
       " [6444],\n",
       " [1041],\n",
       " [872],\n",
       " [7897],\n",
       " [9767],\n",
       " [6188],\n",
       " [660],\n",
       " [3421],\n",
       " [950],\n",
       " [7817],\n",
       " [2548],\n",
       " [6906],\n",
       " [4459],\n",
       " [9593],\n",
       " [5594],\n",
       " [3731],\n",
       " [7333],\n",
       " [5209],\n",
       " [4222],\n",
       " [1544],\n",
       " [5826],\n",
       " [4489],\n",
       " [4646],\n",
       " [6928],\n",
       " [9719],\n",
       " [5034],\n",
       " [9022],\n",
       " [7479],\n",
       " [3031],\n",
       " [2380],\n",
       " [7399],\n",
       " [8545],\n",
       " [2673],\n",
       " [3637],\n",
       " [4270],\n",
       " [1595],\n",
       " [6130],\n",
       " [437],\n",
       " [3770],\n",
       " [7433],\n",
       " [5426],\n",
       " [5557],\n",
       " [1841],\n",
       " [368],\n",
       " [529],\n",
       " [7889],\n",
       " [1813],\n",
       " [4827],\n",
       " [3647]]"
      ]
     },
     "execution_count": 51,
     "metadata": {},
     "output_type": "execute_result"
    },
    {
     "data": {
      "application/javascript": [
       "\n",
       "            setTimeout(function() {\n",
       "                var nbb_cell_id = 51;\n",
       "                var nbb_unformatted_code = \"text_hashed\";\n",
       "                var nbb_formatted_code = \"text_hashed\";\n",
       "                var nbb_cells = Jupyter.notebook.get_cells();\n",
       "                for (var i = 0; i < nbb_cells.length; ++i) {\n",
       "                    if (nbb_cells[i].input_prompt_number == nbb_cell_id) {\n",
       "                        if (nbb_cells[i].get_text() == nbb_unformatted_code) {\n",
       "                             nbb_cells[i].set_text(nbb_formatted_code);\n",
       "                        }\n",
       "                        break;\n",
       "                    }\n",
       "                }\n",
       "            }, 500);\n",
       "            "
      ],
      "text/plain": [
       "<IPython.core.display.Javascript object>"
      ]
     },
     "metadata": {},
     "output_type": "display_data"
    }
   ],
   "source": [
    "text_hashed"
   ]
  },
  {
   "cell_type": "code",
   "execution_count": 15,
   "id": "292977dd",
   "metadata": {},
   "outputs": [
    {
     "name": "stdout",
     "output_type": "stream",
     "text": [
      "Shapes:  (100000, 6, 51) (100000, 3, 51) (100000, 3, 51)\n",
      "Here is first categorically encoded input sequence looks like: \n"
     ]
    },
    {
     "data": {
      "text/plain": [
       "(100000, 6, 51)"
      ]
     },
     "execution_count": 15,
     "metadata": {},
     "output_type": "execute_result"
    },
    {
     "data": {
      "application/javascript": [
       "\n",
       "            setTimeout(function() {\n",
       "                var nbb_cell_id = 15;\n",
       "                var nbb_unformatted_code = \"def dataset_preparation(n_in, n_out, n_unique, n_samples):\\n    X1, X2, y = [], [], []\\n    for _ in range(n_samples):\\n        ## create random numbers sequence - input\\n        inp_seq = [randint(1, n_unique - 1) for _ in range(n_in)]\\n\\n        ## create target sequence\\n        target = inp_seq[:n_out]\\n\\n        ## create padded sequence / seed sequence\\n        target_seq = list(reversed(target))\\n        seed_seq = [0] + target_seq[:-1]\\n\\n        # convert the elements to categorical using keras api\\n        X1.append(to_categorical([inp_seq], num_classes=n_unique))\\n        X2.append(to_categorical([seed_seq], num_classes=n_unique))\\n        y.append(to_categorical([target_seq], num_classes=n_unique))\\n\\n    # remove unnecessary dimention\\n    X1 = np.squeeze(np.array(X1), axis=1)\\n    X2 = np.squeeze(np.array(X2), axis=1)\\n    y = np.squeeze(np.array(y), axis=1)\\n    return X1, X2, y\\n\\n\\nsamples = 100000\\nfeatures = 51\\ninp_size = 6\\nout_size = 3\\n\\ninputs, seeds, outputs = dataset_preparation(inp_size, out_size, features, samples)\\nprint(\\\"Shapes: \\\", inputs.shape, seeds.shape, outputs.shape)\\nprint(\\n    \\\"Here is first categorically encoded input sequence looks like: \\\",\\n)\\ninputs.shape\";\n",
       "                var nbb_formatted_code = \"def dataset_preparation(n_in, n_out, n_unique, n_samples):\\n    X1, X2, y = [], [], []\\n    for _ in range(n_samples):\\n        ## create random numbers sequence - input\\n        inp_seq = [randint(1, n_unique - 1) for _ in range(n_in)]\\n\\n        ## create target sequence\\n        target = inp_seq[:n_out]\\n\\n        ## create padded sequence / seed sequence\\n        target_seq = list(reversed(target))\\n        seed_seq = [0] + target_seq[:-1]\\n\\n        # convert the elements to categorical using keras api\\n        X1.append(to_categorical([inp_seq], num_classes=n_unique))\\n        X2.append(to_categorical([seed_seq], num_classes=n_unique))\\n        y.append(to_categorical([target_seq], num_classes=n_unique))\\n\\n    # remove unnecessary dimention\\n    X1 = np.squeeze(np.array(X1), axis=1)\\n    X2 = np.squeeze(np.array(X2), axis=1)\\n    y = np.squeeze(np.array(y), axis=1)\\n    return X1, X2, y\\n\\n\\nsamples = 100000\\nfeatures = 51\\ninp_size = 6\\nout_size = 3\\n\\ninputs, seeds, outputs = dataset_preparation(inp_size, out_size, features, samples)\\nprint(\\\"Shapes: \\\", inputs.shape, seeds.shape, outputs.shape)\\nprint(\\n    \\\"Here is first categorically encoded input sequence looks like: \\\",\\n)\\ninputs.shape\";\n",
       "                var nbb_cells = Jupyter.notebook.get_cells();\n",
       "                for (var i = 0; i < nbb_cells.length; ++i) {\n",
       "                    if (nbb_cells[i].input_prompt_number == nbb_cell_id) {\n",
       "                        if (nbb_cells[i].get_text() == nbb_unformatted_code) {\n",
       "                             nbb_cells[i].set_text(nbb_formatted_code);\n",
       "                        }\n",
       "                        break;\n",
       "                    }\n",
       "                }\n",
       "            }, 500);\n",
       "            "
      ],
      "text/plain": [
       "<IPython.core.display.Javascript object>"
      ]
     },
     "metadata": {},
     "output_type": "display_data"
    }
   ],
   "source": [
    "def dataset_preparation(n_in, n_out, n_unique, n_samples):\n",
    "    X1, X2, y = [], [], []\n",
    "    for _ in range(n_samples):\n",
    "        ## create random numbers sequence - input\n",
    "        inp_seq = [randint(1, n_unique - 1) for _ in range(n_in)]\n",
    "\n",
    "        ## create target sequence\n",
    "        target = inp_seq[:n_out]\n",
    "\n",
    "        ## create padded sequence / seed sequence\n",
    "        target_seq = list(reversed(target))\n",
    "        seed_seq = [0] + target_seq[:-1]\n",
    "\n",
    "        # convert the elements to categorical using keras api\n",
    "        X1.append(to_categorical([inp_seq], num_classes=n_unique))\n",
    "        X2.append(to_categorical([seed_seq], num_classes=n_unique))\n",
    "        y.append(to_categorical([target_seq], num_classes=n_unique))\n",
    "\n",
    "    # remove unnecessary dimention\n",
    "    X1 = np.squeeze(np.array(X1), axis=1)\n",
    "    X2 = np.squeeze(np.array(X2), axis=1)\n",
    "    y = np.squeeze(np.array(y), axis=1)\n",
    "    return X1, X2, y\n",
    "\n",
    "\n",
    "samples = 100000\n",
    "features = 51\n",
    "inp_size = 6\n",
    "out_size = 3\n",
    "\n",
    "inputs, seeds, outputs = dataset_preparation(inp_size, out_size, features, samples)\n",
    "print(\"Shapes: \", inputs.shape, seeds.shape, outputs.shape)\n",
    "print(\n",
    "    \"Here is first categorically encoded input sequence looks like: \",\n",
    ")\n",
    "inputs.shape"
   ]
  },
  {
   "cell_type": "code",
   "execution_count": 16,
   "id": "7141f316",
   "metadata": {},
   "outputs": [
    {
     "data": {
      "application/javascript": [
       "\n",
       "            setTimeout(function() {\n",
       "                var nbb_cell_id = 16;\n",
       "                var nbb_unformatted_code = \"def define_models(n_input, n_output):\\n    ## define the encoder architecture\\n    ## input : sequence\\n    ## output : encoder states\\n    encoder_inputs = Input(shape=(None, n_input))\\n    encoder = LSTM(128, return_state=True)\\n    encoder_outputs, state_h, state_c = encoder(encoder_inputs)\\n    encoder_states = [state_h, state_c]\\n\\n    ## define the encoder-decoder architecture\\n    ## input : a seed sequence\\n    ## output : decoder states, decoded output\\n    decoder_inputs = Input(shape=(None, n_output))\\n    decoder_lstm = LSTM(128, return_sequences=True, return_state=True)\\n    decoder_outputs, _, _ = decoder_lstm(decoder_inputs, initial_state=encoder_states)\\n    decoder_dense = Dense(n_output, activation=\\\"softmax\\\")\\n    decoder_outputs = decoder_dense(decoder_outputs)\\n    model = Model([encoder_inputs, decoder_inputs], decoder_outputs)\\n\\n    ## define the decoder model\\n    ## input : current states + encoded sequence\\n    ## output : decoded sequence\\n    encoder_model = Model(encoder_inputs, encoder_states)\\n    decoder_state_input_h = Input(shape=(128,))\\n    decoder_state_input_c = Input(shape=(128,))\\n    decoder_states_inputs = [decoder_state_input_h, decoder_state_input_c]\\n    decoder_outputs, state_h, state_c = decoder_lstm(\\n        decoder_inputs, initial_state=decoder_states_inputs\\n    )\\n    decoder_states = [state_h, state_c]\\n    decoder_outputs = decoder_dense(decoder_outputs)\\n    decoder_model = Model(\\n        [decoder_inputs] + decoder_states_inputs, [decoder_outputs] + decoder_states\\n    )\\n\\n    return model, encoder_model, decoder_model\\n\\n\\nautoencoder, encoder_model, decoder_model = define_models(features, features)\";\n",
       "                var nbb_formatted_code = \"def define_models(n_input, n_output):\\n    ## define the encoder architecture\\n    ## input : sequence\\n    ## output : encoder states\\n    encoder_inputs = Input(shape=(None, n_input))\\n    encoder = LSTM(128, return_state=True)\\n    encoder_outputs, state_h, state_c = encoder(encoder_inputs)\\n    encoder_states = [state_h, state_c]\\n\\n    ## define the encoder-decoder architecture\\n    ## input : a seed sequence\\n    ## output : decoder states, decoded output\\n    decoder_inputs = Input(shape=(None, n_output))\\n    decoder_lstm = LSTM(128, return_sequences=True, return_state=True)\\n    decoder_outputs, _, _ = decoder_lstm(decoder_inputs, initial_state=encoder_states)\\n    decoder_dense = Dense(n_output, activation=\\\"softmax\\\")\\n    decoder_outputs = decoder_dense(decoder_outputs)\\n    model = Model([encoder_inputs, decoder_inputs], decoder_outputs)\\n\\n    ## define the decoder model\\n    ## input : current states + encoded sequence\\n    ## output : decoded sequence\\n    encoder_model = Model(encoder_inputs, encoder_states)\\n    decoder_state_input_h = Input(shape=(128,))\\n    decoder_state_input_c = Input(shape=(128,))\\n    decoder_states_inputs = [decoder_state_input_h, decoder_state_input_c]\\n    decoder_outputs, state_h, state_c = decoder_lstm(\\n        decoder_inputs, initial_state=decoder_states_inputs\\n    )\\n    decoder_states = [state_h, state_c]\\n    decoder_outputs = decoder_dense(decoder_outputs)\\n    decoder_model = Model(\\n        [decoder_inputs] + decoder_states_inputs, [decoder_outputs] + decoder_states\\n    )\\n\\n    return model, encoder_model, decoder_model\\n\\n\\nautoencoder, encoder_model, decoder_model = define_models(features, features)\";\n",
       "                var nbb_cells = Jupyter.notebook.get_cells();\n",
       "                for (var i = 0; i < nbb_cells.length; ++i) {\n",
       "                    if (nbb_cells[i].input_prompt_number == nbb_cell_id) {\n",
       "                        if (nbb_cells[i].get_text() == nbb_unformatted_code) {\n",
       "                             nbb_cells[i].set_text(nbb_formatted_code);\n",
       "                        }\n",
       "                        break;\n",
       "                    }\n",
       "                }\n",
       "            }, 500);\n",
       "            "
      ],
      "text/plain": [
       "<IPython.core.display.Javascript object>"
      ]
     },
     "metadata": {},
     "output_type": "display_data"
    }
   ],
   "source": [
    "def define_models(n_input, n_output):\n",
    "    ## define the encoder architecture\n",
    "    ## input : sequence\n",
    "    ## output : encoder states\n",
    "    encoder_inputs = Input(shape=(None, n_input))\n",
    "    encoder = LSTM(128, return_state=True)\n",
    "    encoder_outputs, state_h, state_c = encoder(encoder_inputs)\n",
    "    encoder_states = [state_h, state_c]\n",
    "\n",
    "    ## define the encoder-decoder architecture\n",
    "    ## input : a seed sequence\n",
    "    ## output : decoder states, decoded output\n",
    "    decoder_inputs = Input(shape=(None, n_output))\n",
    "    decoder_lstm = LSTM(128, return_sequences=True, return_state=True)\n",
    "    decoder_outputs, _, _ = decoder_lstm(decoder_inputs, initial_state=encoder_states)\n",
    "    decoder_dense = Dense(n_output, activation=\"softmax\")\n",
    "    decoder_outputs = decoder_dense(decoder_outputs)\n",
    "    model = Model([encoder_inputs, decoder_inputs], decoder_outputs)\n",
    "\n",
    "    ## define the decoder model\n",
    "    ## input : current states + encoded sequence\n",
    "    ## output : decoded sequence\n",
    "    encoder_model = Model(encoder_inputs, encoder_states)\n",
    "    decoder_state_input_h = Input(shape=(128,))\n",
    "    decoder_state_input_c = Input(shape=(128,))\n",
    "    decoder_states_inputs = [decoder_state_input_h, decoder_state_input_c]\n",
    "    decoder_outputs, state_h, state_c = decoder_lstm(\n",
    "        decoder_inputs, initial_state=decoder_states_inputs\n",
    "    )\n",
    "    decoder_states = [state_h, state_c]\n",
    "    decoder_outputs = decoder_dense(decoder_outputs)\n",
    "    decoder_model = Model(\n",
    "        [decoder_inputs] + decoder_states_inputs, [decoder_outputs] + decoder_states\n",
    "    )\n",
    "\n",
    "    return model, encoder_model, decoder_model\n",
    "\n",
    "\n",
    "autoencoder, encoder_model, decoder_model = define_models(features, features)"
   ]
  },
  {
   "cell_type": "code",
   "execution_count": 17,
   "id": "d5f77d1d",
   "metadata": {},
   "outputs": [
    {
     "name": "stdout",
     "output_type": "stream",
     "text": [
      "Model: \"model_4\"\n",
      "_________________________________________________________________\n",
      " Layer (type)                Output Shape              Param #   \n",
      "=================================================================\n",
      " input_6 (InputLayer)        [(None, None, 51)]        0         \n",
      "                                                                 \n",
      " lstm_2 (LSTM)               [(None, 128),             92160     \n",
      "                              (None, 128),                       \n",
      "                              (None, 128)]                       \n",
      "                                                                 \n",
      "=================================================================\n",
      "Total params: 92,160\n",
      "Trainable params: 92,160\n",
      "Non-trainable params: 0\n",
      "_________________________________________________________________\n"
     ]
    },
    {
     "data": {
      "application/javascript": [
       "\n",
       "            setTimeout(function() {\n",
       "                var nbb_cell_id = 17;\n",
       "                var nbb_unformatted_code = \"encoder_model.summary()\";\n",
       "                var nbb_formatted_code = \"encoder_model.summary()\";\n",
       "                var nbb_cells = Jupyter.notebook.get_cells();\n",
       "                for (var i = 0; i < nbb_cells.length; ++i) {\n",
       "                    if (nbb_cells[i].input_prompt_number == nbb_cell_id) {\n",
       "                        if (nbb_cells[i].get_text() == nbb_unformatted_code) {\n",
       "                             nbb_cells[i].set_text(nbb_formatted_code);\n",
       "                        }\n",
       "                        break;\n",
       "                    }\n",
       "                }\n",
       "            }, 500);\n",
       "            "
      ],
      "text/plain": [
       "<IPython.core.display.Javascript object>"
      ]
     },
     "metadata": {},
     "output_type": "display_data"
    }
   ],
   "source": [
    "encoder_model.summary()\n"
   ]
  },
  {
   "cell_type": "code",
   "execution_count": 18,
   "id": "259cc207",
   "metadata": {},
   "outputs": [
    {
     "ename": "SyntaxError",
     "evalue": "invalid syntax (Temp/ipykernel_4264/816618096.py, line 18)",
     "output_type": "error",
     "traceback": [
      "\u001b[1;36m  File \u001b[1;32m\"C:\\Users\\psraj\\AppData\\Local\\Temp/ipykernel_4264/816618096.py\"\u001b[1;36m, line \u001b[1;32m18\u001b[0m\n\u001b[1;33m    except RuntimeError as e:\u001b[0m\n\u001b[1;37m    ^\u001b[0m\n\u001b[1;31mSyntaxError\u001b[0m\u001b[1;31m:\u001b[0m invalid syntax\n"
     ]
    },
    {
     "name": "stderr",
     "output_type": "stream",
     "text": [
      "ERROR:root:Cannot parse: 18:4:     except RuntimeError as e:\n",
      "Traceback (most recent call last):\n",
      "  File \"c:\\users\\psraj\\appdata\\local\\programs\\python\\python38\\lib\\site-packages\\lab_black.py\", line 218, in format_cell\n",
      "    formatted_code = _format_code(cell)\n",
      "  File \"c:\\users\\psraj\\appdata\\local\\programs\\python\\python38\\lib\\site-packages\\lab_black.py\", line 29, in _format_code\n",
      "    return format_str(src_contents=code, mode=FileMode())\n",
      "  File \"src\\black\\__init__.py\", line 1131, in format_str\n",
      "  File \"src\\black\\__init__.py\", line 1141, in _format_str_once\n",
      "  File \"src\\black\\parsing.py\", line 128, in lib2to3_parse\n",
      "black.parsing.InvalidInput: Cannot parse: 18:4:     except RuntimeError as e:\n"
     ]
    }
   ],
   "source": [
    "import keras\n",
    "# print(\"Runnning Jupyter Notebook using python version: {}\".format(()))\n",
    "print(\"Running tensorflow version: {}\".format(tf.keras.__version__))\n",
    "print(\"Running tensorflow.keras version: {}\".format(tf.__version__))\n",
    "print(\"Running keras version: {}\".format(keras.__version__))\n",
    "print(\"Num GPUs Available: \", len(tf.config.experimental.list_physical_devices('GPU')))\n",
    "tf.config.experimental.list_physical_devices('GPU')\n",
    "\n",
    "gpus = tf.config.experimental.list_physical_devices('GPU')\n",
    "if gpus:\n",
    "  # Restrict TensorFlow to only allocate 2GB of memory on the first GPU\n",
    "  try:\n",
    "    tf.config.experimental.set_virtual_device_configuration(\n",
    "        gpus[0],\n",
    "        [tf.config.experimental.VirtualDeviceConfiguration(memory_limit=2048)])\n",
    "    logical_gpus = tf.config.experimental.list_logical_devices('GPU')\n",
    "    print(len(gpus), \"Physical GPUs,\", len(logical_gpus), \"Logical GPUs\")\n",
    "    except RuntimeError as e:\n",
    "    # Virtual devices must be set before GPUs have been initialized\n",
    "    print(e)"
   ]
  },
  {
   "cell_type": "code",
   "execution_count": null,
   "id": "62fdb610",
   "metadata": {},
   "outputs": [],
   "source": []
  }
 ],
 "metadata": {
  "kernelspec": {
   "display_name": "Python 3 (ipykernel)",
   "language": "python",
   "name": "python3"
  },
  "language_info": {
   "codemirror_mode": {
    "name": "ipython",
    "version": 3
   },
   "file_extension": ".py",
   "mimetype": "text/x-python",
   "name": "python",
   "nbconvert_exporter": "python",
   "pygments_lexer": "ipython3",
   "version": "3.8.0"
  }
 },
 "nbformat": 4,
 "nbformat_minor": 5
}
