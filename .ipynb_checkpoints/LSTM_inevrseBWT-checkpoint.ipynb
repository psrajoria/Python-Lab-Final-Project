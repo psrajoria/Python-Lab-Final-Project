{
 "cells": [
  {
   "cell_type": "code",
   "execution_count": 1,
   "id": "09e07c07",
   "metadata": {},
   "outputs": [],
   "source": [
    "import numpy as np\n",
    "import pandas as pd\n",
    "import matplotlib.pyplot as plt\n",
    "import tensorflow as tf\n",
    "from sklearn.model_selection import train_test_split\n",
    "from keras.preprocessing.text import one_hot\n",
    "from keras_preprocessing.sequence import pad_sequences\n",
    "from keras.models import Sequential\n",
    "from keras.layers import Embedding, LSTM, Dense, Dropout\n",
    "\n",
    "gpus = tf.config.list_physical_devices('GPU')\n",
    "if gpus:\n",
    "  # Create 2 virtual GPUs with 1GB memory each\n",
    "  try:\n",
    "    tf.config.set_logical_device_configuration(\n",
    "        gpus[0],\n",
    "        [tf.config.LogicalDeviceConfiguration(memory_limit=1024),\n",
    "         tf.config.LogicalDeviceConfiguration(memory_limit=1024)])\n",
    "    logical_gpus = tf.config.list_logical_devices('GPU')\n",
    "    print(len(gpus), \"Physical GPU,\", len(logical_gpus), \"Logical GPUs\")\n",
    "  except RuntimeError as e:\n",
    "    # Virtual devices must be set before GPUs have been initialized\n",
    "    print(e)"
   ]
  },
  {
   "cell_type": "code",
   "execution_count": 2,
   "id": "ac1c5f0e",
   "metadata": {},
   "outputs": [
    {
     "data": {
      "text/html": [
       "<div>\n",
       "<style scoped>\n",
       "    .dataframe tbody tr th:only-of-type {\n",
       "        vertical-align: middle;\n",
       "    }\n",
       "\n",
       "    .dataframe tbody tr th {\n",
       "        vertical-align: top;\n",
       "    }\n",
       "\n",
       "    .dataframe thead th {\n",
       "        text-align: right;\n",
       "    }\n",
       "</style>\n",
       "<table border=\"1\" class=\"dataframe\">\n",
       "  <thead>\n",
       "    <tr style=\"text-align: right;\">\n",
       "      <th></th>\n",
       "      <th>String</th>\n",
       "      <th>BWT_string</th>\n",
       "    </tr>\n",
       "  </thead>\n",
       "  <tbody>\n",
       "    <tr>\n",
       "      <th>0</th>\n",
       "      <td>OTITBO</td>\n",
       "      <td>OTTB$IO</td>\n",
       "    </tr>\n",
       "    <tr>\n",
       "      <th>1</th>\n",
       "      <td>BNIUMP</td>\n",
       "      <td>P$NUBMI</td>\n",
       "    </tr>\n",
       "    <tr>\n",
       "      <th>2</th>\n",
       "      <td>AKSFAQZU</td>\n",
       "      <td>U$FSAAKZQ</td>\n",
       "    </tr>\n",
       "    <tr>\n",
       "      <th>3</th>\n",
       "      <td>GEDAKX</td>\n",
       "      <td>XDEG$AK</td>\n",
       "    </tr>\n",
       "    <tr>\n",
       "      <th>4</th>\n",
       "      <td>BJFVWZA</td>\n",
       "      <td>AZ$JBFVW</td>\n",
       "    </tr>\n",
       "    <tr>\n",
       "      <th>...</th>\n",
       "      <td>...</td>\n",
       "      <td>...</td>\n",
       "    </tr>\n",
       "    <tr>\n",
       "      <th>99995</th>\n",
       "      <td>PZEKZJA</td>\n",
       "      <td>AJZZE$PK</td>\n",
       "    </tr>\n",
       "    <tr>\n",
       "      <th>99996</th>\n",
       "      <td>EWWWRCLH</td>\n",
       "      <td>HR$LCWWWE</td>\n",
       "    </tr>\n",
       "    <tr>\n",
       "      <th>99997</th>\n",
       "      <td>ZSDPDT</td>\n",
       "      <td>TSPDZD$</td>\n",
       "    </tr>\n",
       "    <tr>\n",
       "      <th>99998</th>\n",
       "      <td>ZBRBBVIE</td>\n",
       "      <td>ERZBIVBB$</td>\n",
       "    </tr>\n",
       "    <tr>\n",
       "      <th>99999</th>\n",
       "      <td>YRWEBTMM</td>\n",
       "      <td>MEWMTYBR$</td>\n",
       "    </tr>\n",
       "  </tbody>\n",
       "</table>\n",
       "<p>99998 rows × 2 columns</p>\n",
       "</div>"
      ],
      "text/plain": [
       "         String BWT_string\n",
       "0        OTITBO    OTTB$IO\n",
       "1        BNIUMP    P$NUBMI\n",
       "2      AKSFAQZU  U$FSAAKZQ\n",
       "3        GEDAKX    XDEG$AK\n",
       "4       BJFVWZA   AZ$JBFVW\n",
       "...         ...        ...\n",
       "99995   PZEKZJA   AJZZE$PK\n",
       "99996  EWWWRCLH  HR$LCWWWE\n",
       "99997    ZSDPDT    TSPDZD$\n",
       "99998  ZBRBBVIE  ERZBIVBB$\n",
       "99999  YRWEBTMM  MEWMTYBR$\n",
       "\n",
       "[99998 rows x 2 columns]"
      ]
     },
     "execution_count": 2,
     "metadata": {},
     "output_type": "execute_result"
    }
   ],
   "source": [
    "df = pd.read_csv('dataset.csv')\n",
    "df = df.drop_duplicates()\n",
    "df"
   ]
  },
  {
   "cell_type": "code",
   "execution_count": 3,
   "id": "338e6311",
   "metadata": {},
   "outputs": [],
   "source": [
    "X = df['String']\n",
    "y = df['BWT_string']"
   ]
  },
  {
   "cell_type": "code",
   "execution_count": 4,
   "id": "ff5445da",
   "metadata": {},
   "outputs": [],
   "source": [
    "vocab_size = 10000\n",
    "encoded_X = [ one_hot(d, vocab_size) for d in X]\n",
    "encoded_y = [ one_hot(d, vocab_size) for d in y]"
   ]
  },
  {
   "cell_type": "code",
   "execution_count": 5,
   "id": "9790cb93",
   "metadata": {},
   "outputs": [
    {
     "data": {
      "text/plain": [
       "99998"
      ]
     },
     "execution_count": 5,
     "metadata": {},
     "output_type": "execute_result"
    }
   ],
   "source": [
    "len(encoded_y)"
   ]
  },
  {
   "cell_type": "code",
   "execution_count": 6,
   "id": "ecf4db77",
   "metadata": {},
   "outputs": [],
   "source": [
    "embedding_length = 5\n",
    "max_len = 5\n",
    "padded_X = pad_sequences(encoded_X, truncating='post', padding='post', maxlen=max_len)\n",
    "padded_y = pad_sequences(encoded_y, truncating='post', padding='post', maxlen=max_len)"
   ]
  },
  {
   "cell_type": "code",
   "execution_count": 7,
   "id": "a7305e89",
   "metadata": {},
   "outputs": [
    {
     "data": {
      "text/plain": [
       "(99998, 5)"
      ]
     },
     "execution_count": 7,
     "metadata": {},
     "output_type": "execute_result"
    }
   ],
   "source": [
    "padded_y.shape"
   ]
  },
  {
   "cell_type": "code",
   "execution_count": 8,
   "id": "1880218b",
   "metadata": {},
   "outputs": [],
   "source": [
    "X_train,X_test,y_train,y_test = train_test_split(padded_X, padded_y, test_size = 0.2, random_state =4)"
   ]
  },
  {
   "cell_type": "code",
   "execution_count": 9,
   "id": "a4316ee5",
   "metadata": {},
   "outputs": [
    {
     "name": "stdout",
     "output_type": "stream",
     "text": [
      "Model: \"sequential\"\n",
      "_________________________________________________________________\n",
      " Layer (type)                Output Shape              Param #   \n",
      "=================================================================\n",
      " embedding (Embedding)       (None, 5, 5)              50000     \n",
      "                                                                 \n",
      " lstm (LSTM)                 (None, 5, 1000)           4024000   \n",
      "                                                                 \n",
      " dropout (Dropout)           (None, 5, 1000)           0         \n",
      "                                                                 \n",
      " lstm_1 (LSTM)               (None, 100)               440400    \n",
      "                                                                 \n",
      " dense (Dense)               (None, 10)                1010      \n",
      "                                                                 \n",
      " dropout_1 (Dropout)         (None, 10)                0         \n",
      "                                                                 \n",
      " dense_1 (Dense)             (None, 5)                 55        \n",
      "                                                                 \n",
      "=================================================================\n",
      "Total params: 4,515,465\n",
      "Trainable params: 4,515,465\n",
      "Non-trainable params: 0\n",
      "_________________________________________________________________\n"
     ]
    }
   ],
   "source": [
    "model = Sequential()\n",
    "model.add(Embedding(vocab_size, embedding_length, input_length=max_len))\n",
    "\n",
    "model.add(LSTM((1000),batch_input_shape=(1000, None, 5), return_sequences=True))\n",
    "model.add(Dropout(0.2))\n",
    "\n",
    "model.add(LSTM(100))\n",
    "model.add(Dense(10, activation='softmax'))\n",
    "model.add(Dropout(0.2))\n",
    "\n",
    "#model.add(LSTM((5), activation='softmax', return_sequences=False))\n",
    "#Adding the output layer\n",
    "model.add(Dense(5, activation='softmax'))\n",
    "\n",
    "model.compile(loss='mean_absolute_error',\n",
    "#              optimizer=tf.keras.optimizers.Adam(learning_rate=0.001, decay=1e-6),\n",
    "              optimizer='adam',\n",
    "              metrics=['accuracy'])\n",
    "\n",
    "model.summary()\n",
    "\n",
    "#output = model.predict(X_train)\n",
    "#print(output.shape)\n",
    "#print(output)"
   ]
  },
  {
   "cell_type": "code",
   "execution_count": null,
   "id": "110d4e7c",
   "metadata": {},
   "outputs": [
    {
     "name": "stdout",
     "output_type": "stream",
     "text": [
      "Epoch 1/3\n",
      "2500/2500 [==============================] - 297s 117ms/step - loss: 1852.3184 - accuracy: 0.5811 - val_loss: 1842.1392 - val_accuracy: 0.5824\n",
      "Epoch 2/3\n",
      "1591/2500 [==================>...........] - ETA: 1:38 - loss: 1857.2976 - accuracy: 0.5834"
     ]
    }
   ],
   "source": [
    "history = model.fit(X_train, y_train, epochs=3, validation_data=(X_test,y_test))"
   ]
  },
  {
   "cell_type": "code",
   "execution_count": null,
   "id": "9fd59c06",
   "metadata": {},
   "outputs": [],
   "source": [
    "results = model.predict(X_test)\n",
    "results"
   ]
  },
  {
   "cell_type": "code",
   "execution_count": null,
   "id": "c76b76f0",
   "metadata": {},
   "outputs": [],
   "source": [
    "test_loss, test_acc = model.evaluate(X_test, y_test)\n",
    "print('Test Loss: {}'.format(test_loss))\n",
    "print('Test Accuracy: {}'.format(test_acc))"
   ]
  },
  {
   "cell_type": "code",
   "execution_count": null,
   "id": "a0d42326",
   "metadata": {},
   "outputs": [],
   "source": [
    "plt.plot(history.history['loss'])\n",
    "plt.show"
   ]
  },
  {
   "cell_type": "code",
   "execution_count": null,
   "id": "9a57b1f7",
   "metadata": {},
   "outputs": [],
   "source": []
  }
 ],
 "metadata": {
  "kernelspec": {
   "display_name": "Python 3 (ipykernel)",
   "language": "python",
   "name": "python3"
  },
  "language_info": {
   "codemirror_mode": {
    "name": "ipython",
    "version": 3
   },
   "file_extension": ".py",
   "mimetype": "text/x-python",
   "name": "python",
   "nbconvert_exporter": "python",
   "pygments_lexer": "ipython3",
   "version": "3.8.0"
  }
 },
 "nbformat": 4,
 "nbformat_minor": 5
}
