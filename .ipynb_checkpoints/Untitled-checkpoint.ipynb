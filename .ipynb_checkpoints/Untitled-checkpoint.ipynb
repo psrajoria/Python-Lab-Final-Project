{
 "cells": [
  {
   "cell_type": "code",
   "execution_count": 68,
   "id": "03540578",
   "metadata": {},
   "outputs": [],
   "source": [
    "import numpy as np"
   ]
  },
  {
   "cell_type": "code",
   "execution_count": 69,
   "id": "64bb6334",
   "metadata": {},
   "outputs": [],
   "source": [
    "T = 'AGTGCCATG'    "
   ]
  },
  {
   "cell_type": "code",
   "execution_count": 70,
   "id": "d7ed4034",
   "metadata": {},
   "outputs": [
    {
     "data": {
      "text/plain": [
       "'AGTGCCATG$'"
      ]
     },
     "execution_count": 70,
     "metadata": {},
     "output_type": "execute_result"
    }
   ],
   "source": [
    "# append '$' to T\n",
    "T = T + '$'\n",
    "T"
   ]
  },
  {
   "cell_type": "code",
   "execution_count": 71,
   "id": "7ceebe5a",
   "metadata": {},
   "outputs": [],
   "source": [
    "# rotate the string.\n",
    "def printRotatedString(string) :\n",
    "    \n",
    "    rotated_list = []\n",
    "    n = len(string)\n",
    " \n",
    "    # Concatenate str with itself\n",
    "    temp = string + string\n",
    " \n",
    "    # Print all substrings of size n.\n",
    "    # Note that size of temp is 2n\n",
    "    for i in range(n) :\n",
    "        rotated_word = '' \n",
    "        for j in range(n) :\n",
    "            rotated_word = rotated_word + temp[i + j]\n",
    "        rotated_list.append(rotated_word)\n",
    "    \n",
    "    return rotated_list         "
   ]
  },
  {
   "cell_type": "code",
   "execution_count": 72,
   "id": "20f8a7d1",
   "metadata": {},
   "outputs": [
    {
     "data": {
      "text/plain": [
       "['AGTGCCATG$',\n",
       " 'GTGCCATG$A',\n",
       " 'TGCCATG$AG',\n",
       " 'GCCATG$AGT',\n",
       " 'CCATG$AGTG',\n",
       " 'CATG$AGTGC',\n",
       " 'ATG$AGTGCC',\n",
       " 'TG$AGTGCCA',\n",
       " 'G$AGTGCCAT',\n",
       " '$AGTGCCATG']"
      ]
     },
     "execution_count": 72,
     "metadata": {},
     "output_type": "execute_result"
    }
   ],
   "source": [
    "#rotated_list = list(reversed(printRotatedString(T)))\n",
    "rotated_list = printRotatedString(T)\n",
    "rotated_list"
   ]
  },
  {
   "cell_type": "code",
   "execution_count": 73,
   "id": "01500e64",
   "metadata": {},
   "outputs": [],
   "source": [
    "# to enumerate the list\n",
    "def enumerating(rotated_list):\n",
    "    enumerate_list = list( enumerate(rotated_list) )\n",
    "    return enumerate_list"
   ]
  },
  {
   "cell_type": "code",
   "execution_count": 74,
   "id": "e5a2f9b2",
   "metadata": {},
   "outputs": [
    {
     "data": {
      "text/plain": [
       "[(0, 'AGTGCCATG$'),\n",
       " (1, 'GTGCCATG$A'),\n",
       " (2, 'TGCCATG$AG'),\n",
       " (3, 'GCCATG$AGT'),\n",
       " (4, 'CCATG$AGTG'),\n",
       " (5, 'CATG$AGTGC'),\n",
       " (6, 'ATG$AGTGCC'),\n",
       " (7, 'TG$AGTGCCA'),\n",
       " (8, 'G$AGTGCCAT'),\n",
       " (9, '$AGTGCCATG')]"
      ]
     },
     "execution_count": 74,
     "metadata": {},
     "output_type": "execute_result"
    }
   ],
   "source": [
    "enumerate_list = enumerating(rotated_list)\n",
    "enumerate_list"
   ]
  },
  {
   "cell_type": "code",
   "execution_count": 75,
   "id": "8ccd0360",
   "metadata": {},
   "outputs": [
    {
     "data": {
      "text/plain": [
       "[(9, '$AGTGCCATG'),\n",
       " (0, 'AGTGCCATG$'),\n",
       " (6, 'ATG$AGTGCC'),\n",
       " (5, 'CATG$AGTGC'),\n",
       " (4, 'CCATG$AGTG'),\n",
       " (8, 'G$AGTGCCAT'),\n",
       " (3, 'GCCATG$AGT'),\n",
       " (1, 'GTGCCATG$A'),\n",
       " (7, 'TG$AGTGCCA'),\n",
       " (2, 'TGCCATG$AG')]"
      ]
     },
     "execution_count": 75,
     "metadata": {},
     "output_type": "execute_result"
    }
   ],
   "source": [
    "# sort the list in lexicographically order\n",
    "enumerate_list.sort(key = lambda x: x[1])\n",
    "enumerate_list"
   ]
  },
  {
   "cell_type": "code",
   "execution_count": 76,
   "id": "8900eb7b",
   "metadata": {},
   "outputs": [],
   "source": [
    "# generating Burrows-Wheeler Transform\n",
    "def BWT(enumerated_list):\n",
    "    BWT_T = ''\n",
    "    for i in enumerated_list:\n",
    "        BWT_T = BWT_T + i[1][-1]\n",
    "    return BWT_T"
   ]
  },
  {
   "cell_type": "code",
   "execution_count": 77,
   "id": "d329735d",
   "metadata": {},
   "outputs": [
    {
     "data": {
      "text/plain": [
       "'G$CCGTTAAG'"
      ]
     },
     "execution_count": 77,
     "metadata": {},
     "output_type": "execute_result"
    }
   ],
   "source": [
    "BWT_T = BWT(enumerate_list)\n",
    "BWT_T"
   ]
  },
  {
   "cell_type": "code",
   "execution_count": 79,
   "id": "b55eb59d",
   "metadata": {},
   "outputs": [],
   "source": [
    "# sorting Burrows-Wheeler Transform string\n",
    "def sortingBWT(BWT_T):\n",
    "    sorted_BWT_T = ''.join(sorted(BWT_T))\n",
    "    return sorted_BWT_T"
   ]
  },
  {
   "cell_type": "code",
   "execution_count": 82,
   "id": "25316c09",
   "metadata": {},
   "outputs": [
    {
     "data": {
      "text/plain": [
       "'$AACCGGGTT'"
      ]
     },
     "execution_count": 82,
     "metadata": {},
     "output_type": "execute_result"
    }
   ],
   "source": [
    "sorted_BWT_T = sortingBWT(BWT_T)\n",
    "sorted_BWT_T"
   ]
  },
  {
   "cell_type": "code",
   "execution_count": null,
   "id": "56063804",
   "metadata": {},
   "outputs": [],
   "source": [
    "i = 0\n",
    "ele_BWT = BWT_T[0]\n",
    "enu_BWT_T = list( enumerate(BWT_T) )\n",
    "enu_srt_BWT_T = list( enumerate(sorted_BWT_T) )\n",
    "while i < len(BWT_T):\n",
    "    "
   ]
  },
  {
   "cell_type": "code",
   "execution_count": null,
   "id": "61d645a2",
   "metadata": {},
   "outputs": [],
   "source": [
    "def inverse_BWT(BWT_T):\n",
    "    Burrows-Wheeler Transform"
   ]
  }
 ],
 "metadata": {
  "kernelspec": {
   "display_name": "Python 3 (ipykernel)",
   "language": "python",
   "name": "python3"
  },
  "language_info": {
   "codemirror_mode": {
    "name": "ipython",
    "version": 3
   },
   "file_extension": ".py",
   "mimetype": "text/x-python",
   "name": "python",
   "nbconvert_exporter": "python",
   "pygments_lexer": "ipython3",
   "version": "3.8.0"
  }
 },
 "nbformat": 4,
 "nbformat_minor": 5
}
