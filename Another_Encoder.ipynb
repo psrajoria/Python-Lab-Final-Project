{
 "cells": [
  {
   "cell_type": "code",
   "execution_count": null,
   "id": "95f803e7",
   "metadata": {},
   "outputs": [],
   "source": [
    "%load_ext nb_black"
   ]
  },
  {
   "cell_type": "code",
   "execution_count": null,
   "id": "9063476e",
   "metadata": {},
   "outputs": [],
   "source": [
    "##  Generate Data\n",
    "\n",
    "\n",
    "import numpy as np\n",
    "import random\n",
    "\n",
    "random.seed(42)\n",
    "\n",
    "\n",
    "def random_dna_sequence(length):\n",
    "    return \"\".join(random.choice(\"ACTG\") for _ in range(length))\n",
    "\n",
    "\n",
    "def base_frequency(dna):\n",
    "    d = {}\n",
    "    for base in \"ATCG\":\n",
    "        d[base] = dna.count(base) / float(len(dna))\n",
    "    return d\n",
    "\n",
    "\n",
    "data = []\n",
    "for _ in range(10):\n",
    "    dna = random_dna_sequence(25)\n",
    "    data.append([dna])\n",
    "#     print(dna, base_frequency(dna))"
   ]
  },
  {
   "cell_type": "code",
   "execution_count": null,
   "id": "ccb65f7d",
   "metadata": {},
   "outputs": [],
   "source": [
    "(data)"
   ]
  },
  {
   "cell_type": "code",
   "execution_count": null,
   "id": "0fa6ec65",
   "metadata": {},
   "outputs": [],
   "source": [
    "# ##Removing New Line from list\n",
    "# list_data = []\n",
    "\n",
    "# for element in data:\n",
    "#     list_data.append(element.strip())"
   ]
  },
  {
   "cell_type": "code",
   "execution_count": null,
   "id": "ad7f60e1",
   "metadata": {},
   "outputs": [],
   "source": [
    "from sklearn.preprocessing import LabelBinarizer, OneHotEncoder"
   ]
  },
  {
   "cell_type": "code",
   "execution_count": null,
   "id": "5b72e6ce",
   "metadata": {},
   "outputs": [],
   "source": [
    "y = OneHotEncoder().fit_transform(data).toarray()\n",
    "print(y)"
   ]
  },
  {
   "cell_type": "code",
   "execution_count": null,
   "id": "fee2d597",
   "metadata": {},
   "outputs": [],
   "source": [
    "y.shape"
   ]
  },
  {
   "cell_type": "code",
   "execution_count": null,
   "id": "5d80e75d",
   "metadata": {},
   "outputs": [],
   "source": [
    "## Combining into one\n",
    "data_seq = \"\".join(list_data)"
   ]
  },
  {
   "cell_type": "code",
   "execution_count": null,
   "id": "5bc2e91b",
   "metadata": {},
   "outputs": [],
   "source": [
    "data_seq"
   ]
  },
  {
   "cell_type": "code",
   "execution_count": null,
   "id": "f1a2d192",
   "metadata": {},
   "outputs": [],
   "source": [
    "str_data = \"\".join(data_seq)"
   ]
  },
  {
   "cell_type": "code",
   "execution_count": null,
   "id": "14239179",
   "metadata": {},
   "outputs": [],
   "source": [
    "str_data"
   ]
  },
  {
   "cell_type": "code",
   "execution_count": null,
   "id": "3bc24082",
   "metadata": {},
   "outputs": [],
   "source": [
    "# from tensorflow.keras.utils import to_categorical\n",
    "# import tensorflow as tf\n",
    "\n",
    "\n",
    "# def one_hot_encoding(data):\n",
    "#     mp = dict(zip(\"ACGT\", range(4)))\n",
    "#     seq_2_number = [mp[nucleotide] for nucleotide in seq]\n",
    "#     return to_categorical(seq_2_number, num_classes=4).flatten()"
   ]
  },
  {
   "cell_type": "code",
   "execution_count": null,
   "id": "59432662",
   "metadata": {},
   "outputs": [],
   "source": [
    "# all = one_hot_encoding(data)"
   ]
  },
  {
   "cell_type": "code",
   "execution_count": null,
   "id": "a32840eb",
   "metadata": {},
   "outputs": [],
   "source": [
    "# len(all)\n"
   ]
  },
  {
   "cell_type": "code",
   "execution_count": null,
   "id": "429eecbf",
   "metadata": {},
   "outputs": [],
   "source": [
    "def Kmers_funct(seq, size):\n",
    "    return [seq[x : x + size] for x in range(len(seq) - size + 1)]\n",
    "\n",
    "\n",
    "# So let’s try it out with a simple sequence:\n",
    "mySeq = \"GTGCCCAGGTTCAGTGAGTGACACAGGCAG\"\n",
    "Kmers_funct(mySeq, size=9)"
   ]
  },
  {
   "cell_type": "code",
   "execution_count": null,
   "id": "b10b94c9",
   "metadata": {},
   "outputs": [],
   "source": [
    "len(Kmers_funct(mySeq, size=9))"
   ]
  },
  {
   "cell_type": "code",
   "execution_count": null,
   "id": "8a3343c0",
   "metadata": {},
   "outputs": [],
   "source": [
    "words = Kmers_funct(mySeq, size=9)\n",
    "joined_sentence = \" \".join(words)\n",
    "joined_sentence"
   ]
  },
  {
   "cell_type": "code",
   "execution_count": null,
   "id": "5a5a9596",
   "metadata": {},
   "outputs": [],
   "source": [
    "# Creating the Bag of Words model:\n",
    "from sklearn.feature_extraction.text import CountVectorizer\n",
    "\n",
    "cv = CountVectorizer()\n",
    "X = cv.fit_transform([joined_sentence, mySeq])\n",
    "X"
   ]
  },
  {
   "cell_type": "code",
   "execution_count": null,
   "id": "bbf6eba1",
   "metadata": {},
   "outputs": [],
   "source": [
    "list(X.toarray())"
   ]
  },
  {
   "cell_type": "code",
   "execution_count": 3,
   "id": "639e6695",
   "metadata": {},
   "outputs": [],
   "source": [
    "import random\n",
    "import numpy as np\n",
    "def random_dna_sequence(length):\n",
    "    return \"\".join(random.choice(\"ACTG\") for _ in range(length))"
   ]
  },
  {
   "cell_type": "code",
   "execution_count": 4,
   "id": "39c352cd",
   "metadata": {},
   "outputs": [],
   "source": [
    "for _ in range(100):\n",
    "    data = []\n",
    "    ## create random numbers sequence - input\n",
    "    dna = random_dna_sequence(6)\n",
    "    data.append(dna)\n",
    "    letters = [list(x) for x in data]\n",
    "    arr = np.array(letters)\n",
    "    from sklearn.preprocessing import OneHotEncoder\n",
    "\n",
    "    ohe = OneHotEncoder(categories=\"auto\", sparse=False)\n",
    "    inp_seq = ohe.fit_transform(arr)"
   ]
  },
  {
   "cell_type": "code",
   "execution_count": 7,
   "id": "73145693",
   "metadata": {},
   "outputs": [
    {
     "data": {
      "text/plain": [
       "array([[1., 1., 1., 1., 1., 1.]])"
      ]
     },
     "execution_count": 7,
     "metadata": {},
     "output_type": "execute_result"
    }
   ],
   "source": [
    "inp_seq"
   ]
  },
  {
   "cell_type": "code",
   "execution_count": 8,
   "id": "7411d682",
   "metadata": {},
   "outputs": [
    {
     "data": {
      "text/plain": [
       "['AAATCT']"
      ]
     },
     "execution_count": 8,
     "metadata": {},
     "output_type": "execute_result"
    }
   ],
   "source": [
    "data"
   ]
  },
  {
   "cell_type": "code",
   "execution_count": null,
   "id": "601f30cd",
   "metadata": {},
   "outputs": [],
   "source": []
  }
 ],
 "metadata": {
  "kernelspec": {
   "display_name": "Python 3 (ipykernel)",
   "language": "python",
   "name": "python3"
  },
  "language_info": {
   "codemirror_mode": {
    "name": "ipython",
    "version": 3
   },
   "file_extension": ".py",
   "mimetype": "text/x-python",
   "name": "python",
   "nbconvert_exporter": "python",
   "pygments_lexer": "ipython3",
   "version": "3.8.0"
  }
 },
 "nbformat": 4,
 "nbformat_minor": 5
}
