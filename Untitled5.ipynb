{
 "cells": [
  {
   "cell_type": "code",
   "execution_count": 12,
   "id": "4343b108",
   "metadata": {},
   "outputs": [
    {
     "data": {
      "application/javascript": [
       "\n",
       "            setTimeout(function() {\n",
       "                var nbb_cell_id = 12;\n",
       "                var nbb_unformatted_code = \"%load_ext nb_black\";\n",
       "                var nbb_formatted_code = \"%load_ext nb_black\";\n",
       "                var nbb_cells = Jupyter.notebook.get_cells();\n",
       "                for (var i = 0; i < nbb_cells.length; ++i) {\n",
       "                    if (nbb_cells[i].input_prompt_number == nbb_cell_id) {\n",
       "                        if (nbb_cells[i].get_text() == nbb_unformatted_code) {\n",
       "                             nbb_cells[i].set_text(nbb_formatted_code);\n",
       "                        }\n",
       "                        break;\n",
       "                    }\n",
       "                }\n",
       "            }, 500);\n",
       "            "
      ],
      "text/plain": [
       "<IPython.core.display.Javascript object>"
      ]
     },
     "metadata": {},
     "output_type": "display_data"
    }
   ],
   "source": [
    "%load_ext nb_black"
   ]
  },
  {
   "cell_type": "code",
   "execution_count": 13,
   "id": "d2b620c4",
   "metadata": {},
   "outputs": [
    {
     "data": {
      "application/javascript": [
       "\n",
       "            setTimeout(function() {\n",
       "                var nbb_cell_id = 13;\n",
       "                var nbb_unformatted_code = \"##  Generate Data\\n\\n\\nimport numpy as np\\nimport random\\n\\nrandom.seed(42)\\n\\n\\ndef random_dna_sequence(length):\\n    return \\\"\\\".join(random.choice(\\\"ACTG\\\") for _ in range(length))\\n\\n\\ndef base_frequency(dna):\\n    d = {}\\n    for base in \\\"ATCG\\\":\\n        d[base] = dna.count(base) / float(len(dna))\\n    return d\\n\\n\\ndata = []\\nfor _ in range(430):\\n    dna = random_dna_sequence(10)\\n    data.append(dna)\\n#     print(dna, base_frequency(dna))\";\n",
       "                var nbb_formatted_code = \"##  Generate Data\\n\\n\\nimport numpy as np\\nimport random\\n\\nrandom.seed(42)\\n\\n\\ndef random_dna_sequence(length):\\n    return \\\"\\\".join(random.choice(\\\"ACTG\\\") for _ in range(length))\\n\\n\\ndef base_frequency(dna):\\n    d = {}\\n    for base in \\\"ATCG\\\":\\n        d[base] = dna.count(base) / float(len(dna))\\n    return d\\n\\n\\ndata = []\\nfor _ in range(430):\\n    dna = random_dna_sequence(10)\\n    data.append(dna)\\n#     print(dna, base_frequency(dna))\";\n",
       "                var nbb_cells = Jupyter.notebook.get_cells();\n",
       "                for (var i = 0; i < nbb_cells.length; ++i) {\n",
       "                    if (nbb_cells[i].input_prompt_number == nbb_cell_id) {\n",
       "                        if (nbb_cells[i].get_text() == nbb_unformatted_code) {\n",
       "                             nbb_cells[i].set_text(nbb_formatted_code);\n",
       "                        }\n",
       "                        break;\n",
       "                    }\n",
       "                }\n",
       "            }, 500);\n",
       "            "
      ],
      "text/plain": [
       "<IPython.core.display.Javascript object>"
      ]
     },
     "metadata": {},
     "output_type": "display_data"
    }
   ],
   "source": [
    "##  Generate Data\n",
    "\n",
    "\n",
    "import numpy as np\n",
    "import random\n",
    "\n",
    "random.seed(42)\n",
    "\n",
    "\n",
    "def random_dna_sequence(length):\n",
    "    return \"\".join(random.choice(\"ACTG\") for _ in range(length))\n",
    "\n",
    "\n",
    "def base_frequency(dna):\n",
    "    d = {}\n",
    "    for base in \"ATCG\":\n",
    "        d[base] = dna.count(base) / float(len(dna))\n",
    "    return d\n",
    "\n",
    "\n",
    "data = []\n",
    "for _ in range(430):\n",
    "    dna = random_dna_sequence(10)\n",
    "    data.append(dna)\n",
    "#     print(dna, base_frequency(dna))"
   ]
  },
  {
   "cell_type": "code",
   "execution_count": 14,
   "id": "611b512b",
   "metadata": {},
   "outputs": [
    {
     "data": {
      "text/plain": [
       "['AATCCCAAGA',\n",
       " 'AACCACGCGT',\n",
       " 'ACGTTCCTAA',\n",
       " 'GATTTAGAGA',\n",
       " 'TTCAACTACA',\n",
       " 'GTGTCTTCTA',\n",
       " 'CCCGGTCTAC',\n",
       " 'ATGTACTCGG',\n",
       " 'GCTCCTGGTC',\n",
       " 'CGAAACCGAG',\n",
       " 'GGTAATTATG',\n",
       " 'CGATCATCCT',\n",
       " 'CATGAATTCA',\n",
       " 'CAAGACCGCT',\n",
       " 'GCCTGTGGAC',\n",
       " 'CATACCAAAC',\n",
       " 'AATACTGCCG',\n",
       " 'CGGCAAGTGG',\n",
       " 'GAAAGTACCC',\n",
       " 'GCGCTGCAGA',\n",
       " 'AAACCGGGCG',\n",
       " 'ACGAGTGTGG',\n",
       " 'CCTCAATAAG',\n",
       " 'CAACAACGAC',\n",
       " 'AAGTTCTCTG',\n",
       " 'CTGTAAGAAC',\n",
       " 'TCTACTTCGT',\n",
       " 'ATACTAACTT',\n",
       " 'CTCTGTAAGT',\n",
       " 'AATCTCGGAA',\n",
       " 'ACATCGCATT',\n",
       " 'ATCCATGCCC',\n",
       " 'CGACTGCTCA',\n",
       " 'GAGCCGTTCC',\n",
       " 'ACGTTATTGT',\n",
       " 'AATCTAAGTT',\n",
       " 'GAGCTAGACT',\n",
       " 'GATTATTGTG',\n",
       " 'TCCGGCTGAT',\n",
       " 'TCGTGGGCGC',\n",
       " 'ATTACTCCCA',\n",
       " 'ACGAGGCGGG',\n",
       " 'CCAAGCCGAC',\n",
       " 'AGCGTGGGCG',\n",
       " 'GTCTGCTGAT',\n",
       " 'CTTTACCCGC',\n",
       " 'CAGGTGGACG',\n",
       " 'GAGGATTGGC',\n",
       " 'GCTGGAGTGC',\n",
       " 'GCAGAAGCGC',\n",
       " 'ATGTCGTTGT',\n",
       " 'GTAGAATCAA',\n",
       " 'ACCACCCGAC',\n",
       " 'GTTCACTAAT',\n",
       " 'GGCACATAAT',\n",
       " 'GTATAGGAGT',\n",
       " 'GCGCTGGGTT',\n",
       " 'CATGCGGTAG',\n",
       " 'TCGCTTTTTA',\n",
       " 'CACGGCGGGA',\n",
       " 'ATCGCTTGTG',\n",
       " 'TTGTTTCACT',\n",
       " 'ACCCGTTACT',\n",
       " 'CTCTACTAAT',\n",
       " 'CGAATGGGTC',\n",
       " 'ATGAAGGAAC',\n",
       " 'CTACAGCGGG',\n",
       " 'TGTAACCTAC',\n",
       " 'CCACAGGGTA',\n",
       " 'CTTGACTCGA',\n",
       " 'CCTCAACTTG',\n",
       " 'AGTGTGGAAG',\n",
       " 'TTAACATACG',\n",
       " 'GTCGGAGTGT',\n",
       " 'TACTGGTGAG',\n",
       " 'ATTTAGAGGA',\n",
       " 'CTGGACTCTG',\n",
       " 'GAACCTAGAC',\n",
       " 'AGACGTTGGG',\n",
       " 'CGCGCCATGT',\n",
       " 'TATTGCGGTT',\n",
       " 'GGTCCGCGAT',\n",
       " 'GGGCGACTAG',\n",
       " 'AGACGCAGTT',\n",
       " 'GATGTGAACT',\n",
       " 'CAGAAGCTAA',\n",
       " 'TATTTGCCGC',\n",
       " 'CCAGCGCCGT',\n",
       " 'GTAGTCAGTT',\n",
       " 'GTGTCGGACG',\n",
       " 'TTTAGTAAGT',\n",
       " 'CTCCTCAATG',\n",
       " 'ATCATTGCCC',\n",
       " 'TTCTGTTAGA',\n",
       " 'CCGTAGATAG',\n",
       " 'TTGTACGATC',\n",
       " 'AGTGACAATG',\n",
       " 'AACCGGTGCG',\n",
       " 'AGGTATCGGC',\n",
       " 'TATTAGTCAG',\n",
       " 'ACAATCCCAC',\n",
       " 'CCTCATCCTC',\n",
       " 'AACATCTACT',\n",
       " 'ACGAAGGTAG',\n",
       " 'CATGAAGGGA',\n",
       " 'GGAATCACTT',\n",
       " 'GTGGAACGGC',\n",
       " 'GTGGGATGTT',\n",
       " 'TCGAAAAGAT',\n",
       " 'CATAGTGATT',\n",
       " 'TACCGCATTA',\n",
       " 'TCGATACTTT',\n",
       " 'TACCGACAAC',\n",
       " 'GGGTCTTTAA',\n",
       " 'CCAATGGGGG',\n",
       " 'TCATGATGTA',\n",
       " 'CGAACTCCTT',\n",
       " 'TAAGGCCGCT',\n",
       " 'AGAGAGATGG',\n",
       " 'GTAGATCGTA',\n",
       " 'GACGGAGTTC',\n",
       " 'TCAACTTCCA',\n",
       " 'CTCCCACGGG',\n",
       " 'TTCGAGGTTA',\n",
       " 'TATGGAATTA',\n",
       " 'AGGAGCTGCA',\n",
       " 'GATACACGGC',\n",
       " 'TTTGGTATAT',\n",
       " 'AGTTCTACTT',\n",
       " 'GCATGTCAGT',\n",
       " 'ATTCCTGCCC',\n",
       " 'CATAATCGCC',\n",
       " 'CCGAGTCGTG',\n",
       " 'CCTGCTGGTG',\n",
       " 'GCCCTAGTAA',\n",
       " 'TACTGCGACG',\n",
       " 'TAGAGTCGAT',\n",
       " 'CATATCCATG',\n",
       " 'CGGAAATCCG',\n",
       " 'ATCTAACGGA',\n",
       " 'AGACCTGATC',\n",
       " 'GCATAAGGAG',\n",
       " 'TTATATCATC',\n",
       " 'ATTCGGCCAG',\n",
       " 'ATCACATTGG',\n",
       " 'TACTTATTAT',\n",
       " 'GGGGTCGGTT',\n",
       " 'AGAGCTTAAT',\n",
       " 'TTGGCGTGAT',\n",
       " 'GTAAGTCACG',\n",
       " 'ACACTTGACG',\n",
       " 'TTGACTGTTC',\n",
       " 'AACGGATTGC',\n",
       " 'TGCACAGCGA',\n",
       " 'TTATTCCTCA',\n",
       " 'CCCGATTGCA',\n",
       " 'ATGGGGACTA',\n",
       " 'GGTCCCGAAC',\n",
       " 'TCCTCTTATC',\n",
       " 'TCTACCCTAA',\n",
       " 'AATCGAGTTG',\n",
       " 'CGTGAACGGG',\n",
       " 'GCTCTTTGCT',\n",
       " 'ATCGATGCCA',\n",
       " 'ATGGCCTTCC',\n",
       " 'GGGTGAAGGC',\n",
       " 'CTAATGGTAA',\n",
       " 'GCTTGTAGAC',\n",
       " 'TTAGGTACAG',\n",
       " 'TTTCCGAAAC',\n",
       " 'TGGCCTTCGT',\n",
       " 'TGTGATTAGT',\n",
       " 'AGTCAGCGCC',\n",
       " 'AACAGTGCGC',\n",
       " 'GGACCTGGTC',\n",
       " 'GTTTGCCTTC',\n",
       " 'TTCGTGTTTA',\n",
       " 'GGTCTATATG',\n",
       " 'TGCCTTCACC',\n",
       " 'ACCAAGTGAC',\n",
       " 'ACGGGCTTTA',\n",
       " 'ACACGCAGGC',\n",
       " 'TAATATTGGC',\n",
       " 'GTCATCGTCA',\n",
       " 'TTCCGGTAGA',\n",
       " 'CCGTCATGCG',\n",
       " 'TTTATTCAAG',\n",
       " 'TCGTATTCCC',\n",
       " 'GCGTGGCCAG',\n",
       " 'TAAACCCTGA',\n",
       " 'CGAGAGCGGA',\n",
       " 'GTAGTACAAG',\n",
       " 'TAAAGATGCC',\n",
       " 'GTGGGGACTA',\n",
       " 'CGCCAATGGG',\n",
       " 'CCGTCTCAAG',\n",
       " 'ACCAAAGACA',\n",
       " 'GGCCACTCTT',\n",
       " 'CTCCGTTACG',\n",
       " 'GATGTGGCTG',\n",
       " 'CGCCTCGAGG',\n",
       " 'CGCTCTAGTA',\n",
       " 'CATGAACCGC',\n",
       " 'TTACCAGCCG',\n",
       " 'CTTGGTTTTG',\n",
       " 'GAGTCTTGAC',\n",
       " 'CATGTCCTCG',\n",
       " 'CGTTGGGCTC',\n",
       " 'CGCAAAAAGC',\n",
       " 'CACACGTAGG',\n",
       " 'AAGAATTAGC',\n",
       " 'AACCCTTTGA',\n",
       " 'TGGCCTAAAG',\n",
       " 'GGGAACAGGT',\n",
       " 'AACCGTAATA',\n",
       " 'CTACCGATCC',\n",
       " 'GTGCATAAGC',\n",
       " 'ATGTATGGCT',\n",
       " 'GGCGATCAAT',\n",
       " 'CGCGTTAAAT',\n",
       " 'GTTACACGGG',\n",
       " 'AAATATGATG',\n",
       " 'GACCGCCTTT',\n",
       " 'GCACGTGTGA',\n",
       " 'TTCGCGACTA',\n",
       " 'GTGTGTGCTT',\n",
       " 'CGTCGTTGCT',\n",
       " 'GTGTACCAGC',\n",
       " 'GTAGGCTCTC',\n",
       " 'GGAGGGGATA',\n",
       " 'ACTCAGTGAA',\n",
       " 'ATCCGTGGCT',\n",
       " 'AGATGAACTT',\n",
       " 'TGCGTGAGGT',\n",
       " 'ATAAATACCC',\n",
       " 'CTGGCGCCGG',\n",
       " 'ACGGGACCTA',\n",
       " 'ACTTCGATGT',\n",
       " 'GGATTGCTAC',\n",
       " 'TACTACTCGG',\n",
       " 'CGGCGCCGTC',\n",
       " 'CTGATAGCCG',\n",
       " 'GGGGGGCAAC',\n",
       " 'TATCTCGGAA',\n",
       " 'TTAGCGACTA',\n",
       " 'GTTAGACCTG',\n",
       " 'CCCCATTCTT',\n",
       " 'TTACGATCCC',\n",
       " 'CTCGGCTGGG',\n",
       " 'AAGTTGGTAA',\n",
       " 'GTAGCGCGTT',\n",
       " 'TTCGTAAAGA',\n",
       " 'ACGGAGCCTC',\n",
       " 'TATTATCAGT',\n",
       " 'CGAAACGACC',\n",
       " 'GAATAGCGAC',\n",
       " 'GAAATTTCGC',\n",
       " 'CAACGTCCGG',\n",
       " 'CAACAGTGTC',\n",
       " 'CTACTATCCG',\n",
       " 'TACGGACGAA',\n",
       " 'TTCGGTCGAA',\n",
       " 'AATCAAGTGG',\n",
       " 'GACTATACCT',\n",
       " 'GATGCACAGA',\n",
       " 'GATCAACACG',\n",
       " 'TTCTCTAATG',\n",
       " 'TATAGGTAGC',\n",
       " 'TCTAACAAAC',\n",
       " 'AGTGCCAGCT',\n",
       " 'CGTTATAACC',\n",
       " 'AGAGTTTAGA',\n",
       " 'TCTTCGTGCC',\n",
       " 'CAGACTATAG',\n",
       " 'TACCGGACTA',\n",
       " 'ACGTGAACGA',\n",
       " 'AGCCTTTGTT',\n",
       " 'GTCACCACAC',\n",
       " 'GGTGATCGTG',\n",
       " 'TAACTACTCA',\n",
       " 'CTGATTCAGG',\n",
       " 'CAGACAAACC',\n",
       " 'CGTATAAACG',\n",
       " 'CATAAGACGG',\n",
       " 'GAGGCTCCTT',\n",
       " 'GCACTGGGAA',\n",
       " 'TGCGCCAGTG',\n",
       " 'GTTGTCATCA',\n",
       " 'TAGTCCACCT',\n",
       " 'ACGTCCCTTA',\n",
       " 'TCCGTCGAAA',\n",
       " 'CCAGATCCTC',\n",
       " 'TAACCATATG',\n",
       " 'ATTTCCGGTC',\n",
       " 'TCCGTTCCAG',\n",
       " 'ACTCAGCTAC',\n",
       " 'TTCATGATCC',\n",
       " 'ATTAAAGGGC',\n",
       " 'GGGTGAGCCG',\n",
       " 'AATATTAATC',\n",
       " 'GCAATGAGCG',\n",
       " 'CAATCCGTTT',\n",
       " 'CAAGGCATAG',\n",
       " 'ATGCAACCTA',\n",
       " 'GATGGGTAGC',\n",
       " 'TGTCGATGGT',\n",
       " 'CTACAATGCA',\n",
       " 'GGGCGTAGAC',\n",
       " 'AGCCCCCAGA',\n",
       " 'GCCTTAAGGT',\n",
       " 'TGAGAGCCAA',\n",
       " 'ATTGTGGGAC',\n",
       " 'TGCGAGTCAG',\n",
       " 'TTATTTTGAC',\n",
       " 'CTGTTGACGC',\n",
       " 'GGTACATGCA',\n",
       " 'CCCACAGATC',\n",
       " 'TTGGAACTGG',\n",
       " 'CGTTCTATAG',\n",
       " 'ACCCCCTGAA',\n",
       " 'GCCACTTTGG',\n",
       " 'TGTCGTGAAT',\n",
       " 'TTAGATTTTT',\n",
       " 'TCCCAGTCAG',\n",
       " 'TTGGGACTCG',\n",
       " 'TTCCTAGCTC',\n",
       " 'TACTCTGTTT',\n",
       " 'TGAGAAGCAG',\n",
       " 'TGACCCTGGC',\n",
       " 'TCAGTCTAAG',\n",
       " 'TCCCGACGGG',\n",
       " 'GGGAACTATC',\n",
       " 'AACCTTCAGT',\n",
       " 'CAATTGTGCT',\n",
       " 'GTCCGACCCC',\n",
       " 'ACATAGTAAA',\n",
       " 'AAAGGGATGC',\n",
       " 'CATGATCGAA',\n",
       " 'TAAGCCTCTG',\n",
       " 'TCAGCGTCAA',\n",
       " 'AAGCAAATCG',\n",
       " 'TTGAACATTT',\n",
       " 'GAAAACCTTG',\n",
       " 'TATTCAGGGT',\n",
       " 'GGGCACACAG',\n",
       " 'GGCGTACGGA',\n",
       " 'GGAATTACTA',\n",
       " 'GCGTGCAACG',\n",
       " 'GCAGTCTTAC',\n",
       " 'GGCAGGGAGG',\n",
       " 'TAGAAGGAAA',\n",
       " 'TCGTTACGTG',\n",
       " 'TGAACATTTT',\n",
       " 'AACGCGATCC',\n",
       " 'AGCGCTAGAA',\n",
       " 'GGCGAAGGCC',\n",
       " 'CAGTGGCTGT',\n",
       " 'TGCCGTTCCC',\n",
       " 'TTCCTATGGT',\n",
       " 'GAAAGCAACT',\n",
       " 'CTTCATCATG',\n",
       " 'ACGCTAGGGT',\n",
       " 'AATCGCTCCT',\n",
       " 'GCACCAGAGT',\n",
       " 'TCCTATGCAC',\n",
       " 'TATGTATCCA',\n",
       " 'CGGATCCTTT',\n",
       " 'TCGAATGCCA',\n",
       " 'TGAGTTATGG',\n",
       " 'ATCTAACAAC',\n",
       " 'CGACGACAGT',\n",
       " 'AAAACTACTG',\n",
       " 'GGGGTAGAAA',\n",
       " 'AATATTATGG',\n",
       " 'GAGCCCGTCT',\n",
       " 'TACAAAGATC',\n",
       " 'TCGCCCCTCA',\n",
       " 'CAGATATACG',\n",
       " 'TTCCATACTG',\n",
       " 'GTTCTTGCAT',\n",
       " 'CCGTTCTGGG',\n",
       " 'TTGACATCCT',\n",
       " 'AAAAGCATGC',\n",
       " 'TGCTCGAGTA',\n",
       " 'CCCGCCCGTA',\n",
       " 'CGCATTCACT',\n",
       " 'GGGAATATTC',\n",
       " 'GGTATGCGTT',\n",
       " 'GGACGCCATC',\n",
       " 'CCCTACGTAG',\n",
       " 'GGCCGACACC',\n",
       " 'CACACTCGAT',\n",
       " 'ACGGGCCGCC',\n",
       " 'TCTGACGGCA',\n",
       " 'ACGCACGAAA',\n",
       " 'GCAGGTAGCG',\n",
       " 'GTAGCTGCAT',\n",
       " 'GTCAAAAGCT',\n",
       " 'GTACGTTGTT',\n",
       " 'GCGGCTGTTT',\n",
       " 'GCACGCACGT',\n",
       " 'ACGAACGGAA',\n",
       " 'TCTAAGGTAC',\n",
       " 'GGACTCACCA',\n",
       " 'TCACATGTGG',\n",
       " 'CAAATTTTCC',\n",
       " 'GGATCGAATT',\n",
       " 'ATTGGGCTGG',\n",
       " 'AGATAGCCTG',\n",
       " 'TATCTAGTAC',\n",
       " 'GTTCTCCGCC',\n",
       " 'CTCCCCTCAA',\n",
       " 'AGAAGTTGTG',\n",
       " 'CTGCCAGGAT',\n",
       " 'GCGAGTAACG',\n",
       " 'ATTTCTCTGT',\n",
       " 'TCGGCGTTGT',\n",
       " 'GCCCATCGGC',\n",
       " 'CCGACGGCTG',\n",
       " 'TTAGACACTG',\n",
       " 'AGTTTTTTAG',\n",
       " 'ATCCTTTGGA',\n",
       " 'GTGCCTGGAA',\n",
       " 'CTCTTTTGTG',\n",
       " 'TGGCCACCTA',\n",
       " 'CCGAAAGAAG',\n",
       " 'AATCAGTCCT',\n",
       " 'GCCCAATTGG',\n",
       " 'TGCCGGTTGC',\n",
       " 'AGTTGTCTAA']"
      ]
     },
     "execution_count": 14,
     "metadata": {},
     "output_type": "execute_result"
    },
    {
     "data": {
      "application/javascript": [
       "\n",
       "            setTimeout(function() {\n",
       "                var nbb_cell_id = 14;\n",
       "                var nbb_unformatted_code = \"data\";\n",
       "                var nbb_formatted_code = \"data\";\n",
       "                var nbb_cells = Jupyter.notebook.get_cells();\n",
       "                for (var i = 0; i < nbb_cells.length; ++i) {\n",
       "                    if (nbb_cells[i].input_prompt_number == nbb_cell_id) {\n",
       "                        if (nbb_cells[i].get_text() == nbb_unformatted_code) {\n",
       "                             nbb_cells[i].set_text(nbb_formatted_code);\n",
       "                        }\n",
       "                        break;\n",
       "                    }\n",
       "                }\n",
       "            }, 500);\n",
       "            "
      ],
      "text/plain": [
       "<IPython.core.display.Javascript object>"
      ]
     },
     "metadata": {},
     "output_type": "display_data"
    }
   ],
   "source": [
    "data"
   ]
  },
  {
   "cell_type": "code",
   "execution_count": 15,
   "id": "1ceea77d",
   "metadata": {},
   "outputs": [
    {
     "data": {
      "application/javascript": [
       "\n",
       "            setTimeout(function() {\n",
       "                var nbb_cell_id = 15;\n",
       "                var nbb_unformatted_code = \"import numpy as np \\nimport pandas as pd \\nimport tensorflow as tf\\nfrom sklearn.feature_selection import SelectKBest,f_classif\\nfrom sklearn.model_selection import train_test_split\\nfrom tensorflow.keras.models import Sequential\\nfrom tensorflow.keras.layers import LSTM,Dense,Dropout\\n\\nimport os\";\n",
       "                var nbb_formatted_code = \"import numpy as np\\nimport pandas as pd\\nimport tensorflow as tf\\nfrom sklearn.feature_selection import SelectKBest, f_classif\\nfrom sklearn.model_selection import train_test_split\\nfrom tensorflow.keras.models import Sequential\\nfrom tensorflow.keras.layers import LSTM, Dense, Dropout\\n\\nimport os\";\n",
       "                var nbb_cells = Jupyter.notebook.get_cells();\n",
       "                for (var i = 0; i < nbb_cells.length; ++i) {\n",
       "                    if (nbb_cells[i].input_prompt_number == nbb_cell_id) {\n",
       "                        if (nbb_cells[i].get_text() == nbb_unformatted_code) {\n",
       "                             nbb_cells[i].set_text(nbb_formatted_code);\n",
       "                        }\n",
       "                        break;\n",
       "                    }\n",
       "                }\n",
       "            }, 500);\n",
       "            "
      ],
      "text/plain": [
       "<IPython.core.display.Javascript object>"
      ]
     },
     "metadata": {},
     "output_type": "display_data"
    }
   ],
   "source": [
    "import numpy as np\n",
    "import pandas as pd\n",
    "import tensorflow as tf\n",
    "from sklearn.feature_selection import SelectKBest, f_classif\n",
    "from sklearn.model_selection import train_test_split\n",
    "from tensorflow.keras.models import Sequential\n",
    "from tensorflow.keras.layers import LSTM, Dense, Dropout\n",
    "\n",
    "import os"
   ]
  },
  {
   "cell_type": "code",
   "execution_count": 16,
   "id": "674cca50",
   "metadata": {},
   "outputs": [
    {
     "data": {
      "text/html": [
       "<div>\n",
       "<style scoped>\n",
       "    .dataframe tbody tr th:only-of-type {\n",
       "        vertical-align: middle;\n",
       "    }\n",
       "\n",
       "    .dataframe tbody tr th {\n",
       "        vertical-align: top;\n",
       "    }\n",
       "\n",
       "    .dataframe thead th {\n",
       "        text-align: right;\n",
       "    }\n",
       "</style>\n",
       "<table border=\"1\" class=\"dataframe\">\n",
       "  <thead>\n",
       "    <tr style=\"text-align: right;\">\n",
       "      <th></th>\n",
       "      <th>sequence</th>\n",
       "    </tr>\n",
       "  </thead>\n",
       "  <tbody>\n",
       "    <tr>\n",
       "      <th>0</th>\n",
       "      <td>AATCCCAAGA</td>\n",
       "    </tr>\n",
       "    <tr>\n",
       "      <th>1</th>\n",
       "      <td>AACCACGCGT</td>\n",
       "    </tr>\n",
       "    <tr>\n",
       "      <th>2</th>\n",
       "      <td>ACGTTCCTAA</td>\n",
       "    </tr>\n",
       "    <tr>\n",
       "      <th>3</th>\n",
       "      <td>GATTTAGAGA</td>\n",
       "    </tr>\n",
       "    <tr>\n",
       "      <th>4</th>\n",
       "      <td>TTCAACTACA</td>\n",
       "    </tr>\n",
       "    <tr>\n",
       "      <th>...</th>\n",
       "      <td>...</td>\n",
       "    </tr>\n",
       "    <tr>\n",
       "      <th>425</th>\n",
       "      <td>CCGAAAGAAG</td>\n",
       "    </tr>\n",
       "    <tr>\n",
       "      <th>426</th>\n",
       "      <td>AATCAGTCCT</td>\n",
       "    </tr>\n",
       "    <tr>\n",
       "      <th>427</th>\n",
       "      <td>GCCCAATTGG</td>\n",
       "    </tr>\n",
       "    <tr>\n",
       "      <th>428</th>\n",
       "      <td>TGCCGGTTGC</td>\n",
       "    </tr>\n",
       "    <tr>\n",
       "      <th>429</th>\n",
       "      <td>AGTTGTCTAA</td>\n",
       "    </tr>\n",
       "  </tbody>\n",
       "</table>\n",
       "<p>430 rows × 1 columns</p>\n",
       "</div>"
      ],
      "text/plain": [
       "       sequence\n",
       "0    AATCCCAAGA\n",
       "1    AACCACGCGT\n",
       "2    ACGTTCCTAA\n",
       "3    GATTTAGAGA\n",
       "4    TTCAACTACA\n",
       "..          ...\n",
       "425  CCGAAAGAAG\n",
       "426  AATCAGTCCT\n",
       "427  GCCCAATTGG\n",
       "428  TGCCGGTTGC\n",
       "429  AGTTGTCTAA\n",
       "\n",
       "[430 rows x 1 columns]"
      ]
     },
     "execution_count": 16,
     "metadata": {},
     "output_type": "execute_result"
    },
    {
     "data": {
      "application/javascript": [
       "\n",
       "            setTimeout(function() {\n",
       "                var nbb_cell_id = 16;\n",
       "                var nbb_unformatted_code = \"df1=pd.DataFrame(data,columns=['sequence'])\\ndf1\";\n",
       "                var nbb_formatted_code = \"df1 = pd.DataFrame(data, columns=[\\\"sequence\\\"])\\ndf1\";\n",
       "                var nbb_cells = Jupyter.notebook.get_cells();\n",
       "                for (var i = 0; i < nbb_cells.length; ++i) {\n",
       "                    if (nbb_cells[i].input_prompt_number == nbb_cell_id) {\n",
       "                        if (nbb_cells[i].get_text() == nbb_unformatted_code) {\n",
       "                             nbb_cells[i].set_text(nbb_formatted_code);\n",
       "                        }\n",
       "                        break;\n",
       "                    }\n",
       "                }\n",
       "            }, 500);\n",
       "            "
      ],
      "text/plain": [
       "<IPython.core.display.Javascript object>"
      ]
     },
     "metadata": {},
     "output_type": "display_data"
    }
   ],
   "source": [
    "df1 = pd.DataFrame(data, columns=[\"sequence\"])\n",
    "df1"
   ]
  },
  {
   "cell_type": "code",
   "execution_count": 17,
   "id": "46dd3d28",
   "metadata": {},
   "outputs": [
    {
     "data": {
      "application/javascript": [
       "\n",
       "            setTimeout(function() {\n",
       "                var nbb_cell_id = 17;\n",
       "                var nbb_unformatted_code = \"abstracts=df1['sequence']\";\n",
       "                var nbb_formatted_code = \"abstracts = df1[\\\"sequence\\\"]\";\n",
       "                var nbb_cells = Jupyter.notebook.get_cells();\n",
       "                for (var i = 0; i < nbb_cells.length; ++i) {\n",
       "                    if (nbb_cells[i].input_prompt_number == nbb_cell_id) {\n",
       "                        if (nbb_cells[i].get_text() == nbb_unformatted_code) {\n",
       "                             nbb_cells[i].set_text(nbb_formatted_code);\n",
       "                        }\n",
       "                        break;\n",
       "                    }\n",
       "                }\n",
       "            }, 500);\n",
       "            "
      ],
      "text/plain": [
       "<IPython.core.display.Javascript object>"
      ]
     },
     "metadata": {},
     "output_type": "display_data"
    }
   ],
   "source": [
    "abstracts = df1[\"sequence\"]"
   ]
  },
  {
   "cell_type": "code",
   "execution_count": 18,
   "id": "787033cb",
   "metadata": {},
   "outputs": [
    {
     "data": {
      "text/plain": [
       "0      AATCCCAAGA\n",
       "1      AACCACGCGT\n",
       "2      ACGTTCCTAA\n",
       "3      GATTTAGAGA\n",
       "4      TTCAACTACA\n",
       "          ...    \n",
       "425    CCGAAAGAAG\n",
       "426    AATCAGTCCT\n",
       "427    GCCCAATTGG\n",
       "428    TGCCGGTTGC\n",
       "429    AGTTGTCTAA\n",
       "Name: sequence, Length: 430, dtype: object"
      ]
     },
     "execution_count": 18,
     "metadata": {},
     "output_type": "execute_result"
    },
    {
     "data": {
      "application/javascript": [
       "\n",
       "            setTimeout(function() {\n",
       "                var nbb_cell_id = 18;\n",
       "                var nbb_unformatted_code = \"abstracts\";\n",
       "                var nbb_formatted_code = \"abstracts\";\n",
       "                var nbb_cells = Jupyter.notebook.get_cells();\n",
       "                for (var i = 0; i < nbb_cells.length; ++i) {\n",
       "                    if (nbb_cells[i].input_prompt_number == nbb_cell_id) {\n",
       "                        if (nbb_cells[i].get_text() == nbb_unformatted_code) {\n",
       "                             nbb_cells[i].set_text(nbb_formatted_code);\n",
       "                        }\n",
       "                        break;\n",
       "                    }\n",
       "                }\n",
       "            }, 500);\n",
       "            "
      ],
      "text/plain": [
       "<IPython.core.display.Javascript object>"
      ]
     },
     "metadata": {},
     "output_type": "display_data"
    }
   ],
   "source": [
    "abstracts"
   ]
  },
  {
   "cell_type": "code",
   "execution_count": 19,
   "id": "6f88da0c",
   "metadata": {},
   "outputs": [
    {
     "data": {
      "application/javascript": [
       "\n",
       "            setTimeout(function() {\n",
       "                var nbb_cell_id = 19;\n",
       "                var nbb_unformatted_code = \"tokenizer=tf.keras.preprocessing.text.Tokenizer(num_words=None,filters='\\\\n',lower=False,char_level=True)\";\n",
       "                var nbb_formatted_code = \"tokenizer = tf.keras.preprocessing.text.Tokenizer(\\n    num_words=None, filters=\\\"\\\\n\\\", lower=False, char_level=True\\n)\";\n",
       "                var nbb_cells = Jupyter.notebook.get_cells();\n",
       "                for (var i = 0; i < nbb_cells.length; ++i) {\n",
       "                    if (nbb_cells[i].input_prompt_number == nbb_cell_id) {\n",
       "                        if (nbb_cells[i].get_text() == nbb_unformatted_code) {\n",
       "                             nbb_cells[i].set_text(nbb_formatted_code);\n",
       "                        }\n",
       "                        break;\n",
       "                    }\n",
       "                }\n",
       "            }, 500);\n",
       "            "
      ],
      "text/plain": [
       "<IPython.core.display.Javascript object>"
      ]
     },
     "metadata": {},
     "output_type": "display_data"
    }
   ],
   "source": [
    "tokenizer = tf.keras.preprocessing.text.Tokenizer(\n",
    "    num_words=None, filters=\"\\n\", lower=False, char_level=True\n",
    ")"
   ]
  },
  {
   "cell_type": "code",
   "execution_count": 20,
   "id": "f1ee394f",
   "metadata": {},
   "outputs": [
    {
     "data": {
      "application/javascript": [
       "\n",
       "            setTimeout(function() {\n",
       "                var nbb_cell_id = 20;\n",
       "                var nbb_unformatted_code = \"tokenizer.fit_on_texts(abstracts)\";\n",
       "                var nbb_formatted_code = \"tokenizer.fit_on_texts(abstracts)\";\n",
       "                var nbb_cells = Jupyter.notebook.get_cells();\n",
       "                for (var i = 0; i < nbb_cells.length; ++i) {\n",
       "                    if (nbb_cells[i].input_prompt_number == nbb_cell_id) {\n",
       "                        if (nbb_cells[i].get_text() == nbb_unformatted_code) {\n",
       "                             nbb_cells[i].set_text(nbb_formatted_code);\n",
       "                        }\n",
       "                        break;\n",
       "                    }\n",
       "                }\n",
       "            }, 500);\n",
       "            "
      ],
      "text/plain": [
       "<IPython.core.display.Javascript object>"
      ]
     },
     "metadata": {},
     "output_type": "display_data"
    }
   ],
   "source": [
    "tokenizer.fit_on_texts(abstracts)\n"
   ]
  },
  {
   "cell_type": "code",
   "execution_count": 21,
   "id": "0dbfcef2",
   "metadata": {},
   "outputs": [
    {
     "data": {
      "application/javascript": [
       "\n",
       "            setTimeout(function() {\n",
       "                var nbb_cell_id = 21;\n",
       "                var nbb_unformatted_code = \"sequences=tokenizer.texts_to_sequences(abstracts)\";\n",
       "                var nbb_formatted_code = \"sequences = tokenizer.texts_to_sequences(abstracts)\";\n",
       "                var nbb_cells = Jupyter.notebook.get_cells();\n",
       "                for (var i = 0; i < nbb_cells.length; ++i) {\n",
       "                    if (nbb_cells[i].input_prompt_number == nbb_cell_id) {\n",
       "                        if (nbb_cells[i].get_text() == nbb_unformatted_code) {\n",
       "                             nbb_cells[i].set_text(nbb_formatted_code);\n",
       "                        }\n",
       "                        break;\n",
       "                    }\n",
       "                }\n",
       "            }, 500);\n",
       "            "
      ],
      "text/plain": [
       "<IPython.core.display.Javascript object>"
      ]
     },
     "metadata": {},
     "output_type": "display_data"
    }
   ],
   "source": [
    "sequences=tokenizer.texts_to_sequences(abstracts)\n"
   ]
  },
  {
   "cell_type": "code",
   "execution_count": 22,
   "id": "08329638",
   "metadata": {},
   "outputs": [
    {
     "data": {
      "text/plain": [
       "[[4, 4, 2, 3, 3, 3, 4, 4, 1, 4],\n",
       " [4, 4, 3, 3, 4, 3, 1, 3, 1, 2],\n",
       " [4, 3, 1, 2, 2, 3, 3, 2, 4, 4],\n",
       " [1, 4, 2, 2, 2, 4, 1, 4, 1, 4],\n",
       " [2, 2, 3, 4, 4, 3, 2, 4, 3, 4],\n",
       " [1, 2, 1, 2, 3, 2, 2, 3, 2, 4],\n",
       " [3, 3, 3, 1, 1, 2, 3, 2, 4, 3],\n",
       " [4, 2, 1, 2, 4, 3, 2, 3, 1, 1],\n",
       " [1, 3, 2, 3, 3, 2, 1, 1, 2, 3],\n",
       " [3, 1, 4, 4, 4, 3, 3, 1, 4, 1],\n",
       " [1, 1, 2, 4, 4, 2, 2, 4, 2, 1],\n",
       " [3, 1, 4, 2, 3, 4, 2, 3, 3, 2],\n",
       " [3, 4, 2, 1, 4, 4, 2, 2, 3, 4],\n",
       " [3, 4, 4, 1, 4, 3, 3, 1, 3, 2],\n",
       " [1, 3, 3, 2, 1, 2, 1, 1, 4, 3],\n",
       " [3, 4, 2, 4, 3, 3, 4, 4, 4, 3],\n",
       " [4, 4, 2, 4, 3, 2, 1, 3, 3, 1],\n",
       " [3, 1, 1, 3, 4, 4, 1, 2, 1, 1],\n",
       " [1, 4, 4, 4, 1, 2, 4, 3, 3, 3],\n",
       " [1, 3, 1, 3, 2, 1, 3, 4, 1, 4],\n",
       " [4, 4, 4, 3, 3, 1, 1, 1, 3, 1],\n",
       " [4, 3, 1, 4, 1, 2, 1, 2, 1, 1],\n",
       " [3, 3, 2, 3, 4, 4, 2, 4, 4, 1],\n",
       " [3, 4, 4, 3, 4, 4, 3, 1, 4, 3],\n",
       " [4, 4, 1, 2, 2, 3, 2, 3, 2, 1],\n",
       " [3, 2, 1, 2, 4, 4, 1, 4, 4, 3],\n",
       " [2, 3, 2, 4, 3, 2, 2, 3, 1, 2],\n",
       " [4, 2, 4, 3, 2, 4, 4, 3, 2, 2],\n",
       " [3, 2, 3, 2, 1, 2, 4, 4, 1, 2],\n",
       " [4, 4, 2, 3, 2, 3, 1, 1, 4, 4],\n",
       " [4, 3, 4, 2, 3, 1, 3, 4, 2, 2],\n",
       " [4, 2, 3, 3, 4, 2, 1, 3, 3, 3],\n",
       " [3, 1, 4, 3, 2, 1, 3, 2, 3, 4],\n",
       " [1, 4, 1, 3, 3, 1, 2, 2, 3, 3],\n",
       " [4, 3, 1, 2, 2, 4, 2, 2, 1, 2],\n",
       " [4, 4, 2, 3, 2, 4, 4, 1, 2, 2],\n",
       " [1, 4, 1, 3, 2, 4, 1, 4, 3, 2],\n",
       " [1, 4, 2, 2, 4, 2, 2, 1, 2, 1],\n",
       " [2, 3, 3, 1, 1, 3, 2, 1, 4, 2],\n",
       " [2, 3, 1, 2, 1, 1, 1, 3, 1, 3],\n",
       " [4, 2, 2, 4, 3, 2, 3, 3, 3, 4],\n",
       " [4, 3, 1, 4, 1, 1, 3, 1, 1, 1],\n",
       " [3, 3, 4, 4, 1, 3, 3, 1, 4, 3],\n",
       " [4, 1, 3, 1, 2, 1, 1, 1, 3, 1],\n",
       " [1, 2, 3, 2, 1, 3, 2, 1, 4, 2],\n",
       " [3, 2, 2, 2, 4, 3, 3, 3, 1, 3],\n",
       " [3, 4, 1, 1, 2, 1, 1, 4, 3, 1],\n",
       " [1, 4, 1, 1, 4, 2, 2, 1, 1, 3],\n",
       " [1, 3, 2, 1, 1, 4, 1, 2, 1, 3],\n",
       " [1, 3, 4, 1, 4, 4, 1, 3, 1, 3],\n",
       " [4, 2, 1, 2, 3, 1, 2, 2, 1, 2],\n",
       " [1, 2, 4, 1, 4, 4, 2, 3, 4, 4],\n",
       " [4, 3, 3, 4, 3, 3, 3, 1, 4, 3],\n",
       " [1, 2, 2, 3, 4, 3, 2, 4, 4, 2],\n",
       " [1, 1, 3, 4, 3, 4, 2, 4, 4, 2],\n",
       " [1, 2, 4, 2, 4, 1, 1, 4, 1, 2],\n",
       " [1, 3, 1, 3, 2, 1, 1, 1, 2, 2],\n",
       " [3, 4, 2, 1, 3, 1, 1, 2, 4, 1],\n",
       " [2, 3, 1, 3, 2, 2, 2, 2, 2, 4],\n",
       " [3, 4, 3, 1, 1, 3, 1, 1, 1, 4],\n",
       " [4, 2, 3, 1, 3, 2, 2, 1, 2, 1],\n",
       " [2, 2, 1, 2, 2, 2, 3, 4, 3, 2],\n",
       " [4, 3, 3, 3, 1, 2, 2, 4, 3, 2],\n",
       " [3, 2, 3, 2, 4, 3, 2, 4, 4, 2],\n",
       " [3, 1, 4, 4, 2, 1, 1, 1, 2, 3],\n",
       " [4, 2, 1, 4, 4, 1, 1, 4, 4, 3],\n",
       " [3, 2, 4, 3, 4, 1, 3, 1, 1, 1],\n",
       " [2, 1, 2, 4, 4, 3, 3, 2, 4, 3],\n",
       " [3, 3, 4, 3, 4, 1, 1, 1, 2, 4],\n",
       " [3, 2, 2, 1, 4, 3, 2, 3, 1, 4],\n",
       " [3, 3, 2, 3, 4, 4, 3, 2, 2, 1],\n",
       " [4, 1, 2, 1, 2, 1, 1, 4, 4, 1],\n",
       " [2, 2, 4, 4, 3, 4, 2, 4, 3, 1],\n",
       " [1, 2, 3, 1, 1, 4, 1, 2, 1, 2],\n",
       " [2, 4, 3, 2, 1, 1, 2, 1, 4, 1],\n",
       " [4, 2, 2, 2, 4, 1, 4, 1, 1, 4],\n",
       " [3, 2, 1, 1, 4, 3, 2, 3, 2, 1],\n",
       " [1, 4, 4, 3, 3, 2, 4, 1, 4, 3],\n",
       " [4, 1, 4, 3, 1, 2, 2, 1, 1, 1],\n",
       " [3, 1, 3, 1, 3, 3, 4, 2, 1, 2],\n",
       " [2, 4, 2, 2, 1, 3, 1, 1, 2, 2],\n",
       " [1, 1, 2, 3, 3, 1, 3, 1, 4, 2],\n",
       " [1, 1, 1, 3, 1, 4, 3, 2, 4, 1],\n",
       " [4, 1, 4, 3, 1, 3, 4, 1, 2, 2],\n",
       " [1, 4, 2, 1, 2, 1, 4, 4, 3, 2],\n",
       " [3, 4, 1, 4, 4, 1, 3, 2, 4, 4],\n",
       " [2, 4, 2, 2, 2, 1, 3, 3, 1, 3],\n",
       " [3, 3, 4, 1, 3, 1, 3, 3, 1, 2],\n",
       " [1, 2, 4, 1, 2, 3, 4, 1, 2, 2],\n",
       " [1, 2, 1, 2, 3, 1, 1, 4, 3, 1],\n",
       " [2, 2, 2, 4, 1, 2, 4, 4, 1, 2],\n",
       " [3, 2, 3, 3, 2, 3, 4, 4, 2, 1],\n",
       " [4, 2, 3, 4, 2, 2, 1, 3, 3, 3],\n",
       " [2, 2, 3, 2, 1, 2, 2, 4, 1, 4],\n",
       " [3, 3, 1, 2, 4, 1, 4, 2, 4, 1],\n",
       " [2, 2, 1, 2, 4, 3, 1, 4, 2, 3],\n",
       " [4, 1, 2, 1, 4, 3, 4, 4, 2, 1],\n",
       " [4, 4, 3, 3, 1, 1, 2, 1, 3, 1],\n",
       " [4, 1, 1, 2, 4, 2, 3, 1, 1, 3],\n",
       " [2, 4, 2, 2, 4, 1, 2, 3, 4, 1],\n",
       " [4, 3, 4, 4, 2, 3, 3, 3, 4, 3],\n",
       " [3, 3, 2, 3, 4, 2, 3, 3, 2, 3],\n",
       " [4, 4, 3, 4, 2, 3, 2, 4, 3, 2],\n",
       " [4, 3, 1, 4, 4, 1, 1, 2, 4, 1],\n",
       " [3, 4, 2, 1, 4, 4, 1, 1, 1, 4],\n",
       " [1, 1, 4, 4, 2, 3, 4, 3, 2, 2],\n",
       " [1, 2, 1, 1, 4, 4, 3, 1, 1, 3],\n",
       " [1, 2, 1, 1, 1, 4, 2, 1, 2, 2],\n",
       " [2, 3, 1, 4, 4, 4, 4, 1, 4, 2],\n",
       " [3, 4, 2, 4, 1, 2, 1, 4, 2, 2],\n",
       " [2, 4, 3, 3, 1, 3, 4, 2, 2, 4],\n",
       " [2, 3, 1, 4, 2, 4, 3, 2, 2, 2],\n",
       " [2, 4, 3, 3, 1, 4, 3, 4, 4, 3],\n",
       " [1, 1, 1, 2, 3, 2, 2, 2, 4, 4],\n",
       " [3, 3, 4, 4, 2, 1, 1, 1, 1, 1],\n",
       " [2, 3, 4, 2, 1, 4, 2, 1, 2, 4],\n",
       " [3, 1, 4, 4, 3, 2, 3, 3, 2, 2],\n",
       " [2, 4, 4, 1, 1, 3, 3, 1, 3, 2],\n",
       " [4, 1, 4, 1, 4, 1, 4, 2, 1, 1],\n",
       " [1, 2, 4, 1, 4, 2, 3, 1, 2, 4],\n",
       " [1, 4, 3, 1, 1, 4, 1, 2, 2, 3],\n",
       " [2, 3, 4, 4, 3, 2, 2, 3, 3, 4],\n",
       " [3, 2, 3, 3, 3, 4, 3, 1, 1, 1],\n",
       " [2, 2, 3, 1, 4, 1, 1, 2, 2, 4],\n",
       " [2, 4, 2, 1, 1, 4, 4, 2, 2, 4],\n",
       " [4, 1, 1, 4, 1, 3, 2, 1, 3, 4],\n",
       " [1, 4, 2, 4, 3, 4, 3, 1, 1, 3],\n",
       " [2, 2, 2, 1, 1, 2, 4, 2, 4, 2],\n",
       " [4, 1, 2, 2, 3, 2, 4, 3, 2, 2],\n",
       " [1, 3, 4, 2, 1, 2, 3, 4, 1, 2],\n",
       " [4, 2, 2, 3, 3, 2, 1, 3, 3, 3],\n",
       " [3, 4, 2, 4, 4, 2, 3, 1, 3, 3],\n",
       " [3, 3, 1, 4, 1, 2, 3, 1, 2, 1],\n",
       " [3, 3, 2, 1, 3, 2, 1, 1, 2, 1],\n",
       " [1, 3, 3, 3, 2, 4, 1, 2, 4, 4],\n",
       " [2, 4, 3, 2, 1, 3, 1, 4, 3, 1],\n",
       " [2, 4, 1, 4, 1, 2, 3, 1, 4, 2],\n",
       " [3, 4, 2, 4, 2, 3, 3, 4, 2, 1],\n",
       " [3, 1, 1, 4, 4, 4, 2, 3, 3, 1],\n",
       " [4, 2, 3, 2, 4, 4, 3, 1, 1, 4],\n",
       " [4, 1, 4, 3, 3, 2, 1, 4, 2, 3],\n",
       " [1, 3, 4, 2, 4, 4, 1, 1, 4, 1],\n",
       " [2, 2, 4, 2, 4, 2, 3, 4, 2, 3],\n",
       " [4, 2, 2, 3, 1, 1, 3, 3, 4, 1],\n",
       " [4, 2, 3, 4, 3, 4, 2, 2, 1, 1],\n",
       " [2, 4, 3, 2, 2, 4, 2, 2, 4, 2],\n",
       " [1, 1, 1, 1, 2, 3, 1, 1, 2, 2],\n",
       " [4, 1, 4, 1, 3, 2, 2, 4, 4, 2],\n",
       " [2, 2, 1, 1, 3, 1, 2, 1, 4, 2],\n",
       " [1, 2, 4, 4, 1, 2, 3, 4, 3, 1],\n",
       " [4, 3, 4, 3, 2, 2, 1, 4, 3, 1],\n",
       " [2, 2, 1, 4, 3, 2, 1, 2, 2, 3],\n",
       " [4, 4, 3, 1, 1, 4, 2, 2, 1, 3],\n",
       " [2, 1, 3, 4, 3, 4, 1, 3, 1, 4],\n",
       " [2, 2, 4, 2, 2, 3, 3, 2, 3, 4],\n",
       " [3, 3, 3, 1, 4, 2, 2, 1, 3, 4],\n",
       " [4, 2, 1, 1, 1, 1, 4, 3, 2, 4],\n",
       " [1, 1, 2, 3, 3, 3, 1, 4, 4, 3],\n",
       " [2, 3, 3, 2, 3, 2, 2, 4, 2, 3],\n",
       " [2, 3, 2, 4, 3, 3, 3, 2, 4, 4],\n",
       " [4, 4, 2, 3, 1, 4, 1, 2, 2, 1],\n",
       " [3, 1, 2, 1, 4, 4, 3, 1, 1, 1],\n",
       " [1, 3, 2, 3, 2, 2, 2, 1, 3, 2],\n",
       " [4, 2, 3, 1, 4, 2, 1, 3, 3, 4],\n",
       " [4, 2, 1, 1, 3, 3, 2, 2, 3, 3],\n",
       " [1, 1, 1, 2, 1, 4, 4, 1, 1, 3],\n",
       " [3, 2, 4, 4, 2, 1, 1, 2, 4, 4],\n",
       " [1, 3, 2, 2, 1, 2, 4, 1, 4, 3],\n",
       " [2, 2, 4, 1, 1, 2, 4, 3, 4, 1],\n",
       " [2, 2, 2, 3, 3, 1, 4, 4, 4, 3],\n",
       " [2, 1, 1, 3, 3, 2, 2, 3, 1, 2],\n",
       " [2, 1, 2, 1, 4, 2, 2, 4, 1, 2],\n",
       " [4, 1, 2, 3, 4, 1, 3, 1, 3, 3],\n",
       " [4, 4, 3, 4, 1, 2, 1, 3, 1, 3],\n",
       " [1, 1, 4, 3, 3, 2, 1, 1, 2, 3],\n",
       " [1, 2, 2, 2, 1, 3, 3, 2, 2, 3],\n",
       " [2, 2, 3, 1, 2, 1, 2, 2, 2, 4],\n",
       " [1, 1, 2, 3, 2, 4, 2, 4, 2, 1],\n",
       " [2, 1, 3, 3, 2, 2, 3, 4, 3, 3],\n",
       " [4, 3, 3, 4, 4, 1, 2, 1, 4, 3],\n",
       " [4, 3, 1, 1, 1, 3, 2, 2, 2, 4],\n",
       " [4, 3, 4, 3, 1, 3, 4, 1, 1, 3],\n",
       " [2, 4, 4, 2, 4, 2, 2, 1, 1, 3],\n",
       " [1, 2, 3, 4, 2, 3, 1, 2, 3, 4],\n",
       " [2, 2, 3, 3, 1, 1, 2, 4, 1, 4],\n",
       " [3, 3, 1, 2, 3, 4, 2, 1, 3, 1],\n",
       " [2, 2, 2, 4, 2, 2, 3, 4, 4, 1],\n",
       " [2, 3, 1, 2, 4, 2, 2, 3, 3, 3],\n",
       " [1, 3, 1, 2, 1, 1, 3, 3, 4, 1],\n",
       " [2, 4, 4, 4, 3, 3, 3, 2, 1, 4],\n",
       " [3, 1, 4, 1, 4, 1, 3, 1, 1, 4],\n",
       " [1, 2, 4, 1, 2, 4, 3, 4, 4, 1],\n",
       " [2, 4, 4, 4, 1, 4, 2, 1, 3, 3],\n",
       " [1, 2, 1, 1, 1, 1, 4, 3, 2, 4],\n",
       " [3, 1, 3, 3, 4, 4, 2, 1, 1, 1],\n",
       " [3, 3, 1, 2, 3, 2, 3, 4, 4, 1],\n",
       " [4, 3, 3, 4, 4, 4, 1, 4, 3, 4],\n",
       " [1, 1, 3, 3, 4, 3, 2, 3, 2, 2],\n",
       " [3, 2, 3, 3, 1, 2, 2, 4, 3, 1],\n",
       " [1, 4, 2, 1, 2, 1, 1, 3, 2, 1],\n",
       " [3, 1, 3, 3, 2, 3, 1, 4, 1, 1],\n",
       " [3, 1, 3, 2, 3, 2, 4, 1, 2, 4],\n",
       " [3, 4, 2, 1, 4, 4, 3, 3, 1, 3],\n",
       " [2, 2, 4, 3, 3, 4, 1, 3, 3, 1],\n",
       " [3, 2, 2, 1, 1, 2, 2, 2, 2, 1],\n",
       " [1, 4, 1, 2, 3, 2, 2, 1, 4, 3],\n",
       " [3, 4, 2, 1, 2, 3, 3, 2, 3, 1],\n",
       " [3, 1, 2, 2, 1, 1, 1, 3, 2, 3],\n",
       " [3, 1, 3, 4, 4, 4, 4, 4, 1, 3],\n",
       " [3, 4, 3, 4, 3, 1, 2, 4, 1, 1],\n",
       " [4, 4, 1, 4, 4, 2, 2, 4, 1, 3],\n",
       " [4, 4, 3, 3, 3, 2, 2, 2, 1, 4],\n",
       " [2, 1, 1, 3, 3, 2, 4, 4, 4, 1],\n",
       " [1, 1, 1, 4, 4, 3, 4, 1, 1, 2],\n",
       " [4, 4, 3, 3, 1, 2, 4, 4, 2, 4],\n",
       " [3, 2, 4, 3, 3, 1, 4, 2, 3, 3],\n",
       " [1, 2, 1, 3, 4, 2, 4, 4, 1, 3],\n",
       " [4, 2, 1, 2, 4, 2, 1, 1, 3, 2],\n",
       " [1, 1, 3, 1, 4, 2, 3, 4, 4, 2],\n",
       " [3, 1, 3, 1, 2, 2, 4, 4, 4, 2],\n",
       " [1, 2, 2, 4, 3, 4, 3, 1, 1, 1],\n",
       " [4, 4, 4, 2, 4, 2, 1, 4, 2, 1],\n",
       " [1, 4, 3, 3, 1, 3, 3, 2, 2, 2],\n",
       " [1, 3, 4, 3, 1, 2, 1, 2, 1, 4],\n",
       " [2, 2, 3, 1, 3, 1, 4, 3, 2, 4],\n",
       " [1, 2, 1, 2, 1, 2, 1, 3, 2, 2],\n",
       " [3, 1, 2, 3, 1, 2, 2, 1, 3, 2],\n",
       " [1, 2, 1, 2, 4, 3, 3, 4, 1, 3],\n",
       " [1, 2, 4, 1, 1, 3, 2, 3, 2, 3],\n",
       " [1, 1, 4, 1, 1, 1, 1, 4, 2, 4],\n",
       " [4, 3, 2, 3, 4, 1, 2, 1, 4, 4],\n",
       " [4, 2, 3, 3, 1, 2, 1, 1, 3, 2],\n",
       " [4, 1, 4, 2, 1, 4, 4, 3, 2, 2],\n",
       " [2, 1, 3, 1, 2, 1, 4, 1, 1, 2],\n",
       " [4, 2, 4, 4, 4, 2, 4, 3, 3, 3],\n",
       " [3, 2, 1, 1, 3, 1, 3, 3, 1, 1],\n",
       " [4, 3, 1, 1, 1, 4, 3, 3, 2, 4],\n",
       " [4, 3, 2, 2, 3, 1, 4, 2, 1, 2],\n",
       " [1, 1, 4, 2, 2, 1, 3, 2, 4, 3],\n",
       " [2, 4, 3, 2, 4, 3, 2, 3, 1, 1],\n",
       " [3, 1, 1, 3, 1, 3, 3, 1, 2, 3],\n",
       " [3, 2, 1, 4, 2, 4, 1, 3, 3, 1],\n",
       " [1, 1, 1, 1, 1, 1, 3, 4, 4, 3],\n",
       " [2, 4, 2, 3, 2, 3, 1, 1, 4, 4],\n",
       " [2, 2, 4, 1, 3, 1, 4, 3, 2, 4],\n",
       " [1, 2, 2, 4, 1, 4, 3, 3, 2, 1],\n",
       " [3, 3, 3, 3, 4, 2, 2, 3, 2, 2],\n",
       " [2, 2, 4, 3, 1, 4, 2, 3, 3, 3],\n",
       " [3, 2, 3, 1, 1, 3, 2, 1, 1, 1],\n",
       " [4, 4, 1, 2, 2, 1, 1, 2, 4, 4],\n",
       " [1, 2, 4, 1, 3, 1, 3, 1, 2, 2],\n",
       " [2, 2, 3, 1, 2, 4, 4, 4, 1, 4],\n",
       " [4, 3, 1, 1, 4, 1, 3, 3, 2, 3],\n",
       " [2, 4, 2, 2, 4, 2, 3, 4, 1, 2],\n",
       " [3, 1, 4, 4, 4, 3, 1, 4, 3, 3],\n",
       " [1, 4, 4, 2, 4, 1, 3, 1, 4, 3],\n",
       " [1, 4, 4, 4, 2, 2, 2, 3, 1, 3],\n",
       " [3, 4, 4, 3, 1, 2, 3, 3, 1, 1],\n",
       " [3, 4, 4, 3, 4, 1, 2, 1, 2, 3],\n",
       " [3, 2, 4, 3, 2, 4, 2, 3, 3, 1],\n",
       " [2, 4, 3, 1, 1, 4, 3, 1, 4, 4],\n",
       " [2, 2, 3, 1, 1, 2, 3, 1, 4, 4],\n",
       " [4, 4, 2, 3, 4, 4, 1, 2, 1, 1],\n",
       " [1, 4, 3, 2, 4, 2, 4, 3, 3, 2],\n",
       " [1, 4, 2, 1, 3, 4, 3, 4, 1, 4],\n",
       " [1, 4, 2, 3, 4, 4, 3, 4, 3, 1],\n",
       " [2, 2, 3, 2, 3, 2, 4, 4, 2, 1],\n",
       " [2, 4, 2, 4, 1, 1, 2, 4, 1, 3],\n",
       " [2, 3, 2, 4, 4, 3, 4, 4, 4, 3],\n",
       " [4, 1, 2, 1, 3, 3, 4, 1, 3, 2],\n",
       " [3, 1, 2, 2, 4, 2, 4, 4, 3, 3],\n",
       " [4, 1, 4, 1, 2, 2, 2, 4, 1, 4],\n",
       " [2, 3, 2, 2, 3, 1, 2, 1, 3, 3],\n",
       " [3, 4, 1, 4, 3, 2, 4, 2, 4, 1],\n",
       " [2, 4, 3, 3, 1, 1, 4, 3, 2, 4],\n",
       " [4, 3, 1, 2, 1, 4, 4, 3, 1, 4],\n",
       " [4, 1, 3, 3, 2, 2, 2, 1, 2, 2],\n",
       " [1, 2, 3, 4, 3, 3, 4, 3, 4, 3],\n",
       " [1, 1, 2, 1, 4, 2, 3, 1, 2, 1],\n",
       " [2, 4, 4, 3, 2, 4, 3, 2, 3, 4],\n",
       " [3, 2, 1, 4, 2, 2, 3, 4, 1, 1],\n",
       " [3, 4, 1, 4, 3, 4, 4, 4, 3, 3],\n",
       " [3, 1, 2, 4, 2, 4, 4, 4, 3, 1],\n",
       " [3, 4, 2, 4, 4, 1, 4, 3, 1, 1],\n",
       " [1, 4, 1, 1, 3, 2, 3, 3, 2, 2],\n",
       " [1, 3, 4, 3, 2, 1, 1, 1, 4, 4],\n",
       " [2, 1, 3, 1, 3, 3, 4, 1, 2, 1],\n",
       " [1, 2, 2, 1, 2, 3, 4, 2, 3, 4],\n",
       " [2, 4, 1, 2, 3, 3, 4, 3, 3, 2],\n",
       " [4, 3, 1, 2, 3, 3, 3, 2, 2, 4],\n",
       " [2, 3, 3, 1, 2, 3, 1, 4, 4, 4],\n",
       " [3, 3, 4, 1, 4, 2, 3, 3, 2, 3],\n",
       " [2, 4, 4, 3, 3, 4, 2, 4, 2, 1],\n",
       " [4, 2, 2, 2, 3, 3, 1, 1, 2, 3],\n",
       " [2, 3, 3, 1, 2, 2, 3, 3, 4, 1],\n",
       " [4, 3, 2, 3, 4, 1, 3, 2, 4, 3],\n",
       " [2, 2, 3, 4, 2, 1, 4, 2, 3, 3],\n",
       " [4, 2, 2, 4, 4, 4, 1, 1, 1, 3],\n",
       " [1, 1, 1, 2, 1, 4, 1, 3, 3, 1],\n",
       " [4, 4, 2, 4, 2, 2, 4, 4, 2, 3],\n",
       " [1, 3, 4, 4, 2, 1, 4, 1, 3, 1],\n",
       " [3, 4, 4, 2, 3, 3, 1, 2, 2, 2],\n",
       " [3, 4, 4, 1, 1, 3, 4, 2, 4, 1],\n",
       " [4, 2, 1, 3, 4, 4, 3, 3, 2, 4],\n",
       " [1, 4, 2, 1, 1, 1, 2, 4, 1, 3],\n",
       " [2, 1, 2, 3, 1, 4, 2, 1, 1, 2],\n",
       " [3, 2, 4, 3, 4, 4, 2, 1, 3, 4],\n",
       " [1, 1, 1, 3, 1, 2, 4, 1, 4, 3],\n",
       " [4, 1, 3, 3, 3, 3, 3, 4, 1, 4],\n",
       " [1, 3, 3, 2, 2, 4, 4, 1, 1, 2],\n",
       " [2, 1, 4, 1, 4, 1, 3, 3, 4, 4],\n",
       " [4, 2, 2, 1, 2, 1, 1, 1, 4, 3],\n",
       " [2, 1, 3, 1, 4, 1, 2, 3, 4, 1],\n",
       " [2, 2, 4, 2, 2, 2, 2, 1, 4, 3],\n",
       " [3, 2, 1, 2, 2, 1, 4, 3, 1, 3],\n",
       " [1, 1, 2, 4, 3, 4, 2, 1, 3, 4],\n",
       " [3, 3, 3, 4, 3, 4, 1, 4, 2, 3],\n",
       " [2, 2, 1, 1, 4, 4, 3, 2, 1, 1],\n",
       " [3, 1, 2, 2, 3, 2, 4, 2, 4, 1],\n",
       " [4, 3, 3, 3, 3, 3, 2, 1, 4, 4],\n",
       " [1, 3, 3, 4, 3, 2, 2, 2, 1, 1],\n",
       " [2, 1, 2, 3, 1, 2, 1, 4, 4, 2],\n",
       " [2, 2, 4, 1, 4, 2, 2, 2, 2, 2],\n",
       " [2, 3, 3, 3, 4, 1, 2, 3, 4, 1],\n",
       " [2, 2, 1, 1, 1, 4, 3, 2, 3, 1],\n",
       " [2, 2, 3, 3, 2, 4, 1, 3, 2, 3],\n",
       " [2, 4, 3, 2, 3, 2, 1, 2, 2, 2],\n",
       " [2, 1, 4, 1, 4, 4, 1, 3, 4, 1],\n",
       " [2, 1, 4, 3, 3, 3, 2, 1, 1, 3],\n",
       " [2, 3, 4, 1, 2, 3, 2, 4, 4, 1],\n",
       " [2, 3, 3, 3, 1, 4, 3, 1, 1, 1],\n",
       " [1, 1, 1, 4, 4, 3, 2, 4, 2, 3],\n",
       " [4, 4, 3, 3, 2, 2, 3, 4, 1, 2],\n",
       " [3, 4, 4, 2, 2, 1, 2, 1, 3, 2],\n",
       " [1, 2, 3, 3, 1, 4, 3, 3, 3, 3],\n",
       " [4, 3, 4, 2, 4, 1, 2, 4, 4, 4],\n",
       " [4, 4, 4, 1, 1, 1, 4, 2, 1, 3],\n",
       " [3, 4, 2, 1, 4, 2, 3, 1, 4, 4],\n",
       " [2, 4, 4, 1, 3, 3, 2, 3, 2, 1],\n",
       " [2, 3, 4, 1, 3, 1, 2, 3, 4, 4],\n",
       " [4, 4, 1, 3, 4, 4, 4, 2, 3, 1],\n",
       " [2, 2, 1, 4, 4, 3, 4, 2, 2, 2],\n",
       " [1, 4, 4, 4, 4, 3, 3, 2, 2, 1],\n",
       " [2, 4, 2, 2, 3, 4, 1, 1, 1, 2],\n",
       " [1, 1, 1, 3, 4, 3, 4, 3, 4, 1],\n",
       " [1, 1, 3, 1, 2, 4, 3, 1, 1, 4],\n",
       " [1, 1, 4, 4, 2, 2, 4, 3, 2, 4],\n",
       " [1, 3, 1, 2, 1, 3, 4, 4, 3, 1],\n",
       " [1, 3, 4, 1, 2, 3, 2, 2, 4, 3],\n",
       " [1, 1, 3, 4, 1, 1, 1, 4, 1, 1],\n",
       " [2, 4, 1, 4, 4, 1, 1, 4, 4, 4],\n",
       " [2, 3, 1, 2, 2, 4, 3, 1, 2, 1],\n",
       " [2, 1, 4, 4, 3, 4, 2, 2, 2, 2],\n",
       " [4, 4, 3, 1, 3, 1, 4, 2, 3, 3],\n",
       " [4, 1, 3, 1, 3, 2, 4, 1, 4, 4],\n",
       " [1, 1, 3, 1, 4, 4, 1, 1, 3, 3],\n",
       " [3, 4, 1, 2, 1, 1, 3, 2, 1, 2],\n",
       " [2, 1, 3, 3, 1, 2, 2, 3, 3, 3],\n",
       " [2, 2, 3, 3, 2, 4, 2, 1, 1, 2],\n",
       " [1, 4, 4, 4, 1, 3, 4, 4, 3, 2],\n",
       " [3, 2, 2, 3, 4, 2, 3, 4, 2, 1],\n",
       " [4, 3, 1, 3, 2, 4, 1, 1, 1, 2],\n",
       " [4, 4, 2, 3, 1, 3, 2, 3, 3, 2],\n",
       " [1, 3, 4, 3, 3, 4, 1, 4, 1, 2],\n",
       " [2, 3, 3, 2, 4, 2, 1, 3, 4, 3],\n",
       " [2, 4, 2, 1, 2, 4, 2, 3, 3, 4],\n",
       " [3, 1, 1, 4, 2, 3, 3, 2, 2, 2],\n",
       " [2, 3, 1, 4, 4, 2, 1, 3, 3, 4],\n",
       " [2, 1, 4, 1, 2, 2, 4, 2, 1, 1],\n",
       " [4, 2, 3, 2, 4, 4, 3, 4, 4, 3],\n",
       " [3, 1, 4, 3, 1, 4, 3, 4, 1, 2],\n",
       " [4, 4, 4, 4, 3, 2, 4, 3, 2, 1],\n",
       " [1, 1, 1, 1, 2, 4, 1, 4, 4, 4],\n",
       " [4, 4, 2, 4, 2, 2, 4, 2, 1, 1],\n",
       " [1, 4, 1, 3, 3, 3, 1, 2, 3, 2],\n",
       " [2, 4, 3, 4, 4, 4, 1, 4, 2, 3],\n",
       " [2, 3, 1, 3, 3, 3, 3, 2, 3, 4],\n",
       " [3, 4, 1, 4, 2, 4, 2, 4, 3, 1],\n",
       " [2, 2, 3, 3, 4, 2, 4, 3, 2, 1],\n",
       " [1, 2, 2, 3, 2, 2, 1, 3, 4, 2],\n",
       " [3, 3, 1, 2, 2, 3, 2, 1, 1, 1],\n",
       " [2, 2, 1, 4, 3, 4, 2, 3, 3, 2],\n",
       " [4, 4, 4, 4, 1, 3, 4, 2, 1, 3],\n",
       " [2, 1, 3, 2, 3, 1, 4, 1, 2, 4],\n",
       " [3, 3, 3, 1, 3, 3, 3, 1, 2, 4],\n",
       " [3, 1, 3, 4, 2, 2, 3, 4, 3, 2],\n",
       " [1, 1, 1, 4, 4, 2, 4, 2, 2, 3],\n",
       " [1, 1, 2, 4, 2, 1, 3, 1, 2, 2],\n",
       " [1, 1, 4, 3, 1, 3, 3, 4, 2, 3],\n",
       " [3, 3, 3, 2, 4, 3, 1, 2, 4, 1],\n",
       " [1, 1, 3, 3, 1, 4, 3, 4, 3, 3],\n",
       " [3, 4, 3, 4, 3, 2, 3, 1, 4, 2],\n",
       " [4, 3, 1, 1, 1, 3, 3, 1, 3, 3],\n",
       " [2, 3, 2, 1, 4, 3, 1, 1, 3, 4],\n",
       " [4, 3, 1, 3, 4, 3, 1, 4, 4, 4],\n",
       " [1, 3, 4, 1, 1, 2, 4, 1, 3, 1],\n",
       " [1, 2, 4, 1, 3, 2, 1, 3, 4, 2],\n",
       " [1, 2, 3, 4, 4, 4, 4, 1, 3, 2],\n",
       " [1, 2, 4, 3, 1, 2, 2, 1, 2, 2],\n",
       " [1, 3, 1, 1, 3, 2, 1, 2, 2, 2],\n",
       " [1, 3, 4, 3, 1, 3, 4, 3, 1, 2],\n",
       " [4, 3, 1, 4, 4, 3, 1, 1, 4, 4],\n",
       " [2, 3, 2, 4, 4, 1, 1, 2, 4, 3],\n",
       " [1, 1, 4, 3, 2, 3, 4, 3, 3, 4],\n",
       " [2, 3, 4, 3, 4, 2, 1, 2, 1, 1],\n",
       " [3, 4, 4, 4, 2, 2, 2, 2, 3, 3],\n",
       " [1, 1, 4, 2, 3, 1, 4, 4, 2, 2],\n",
       " [4, 2, 2, 1, 1, 1, 3, 2, 1, 1],\n",
       " [4, 1, 4, 2, 4, 1, 3, 3, 2, 1],\n",
       " [2, 4, 2, 3, 2, 4, 1, 2, 4, 3],\n",
       " [1, 2, 2, 3, 2, 3, 3, 1, 3, 3],\n",
       " [3, 2, 3, 3, 3, 3, 2, 3, 4, 4],\n",
       " [4, 1, 4, 4, 1, 2, 2, 1, 2, 1],\n",
       " [3, 2, 1, 3, 3, 4, 1, 1, 4, 2],\n",
       " [1, 3, 1, 4, 1, 2, 4, 4, 3, 1],\n",
       " [4, 2, 2, 2, 3, 2, 3, 2, 1, 2],\n",
       " [2, 3, 1, 1, 3, 1, 2, 2, 1, 2],\n",
       " [1, 3, 3, 3, 4, 2, 3, 1, 1, 3],\n",
       " [3, 3, 1, 4, 3, 1, 1, 3, 2, 1],\n",
       " [2, 2, 4, 1, 4, 3, 4, 3, 2, 1],\n",
       " [4, 1, 2, 2, 2, 2, 2, 2, 4, 1],\n",
       " [4, 2, 3, 3, 2, 2, 2, 1, 1, 4],\n",
       " [1, 2, 1, 3, 3, 2, 1, 1, 4, 4],\n",
       " [3, 2, 3, 2, 2, 2, 2, 1, 2, 1],\n",
       " [2, 1, 1, 3, 3, 4, 3, 3, 2, 4],\n",
       " [3, 3, 1, 4, 4, 4, 1, 4, 4, 1],\n",
       " [4, 4, 2, 3, 4, 1, 2, 3, 3, 2],\n",
       " [1, 3, 3, 3, 4, 4, 2, 2, 1, 1],\n",
       " [2, 1, 3, 3, 1, 1, 2, 2, 1, 3],\n",
       " [4, 1, 2, 2, 1, 2, 3, 2, 4, 4]]"
      ]
     },
     "execution_count": 22,
     "metadata": {},
     "output_type": "execute_result"
    },
    {
     "data": {
      "application/javascript": [
       "\n",
       "            setTimeout(function() {\n",
       "                var nbb_cell_id = 22;\n",
       "                var nbb_unformatted_code = \"sequences\";\n",
       "                var nbb_formatted_code = \"sequences\";\n",
       "                var nbb_cells = Jupyter.notebook.get_cells();\n",
       "                for (var i = 0; i < nbb_cells.length; ++i) {\n",
       "                    if (nbb_cells[i].input_prompt_number == nbb_cell_id) {\n",
       "                        if (nbb_cells[i].get_text() == nbb_unformatted_code) {\n",
       "                             nbb_cells[i].set_text(nbb_formatted_code);\n",
       "                        }\n",
       "                        break;\n",
       "                    }\n",
       "                }\n",
       "            }, 500);\n",
       "            "
      ],
      "text/plain": [
       "<IPython.core.display.Javascript object>"
      ]
     },
     "metadata": {},
     "output_type": "display_data"
    }
   ],
   "source": [
    "sequences"
   ]
  },
  {
   "cell_type": "code",
   "execution_count": 23,
   "id": "e73be1c2",
   "metadata": {},
   "outputs": [
    {
     "data": {
      "text/plain": [
       "'TTTTT'"
      ]
     },
     "execution_count": 23,
     "metadata": {},
     "output_type": "execute_result"
    },
    {
     "data": {
      "application/javascript": [
       "\n",
       "            setTimeout(function() {\n",
       "                var nbb_cell_id = 23;\n",
       "                var nbb_unformatted_code = \"idx_word=tokenizer.index_word\\n''.join(idx_word[2] for w in sequences[10][:5])\";\n",
       "                var nbb_formatted_code = \"idx_word = tokenizer.index_word\\n\\\"\\\".join(idx_word[2] for w in sequences[10][:5])\";\n",
       "                var nbb_cells = Jupyter.notebook.get_cells();\n",
       "                for (var i = 0; i < nbb_cells.length; ++i) {\n",
       "                    if (nbb_cells[i].input_prompt_number == nbb_cell_id) {\n",
       "                        if (nbb_cells[i].get_text() == nbb_unformatted_code) {\n",
       "                             nbb_cells[i].set_text(nbb_formatted_code);\n",
       "                        }\n",
       "                        break;\n",
       "                    }\n",
       "                }\n",
       "            }, 500);\n",
       "            "
      ],
      "text/plain": [
       "<IPython.core.display.Javascript object>"
      ]
     },
     "metadata": {},
     "output_type": "display_data"
    }
   ],
   "source": [
    "idx_word = tokenizer.index_word\n",
    "\"\".join(idx_word[2] for w in sequences[10][:5])"
   ]
  },
  {
   "cell_type": "code",
   "execution_count": 24,
   "id": "9ecc46ad",
   "metadata": {},
   "outputs": [
    {
     "data": {
      "text/plain": [
       "4"
      ]
     },
     "execution_count": 24,
     "metadata": {},
     "output_type": "execute_result"
    },
    {
     "data": {
      "application/javascript": [
       "\n",
       "            setTimeout(function() {\n",
       "                var nbb_cell_id = 24;\n",
       "                var nbb_unformatted_code = \"len(idx_word)\";\n",
       "                var nbb_formatted_code = \"len(idx_word)\";\n",
       "                var nbb_cells = Jupyter.notebook.get_cells();\n",
       "                for (var i = 0; i < nbb_cells.length; ++i) {\n",
       "                    if (nbb_cells[i].input_prompt_number == nbb_cell_id) {\n",
       "                        if (nbb_cells[i].get_text() == nbb_unformatted_code) {\n",
       "                             nbb_cells[i].set_text(nbb_formatted_code);\n",
       "                        }\n",
       "                        break;\n",
       "                    }\n",
       "                }\n",
       "            }, 500);\n",
       "            "
      ],
      "text/plain": [
       "<IPython.core.display.Javascript object>"
      ]
     },
     "metadata": {},
     "output_type": "display_data"
    }
   ],
   "source": [
    "len(idx_word)"
   ]
  },
  {
   "cell_type": "code",
   "execution_count": 25,
   "id": "fdededdd",
   "metadata": {},
   "outputs": [
    {
     "data": {
      "text/plain": [
       "{1: 'G', 2: 'T', 3: 'C', 4: 'A'}"
      ]
     },
     "execution_count": 25,
     "metadata": {},
     "output_type": "execute_result"
    },
    {
     "data": {
      "application/javascript": [
       "\n",
       "            setTimeout(function() {\n",
       "                var nbb_cell_id = 25;\n",
       "                var nbb_unformatted_code = \"idx_word\";\n",
       "                var nbb_formatted_code = \"idx_word\";\n",
       "                var nbb_cells = Jupyter.notebook.get_cells();\n",
       "                for (var i = 0; i < nbb_cells.length; ++i) {\n",
       "                    if (nbb_cells[i].input_prompt_number == nbb_cell_id) {\n",
       "                        if (nbb_cells[i].get_text() == nbb_unformatted_code) {\n",
       "                             nbb_cells[i].set_text(nbb_formatted_code);\n",
       "                        }\n",
       "                        break;\n",
       "                    }\n",
       "                }\n",
       "            }, 500);\n",
       "            "
      ],
      "text/plain": [
       "<IPython.core.display.Javascript object>"
      ]
     },
     "metadata": {},
     "output_type": "display_data"
    }
   ],
   "source": [
    "idx_word"
   ]
  },
  {
   "cell_type": "code",
   "execution_count": 26,
   "id": "dc9f12ae",
   "metadata": {},
   "outputs": [
    {
     "data": {
      "application/javascript": [
       "\n",
       "            setTimeout(function() {\n",
       "                var nbb_cell_id = 26;\n",
       "                var nbb_unformatted_code = \"features=[]\\nlabels=[]\\ntraining_length=70\\nfor seq in sequences:\\n    for i in range(training_length,len(seq)):\\n        extract=seq[i-training_length:i+1]\\n        features.append(extract[:-1])\\n        labels.append(extract[-1])\";\n",
       "                var nbb_formatted_code = \"features = []\\nlabels = []\\ntraining_length = 70\\nfor seq in sequences:\\n    for i in range(training_length, len(seq)):\\n        extract = seq[i - training_length : i + 1]\\n        features.append(extract[:-1])\\n        labels.append(extract[-1])\";\n",
       "                var nbb_cells = Jupyter.notebook.get_cells();\n",
       "                for (var i = 0; i < nbb_cells.length; ++i) {\n",
       "                    if (nbb_cells[i].input_prompt_number == nbb_cell_id) {\n",
       "                        if (nbb_cells[i].get_text() == nbb_unformatted_code) {\n",
       "                             nbb_cells[i].set_text(nbb_formatted_code);\n",
       "                        }\n",
       "                        break;\n",
       "                    }\n",
       "                }\n",
       "            }, 500);\n",
       "            "
      ],
      "text/plain": [
       "<IPython.core.display.Javascript object>"
      ]
     },
     "metadata": {},
     "output_type": "display_data"
    }
   ],
   "source": [
    "features = []\n",
    "labels = []\n",
    "training_length = 70\n",
    "for seq in sequences:\n",
    "    for i in range(training_length, len(seq)):\n",
    "        extract = seq[i - training_length : i + 1]\n",
    "        features.append(extract[:-1])\n",
    "        labels.append(extract[-1])"
   ]
  },
  {
   "cell_type": "code",
   "execution_count": 27,
   "id": "0580aeb3",
   "metadata": {},
   "outputs": [
    {
     "data": {
      "text/plain": [
       "[]"
      ]
     },
     "execution_count": 27,
     "metadata": {},
     "output_type": "execute_result"
    },
    {
     "data": {
      "application/javascript": [
       "\n",
       "            setTimeout(function() {\n",
       "                var nbb_cell_id = 27;\n",
       "                var nbb_unformatted_code = \"features\";\n",
       "                var nbb_formatted_code = \"features\";\n",
       "                var nbb_cells = Jupyter.notebook.get_cells();\n",
       "                for (var i = 0; i < nbb_cells.length; ++i) {\n",
       "                    if (nbb_cells[i].input_prompt_number == nbb_cell_id) {\n",
       "                        if (nbb_cells[i].get_text() == nbb_unformatted_code) {\n",
       "                             nbb_cells[i].set_text(nbb_formatted_code);\n",
       "                        }\n",
       "                        break;\n",
       "                    }\n",
       "                }\n",
       "            }, 500);\n",
       "            "
      ],
      "text/plain": [
       "<IPython.core.display.Javascript object>"
      ]
     },
     "metadata": {},
     "output_type": "display_data"
    }
   ],
   "source": [
    "features"
   ]
  },
  {
   "cell_type": "code",
   "execution_count": 28,
   "id": "46c04b9f",
   "metadata": {},
   "outputs": [
    {
     "data": {
      "text/plain": [
       "[]"
      ]
     },
     "execution_count": 28,
     "metadata": {},
     "output_type": "execute_result"
    },
    {
     "data": {
      "application/javascript": [
       "\n",
       "            setTimeout(function() {\n",
       "                var nbb_cell_id = 28;\n",
       "                var nbb_unformatted_code = \"labels\";\n",
       "                var nbb_formatted_code = \"labels\";\n",
       "                var nbb_cells = Jupyter.notebook.get_cells();\n",
       "                for (var i = 0; i < nbb_cells.length; ++i) {\n",
       "                    if (nbb_cells[i].input_prompt_number == nbb_cell_id) {\n",
       "                        if (nbb_cells[i].get_text() == nbb_unformatted_code) {\n",
       "                             nbb_cells[i].set_text(nbb_formatted_code);\n",
       "                        }\n",
       "                        break;\n",
       "                    }\n",
       "                }\n",
       "            }, 500);\n",
       "            "
      ],
      "text/plain": [
       "<IPython.core.display.Javascript object>"
      ]
     },
     "metadata": {},
     "output_type": "display_data"
    }
   ],
   "source": [
    "labels"
   ]
  },
  {
   "cell_type": "code",
   "execution_count": 29,
   "id": "d58f4444",
   "metadata": {},
   "outputs": [
    {
     "data": {
      "application/javascript": [
       "\n",
       "            setTimeout(function() {\n",
       "                var nbb_cell_id = 29;\n",
       "                var nbb_unformatted_code = \"extract = sequences[0 - 70 : 0 + 1]\";\n",
       "                var nbb_formatted_code = \"extract = sequences[0 - 70 : 0 + 1]\";\n",
       "                var nbb_cells = Jupyter.notebook.get_cells();\n",
       "                for (var i = 0; i < nbb_cells.length; ++i) {\n",
       "                    if (nbb_cells[i].input_prompt_number == nbb_cell_id) {\n",
       "                        if (nbb_cells[i].get_text() == nbb_unformatted_code) {\n",
       "                             nbb_cells[i].set_text(nbb_formatted_code);\n",
       "                        }\n",
       "                        break;\n",
       "                    }\n",
       "                }\n",
       "            }, 500);\n",
       "            "
      ],
      "text/plain": [
       "<IPython.core.display.Javascript object>"
      ]
     },
     "metadata": {},
     "output_type": "display_data"
    }
   ],
   "source": [
    "extract = sequences[0 - 70 : 0 + 1]"
   ]
  },
  {
   "cell_type": "code",
   "execution_count": 30,
   "id": "abb7800d",
   "metadata": {},
   "outputs": [
    {
     "data": {
      "text/plain": [
       "[]"
      ]
     },
     "execution_count": 30,
     "metadata": {},
     "output_type": "execute_result"
    },
    {
     "data": {
      "application/javascript": [
       "\n",
       "            setTimeout(function() {\n",
       "                var nbb_cell_id = 30;\n",
       "                var nbb_unformatted_code = \"extract\";\n",
       "                var nbb_formatted_code = \"extract\";\n",
       "                var nbb_cells = Jupyter.notebook.get_cells();\n",
       "                for (var i = 0; i < nbb_cells.length; ++i) {\n",
       "                    if (nbb_cells[i].input_prompt_number == nbb_cell_id) {\n",
       "                        if (nbb_cells[i].get_text() == nbb_unformatted_code) {\n",
       "                             nbb_cells[i].set_text(nbb_formatted_code);\n",
       "                        }\n",
       "                        break;\n",
       "                    }\n",
       "                }\n",
       "            }, 500);\n",
       "            "
      ],
      "text/plain": [
       "<IPython.core.display.Javascript object>"
      ]
     },
     "metadata": {},
     "output_type": "display_data"
    }
   ],
   "source": [
    "extract"
   ]
  },
  {
   "cell_type": "code",
   "execution_count": 31,
   "id": "b7eb05e4",
   "metadata": {},
   "outputs": [
    {
     "data": {
      "text/plain": [
       "5"
      ]
     },
     "execution_count": 31,
     "metadata": {},
     "output_type": "execute_result"
    },
    {
     "data": {
      "application/javascript": [
       "\n",
       "            setTimeout(function() {\n",
       "                var nbb_cell_id = 31;\n",
       "                var nbb_unformatted_code = \"num_words=len(idx_word)+1\\nnum_words\";\n",
       "                var nbb_formatted_code = \"num_words = len(idx_word) + 1\\nnum_words\";\n",
       "                var nbb_cells = Jupyter.notebook.get_cells();\n",
       "                for (var i = 0; i < nbb_cells.length; ++i) {\n",
       "                    if (nbb_cells[i].input_prompt_number == nbb_cell_id) {\n",
       "                        if (nbb_cells[i].get_text() == nbb_unformatted_code) {\n",
       "                             nbb_cells[i].set_text(nbb_formatted_code);\n",
       "                        }\n",
       "                        break;\n",
       "                    }\n",
       "                }\n",
       "            }, 500);\n",
       "            "
      ],
      "text/plain": [
       "<IPython.core.display.Javascript object>"
      ]
     },
     "metadata": {},
     "output_type": "display_data"
    }
   ],
   "source": [
    "num_words = len(idx_word) + 1\n",
    "num_words"
   ]
  },
  {
   "cell_type": "code",
   "execution_count": 32,
   "id": "8ca0fc6f",
   "metadata": {},
   "outputs": [
    {
     "ename": "ValueError",
     "evalue": "Expected 2D array, got 1D array instead:\narray=[].\nReshape your data either using array.reshape(-1, 1) if your data has a single feature or array.reshape(1, -1) if it contains a single sample.",
     "output_type": "error",
     "traceback": [
      "\u001b[1;31m---------------------------------------------------------------------------\u001b[0m",
      "\u001b[1;31mValueError\u001b[0m                                Traceback (most recent call last)",
      "\u001b[1;32m~\\AppData\\Local\\Temp/ipykernel_25132/1503621659.py\u001b[0m in \u001b[0;36m<module>\u001b[1;34m\u001b[0m\n\u001b[0;32m      1\u001b[0m \u001b[0mselector\u001b[0m\u001b[1;33m=\u001b[0m\u001b[0mSelectKBest\u001b[0m\u001b[1;33m(\u001b[0m\u001b[0mf_classif\u001b[0m\u001b[1;33m,\u001b[0m\u001b[0mk\u001b[0m\u001b[1;33m=\u001b[0m\u001b[1;36m10\u001b[0m\u001b[1;33m)\u001b[0m\u001b[1;33m\u001b[0m\u001b[1;33m\u001b[0m\u001b[0m\n\u001b[1;32m----> 2\u001b[1;33m \u001b[0mselected_features\u001b[0m\u001b[1;33m=\u001b[0m\u001b[0mselector\u001b[0m\u001b[1;33m.\u001b[0m\u001b[0mfit_transform\u001b[0m\u001b[1;33m(\u001b[0m\u001b[0mfeatures\u001b[0m\u001b[1;33m,\u001b[0m\u001b[0mlabels\u001b[0m\u001b[1;33m)\u001b[0m\u001b[1;33m\u001b[0m\u001b[1;33m\u001b[0m\u001b[0m\n\u001b[0m",
      "\u001b[1;32mc:\\users\\psraj\\appdata\\local\\programs\\python\\python38\\lib\\site-packages\\sklearn\\base.py\u001b[0m in \u001b[0;36mfit_transform\u001b[1;34m(self, X, y, **fit_params)\u001b[0m\n\u001b[0;32m    853\u001b[0m         \u001b[1;32melse\u001b[0m\u001b[1;33m:\u001b[0m\u001b[1;33m\u001b[0m\u001b[1;33m\u001b[0m\u001b[0m\n\u001b[0;32m    854\u001b[0m             \u001b[1;31m# fit method of arity 2 (supervised transformation)\u001b[0m\u001b[1;33m\u001b[0m\u001b[1;33m\u001b[0m\u001b[1;33m\u001b[0m\u001b[0m\n\u001b[1;32m--> 855\u001b[1;33m             \u001b[1;32mreturn\u001b[0m \u001b[0mself\u001b[0m\u001b[1;33m.\u001b[0m\u001b[0mfit\u001b[0m\u001b[1;33m(\u001b[0m\u001b[0mX\u001b[0m\u001b[1;33m,\u001b[0m \u001b[0my\u001b[0m\u001b[1;33m,\u001b[0m \u001b[1;33m**\u001b[0m\u001b[0mfit_params\u001b[0m\u001b[1;33m)\u001b[0m\u001b[1;33m.\u001b[0m\u001b[0mtransform\u001b[0m\u001b[1;33m(\u001b[0m\u001b[0mX\u001b[0m\u001b[1;33m)\u001b[0m\u001b[1;33m\u001b[0m\u001b[1;33m\u001b[0m\u001b[0m\n\u001b[0m\u001b[0;32m    856\u001b[0m \u001b[1;33m\u001b[0m\u001b[0m\n\u001b[0;32m    857\u001b[0m \u001b[1;33m\u001b[0m\u001b[0m\n",
      "\u001b[1;32mc:\\users\\psraj\\appdata\\local\\programs\\python\\python38\\lib\\site-packages\\sklearn\\feature_selection\\_univariate_selection.py\u001b[0m in \u001b[0;36mfit\u001b[1;34m(self, X, y)\u001b[0m\n\u001b[0;32m    395\u001b[0m             \u001b[0mReturns\u001b[0m \u001b[0mthe\u001b[0m \u001b[0minstance\u001b[0m \u001b[0mitself\u001b[0m\u001b[1;33m.\u001b[0m\u001b[1;33m\u001b[0m\u001b[1;33m\u001b[0m\u001b[0m\n\u001b[0;32m    396\u001b[0m         \"\"\"\n\u001b[1;32m--> 397\u001b[1;33m         X, y = self._validate_data(\n\u001b[0m\u001b[0;32m    398\u001b[0m             \u001b[0mX\u001b[0m\u001b[1;33m,\u001b[0m \u001b[0my\u001b[0m\u001b[1;33m,\u001b[0m \u001b[0maccept_sparse\u001b[0m\u001b[1;33m=\u001b[0m\u001b[1;33m[\u001b[0m\u001b[1;34m\"csr\"\u001b[0m\u001b[1;33m,\u001b[0m \u001b[1;34m\"csc\"\u001b[0m\u001b[1;33m]\u001b[0m\u001b[1;33m,\u001b[0m \u001b[0mmulti_output\u001b[0m\u001b[1;33m=\u001b[0m\u001b[1;32mTrue\u001b[0m\u001b[1;33m\u001b[0m\u001b[1;33m\u001b[0m\u001b[0m\n\u001b[0;32m    399\u001b[0m         )\n",
      "\u001b[1;32mc:\\users\\psraj\\appdata\\local\\programs\\python\\python38\\lib\\site-packages\\sklearn\\base.py\u001b[0m in \u001b[0;36m_validate_data\u001b[1;34m(self, X, y, reset, validate_separately, **check_params)\u001b[0m\n\u001b[0;32m    579\u001b[0m                 \u001b[0my\u001b[0m \u001b[1;33m=\u001b[0m \u001b[0mcheck_array\u001b[0m\u001b[1;33m(\u001b[0m\u001b[0my\u001b[0m\u001b[1;33m,\u001b[0m \u001b[1;33m**\u001b[0m\u001b[0mcheck_y_params\u001b[0m\u001b[1;33m)\u001b[0m\u001b[1;33m\u001b[0m\u001b[1;33m\u001b[0m\u001b[0m\n\u001b[0;32m    580\u001b[0m             \u001b[1;32melse\u001b[0m\u001b[1;33m:\u001b[0m\u001b[1;33m\u001b[0m\u001b[1;33m\u001b[0m\u001b[0m\n\u001b[1;32m--> 581\u001b[1;33m                 \u001b[0mX\u001b[0m\u001b[1;33m,\u001b[0m \u001b[0my\u001b[0m \u001b[1;33m=\u001b[0m \u001b[0mcheck_X_y\u001b[0m\u001b[1;33m(\u001b[0m\u001b[0mX\u001b[0m\u001b[1;33m,\u001b[0m \u001b[0my\u001b[0m\u001b[1;33m,\u001b[0m \u001b[1;33m**\u001b[0m\u001b[0mcheck_params\u001b[0m\u001b[1;33m)\u001b[0m\u001b[1;33m\u001b[0m\u001b[1;33m\u001b[0m\u001b[0m\n\u001b[0m\u001b[0;32m    582\u001b[0m             \u001b[0mout\u001b[0m \u001b[1;33m=\u001b[0m \u001b[0mX\u001b[0m\u001b[1;33m,\u001b[0m \u001b[0my\u001b[0m\u001b[1;33m\u001b[0m\u001b[1;33m\u001b[0m\u001b[0m\n\u001b[0;32m    583\u001b[0m \u001b[1;33m\u001b[0m\u001b[0m\n",
      "\u001b[1;32mc:\\users\\psraj\\appdata\\local\\programs\\python\\python38\\lib\\site-packages\\sklearn\\utils\\validation.py\u001b[0m in \u001b[0;36mcheck_X_y\u001b[1;34m(X, y, accept_sparse, accept_large_sparse, dtype, order, copy, force_all_finite, ensure_2d, allow_nd, multi_output, ensure_min_samples, ensure_min_features, y_numeric, estimator)\u001b[0m\n\u001b[0;32m    962\u001b[0m         \u001b[1;32mraise\u001b[0m \u001b[0mValueError\u001b[0m\u001b[1;33m(\u001b[0m\u001b[1;34m\"y cannot be None\"\u001b[0m\u001b[1;33m)\u001b[0m\u001b[1;33m\u001b[0m\u001b[1;33m\u001b[0m\u001b[0m\n\u001b[0;32m    963\u001b[0m \u001b[1;33m\u001b[0m\u001b[0m\n\u001b[1;32m--> 964\u001b[1;33m     X = check_array(\n\u001b[0m\u001b[0;32m    965\u001b[0m         \u001b[0mX\u001b[0m\u001b[1;33m,\u001b[0m\u001b[1;33m\u001b[0m\u001b[1;33m\u001b[0m\u001b[0m\n\u001b[0;32m    966\u001b[0m         \u001b[0maccept_sparse\u001b[0m\u001b[1;33m=\u001b[0m\u001b[0maccept_sparse\u001b[0m\u001b[1;33m,\u001b[0m\u001b[1;33m\u001b[0m\u001b[1;33m\u001b[0m\u001b[0m\n",
      "\u001b[1;32mc:\\users\\psraj\\appdata\\local\\programs\\python\\python38\\lib\\site-packages\\sklearn\\utils\\validation.py\u001b[0m in \u001b[0;36mcheck_array\u001b[1;34m(array, accept_sparse, accept_large_sparse, dtype, order, copy, force_all_finite, ensure_2d, allow_nd, ensure_min_samples, ensure_min_features, estimator)\u001b[0m\n\u001b[0;32m    767\u001b[0m             \u001b[1;31m# If input is 1D raise error\u001b[0m\u001b[1;33m\u001b[0m\u001b[1;33m\u001b[0m\u001b[1;33m\u001b[0m\u001b[0m\n\u001b[0;32m    768\u001b[0m             \u001b[1;32mif\u001b[0m \u001b[0marray\u001b[0m\u001b[1;33m.\u001b[0m\u001b[0mndim\u001b[0m \u001b[1;33m==\u001b[0m \u001b[1;36m1\u001b[0m\u001b[1;33m:\u001b[0m\u001b[1;33m\u001b[0m\u001b[1;33m\u001b[0m\u001b[0m\n\u001b[1;32m--> 769\u001b[1;33m                 raise ValueError(\n\u001b[0m\u001b[0;32m    770\u001b[0m                     \u001b[1;34m\"Expected 2D array, got 1D array instead:\\narray={}.\\n\"\u001b[0m\u001b[1;33m\u001b[0m\u001b[1;33m\u001b[0m\u001b[0m\n\u001b[0;32m    771\u001b[0m                     \u001b[1;34m\"Reshape your data either using array.reshape(-1, 1) if \"\u001b[0m\u001b[1;33m\u001b[0m\u001b[1;33m\u001b[0m\u001b[0m\n",
      "\u001b[1;31mValueError\u001b[0m: Expected 2D array, got 1D array instead:\narray=[].\nReshape your data either using array.reshape(-1, 1) if your data has a single feature or array.reshape(1, -1) if it contains a single sample."
     ]
    },
    {
     "data": {
      "application/javascript": [
       "\n",
       "            setTimeout(function() {\n",
       "                var nbb_cell_id = 32;\n",
       "                var nbb_unformatted_code = \"selector=SelectKBest(f_classif,k=10)\\nselected_features=selector.fit_transform(features,labels)\";\n",
       "                var nbb_formatted_code = \"selector = SelectKBest(f_classif, k=10)\\nselected_features = selector.fit_transform(features, labels)\";\n",
       "                var nbb_cells = Jupyter.notebook.get_cells();\n",
       "                for (var i = 0; i < nbb_cells.length; ++i) {\n",
       "                    if (nbb_cells[i].input_prompt_number == nbb_cell_id) {\n",
       "                        if (nbb_cells[i].get_text() == nbb_unformatted_code) {\n",
       "                             nbb_cells[i].set_text(nbb_formatted_code);\n",
       "                        }\n",
       "                        break;\n",
       "                    }\n",
       "                }\n",
       "            }, 500);\n",
       "            "
      ],
      "text/plain": [
       "<IPython.core.display.Javascript object>"
      ]
     },
     "metadata": {},
     "output_type": "display_data"
    }
   ],
   "source": [
    "selector = SelectKBest(f_classif, k=10)\n",
    "selected_features = selector.fit_transform(features, labels)"
   ]
  },
  {
   "cell_type": "code",
   "execution_count": 134,
   "id": "5ddbdeb1",
   "metadata": {},
   "outputs": [
    {
     "data": {
      "application/javascript": [
       "\n",
       "            setTimeout(function() {\n",
       "                var nbb_cell_id = 134;\n",
       "                var nbb_unformatted_code = \"path = \\\"MN908947.txt\\\"\\nfile = open(path, \\\"r\\\")\\ndata = [[]]\";\n",
       "                var nbb_formatted_code = \"path = \\\"MN908947.txt\\\"\\nfile = open(path, \\\"r\\\")\\ndata = [[]]\";\n",
       "                var nbb_cells = Jupyter.notebook.get_cells();\n",
       "                for (var i = 0; i < nbb_cells.length; ++i) {\n",
       "                    if (nbb_cells[i].input_prompt_number == nbb_cell_id) {\n",
       "                        if (nbb_cells[i].get_text() == nbb_unformatted_code) {\n",
       "                             nbb_cells[i].set_text(nbb_formatted_code);\n",
       "                        }\n",
       "                        break;\n",
       "                    }\n",
       "                }\n",
       "            }, 500);\n",
       "            "
      ],
      "text/plain": [
       "<IPython.core.display.Javascript object>"
      ]
     },
     "metadata": {},
     "output_type": "display_data"
    }
   ],
   "source": [
    "path = \"MN908947.txt\"\n",
    "file = open(path, \"r\")\n",
    "data = [[]]"
   ]
  },
  {
   "cell_type": "code",
   "execution_count": 135,
   "id": "1a27d714",
   "metadata": {},
   "outputs": [
    {
     "data": {
      "text/plain": [
       "'MN908947.txt'"
      ]
     },
     "execution_count": 135,
     "metadata": {},
     "output_type": "execute_result"
    },
    {
     "data": {
      "application/javascript": [
       "\n",
       "            setTimeout(function() {\n",
       "                var nbb_cell_id = 135;\n",
       "                var nbb_unformatted_code = \"path\";\n",
       "                var nbb_formatted_code = \"path\";\n",
       "                var nbb_cells = Jupyter.notebook.get_cells();\n",
       "                for (var i = 0; i < nbb_cells.length; ++i) {\n",
       "                    if (nbb_cells[i].input_prompt_number == nbb_cell_id) {\n",
       "                        if (nbb_cells[i].get_text() == nbb_unformatted_code) {\n",
       "                             nbb_cells[i].set_text(nbb_formatted_code);\n",
       "                        }\n",
       "                        break;\n",
       "                    }\n",
       "                }\n",
       "            }, 500);\n",
       "            "
      ],
      "text/plain": [
       "<IPython.core.display.Javascript object>"
      ]
     },
     "metadata": {},
     "output_type": "display_data"
    }
   ],
   "source": [
    "path"
   ]
  },
  {
   "cell_type": "code",
   "execution_count": 136,
   "id": "5326c208",
   "metadata": {},
   "outputs": [
    {
     "data": {
      "text/plain": [
       "[[]]"
      ]
     },
     "execution_count": 136,
     "metadata": {},
     "output_type": "execute_result"
    },
    {
     "data": {
      "application/javascript": [
       "\n",
       "            setTimeout(function() {\n",
       "                var nbb_cell_id = 136;\n",
       "                var nbb_unformatted_code = \"data\";\n",
       "                var nbb_formatted_code = \"data\";\n",
       "                var nbb_cells = Jupyter.notebook.get_cells();\n",
       "                for (var i = 0; i < nbb_cells.length; ++i) {\n",
       "                    if (nbb_cells[i].input_prompt_number == nbb_cell_id) {\n",
       "                        if (nbb_cells[i].get_text() == nbb_unformatted_code) {\n",
       "                             nbb_cells[i].set_text(nbb_formatted_code);\n",
       "                        }\n",
       "                        break;\n",
       "                    }\n",
       "                }\n",
       "            }, 500);\n",
       "            "
      ],
      "text/plain": [
       "<IPython.core.display.Javascript object>"
      ]
     },
     "metadata": {},
     "output_type": "display_data"
    }
   ],
   "source": [
    "data"
   ]
  },
  {
   "cell_type": "code",
   "execution_count": 137,
   "id": "ceeff522",
   "metadata": {},
   "outputs": [
    {
     "data": {
      "application/javascript": [
       "\n",
       "            setTimeout(function() {\n",
       "                var nbb_cell_id = 137;\n",
       "                var nbb_unformatted_code = \"for line in file:\\n    data.append([line])\";\n",
       "                var nbb_formatted_code = \"for line in file:\\n    data.append([line])\";\n",
       "                var nbb_cells = Jupyter.notebook.get_cells();\n",
       "                for (var i = 0; i < nbb_cells.length; ++i) {\n",
       "                    if (nbb_cells[i].input_prompt_number == nbb_cell_id) {\n",
       "                        if (nbb_cells[i].get_text() == nbb_unformatted_code) {\n",
       "                             nbb_cells[i].set_text(nbb_formatted_code);\n",
       "                        }\n",
       "                        break;\n",
       "                    }\n",
       "                }\n",
       "            }, 500);\n",
       "            "
      ],
      "text/plain": [
       "<IPython.core.display.Javascript object>"
      ]
     },
     "metadata": {},
     "output_type": "display_data"
    }
   ],
   "source": [
    "for line in file:\n",
    "    data.append([line])"
   ]
  },
  {
   "cell_type": "code",
   "execution_count": 138,
   "id": "390d18be",
   "metadata": {},
   "outputs": [
    {
     "data": {
      "text/plain": [
       "[[],\n",
       " ['>MN908947.3 Severe acute respiratory syndrome coronavirus 2 isolate Wuhan-Hu-1, complete genome\\n'],\n",
       " ['ATTAAAGGTTTATACCTTCCCAGGTAACAAACCAACCAACTTTCGATCTCTTGTAGATCTGTTCTCTAAA\\n'],\n",
       " ['CGAACTTTAAAATCTGTGTGGCTGTCACTCGGCTGCATGCTTAGTGCACTCACGCAGTATAATTAATAAC\\n'],\n",
       " ['TAATTACTGTCGTTGACAGGACACGAGTAACTCGTCTATCTTCTGCAGGCTGCTTACGGTTTCGTCCGTG\\n'],\n",
       " ['TTGCAGCCGATCATCAGCACATCTAGGTTTCGTCCGGGTGTGACCGAAAGGTAAGATGGAGAGCCTTGTC\\n'],\n",
       " ['CCTGGTTTCAACGAGAAAACACACGTCCAACTCAGTTTGCCTGTTTTACAGGTTCGCGACGTGCTCGTAC\\n'],\n",
       " ['GTGGCTTTGGAGACTCCGTGGAGGAGGTCTTATCAGAGGCACGTCAACATCTTAAAGATGGCACTTGTGG\\n'],\n",
       " ['CTTAGTAGAAGTTGAAAAAGGCGTTTTGCCTCAACTTGAACAGCCCTATGTGTTCATCAAACGTTCGGAT\\n'],\n",
       " ['GCTCGAACTGCACCTCATGGTCATGTTATGGTTGAGCTGGTAGCAGAACTCGAAGGCATTCAGTACGGTC\\n'],\n",
       " ['GTAGTGGTGAGACACTTGGTGTCCTTGTCCCTCATGTGGGCGAAATACCAGTGGCTTACCGCAAGGTTCT\\n'],\n",
       " ['TCTTCGTAAGAACGGTAATAAAGGAGCTGGTGGCCATAGTTACGGCGCCGATCTAAAGTCATTTGACTTA\\n'],\n",
       " ['GGCGACGAGCTTGGCACTGATCCTTATGAAGATTTTCAAGAAAACTGGAACACTAAACATAGCAGTGGTG\\n'],\n",
       " ['TTACCCGTGAACTCATGCGTGAGCTTAACGGAGGGGCATACACTCGCTATGTCGATAACAACTTCTGTGG\\n'],\n",
       " ['CCCTGATGGCTACCCTCTTGAGTGCATTAAAGACCTTCTAGCACGTGCTGGTAAAGCTTCATGCACTTTG\\n'],\n",
       " ['TCCGAACAACTGGACTTTATTGACACTAAGAGGGGTGTATACTGCTGCCGTGAACATGAGCATGAAATTG\\n'],\n",
       " ['CTTGGTACACGGAACGTTCTGAAAAGAGCTATGAATTGCAGACACCTTTTGAAATTAAATTGGCAAAGAA\\n'],\n",
       " ['ATTTGACACCTTCAATGGGGAATGTCCAAATTTTGTATTTCCCTTAAATTCCATAATCAAGACTATTCAA\\n'],\n",
       " ['CCAAGGGTTGAAAAGAAAAAGCTTGATGGCTTTATGGGTAGAATTCGATCTGTCTATCCAGTTGCGTCAC\\n'],\n",
       " ['CAAATGAATGCAACCAAATGTGCCTTTCAACTCTCATGAAGTGTGATCATTGTGGTGAAACTTCATGGCA\\n'],\n",
       " ['GACGGGCGATTTTGTTAAAGCCACTTGCGAATTTTGTGGCACTGAGAATTTGACTAAAGAAGGTGCCACT\\n'],\n",
       " ['ACTTGTGGTTACTTACCCCAAAATGCTGTTGTTAAAATTTATTGTCCAGCATGTCACAATTCAGAAGTAG\\n'],\n",
       " ['GACCTGAGCATAGTCTTGCCGAATACCATAATGAATCTGGCTTGAAAACCATTCTTCGTAAGGGTGGTCG\\n'],\n",
       " ['CACTATTGCCTTTGGAGGCTGTGTGTTCTCTTATGTTGGTTGCCATAACAAGTGTGCCTATTGGGTTCCA\\n'],\n",
       " ['CGTGCTAGCGCTAACATAGGTTGTAACCATACAGGTGTTGTTGGAGAAGGTTCCGAAGGTCTTAATGACA\\n'],\n",
       " ['ACCTTCTTGAAATACTCCAAAAAGAGAAAGTCAACATCAATATTGTTGGTGACTTTAAACTTAATGAAGA\\n'],\n",
       " ['GATCGCCATTATTTTGGCATCTTTTTCTGCTTCCACAAGTGCTTTTGTGGAAACTGTGAAAGGTTTGGAT\\n'],\n",
       " ['TATAAAGCATTCAAACAAATTGTTGAATCCTGTGGTAATTTTAAAGTTACAAAAGGAAAAGCTAAAAAAG\\n'],\n",
       " ['GTGCCTGGAATATTGGTGAACAGAAATCAATACTGAGTCCTCTTTATGCATTTGCATCAGAGGCTGCTCG\\n'],\n",
       " ['TGTTGTACGATCAATTTTCTCCCGCACTCTTGAAACTGCTCAAAATTCTGTGCGTGTTTTACAGAAGGCC\\n'],\n",
       " ['GCTATAACAATACTAGATGGAATTTCACAGTATTCACTGAGACTCATTGATGCTATGATGTTCACATCTG\\n'],\n",
       " ['ATTTGGCTACTAACAATCTAGTTGTAATGGCCTACATTACAGGTGGTGTTGTTCAGTTGACTTCGCAGTG\\n'],\n",
       " ['GCTAACTAACATCTTTGGCACTGTTTATGAAAAACTCAAACCCGTCCTTGATTGGCTTGAAGAGAAGTTT\\n'],\n",
       " ['AAGGAAGGTGTAGAGTTTCTTAGAGACGGTTGGGAAATTGTTAAATTTATCTCAACCTGTGCTTGTGAAA\\n'],\n",
       " ['TTGTCGGTGGACAAATTGTCACCTGTGCAAAGGAAATTAAGGAGAGTGTTCAGACATTCTTTAAGCTTGT\\n'],\n",
       " ['AAATAAATTTTTGGCTTTGTGTGCTGACTCTATCATTATTGGTGGAGCTAAACTTAAAGCCTTGAATTTA\\n'],\n",
       " ['GGTGAAACATTTGTCACGCACTCAAAGGGATTGTACAGAAAGTGTGTTAAATCCAGAGAAGAAACTGGCC\\n'],\n",
       " ['TACTCATGCCTCTAAAAGCCCCAAAAGAAATTATCTTCTTAGAGGGAGAAACACTTCCCACAGAAGTGTT\\n'],\n",
       " ['AACAGAGGAAGTTGTCTTGAAAACTGGTGATTTACAACCATTAGAACAACCTACTAGTGAAGCTGTTGAA\\n'],\n",
       " ['GCTCCATTGGTTGGTACACCAGTTTGTATTAACGGGCTTATGTTGCTCGAAATCAAAGACACAGAAAAGT\\n'],\n",
       " ['ACTGTGCCCTTGCACCTAATATGATGGTAACAAACAATACCTTCACACTCAAAGGCGGTGCACCAACAAA\\n'],\n",
       " ['GGTTACTTTTGGTGATGACACTGTGATAGAAGTGCAAGGTTACAAGAGTGTGAATATCACTTTTGAACTT\\n'],\n",
       " ['GATGAAAGGATTGATAAAGTACTTAATGAGAAGTGCTCTGCCTATACAGTTGAACTCGGTACAGAAGTAA\\n'],\n",
       " ['ATGAGTTCGCCTGTGTTGTGGCAGATGCTGTCATAAAAACTTTGCAACCAGTATCTGAATTACTTACACC\\n'],\n",
       " ['ACTGGGCATTGATTTAGATGAGTGGAGTATGGCTACATACTACTTATTTGATGAGTCTGGTGAGTTTAAA\\n'],\n",
       " ['TTGGCTTCACATATGTATTGTTCTTTCTACCCTCCAGATGAGGATGAAGAAGAAGGTGATTGTGAAGAAG\\n'],\n",
       " ['AAGAGTTTGAGCCATCAACTCAATATGAGTATGGTACTGAAGATGATTACCAAGGTAAACCTTTGGAATT\\n'],\n",
       " ['TGGTGCCACTTCTGCTGCTCTTCAACCTGAAGAAGAGCAAGAAGAAGATTGGTTAGATGATGATAGTCAA\\n'],\n",
       " ['CAAACTGTTGGTCAACAAGACGGCAGTGAGGACAATCAGACAACTACTATTCAAACAATTGTTGAGGTTC\\n'],\n",
       " ['AACCTCAATTAGAGATGGAACTTACACCAGTTGTTCAGACTATTGAAGTGAATAGTTTTAGTGGTTATTT\\n'],\n",
       " ['AAAACTTACTGACAATGTATACATTAAAAATGCAGACATTGTGGAAGAAGCTAAAAAGGTAAAACCAACA\\n'],\n",
       " ['GTGGTTGTTAATGCAGCCAATGTTTACCTTAAACATGGAGGAGGTGTTGCAGGAGCCTTAAATAAGGCTA\\n'],\n",
       " ['CTAACAATGCCATGCAAGTTGAATCTGATGATTACATAGCTACTAATGGACCACTTAAAGTGGGTGGTAG\\n'],\n",
       " ['TTGTGTTTTAAGCGGACACAATCTTGCTAAACACTGTCTTCATGTTGTCGGCCCAAATGTTAACAAAGGT\\n'],\n",
       " ['GAAGACATTCAACTTCTTAAGAGTGCTTATGAAAATTTTAATCAGCACGAAGTTCTACTTGCACCATTAT\\n'],\n",
       " ['TATCAGCTGGTATTTTTGGTGCTGACCCTATACATTCTTTAAGAGTTTGTGTAGATACTGTTCGCACAAA\\n'],\n",
       " ['TGTCTACTTAGCTGTCTTTGATAAAAATCTCTATGACAAACTTGTTTCAAGCTTTTTGGAAATGAAGAGT\\n'],\n",
       " ['GAAAAGCAAGTTGAACAAAAGATCGCTGAGATTCCTAAAGAGGAAGTTAAGCCATTTATAACTGAAAGTA\\n'],\n",
       " ['AACCTTCAGTTGAACAGAGAAAACAAGATGATAAGAAAATCAAAGCTTGTGTTGAAGAAGTTACAACAAC\\n'],\n",
       " ['TCTGGAAGAAACTAAGTTCCTCACAGAAAACTTGTTACTTTATATTGACATTAATGGCAATCTTCATCCA\\n'],\n",
       " ['GATTCTGCCACTCTTGTTAGTGACATTGACATCACTTTCTTAAAGAAAGATGCTCCATATATAGTGGGTG\\n'],\n",
       " ['ATGTTGTTCAAGAGGGTGTTTTAACTGCTGTGGTTATACCTACTAAAAAGGCTGGTGGCACTACTGAAAT\\n'],\n",
       " ['GCTAGCGAAAGCTTTGAGAAAAGTGCCAACAGACAATTATATAACCACTTACCCGGGTCAGGGTTTAAAT\\n'],\n",
       " ['GGTTACACTGTAGAGGAGGCAAAGACAGTGCTTAAAAAGTGTAAAAGTGCCTTTTACATTCTACCATCTA\\n'],\n",
       " ['TTATCTCTAATGAGAAGCAAGAAATTCTTGGAACTGTTTCTTGGAATTTGCGAGAAATGCTTGCACATGC\\n'],\n",
       " ['AGAAGAAACACGCAAATTAATGCCTGTCTGTGTGGAAACTAAAGCCATAGTTTCAACTATACAGCGTAAA\\n'],\n",
       " ['TATAAGGGTATTAAAATACAAGAGGGTGTGGTTGATTATGGTGCTAGATTTTACTTTTACACCAGTAAAA\\n'],\n",
       " ['CAACTGTAGCGTCACTTATCAACACACTTAACGATCTAAATGAAACTCTTGTTACAATGCCACTTGGCTA\\n'],\n",
       " ['TGTAACACATGGCTTAAATTTGGAAGAAGCTGCTCGGTATATGAGATCTCTCAAAGTGCCAGCTACAGTT\\n'],\n",
       " ['TCTGTTTCTTCACCTGATGCTGTTACAGCGTATAATGGTTATCTTACTTCTTCTTCTAAAACACCTGAAG\\n'],\n",
       " ['AACATTTTATTGAAACCATCTCACTTGCTGGTTCCTATAAAGATTGGTCCTATTCTGGACAATCTACACA\\n'],\n",
       " ['ACTAGGTATAGAATTTCTTAAGAGAGGTGATAAAAGTGTATATTACACTAGTAATCCTACCACATTCCAC\\n'],\n",
       " ['CTAGATGGTGAAGTTATCACCTTTGACAATCTTAAGACACTTCTTTCTTTGAGAGAAGTGAGGACTATTA\\n'],\n",
       " ['AGGTGTTTACAACAGTAGACAACATTAACCTCCACACGCAAGTTGTGGACATGTCAATGACATATGGACA\\n'],\n",
       " ['ACAGTTTGGTCCAACTTATTTGGATGGAGCTGATGTTACTAAAATAAAACCTCATAATTCACATGAAGGT\\n'],\n",
       " ['AAAACATTTTATGTTTTACCTAATGATGACACTCTACGTGTTGAGGCTTTTGAGTACTACCACACAACTG\\n'],\n",
       " ['ATCCTAGTTTTCTGGGTAGGTACATGTCAGCATTAAATCACACTAAAAAGTGGAAATACCCACAAGTTAA\\n'],\n",
       " ['TGGTTTAACTTCTATTAAATGGGCAGATAACAACTGTTATCTTGCCACTGCATTGTTAACACTCCAACAA\\n'],\n",
       " ['ATAGAGTTGAAGTTTAATCCACCTGCTCTACAAGATGCTTATTACAGAGCAAGGGCTGGTGAAGCTGCTA\\n'],\n",
       " ['ACTTTTGTGCACTTATCTTAGCCTACTGTAATAAGACAGTAGGTGAGTTAGGTGATGTTAGAGAAACAAT\\n'],\n",
       " ['GAGTTACTTGTTTCAACATGCCAATTTAGATTCTTGCAAAAGAGTCTTGAACGTGGTGTGTAAAACTTGT\\n'],\n",
       " ['GGACAACAGCAGACAACCCTTAAGGGTGTAGAAGCTGTTATGTACATGGGCACACTTTCTTATGAACAAT\\n'],\n",
       " ['TTAAGAAAGGTGTTCAGATACCTTGTACGTGTGGTAAACAAGCTACAAAATATCTAGTACAACAGGAGTC\\n'],\n",
       " ['ACCTTTTGTTATGATGTCAGCACCACCTGCTCAGTATGAACTTAAGCATGGTACATTTACTTGTGCTAGT\\n'],\n",
       " ['GAGTACACTGGTAATTACCAGTGTGGTCACTATAAACATATAACTTCTAAAGAAACTTTGTATTGCATAG\\n'],\n",
       " ['ACGGTGCTTTACTTACAAAGTCCTCAGAATACAAAGGTCCTATTACGGATGTTTTCTACAAAGAAAACAG\\n'],\n",
       " ['TTACACAACAACCATAAAACCAGTTACTTATAAATTGGATGGTGTTGTTTGTACAGAAATTGACCCTAAG\\n'],\n",
       " ['TTGGACAATTATTATAAGAAAGACAATTCTTATTTCACAGAGCAACCAATTGATCTTGTACCAAACCAAC\\n'],\n",
       " ['CATATCCAAACGCAAGCTTCGATAATTTTAAGTTTGTATGTGATAATATCAAATTTGCTGATGATTTAAA\\n'],\n",
       " ['CCAGTTAACTGGTTATAAGAAACCTGCTTCAAGAGAGCTTAAAGTTACATTTTTCCCTGACTTAAATGGT\\n'],\n",
       " ['GATGTGGTGGCTATTGATTATAAACACTACACACCCTCTTTTAAGAAAGGAGCTAAATTGTTACATAAAC\\n'],\n",
       " ['CTATTGTTTGGCATGTTAACAATGCAACTAATAAAGCCACGTATAAACCAAATACCTGGTGTATACGTTG\\n'],\n",
       " ['TCTTTGGAGCACAAAACCAGTTGAAACATCAAATTCGTTTGATGTACTGAAGTCAGAGGACGCGCAGGGA\\n'],\n",
       " ['ATGGATAATCTTGCCTGCGAAGATCTAAAACCAGTCTCTGAAGAAGTAGTGGAAAATCCTACCATACAGA\\n'],\n",
       " ['AAGACGTTCTTGAGTGTAATGTGAAAACTACCGAAGTTGTAGGAGACATTATACTTAAACCAGCAAATAA\\n'],\n",
       " ['TAGTTTAAAAATTACAGAAGAGGTTGGCCACACAGATCTAATGGCTGCTTATGTAGACAATTCTAGTCTT\\n'],\n",
       " ['ACTATTAAGAAACCTAATGAATTATCTAGAGTATTAGGTTTGAAAACCCTTGCTACTCATGGTTTAGCTG\\n'],\n",
       " ['CTGTTAATAGTGTCCCTTGGGATACTATAGCTAATTATGCTAAGCCTTTTCTTAACAAAGTTGTTAGTAC\\n'],\n",
       " ['AACTACTAACATAGTTACACGGTGTTTAAACCGTGTTTGTACTAATTATATGCCTTATTTCTTTACTTTA\\n'],\n",
       " ['TTGCTACAATTGTGTACTTTTACTAGAAGTACAAATTCTAGAATTAAAGCATCTATGCCGACTACTATAG\\n'],\n",
       " ['CAAAGAATACTGTTAAGAGTGTCGGTAAATTTTGTCTAGAGGCTTCATTTAATTATTTGAAGTCACCTAA\\n'],\n",
       " ['TTTTTCTAAACTGATAAATATTATAATTTGGTTTTTACTATTAAGTGTTTGCCTAGGTTCTTTAATCTAC\\n'],\n",
       " ['TCAACCGCTGCTTTAGGTGTTTTAATGTCTAATTTAGGCATGCCTTCTTACTGTACTGGTTACAGAGAAG\\n'],\n",
       " ['GCTATTTGAACTCTACTAATGTCACTATTGCAACCTACTGTACTGGTTCTATACCTTGTAGTGTTTGTCT\\n'],\n",
       " ['TAGTGGTTTAGATTCTTTAGACACCTATCCTTCTTTAGAAACTATACAAATTACCATTTCATCTTTTAAA\\n'],\n",
       " ['TGGGATTTAACTGCTTTTGGCTTAGTTGCAGAGTGGTTTTTGGCATATATTCTTTTCACTAGGTTTTTCT\\n'],\n",
       " ['ATGTACTTGGATTGGCTGCAATCATGCAATTGTTTTTCAGCTATTTTGCAGTACATTTTATTAGTAATTC\\n'],\n",
       " ['TTGGCTTATGTGGTTAATAATTAATCTTGTACAAATGGCCCCGATTTCAGCTATGGTTAGAATGTACATC\\n'],\n",
       " ['TTCTTTGCATCATTTTATTATGTATGGAAAAGTTATGTGCATGTTGTAGACGGTTGTAATTCATCAACTT\\n'],\n",
       " ['GTATGATGTGTTACAAACGTAATAGAGCAACAAGAGTCGAATGTACAACTATTGTTAATGGTGTTAGAAG\\n'],\n",
       " ['GTCCTTTTATGTCTATGCTAATGGAGGTAAAGGCTTTTGCAAACTACACAATTGGAATTGTGTTAATTGT\\n'],\n",
       " ['GATACATTCTGTGCTGGTAGTACATTTATTAGTGATGAAGTTGCGAGAGACTTGTCACTACAGTTTAAAA\\n'],\n",
       " ['GACCAATAAATCCTACTGACCAGTCTTCTTACATCGTTGATAGTGTTACAGTGAAGAATGGTTCCATCCA\\n'],\n",
       " ['TCTTTACTTTGATAAAGCTGGTCAAAAGACTTATGAAAGACATTCTCTCTCTCATTTTGTTAACTTAGAC\\n'],\n",
       " ['AACCTGAGAGCTAATAACACTAAAGGTTCATTGCCTATTAATGTTATAGTTTTTGATGGTAAATCAAAAT\\n'],\n",
       " ['GTGAAGAATCATCTGCAAAATCAGCGTCTGTTTACTACAGTCAGCTTATGTGTCAACCTATACTGTTACT\\n'],\n",
       " ['AGATCAGGCATTAGTGTCTGATGTTGGTGATAGTGCGGAAGTTGCAGTTAAAATGTTTGATGCTTACGTT\\n'],\n",
       " ['AATACGTTTTCATCAACTTTTAACGTACCAATGGAAAAACTCAAAACACTAGTTGCAACTGCAGAAGCTG\\n'],\n",
       " ['AACTTGCAAAGAATGTGTCCTTAGACAATGTCTTATCTACTTTTATTTCAGCAGCTCGGCAAGGGTTTGT\\n'],\n",
       " ['TGATTCAGATGTAGAAACTAAAGATGTTGTTGAATGTCTTAAATTGTCACATCAATCTGACATAGAAGTT\\n'],\n",
       " ['ACTGGCGATAGTTGTAATAACTATATGCTCACCTATAACAAAGTTGAAAACATGACACCCCGTGACCTTG\\n'],\n",
       " ['GTGCTTGTATTGACTGTAGTGCGCGTCATATTAATGCGCAGGTAGCAAAAAGTCACAACATTGCTTTGAT\\n'],\n",
       " ['ATGGAACGTTAAAGATTTCATGTCATTGTCTGAACAACTACGAAAACAAATACGTAGTGCTGCTAAAAAG\\n'],\n",
       " ['AATAACTTACCTTTTAAGTTGACATGTGCAACTACTAGACAAGTTGTTAATGTTGTAACAACAAAGATAG\\n'],\n",
       " ['CACTTAAGGGTGGTAAAATTGTTAATAATTGGTTGAAGCAGTTAATTAAAGTTACACTTGTGTTCCTTTT\\n'],\n",
       " ['TGTTGCTGCTATTTTCTATTTAATAACACCTGTTCATGTCATGTCTAAACATACTGACTTTTCAAGTGAA\\n'],\n",
       " ['ATCATAGGATACAAGGCTATTGATGGTGGTGTCACTCGTGACATAGCATCTACAGATACTTGTTTTGCTA\\n'],\n",
       " ['ACAAACATGCTGATTTTGACACATGGTTTAGCCAGCGTGGTGGTAGTTATACTAATGACAAAGCTTGCCC\\n'],\n",
       " ['ATTGATTGCTGCAGTCATAACAAGAGAAGTGGGTTTTGTCGTGCCTGGTTTGCCTGGCACGATATTACGC\\n'],\n",
       " ['ACAACTAATGGTGACTTTTTGCATTTCTTACCTAGAGTTTTTAGTGCAGTTGGTAACATCTGTTACACAC\\n'],\n",
       " ['CATCAAAACTTATAGAGTACACTGACTTTGCAACATCAGCTTGTGTTTTGGCTGCTGAATGTACAATTTT\\n'],\n",
       " ['TAAAGATGCTTCTGGTAAGCCAGTACCATATTGTTATGATACCAATGTACTAGAAGGTTCTGTTGCTTAT\\n'],\n",
       " ['GAAAGTTTACGCCCTGACACACGTTATGTGCTCATGGATGGCTCTATTATTCAATTTCCTAACACCTACC\\n'],\n",
       " ['TTGAAGGTTCTGTTAGAGTGGTAACAACTTTTGATTCTGAGTACTGTAGGCACGGCACTTGTGAAAGATC\\n'],\n",
       " ['AGAAGCTGGTGTTTGTGTATCTACTAGTGGTAGATGGGTACTTAACAATGATTATTACAGATCTTTACCA\\n'],\n",
       " ['GGAGTTTTCTGTGGTGTAGATGCTGTAAATTTACTTACTAATATGTTTACACCACTAATTCAACCTATTG\\n'],\n",
       " ['GTGCTTTGGACATATCAGCATCTATAGTAGCTGGTGGTATTGTAGCTATCGTAGTAACATGCCTTGCCTA\\n'],\n",
       " ['CTATTTTATGAGGTTTAGAAGAGCTTTTGGTGAATACAGTCATGTAGTTGCCTTTAATACTTTACTATTC\\n'],\n",
       " ['CTTATGTCATTCACTGTACTCTGTTTAACACCAGTTTACTCATTCTTACCTGGTGTTTATTCTGTTATTT\\n'],\n",
       " ['ACTTGTACTTGACATTTTATCTTACTAATGATGTTTCTTTTTTAGCACATATTCAGTGGATGGTTATGTT\\n'],\n",
       " ['CACACCTTTAGTACCTTTCTGGATAACAATTGCTTATATCATTTGTATTTCCACAAAGCATTTCTATTGG\\n'],\n",
       " ['TTCTTTAGTAATTACCTAAAGAGACGTGTAGTCTTTAATGGTGTTTCCTTTAGTACTTTTGAAGAAGCTG\\n'],\n",
       " ['CGCTGTGCACCTTTTTGTTAAATAAAGAAATGTATCTAAAGTTGCGTAGTGATGTGCTATTACCTCTTAC\\n'],\n",
       " ['GCAATATAATAGATACTTAGCTCTTTATAATAAGTACAAGTATTTTAGTGGAGCAATGGATACAACTAGC\\n'],\n",
       " ['TACAGAGAAGCTGCTTGTTGTCATCTCGCAAAGGCTCTCAATGACTTCAGTAACTCAGGTTCTGATGTTC\\n'],\n",
       " ['TTTACCAACCACCACAAACCTCTATCACCTCAGCTGTTTTGCAGAGTGGTTTTAGAAAAATGGCATTCCC\\n'],\n",
       " ['ATCTGGTAAAGTTGAGGGTTGTATGGTACAAGTAACTTGTGGTACAACTACACTTAACGGTCTTTGGCTT\\n'],\n",
       " ['GATGACGTAGTTTACTGTCCAAGACATGTGATCTGCACCTCTGAAGACATGCTTAACCCTAATTATGAAG\\n'],\n",
       " ['ATTTACTCATTCGTAAGTCTAATCATAATTTCTTGGTACAGGCTGGTAATGTTCAACTCAGGGTTATTGG\\n'],\n",
       " ['ACATTCTATGCAAAATTGTGTACTTAAGCTTAAGGTTGATACAGCCAATCCTAAGACACCTAAGTATAAG\\n'],\n",
       " ['TTTGTTCGCATTCAACCAGGACAGACTTTTTCAGTGTTAGCTTGTTACAATGGTTCACCATCTGGTGTTT\\n'],\n",
       " ['ACCAATGTGCTATGAGGCCCAATTTCACTATTAAGGGTTCATTCCTTAATGGTTCATGTGGTAGTGTTGG\\n'],\n",
       " ['TTTTAACATAGATTATGACTGTGTCTCTTTTTGTTACATGCACCATATGGAATTACCAACTGGAGTTCAT\\n'],\n",
       " ['GCTGGCACAGACTTAGAAGGTAACTTTTATGGACCTTTTGTTGACAGGCAAACAGCACAAGCAGCTGGTA\\n'],\n",
       " ['CGGACACAACTATTACAGTTAATGTTTTAGCTTGGTTGTACGCTGCTGTTATAAATGGAGACAGGTGGTT\\n'],\n",
       " ['TCTCAATCGATTTACCACAACTCTTAATGACTTTAACCTTGTGGCTATGAAGTACAATTATGAACCTCTA\\n'],\n",
       " ['ACACAAGACCATGTTGACATACTAGGACCTCTTTCTGCTCAAACTGGAATTGCCGTTTTAGATATGTGTG\\n'],\n",
       " ['CTTCATTAAAAGAATTACTGCAAAATGGTATGAATGGACGTACCATATTGGGTAGTGCTTTATTAGAAGA\\n'],\n",
       " ['TGAATTTACACCTTTTGATGTTGTTAGACAATGCTCAGGTGTTACTTTCCAAAGTGCAGTGAAAAGAACA\\n'],\n",
       " ['ATCAAGGGTACACACCACTGGTTGTTACTCACAATTTTGACTTCACTTTTAGTTTTAGTCCAGAGTACTC\\n'],\n",
       " ['AATGGTCTTTGTTCTTTTTTTTGTATGAAAATGCCTTTTTACCTTTTGCTATGGGTATTATTGCTATGTC\\n'],\n",
       " ['TGCTTTTGCAATGATGTTTGTCAAACATAAGCATGCATTTCTCTGTTTGTTTTTGTTACCTTCTCTTGCC\\n'],\n",
       " ['ACTGTAGCTTATTTTAATATGGTCTATATGCCTGCTAGTTGGGTGATGCGTATTATGACATGGTTGGATA\\n'],\n",
       " ['TGGTTGATACTAGTTTGTCTGGTTTTAAGCTAAAAGACTGTGTTATGTATGCATCAGCTGTAGTGTTACT\\n'],\n",
       " ['AATCCTTATGACAGCAAGAACTGTGTATGATGATGGTGCTAGGAGAGTGTGGACACTTATGAATGTCTTG\\n'],\n",
       " ['ACACTCGTTTATAAAGTTTATTATGGTAATGCTTTAGATCAAGCCATTTCCATGTGGGCTCTTATAATCT\\n'],\n",
       " ['CTGTTACTTCTAACTACTCAGGTGTAGTTACAACTGTCATGTTTTTGGCCAGAGGTATTGTTTTTATGTG\\n'],\n",
       " ['TGTTGAGTATTGCCCTATTTTCTTCATAACTGGTAATACACTTCAGTGTATAATGCTAGTTTATTGTTTC\\n'],\n",
       " ['TTAGGCTATTTTTGTACTTGTTACTTTGGCCTCTTTTGTTTACTCAACCGCTACTTTAGACTGACTCTTG\\n'],\n",
       " ['GTGTTTATGATTACTTAGTTTCTACACAGGAGTTTAGATATATGAATTCACAGGGACTACTCCCACCCAA\\n'],\n",
       " ['GAATAGCATAGATGCCTTCAAACTCAACATTAAATTGTTGGGTGTTGGTGGCAAACCTTGTATCAAAGTA\\n'],\n",
       " ['GCCACTGTACAGTCTAAAATGTCAGATGTAAAGTGCACATCAGTAGTCTTACTCTCAGTTTTGCAACAAC\\n'],\n",
       " ['TCAGAGTAGAATCATCATCTAAATTGTGGGCTCAATGTGTCCAGTTACACAATGACATTCTCTTAGCTAA\\n'],\n",
       " ['AGATACTACTGAAGCCTTTGAAAAAATGGTTTCACTACTTTCTGTTTTGCTTTCCATGCAGGGTGCTGTA\\n'],\n",
       " ['GACATAAACAAGCTTTGTGAAGAAATGCTGGACAACAGGGCAACCTTACAAGCTATAGCCTCAGAGTTTA\\n'],\n",
       " ['GTTCCCTTCCATCATATGCAGCTTTTGCTACTGCTCAAGAAGCTTATGAGCAGGCTGTTGCTAATGGTGA\\n'],\n",
       " ['TTCTGAAGTTGTTCTTAAAAAGTTGAAGAAGTCTTTGAATGTGGCTAAATCTGAATTTGACCGTGATGCA\\n'],\n",
       " ['GCCATGCAACGTAAGTTGGAAAAGATGGCTGATCAAGCTATGACCCAAATGTATAAACAGGCTAGATCTG\\n'],\n",
       " ['AGGACAAGAGGGCAAAAGTTACTAGTGCTATGCAGACAATGCTTTTCACTATGCTTAGAAAGTTGGATAA\\n'],\n",
       " ['TGATGCACTCAACAACATTATCAACAATGCAAGAGATGGTTGTGTTCCCTTGAACATAATACCTCTTACA\\n'],\n",
       " ['ACAGCAGCCAAACTAATGGTTGTCATACCAGACTATAACACATATAAAAATACGTGTGATGGTACAACAT\\n'],\n",
       " ['TTACTTATGCATCAGCATTGTGGGAAATCCAACAGGTTGTAGATGCAGATAGTAAAATTGTTCAACTTAG\\n'],\n",
       " ['TGAAATTAGTATGGACAATTCACCTAATTTAGCATGGCCTCTTATTGTAACAGCTTTAAGGGCCAATTCT\\n'],\n",
       " ['GCTGTCAAATTACAGAATAATGAGCTTAGTCCTGTTGCACTACGACAGATGTCTTGTGCTGCCGGTACTA\\n'],\n",
       " ['CACAAACTGCTTGCACTGATGACAATGCGTTAGCTTACTACAACACAACAAAGGGAGGTAGGTTTGTACT\\n'],\n",
       " ['TGCACTGTTATCCGATTTACAGGATTTGAAATGGGCTAGATTCCCTAAGAGTGATGGAACTGGTACTATC\\n'],\n",
       " ['TATACAGAACTGGAACCACCTTGTAGGTTTGTTACAGACACACCTAAAGGTCCTAAAGTGAAGTATTTAT\\n'],\n",
       " ['ACTTTATTAAAGGATTAAACAACCTAAATAGAGGTATGGTACTTGGTAGTTTAGCTGCCACAGTACGTCT\\n'],\n",
       " ['ACAAGCTGGTAATGCAACAGAAGTGCCTGCCAATTCAACTGTATTATCTTTCTGTGCTTTTGCTGTAGAT\\n'],\n",
       " ['GCTGCTAAAGCTTACAAAGATTATCTAGCTAGTGGGGGACAACCAATCACTAATTGTGTTAAGATGTTGT\\n'],\n",
       " ['GTACACACACTGGTACTGGTCAGGCAATAACAGTTACACCGGAAGCCAATATGGATCAAGAATCCTTTGG\\n'],\n",
       " ['TGGTGCATCGTGTTGTCTGTACTGCCGTTGCCACATAGATCATCCAAATCCTAAAGGATTTTGTGACTTA\\n'],\n",
       " ['AAAGGTAAGTATGTACAAATACCTACAACTTGTGCTAATGACCCTGTGGGTTTTACACTTAAAAACACAG\\n'],\n",
       " ['TCTGTACCGTCTGCGGTATGTGGAAAGGTTATGGCTGTAGTTGTGATCAACTCCGCGAACCCATGCTTCA\\n'],\n",
       " ['GTCAGCTGATGCACAATCGTTTTTAAACGGGTTTGCGGTGTAAGTGCAGCCCGTCTTACACCGTGCGGCA\\n'],\n",
       " ['CAGGCACTAGTACTGATGTCGTATACAGGGCTTTTGACATCTACAATGATAAAGTAGCTGGTTTTGCTAA\\n'],\n",
       " ['ATTCCTAAAAACTAATTGTTGTCGCTTCCAAGAAAAGGACGAAGATGACAATTTAATTGATTCTTACTTT\\n'],\n",
       " ['GTAGTTAAGAGACACACTTTCTCTAACTACCAACATGAAGAAACAATTTATAATTTACTTAAGGATTGTC\\n'],\n",
       " ['CAGCTGTTGCTAAACATGACTTCTTTAAGTTTAGAATAGACGGTGACATGGTACCACATATATCACGTCA\\n'],\n",
       " ['ACGTCTTACTAAATACACAATGGCAGACCTCGTCTATGCTTTAAGGCATTTTGATGAAGGTAATTGTGAC\\n'],\n",
       " ['ACATTAAAAGAAATACTTGTCACATACAATTGTTGTGATGATGATTATTTCAATAAAAAGGACTGGTATG\\n'],\n",
       " ['ATTTTGTAGAAAACCCAGATATATTACGCGTATACGCCAACTTAGGTGAACGTGTACGCCAAGCTTTGTT\\n'],\n",
       " ['AAAAACAGTACAATTCTGTGATGCCATGCGAAATGCTGGTATTGTTGGTGTACTGACATTAGATAATCAA\\n'],\n",
       " ['GATCTCAATGGTAACTGGTATGATTTCGGTGATTTCATACAAACCACGCCAGGTAGTGGAGTTCCTGTTG\\n'],\n",
       " ['TAGATTCTTATTATTCATTGTTAATGCCTATATTAACCTTGACCAGGGCTTTAACTGCAGAGTCACATGT\\n'],\n",
       " ['TGACACTGACTTAACAAAGCCTTACATTAAGTGGGATTTGTTAAAATATGACTTCACGGAAGAGAGGTTA\\n'],\n",
       " ['AAACTCTTTGACCGTTATTTTAAATATTGGGATCAGACATACCACCCAAATTGTGTTAACTGTTTGGATG\\n'],\n",
       " ['ACAGATGCATTCTGCATTGTGCAAACTTTAATGTTTTATTCTCTACAGTGTTCCCACCTACAAGTTTTGG\\n'],\n",
       " ['ACCACTAGTGAGAAAAATATTTGTTGATGGTGTTCCATTTGTAGTTTCAACTGGATACCACTTCAGAGAG\\n'],\n",
       " ['CTAGGTGTTGTACATAATCAGGATGTAAACTTACATAGCTCTAGACTTAGTTTTAAGGAATTACTTGTGT\\n'],\n",
       " ['ATGCTGCTGACCCTGCTATGCACGCTGCTTCTGGTAATCTATTACTAGATAAACGCACTACGTGCTTTTC\\n'],\n",
       " ['AGTAGCTGCACTTACTAACAATGTTGCTTTTCAAACTGTCAAACCCGGTAATTTTAACAAAGACTTCTAT\\n'],\n",
       " ['GACTTTGCTGTGTCTAAGGGTTTCTTTAAGGAAGGAAGTTCTGTTGAATTAAAACACTTCTTCTTTGCTC\\n'],\n",
       " ['AGGATGGTAATGCTGCTATCAGCGATTATGACTACTATCGTTATAATCTACCAACAATGTGTGATATCAG\\n'],\n",
       " ['ACAACTACTATTTGTAGTTGAAGTTGTTGATAAGTACTTTGATTGTTACGATGGTGGCTGTATTAATGCT\\n'],\n",
       " ['AACCAAGTCATCGTCAACAACCTAGACAAATCAGCTGGTTTTCCATTTAATAAATGGGGTAAGGCTAGAC\\n'],\n",
       " ['TTTATTATGATTCAATGAGTTATGAGGATCAAGATGCACTTTTCGCATATACAAAACGTAATGTCATCCC\\n'],\n",
       " ['TACTATAACTCAAATGAATCTTAAGTATGCCATTAGTGCAAAGAATAGAGCTCGCACCGTAGCTGGTGTC\\n'],\n",
       " ['TCTATCTGTAGTACTATGACCAATAGACAGTTTCATCAAAAATTATTGAAATCAATAGCCGCCACTAGAG\\n'],\n",
       " ['GAGCTACTGTAGTAATTGGAACAAGCAAATTCTATGGTGGTTGGCACAACATGTTAAAAACTGTTTATAG\\n'],\n",
       " ['TGATGTAGAAAACCCTCACCTTATGGGTTGGGATTATCCTAAATGTGATAGAGCCATGCCTAACATGCTT\\n'],\n",
       " ['AGAATTATGGCCTCACTTGTTCTTGCTCGCAAACATACAACGTGTTGTAGCTTGTCACACCGTTTCTATA\\n'],\n",
       " ['GATTAGCTAATGAGTGTGCTCAAGTATTGAGTGAAATGGTCATGTGTGGCGGTTCACTATATGTTAAACC\\n'],\n",
       " ['AGGTGGAACCTCATCAGGAGATGCCACAACTGCTTATGCTAATAGTGTTTTTAACATTTGTCAAGCTGTC\\n'],\n",
       " ['ACGGCCAATGTTAATGCACTTTTATCTACTGATGGTAACAAAATTGCCGATAAGTATGTCCGCAATTTAC\\n'],\n",
       " ['AACACAGACTTTATGAGTGTCTCTATAGAAATAGAGATGTTGACACAGACTTTGTGAATGAGTTTTACGC\\n'],\n",
       " ['ATATTTGCGTAAACATTTCTCAATGATGATACTCTCTGACGATGCTGTTGTGTGTTTCAATAGCACTTAT\\n'],\n",
       " ['GCATCTCAAGGTCTAGTGGCTAGCATAAAGAACTTTAAGTCAGTTCTTTATTATCAAAACAATGTTTTTA\\n'],\n",
       " ['TGTCTGAAGCAAAATGTTGGACTGAGACTGACCTTACTAAAGGACCTCATGAATTTTGCTCTCAACATAC\\n'],\n",
       " ['AATGCTAGTTAAACAGGGTGATGATTATGTGTACCTTCCTTACCCAGATCCATCAAGAATCCTAGGGGCC\\n'],\n",
       " ['GGCTGTTTTGTAGATGATATCGTAAAAACAGATGGTACACTTATGATTGAACGGTTCGTGTCTTTAGCTA\\n'],\n",
       " ['TAGATGCTTACCCACTTACTAAACATCCTAATCAGGAGTATGCTGATGTCTTTCATTTGTACTTACAATA\\n'],\n",
       " ['CATAAGAAAGCTACATGATGAGTTAACAGGACACATGTTAGACATGTATTCTGTTATGCTTACTAATGAT\\n'],\n",
       " ['AACACTTCAAGGTATTGGGAACCTGAGTTTTATGAGGCTATGTACACACCGCATACAGTCTTACAGGCTG\\n'],\n",
       " ['TTGGGGCTTGTGTTCTTTGCAATTCACAGACTTCATTAAGATGTGGTGCTTGCATACGTAGACCATTCTT\\n'],\n",
       " ['ATGTTGTAAATGCTGTTACGACCATGTCATATCAACATCACATAAATTAGTCTTGTCTGTTAATCCGTAT\\n'],\n",
       " ['GTTTGCAATGCTCCAGGTTGTGATGTCACAGATGTGACTCAACTTTACTTAGGAGGTATGAGCTATTATT\\n'],\n",
       " ['GTAAATCACATAAACCACCCATTAGTTTTCCATTGTGTGCTAATGGACAAGTTTTTGGTTTATATAAAAA\\n'],\n",
       " ['TACATGTGTTGGTAGCGATAATGTTACTGACTTTAATGCAATTGCAACATGTGACTGGACAAATGCTGGT\\n'],\n",
       " ['GATTACATTTTAGCTAACACCTGTACTGAAAGACTCAAGCTTTTTGCAGCAGAAACGCTCAAAGCTACTG\\n'],\n",
       " ['AGGAGACATTTAAACTGTCTTATGGTATTGCTACTGTACGTGAAGTGCTGTCTGACAGAGAATTACATCT\\n'],\n",
       " ['TTCATGGGAAGTTGGTAAACCTAGACCACCACTTAACCGAAATTATGTCTTTACTGGTTATCGTGTAACT\\n'],\n",
       " ['AAAAACAGTAAAGTACAAATAGGAGAGTACACCTTTGAAAAAGGTGACTATGGTGATGCTGTTGTTTACC\\n'],\n",
       " ['GAGGTACAACAACTTACAAATTAAATGTTGGTGATTATTTTGTGCTGACATCACATACAGTAATGCCATT\\n'],\n",
       " ['AAGTGCACCTACACTAGTGCCACAAGAGCACTATGTTAGAATTACTGGCTTATACCCAACACTCAATATC\\n'],\n",
       " ['TCAGATGAGTTTTCTAGCAATGTTGCAAATTATCAAAAGGTTGGTATGCAAAAGTATTCTACACTCCAGG\\n'],\n",
       " ['GACCACCTGGTACTGGTAAGAGTCATTTTGCTATTGGCCTAGCTCTCTACTACCCTTCTGCTCGCATAGT\\n'],\n",
       " ['GTATACAGCTTGCTCTCATGCCGCTGTTGATGCACTATGTGAGAAGGCATTAAAATATTTGCCTATAGAT\\n'],\n",
       " ['AAATGTAGTAGAATTATACCTGCACGTGCTCGTGTAGAGTGTTTTGATAAATTCAAAGTGAATTCAACAT\\n'],\n",
       " ['TAGAACAGTATGTCTTTTGTACTGTAAATGCATTGCCTGAGACGACAGCAGATATAGTTGTCTTTGATGA\\n'],\n",
       " ['AATTTCAATGGCCACAAATTATGATTTGAGTGTTGTCAATGCCAGATTACGTGCTAAGCACTATGTGTAC\\n'],\n",
       " ['ATTGGCGACCCTGCTCAATTACCTGCACCACGCACATTGCTAACTAAGGGCACACTAGAACCAGAATATT\\n'],\n",
       " ['TCAATTCAGTGTGTAGACTTATGAAAACTATAGGTCCAGACATGTTCCTCGGAACTTGTCGGCGTTGTCC\\n'],\n",
       " ['TGCTGAAATTGTTGACACTGTGAGTGCTTTGGTTTATGATAATAAGCTTAAAGCACATAAAGACAAATCA\\n'],\n",
       " ['GCTCAATGCTTTAAAATGTTTTATAAGGGTGTTATCACGCATGATGTTTCATCTGCAATTAACAGGCCAC\\n'],\n",
       " ['AAATAGGCGTGGTAAGAGAATTCCTTACACGTAACCCTGCTTGGAGAAAAGCTGTCTTTATTTCACCTTA\\n'],\n",
       " ['TAATTCACAGAATGCTGTAGCCTCAAAGATTTTGGGACTACCAACTCAAACTGTTGATTCATCACAGGGC\\n'],\n",
       " ['TCAGAATATGACTATGTCATATTCACTCAAACCACTGAAACAGCTCACTCTTGTAATGTAAACAGATTTA\\n'],\n",
       " ['ATGTTGCTATTACCAGAGCAAAAGTAGGCATACTTTGCATAATGTCTGATAGAGACCTTTATGACAAGTT\\n'],\n",
       " ['GCAATTTACAAGTCTTGAAATTCCACGTAGGAATGTGGCAACTTTACAAGCTGAAAATGTAACAGGACTC\\n'],\n",
       " ['TTTAAAGATTGTAGTAAGGTAATCACTGGGTTACATCCTACACAGGCACCTACACACCTCAGTGTTGACA\\n'],\n",
       " ['CTAAATTCAAAACTGAAGGTTTATGTGTTGACATACCTGGCATACCTAAGGACATGACCTATAGAAGACT\\n'],\n",
       " ['CATCTCTATGATGGGTTTTAAAATGAATTATCAAGTTAATGGTTACCCTAACATGTTTATCACCCGCGAA\\n'],\n",
       " ['GAAGCTATAAGACATGTACGTGCATGGATTGGCTTCGATGTCGAGGGGTGTCATGCTACTAGAGAAGCTG\\n'],\n",
       " ['TTGGTACCAATTTACCTTTACAGCTAGGTTTTTCTACAGGTGTTAACCTAGTTGCTGTACCTACAGGTTA\\n'],\n",
       " ['TGTTGATACACCTAATAATACAGATTTTTCCAGAGTTAGTGCTAAACCACCGCCTGGAGATCAATTTAAA\\n'],\n",
       " ['CACCTCATACCACTTATGTACAAAGGACTTCCTTGGAATGTAGTGCGTATAAAGATTGTACAAATGTTAA\\n'],\n",
       " ['GTGACACACTTAAAAATCTCTCTGACAGAGTCGTATTTGTCTTATGGGCACATGGCTTTGAGTTGACATC\\n'],\n",
       " ['TATGAAGTATTTTGTGAAAATAGGACCTGAGCGCACCTGTTGTCTATGTGATAGACGTGCCACATGCTTT\\n'],\n",
       " ['TCCACTGCTTCAGACACTTATGCCTGTTGGCATCATTCTATTGGATTTGATTACGTCTATAATCCGTTTA\\n'],\n",
       " ['TGATTGATGTTCAACAATGGGGTTTTACAGGTAACCTACAAAGCAACCATGATCTGTATTGTCAAGTCCA\\n'],\n",
       " ['TGGTAATGCACATGTAGCTAGTTGTGATGCAATCATGACTAGGTGTCTAGCTGTCCACGAGTGCTTTGTT\\n'],\n",
       " ['AAGCGTGTTGACTGGACTATTGAATATCCTATAATTGGTGATGAACTGAAGATTAATGCGGCTTGTAGAA\\n'],\n",
       " ['AGGTTCAACACATGGTTGTTAAAGCTGCATTATTAGCAGACAAATTCCCAGTTCTTCACGACATTGGTAA\\n'],\n",
       " ['CCCTAAAGCTATTAAGTGTGTACCTCAAGCTGATGTAGAATGGAAGTTCTATGATGCACAGCCTTGTAGT\\n'],\n",
       " ['GACAAAGCTTATAAAATAGAAGAATTATTCTATTCTTATGCCACACATTCTGACAAATTCACAGATGGTG\\n'],\n",
       " ['TATGCCTATTTTGGAATTGCAATGTCGATAGATATCCTGCTAATTCCATTGTTTGTAGATTTGACACTAG\\n'],\n",
       " ['AGTGCTATCTAACCTTAACTTGCCTGGTTGTGATGGTGGCAGTTTGTATGTAAATAAACATGCATTCCAC\\n'],\n",
       " ['ACACCAGCTTTTGATAAAAGTGCTTTTGTTAATTTAAAACAATTACCATTTTTCTATTACTCTGACAGTC\\n'],\n",
       " ['CATGTGAGTCTCATGGAAAACAAGTAGTGTCAGATATAGATTATGTACCACTAAAGTCTGCTACGTGTAT\\n'],\n",
       " ['AACACGTTGCAATTTAGGTGGTGCTGTCTGTAGACATCATGCTAATGAGTACAGATTGTATCTCGATGCT\\n'],\n",
       " ['TATAACATGATGATCTCAGCTGGCTTTAGCTTGTGGGTTTACAAACAATTTGATACTTATAACCTCTGGA\\n'],\n",
       " ['ACACTTTTACAAGACTTCAGAGTTTAGAAAATGTGGCTTTTAATGTTGTAAATAAGGGACACTTTGATGG\\n'],\n",
       " ['ACAACAGGGTGAAGTACCAGTTTCTATCATTAATAACACTGTTTACACAAAAGTTGATGGTGTTGATGTA\\n'],\n",
       " ['GAATTGTTTGAAAATAAAACAACATTACCTGTTAATGTAGCATTTGAGCTTTGGGCTAAGCGCAACATTA\\n'],\n",
       " ['AACCAGTACCAGAGGTGAAAATACTCAATAATTTGGGTGTGGACATTGCTGCTAATACTGTGATCTGGGA\\n'],\n",
       " ['CTACAAAAGAGATGCTCCAGCACATATATCTACTATTGGTGTTTGTTCTATGACTGACATAGCCAAGAAA\\n'],\n",
       " ['CCAACTGAAACGATTTGTGCACCACTCACTGTCTTTTTTGATGGTAGAGTTGATGGTCAAGTAGACTTAT\\n'],\n",
       " ['TTAGAAATGCCCGTAATGGTGTTCTTATTACAGAAGGTAGTGTTAAAGGTTTACAACCATCTGTAGGTCC\\n'],\n",
       " ['CAAACAAGCTAGTCTTAATGGAGTCACATTAATTGGAGAAGCCGTAAAAACACAGTTCAATTATTATAAG\\n'],\n",
       " ['AAAGTTGATGGTGTTGTCCAACAATTACCTGAAACTTACTTTACTCAGAGTAGAAATTTACAAGAATTTA\\n'],\n",
       " ['AACCCAGGAGTCAAATGGAAATTGATTTCTTAGAATTAGCTATGGATGAATTCATTGAACGGTATAAATT\\n'],\n",
       " ['AGAAGGCTATGCCTTCGAACATATCGTTTATGGAGATTTTAGTCATAGTCAGTTAGGTGGTTTACATCTA\\n'],\n",
       " ['CTGATTGGACTAGCTAAACGTTTTAAGGAATCACCTTTTGAATTAGAAGATTTTATTCCTATGGACAGTA\\n'],\n",
       " ['CAGTTAAAAACTATTTCATAACAGATGCGCAAACAGGTTCATCTAAGTGTGTGTGTTCTGTTATTGATTT\\n'],\n",
       " ['ATTACTTGATGATTTTGTTGAAATAATAAAATCCCAAGATTTATCTGTAGTTTCTAAGGTTGTCAAAGTG\\n'],\n",
       " ['ACTATTGACTATACAGAAATTTCATTTATGCTTTGGTGTAAAGATGGCCATGTAGAAACATTTTACCCAA\\n'],\n",
       " ['AATTACAATCTAGTCAAGCGTGGCAACCGGGTGTTGCTATGCCTAATCTTTACAAAATGCAAAGAATGCT\\n'],\n",
       " ['ATTAGAAAAGTGTGACCTTCAAAATTATGGTGATAGTGCAACATTACCTAAAGGCATAATGATGAATGTC\\n'],\n",
       " ['GCAAAATATACTCAACTGTGTCAATATTTAAACACATTAACATTAGCTGTACCCTATAATATGAGAGTTA\\n'],\n",
       " ['TACATTTTGGTGCTGGTTCTGATAAAGGAGTTGCACCAGGTACAGCTGTTTTAAGACAGTGGTTGCCTAC\\n'],\n",
       " ['GGGTACGCTGCTTGTCGATTCAGATCTTAATGACTTTGTCTCTGATGCAGATTCAACTTTGATTGGTGAT\\n'],\n",
       " ['TGTGCAACTGTACATACAGCTAATAAATGGGATCTCATTATTAGTGATATGTACGACCCTAAGACTAAAA\\n'],\n",
       " ['ATGTTACAAAAGAAAATGACTCTAAAGAGGGTTTTTTCACTTACATTTGTGGGTTTATACAACAAAAGCT\\n'],\n",
       " ['AGCTCTTGGAGGTTCCGTGGCTATAAAGATAACAGAACATTCTTGGAATGCTGATCTTTATAAGCTCATG\\n'],\n",
       " ['GGACACTTCGCATGGTGGACAGCCTTTGTTACTAATGTGAATGCGTCATCATCTGAAGCATTTTTAATTG\\n'],\n",
       " ['GATGTAATTATCTTGGCAAACCACGCGAACAAATAGATGGTTATGTCATGCATGCAAATTACATATTTTG\\n'],\n",
       " ['GAGGAATACAAATCCAATTCAGTTGTCTTCCTATTCTTTATTTGACATGAGTAAATTTCCCCTTAAATTA\\n'],\n",
       " ['AGGGGTACTGCTGTTATGTCTTTAAAAGAAGGTCAAATCAATGATATGATTTTATCTCTTCTTAGTAAAG\\n'],\n",
       " ['GTAGACTTATAATTAGAGAAAACAACAGAGTTGTTATTTCTAGTGATGTTCTTGTTAACAACTAAACGAA\\n'],\n",
       " ['CAATGTTTGTTTTTCTTGTTTTATTGCCACTAGTCTCTAGTCAGTGTGTTAATCTTACAACCAGAACTCA\\n'],\n",
       " ['ATTACCCCCTGCATACACTAATTCTTTCACACGTGGTGTTTATTACCCTGACAAAGTTTTCAGATCCTCA\\n'],\n",
       " ['GTTTTACATTCAACTCAGGACTTGTTCTTACCTTTCTTTTCCAATGTTACTTGGTTCCATGCTATACATG\\n'],\n",
       " ['TCTCTGGGACCAATGGTACTAAGAGGTTTGATAACCCTGTCCTACCATTTAATGATGGTGTTTATTTTGC\\n'],\n",
       " ['TTCCACTGAGAAGTCTAACATAATAAGAGGCTGGATTTTTGGTACTACTTTAGATTCGAAGACCCAGTCC\\n'],\n",
       " ['CTACTTATTGTTAATAACGCTACTAATGTTGTTATTAAAGTCTGTGAATTTCAATTTTGTAATGATCCAT\\n'],\n",
       " ['TTTTGGGTGTTTATTACCACAAAAACAACAAAAGTTGGATGGAAAGTGAGTTCAGAGTTTATTCTAGTGC\\n'],\n",
       " ['GAATAATTGCACTTTTGAATATGTCTCTCAGCCTTTTCTTATGGACCTTGAAGGAAAACAGGGTAATTTC\\n'],\n",
       " ['AAAAATCTTAGGGAATTTGTGTTTAAGAATATTGATGGTTATTTTAAAATATATTCTAAGCACACGCCTA\\n'],\n",
       " ['TTAATTTAGTGCGTGATCTCCCTCAGGGTTTTTCGGCTTTAGAACCATTGGTAGATTTGCCAATAGGTAT\\n'],\n",
       " ['TAACATCACTAGGTTTCAAACTTTACTTGCTTTACATAGAAGTTATTTGACTCCTGGTGATTCTTCTTCA\\n'],\n",
       " ['GGTTGGACAGCTGGTGCTGCAGCTTATTATGTGGGTTATCTTCAACCTAGGACTTTTCTATTAAAATATA\\n'],\n",
       " ['ATGAAAATGGAACCATTACAGATGCTGTAGACTGTGCACTTGACCCTCTCTCAGAAACAAAGTGTACGTT\\n'],\n",
       " ['GAAATCCTTCACTGTAGAAAAAGGAATCTATCAAACTTCTAACTTTAGAGTCCAACCAACAGAATCTATT\\n'],\n",
       " ['GTTAGATTTCCTAATATTACAAACTTGTGCCCTTTTGGTGAAGTTTTTAACGCCACCAGATTTGCATCTG\\n'],\n",
       " ['TTTATGCTTGGAACAGGAAGAGAATCAGCAACTGTGTTGCTGATTATTCTGTCCTATATAATTCCGCATC\\n'],\n",
       " ['ATTTTCCACTTTTAAGTGTTATGGAGTGTCTCCTACTAAATTAAATGATCTCTGCTTTACTAATGTCTAT\\n'],\n",
       " ['GCAGATTCATTTGTAATTAGAGGTGATGAAGTCAGACAAATCGCTCCAGGGCAAACTGGAAAGATTGCTG\\n'],\n",
       " ['ATTATAATTATAAATTACCAGATGATTTTACAGGCTGCGTTATAGCTTGGAATTCTAACAATCTTGATTC\\n'],\n",
       " ['TAAGGTTGGTGGTAATTATAATTACCTGTATAGATTGTTTAGGAAGTCTAATCTCAAACCTTTTGAGAGA\\n'],\n",
       " ['GATATTTCAACTGAAATCTATCAGGCCGGTAGCACACCTTGTAATGGTGTTGAAGGTTTTAATTGTTACT\\n'],\n",
       " ['TTCCTTTACAATCATATGGTTTCCAACCCACTAATGGTGTTGGTTACCAACCATACAGAGTAGTAGTACT\\n'],\n",
       " ['TTCTTTTGAACTTCTACATGCACCAGCAACTGTTTGTGGACCTAAAAAGTCTACTAATTTGGTTAAAAAC\\n'],\n",
       " ['AAATGTGTCAATTTCAACTTCAATGGTTTAACAGGCACAGGTGTTCTTACTGAGTCTAACAAAAAGTTTC\\n'],\n",
       " ['TGCCTTTCCAACAATTTGGCAGAGACATTGCTGACACTACTGATGCTGTCCGTGATCCACAGACACTTGA\\n'],\n",
       " ['GATTCTTGACATTACACCATGTTCTTTTGGTGGTGTCAGTGTTATAACACCAGGAACAAATACTTCTAAC\\n'],\n",
       " ['CAGGTTGCTGTTCTTTATCAGGATGTTAACTGCACAGAAGTCCCTGTTGCTATTCATGCAGATCAACTTA\\n'],\n",
       " ['CTCCTACTTGGCGTGTTTATTCTACAGGTTCTAATGTTTTTCAAACACGTGCAGGCTGTTTAATAGGGGC\\n'],\n",
       " ['TGAACATGTCAACAACTCATATGAGTGTGACATACCCATTGGTGCAGGTATATGCGCTAGTTATCAGACT\\n'],\n",
       " ['CAGACTAATTCTCCTCGGCGGGCACGTAGTGTAGCTAGTCAATCCATCATTGCCTACACTATGTCACTTG\\n'],\n",
       " ['GTGCAGAAAATTCAGTTGCTTACTCTAATAACTCTATTGCCATACCCACAAATTTTACTATTAGTGTTAC\\n'],\n",
       " ['CACAGAAATTCTACCAGTGTCTATGACCAAGACATCAGTAGATTGTACAATGTACATTTGTGGTGATTCA\\n'],\n",
       " ['ACTGAATGCAGCAATCTTTTGTTGCAATATGGCAGTTTTTGTACACAATTAAACCGTGCTTTAACTGGAA\\n'],\n",
       " ['TAGCTGTTGAACAAGACAAAAACACCCAAGAAGTTTTTGCACAAGTCAAACAAATTTACAAAACACCACC\\n'],\n",
       " ['AATTAAAGATTTTGGTGGTTTTAATTTTTCACAAATATTACCAGATCCATCAAAACCAAGCAAGAGGTCA\\n'],\n",
       " ['TTTATTGAAGATCTACTTTTCAACAAAGTGACACTTGCAGATGCTGGCTTCATCAAACAATATGGTGATT\\n'],\n",
       " ['GCCTTGGTGATATTGCTGCTAGAGACCTCATTTGTGCACAAAAGTTTAACGGCCTTACTGTTTTGCCACC\\n'],\n",
       " ['TTTGCTCACAGATGAAATGATTGCTCAATACACTTCTGCACTGTTAGCGGGTACAATCACTTCTGGTTGG\\n'],\n",
       " ['ACCTTTGGTGCAGGTGCTGCATTACAAATACCATTTGCTATGCAAATGGCTTATAGGTTTAATGGTATTG\\n'],\n",
       " ['GAGTTACACAGAATGTTCTCTATGAGAACCAAAAATTGATTGCCAACCAATTTAATAGTGCTATTGGCAA\\n'],\n",
       " ['AATTCAAGACTCACTTTCTTCCACAGCAAGTGCACTTGGAAAACTTCAAGATGTGGTCAACCAAAATGCA\\n'],\n",
       " ['CAAGCTTTAAACACGCTTGTTAAACAACTTAGCTCCAATTTTGGTGCAATTTCAAGTGTTTTAAATGATA\\n'],\n",
       " ['TCCTTTCACGTCTTGACAAAGTTGAGGCTGAAGTGCAAATTGATAGGTTGATCACAGGCAGACTTCAAAG\\n'],\n",
       " ['TTTGCAGACATATGTGACTCAACAATTAATTAGAGCTGCAGAAATCAGAGCTTCTGCTAATCTTGCTGCT\\n'],\n",
       " ['ACTAAAATGTCAGAGTGTGTACTTGGACAATCAAAAAGAGTTGATTTTTGTGGAAAGGGCTATCATCTTA\\n'],\n",
       " ['TGTCCTTCCCTCAGTCAGCACCTCATGGTGTAGTCTTCTTGCATGTGACTTATGTCCCTGCACAAGAAAA\\n'],\n",
       " ['GAACTTCACAACTGCTCCTGCCATTTGTCATGATGGAAAAGCACACTTTCCTCGTGAAGGTGTCTTTGTT\\n'],\n",
       " ['TCAAATGGCACACACTGGTTTGTAACACAAAGGAATTTTTATGAACCACAAATCATTACTACAGACAACA\\n'],\n",
       " ['CATTTGTGTCTGGTAACTGTGATGTTGTAATAGGAATTGTCAACAACACAGTTTATGATCCTTTGCAACC\\n'],\n",
       " ['TGAATTAGACTCATTCAAGGAGGAGTTAGATAAATATTTTAAGAATCATACATCACCAGATGTTGATTTA\\n'],\n",
       " ['GGTGACATCTCTGGCATTAATGCTTCAGTTGTAAACATTCAAAAAGAAATTGACCGCCTCAATGAGGTTG\\n'],\n",
       " ['CCAAGAATTTAAATGAATCTCTCATCGATCTCCAAGAACTTGGAAAGTATGAGCAGTATATAAAATGGCC\\n'],\n",
       " ['ATGGTACATTTGGCTAGGTTTTATAGCTGGCTTGATTGCCATAGTAATGGTGACAATTATGCTTTGCTGT\\n'],\n",
       " ['ATGACCAGTTGCTGTAGTTGTCTCAAGGGCTGTTGTTCTTGTGGATCCTGCTGCAAATTTGATGAAGACG\\n'],\n",
       " ['ACTCTGAGCCAGTGCTCAAAGGAGTCAAATTACATTACACATAAACGAACTTATGGATTTGTTTATGAGA\\n'],\n",
       " ['ATCTTCACAATTGGAACTGTAACTTTGAAGCAAGGTGAAATCAAGGATGCTACTCCTTCAGATTTTGTTC\\n'],\n",
       " ['GCGCTACTGCAACGATACCGATACAAGCCTCACTCCCTTTCGGATGGCTTATTGTTGGCGTTGCACTTCT\\n'],\n",
       " ['TGCTGTTTTTCAGAGCGCTTCCAAAATCATAACCCTCAAAAAGAGATGGCAACTAGCACTCTCCAAGGGT\\n'],\n",
       " ['GTTCACTTTGTTTGCAACTTGCTGTTGTTGTTTGTAACAGTTTACTCACACCTTTTGCTCGTTGCTGCTG\\n'],\n",
       " ['GCCTTGAAGCCCCTTTTCTCTATCTTTATGCTTTAGTCTACTTCTTGCAGAGTATAAACTTTGTAAGAAT\\n'],\n",
       " ['AATAATGAGGCTTTGGCTTTGCTGGAAATGCCGTTCCAAAAACCCATTACTTTATGATGCCAACTATTTT\\n'],\n",
       " ['CTTTGCTGGCATACTAATTGTTACGACTATTGTATACCTTACAATAGTGTAACTTCTTCAATTGTCATTA\\n'],\n",
       " ['CTTCAGGTGATGGCACAACAAGTCCTATTTCTGAACATGACTACCAGATTGGTGGTTATACTGAAAAATG\\n'],\n",
       " ['GGAATCTGGAGTAAAAGACTGTGTTGTATTACACAGTTACTTCACTTCAGACTATTACCAGCTGTACTCA\\n'],\n",
       " ['ACTCAATTGAGTACAGACACTGGTGTTGAACATGTTACCTTCTTCATCTACAATAAAATTGTTGATGAGC\\n'],\n",
       " ['CTGAAGAACATGTCCAAATTCACACAATCGACGGTTCATCCGGAGTTGTTAATCCAGTAATGGAACCAAT\\n'],\n",
       " ['TTATGATGAACCGACGACGACTACTAGCGTGCCTTTGTAAGCACAAGCTGATGAGTACGAACTTATGTAC\\n'],\n",
       " ['TCATTCGTTTCGGAAGAGACAGGTACGTTAATAGTTAATAGCGTACTTCTTTTTCTTGCTTTCGTGGTAT\\n'],\n",
       " ['TCTTGCTAGTTACACTAGCCATCCTTACTGCGCTTCGATTGTGTGCGTACTGCTGCAATATTGTTAACGT\\n'],\n",
       " ['GAGTCTTGTAAAACCTTCTTTTTACGTTTACTCTCGTGTTAAAAATCTGAATTCTTCTAGAGTTCCTGAT\\n'],\n",
       " ['CTTCTGGTCTAAACGAACTAAATATTATATTAGTTTTTCTGTTTGGAACTTTAATTTTAGCCATGGCAGA\\n'],\n",
       " ['TTCCAACGGTACTATTACCGTTGAAGAGCTTAAAAAGCTCCTTGAACAATGGAACCTAGTAATAGGTTTC\\n'],\n",
       " ['CTATTCCTTACATGGATTTGTCTTCTACAATTTGCCTATGCCAACAGGAATAGGTTTTTGTATATAATTA\\n'],\n",
       " ['AGTTAATTTTCCTCTGGCTGTTATGGCCAGTAACTTTAGCTTGTTTTGTGCTTGCTGCTGTTTACAGAAT\\n'],\n",
       " ['AAATTGGATCACCGGTGGAATTGCTATCGCAATGGCTTGTCTTGTAGGCTTGATGTGGCTCAGCTACTTC\\n'],\n",
       " ['ATTGCTTCTTTCAGACTGTTTGCGCGTACGCGTTCCATGTGGTCATTCAATCCAGAAACTAACATTCTTC\\n'],\n",
       " ['TCAACGTGCCACTCCATGGCACTATTCTGACCAGACCGCTTCTAGAAAGTGAACTCGTAATCGGAGCTGT\\n'],\n",
       " ['GATCCTTCGTGGACATCTTCGTATTGCTGGACACCATCTAGGACGCTGTGACATCAAGGACCTGCCTAAA\\n'],\n",
       " ['GAAATCACTGTTGCTACATCACGAACGCTTTCTTATTACAAATTGGGAGCTTCGCAGCGTGTAGCAGGTG\\n'],\n",
       " ['ACTCAGGTTTTGCTGCATACAGTCGCTACAGGATTGGCAACTATAAATTAAACACAGACCATTCCAGTAG\\n'],\n",
       " ['CAGTGACAATATTGCTTTGCTTGTACAGTAAGTGACAACAGATGTTTCATCTCGTTGACTTTCAGGTTAC\\n'],\n",
       " ['TATAGCAGAGATATTACTAATTATTATGAGGACTTTTAAAGTTTCCATTTGGAATCTTGATTACATCATA\\n'],\n",
       " ['AACCTCATAATTAAAAATTTATCTAAGTCACTAACTGAGAATAAATATTCTCAATTAGATGAAGAGCAAC\\n'],\n",
       " ['CAATGGAGATTGATTAAACGAACATGAAAATTATTCTTTTCTTGGCACTGATAACACTCGCTACTTGTGA\\n'],\n",
       " ['GCTTTATCACTACCAAGAGTGTGTTAGAGGTACAACAGTACTTTTAAAAGAACCTTGCTCTTCTGGAACA\\n'],\n",
       " ['TACGAGGGCAATTCACCATTTCATCCTCTAGCTGATAACAAATTTGCACTGACTTGCTTTAGCACTCAAT\\n'],\n",
       " ['TTGCTTTTGCTTGTCCTGACGGCGTAAAACACGTCTATCAGTTACGTGCCAGATCAGTTTCACCTAAACT\\n'],\n",
       " ['GTTCATCAGACAAGAGGAAGTTCAAGAACTTTACTCTCCAATTTTTCTTATTGTTGCGGCAATAGTGTTT\\n'],\n",
       " ['ATAACACTTTGCTTCACACTCAAAAGAAAGACAGAATGATTGAACTTTCATTAATTGACTTCTATTTGTG\\n'],\n",
       " ['CTTTTTAGCCTTTCTGCTATTCCTTGTTTTAATTATGCTTATTATCTTTTGGTTCTCACTTGAACTGCAA\\n'],\n",
       " ['GATCATAATGAAACTTGTCACGCCTAAACGAACATGAAATTTCTTGTTTTCTTAGGAATCATCACAACTG\\n'],\n",
       " ['TAGCTGCATTTCACCAAGAATGTAGTTTACAGTCATGTACTCAACATCAACCATATGTAGTTGATGACCC\\n'],\n",
       " ['GTGTCCTATTCACTTCTATTCTAAATGGTATATTAGAGTAGGAGCTAGAAAATCAGCACCTTTAATTGAA\\n'],\n",
       " ['TTGTGCGTGGATGAGGCTGGTTCTAAATCACCCATTCAGTACATCGATATCGGTAATTATACAGTTTCCT\\n'],\n",
       " ['GTTTACCTTTTACAATTAATTGCCAGGAACCTAAATTGGGTAGTCTTGTAGTGCGTTGTTCGTTCTATGA\\n'],\n",
       " ['AGACTTTTTAGAGTATCATGACGTTCGTGTTGTTTTAGATTTCATCTAAACGAACAAACTAAAATGTCTG\\n'],\n",
       " ['ATAATGGACCCCAAAATCAGCGAAATGCACCCCGCATTACGTTTGGTGGACCCTCAGATTCAACTGGCAG\\n'],\n",
       " ['TAACCAGAATGGAGAACGCAGTGGGGCGCGATCAAAACAACGTCGGCCCCAAGGTTTACCCAATAATACT\\n'],\n",
       " ['GCGTCTTGGTTCACCGCTCTCACTCAACATGGCAAGGAAGACCTTAAATTCCCTCGAGGACAAGGCGTTC\\n'],\n",
       " ['CAATTAACACCAATAGCAGTCCAGATGACCAAATTGGCTACTACCGAAGAGCTACCAGACGAATTCGTGG\\n'],\n",
       " ['TGGTGACGGTAAAATGAAAGATCTCAGTCCAAGATGGTATTTCTACTACCTAGGAACTGGGCCAGAAGCT\\n'],\n",
       " ['GGACTTCCCTATGGTGCTAACAAAGACGGCATCATATGGGTTGCAACTGAGGGAGCCTTGAATACACCAA\\n'],\n",
       " ['AAGATCACATTGGCACCCGCAATCCTGCTAACAATGCTGCAATCGTGCTACAACTTCCTCAAGGAACAAC\\n'],\n",
       " ['ATTGCCAAAAGGCTTCTACGCAGAAGGGAGCAGAGGCGGCAGTCAAGCCTCTTCTCGTTCCTCATCACGT\\n'],\n",
       " ['AGTCGCAACAGTTCAAGAAATTCAACTCCAGGCAGCAGTAGGGGAACTTCTCCTGCTAGAATGGCTGGCA\\n'],\n",
       " ['ATGGCGGTGATGCTGCTCTTGCTTTGCTGCTGCTTGACAGATTGAACCAGCTTGAGAGCAAAATGTCTGG\\n'],\n",
       " ['TAAAGGCCAACAACAACAAGGCCAAACTGTCACTAAGAAATCTGCTGCTGAGGCTTCTAAGAAGCCTCGG\\n'],\n",
       " ['CAAAAACGTACTGCCACTAAAGCATACAATGTAACACAAGCTTTCGGCAGACGTGGTCCAGAACAAACCC\\n'],\n",
       " ['AAGGAAATTTTGGGGACCAGGAACTAATCAGACAAGGAACTGATTACAAACATTGGCCGCAAATTGCACA\\n'],\n",
       " ['ATTTGCCCCCAGCGCTTCAGCGTTCTTCGGAATGTCGCGCATTGGCATGGAAGTCACACCTTCGGGAACG\\n'],\n",
       " ['TGGTTGACCTACACAGGTGCCATCAAATTGGATGACAAAGATCCAAATTTCAAAGATCAAGTCATTTTGC\\n'],\n",
       " ['TGAATAAGCATATTGACGCATACAAAACATTCCCACCAACAGAGCCTAAAAAGGACAAAAAGAAGAAGGC\\n'],\n",
       " ['TGATGAAACTCAAGCCTTACCGCAGAGACAGAAGAAACAGCAAACTGTGACTCTTCTTCCTGCTGCAGAT\\n'],\n",
       " ['TTGGATGATTTCTCCAAACAATTGCAACAATCCATGAGCAGTGCTGACTCAACTCAGGCCTAAACTCATG\\n'],\n",
       " ['CAGACCACACAAGGCAGATGGGCTATATAAACGTTTTCGCTTTTCCGTTTACGATATATAGTCTACTCTT\\n'],\n",
       " ['GTGCAGAATGAATTCTCGTAACTACATAGCACAAGTAGATGTAGTTAACTTTAATCTCACATAGCAATCT\\n'],\n",
       " ['TTAATCAGTGTGTAACATTAGGGAGGACTTGAAAGAGCCACCACATTTTCACCGAGGCCACGCGGAGTAC\\n'],\n",
       " ['GATCGAGTGTACAGTGAACAATGCTAGGGAGAGCTGCCTATATGGAAGAGCCCTAATGTGTAAAATTAAT\\n'],\n",
       " ['TTTAGTAGTGCTATCCCCATGTGATTTTAATAGCTTCTTAGGAGAATGACAAAAAAAAAAAAAAAAAAAA\\n'],\n",
       " ['AAAAAAAAAAAAA\\n']]"
      ]
     },
     "execution_count": 138,
     "metadata": {},
     "output_type": "execute_result"
    },
    {
     "data": {
      "application/javascript": [
       "\n",
       "            setTimeout(function() {\n",
       "                var nbb_cell_id = 138;\n",
       "                var nbb_unformatted_code = \"data\";\n",
       "                var nbb_formatted_code = \"data\";\n",
       "                var nbb_cells = Jupyter.notebook.get_cells();\n",
       "                for (var i = 0; i < nbb_cells.length; ++i) {\n",
       "                    if (nbb_cells[i].input_prompt_number == nbb_cell_id) {\n",
       "                        if (nbb_cells[i].get_text() == nbb_unformatted_code) {\n",
       "                             nbb_cells[i].set_text(nbb_formatted_code);\n",
       "                        }\n",
       "                        break;\n",
       "                    }\n",
       "                }\n",
       "            }, 500);\n",
       "            "
      ],
      "text/plain": [
       "<IPython.core.display.Javascript object>"
      ]
     },
     "metadata": {},
     "output_type": "display_data"
    }
   ],
   "source": [
    "data"
   ]
  },
  {
   "cell_type": "code",
   "execution_count": 139,
   "id": "149f91ee",
   "metadata": {},
   "outputs": [
    {
     "data": {
      "text/html": [
       "<div>\n",
       "<style scoped>\n",
       "    .dataframe tbody tr th:only-of-type {\n",
       "        vertical-align: middle;\n",
       "    }\n",
       "\n",
       "    .dataframe tbody tr th {\n",
       "        vertical-align: top;\n",
       "    }\n",
       "\n",
       "    .dataframe thead th {\n",
       "        text-align: right;\n",
       "    }\n",
       "</style>\n",
       "<table border=\"1\" class=\"dataframe\">\n",
       "  <thead>\n",
       "    <tr style=\"text-align: right;\">\n",
       "      <th></th>\n",
       "      <th>sequence</th>\n",
       "    </tr>\n",
       "  </thead>\n",
       "  <tbody>\n",
       "    <tr>\n",
       "      <th>0</th>\n",
       "      <td>None</td>\n",
       "    </tr>\n",
       "    <tr>\n",
       "      <th>1</th>\n",
       "      <td>&gt;MN908947.3 Severe acute respiratory syndrome ...</td>\n",
       "    </tr>\n",
       "    <tr>\n",
       "      <th>2</th>\n",
       "      <td>ATTAAAGGTTTATACCTTCCCAGGTAACAAACCAACCAACTTTCGA...</td>\n",
       "    </tr>\n",
       "    <tr>\n",
       "      <th>3</th>\n",
       "      <td>CGAACTTTAAAATCTGTGTGGCTGTCACTCGGCTGCATGCTTAGTG...</td>\n",
       "    </tr>\n",
       "    <tr>\n",
       "      <th>4</th>\n",
       "      <td>TAATTACTGTCGTTGACAGGACACGAGTAACTCGTCTATCTTCTGC...</td>\n",
       "    </tr>\n",
       "    <tr>\n",
       "      <th>...</th>\n",
       "      <td>...</td>\n",
       "    </tr>\n",
       "    <tr>\n",
       "      <th>425</th>\n",
       "      <td>GTGCAGAATGAATTCTCGTAACTACATAGCACAAGTAGATGTAGTT...</td>\n",
       "    </tr>\n",
       "    <tr>\n",
       "      <th>426</th>\n",
       "      <td>TTAATCAGTGTGTAACATTAGGGAGGACTTGAAAGAGCCACCACAT...</td>\n",
       "    </tr>\n",
       "    <tr>\n",
       "      <th>427</th>\n",
       "      <td>GATCGAGTGTACAGTGAACAATGCTAGGGAGAGCTGCCTATATGGA...</td>\n",
       "    </tr>\n",
       "    <tr>\n",
       "      <th>428</th>\n",
       "      <td>TTTAGTAGTGCTATCCCCATGTGATTTTAATAGCTTCTTAGGAGAA...</td>\n",
       "    </tr>\n",
       "    <tr>\n",
       "      <th>429</th>\n",
       "      <td>AAAAAAAAAAAAA\\n</td>\n",
       "    </tr>\n",
       "  </tbody>\n",
       "</table>\n",
       "<p>430 rows × 1 columns</p>\n",
       "</div>"
      ],
      "text/plain": [
       "                                              sequence\n",
       "0                                                 None\n",
       "1    >MN908947.3 Severe acute respiratory syndrome ...\n",
       "2    ATTAAAGGTTTATACCTTCCCAGGTAACAAACCAACCAACTTTCGA...\n",
       "3    CGAACTTTAAAATCTGTGTGGCTGTCACTCGGCTGCATGCTTAGTG...\n",
       "4    TAATTACTGTCGTTGACAGGACACGAGTAACTCGTCTATCTTCTGC...\n",
       "..                                                 ...\n",
       "425  GTGCAGAATGAATTCTCGTAACTACATAGCACAAGTAGATGTAGTT...\n",
       "426  TTAATCAGTGTGTAACATTAGGGAGGACTTGAAAGAGCCACCACAT...\n",
       "427  GATCGAGTGTACAGTGAACAATGCTAGGGAGAGCTGCCTATATGGA...\n",
       "428  TTTAGTAGTGCTATCCCCATGTGATTTTAATAGCTTCTTAGGAGAA...\n",
       "429                                    AAAAAAAAAAAAA\\n\n",
       "\n",
       "[430 rows x 1 columns]"
      ]
     },
     "execution_count": 139,
     "metadata": {},
     "output_type": "execute_result"
    },
    {
     "data": {
      "application/javascript": [
       "\n",
       "            setTimeout(function() {\n",
       "                var nbb_cell_id = 139;\n",
       "                var nbb_unformatted_code = \"df1 = pd.DataFrame(data, columns=[\\\"sequence\\\"])\\ndf1\";\n",
       "                var nbb_formatted_code = \"df1 = pd.DataFrame(data, columns=[\\\"sequence\\\"])\\ndf1\";\n",
       "                var nbb_cells = Jupyter.notebook.get_cells();\n",
       "                for (var i = 0; i < nbb_cells.length; ++i) {\n",
       "                    if (nbb_cells[i].input_prompt_number == nbb_cell_id) {\n",
       "                        if (nbb_cells[i].get_text() == nbb_unformatted_code) {\n",
       "                             nbb_cells[i].set_text(nbb_formatted_code);\n",
       "                        }\n",
       "                        break;\n",
       "                    }\n",
       "                }\n",
       "            }, 500);\n",
       "            "
      ],
      "text/plain": [
       "<IPython.core.display.Javascript object>"
      ]
     },
     "metadata": {},
     "output_type": "display_data"
    }
   ],
   "source": [
    "df1 = pd.DataFrame(data, columns=[\"sequence\"])\n",
    "df1"
   ]
  },
  {
   "cell_type": "code",
   "execution_count": 140,
   "id": "b6b4dabb",
   "metadata": {},
   "outputs": [
    {
     "data": {
      "text/html": [
       "<div>\n",
       "<style scoped>\n",
       "    .dataframe tbody tr th:only-of-type {\n",
       "        vertical-align: middle;\n",
       "    }\n",
       "\n",
       "    .dataframe tbody tr th {\n",
       "        vertical-align: top;\n",
       "    }\n",
       "\n",
       "    .dataframe thead th {\n",
       "        text-align: right;\n",
       "    }\n",
       "</style>\n",
       "<table border=\"1\" class=\"dataframe\">\n",
       "  <thead>\n",
       "    <tr style=\"text-align: right;\">\n",
       "      <th></th>\n",
       "      <th>sequence</th>\n",
       "    </tr>\n",
       "  </thead>\n",
       "  <tbody>\n",
       "    <tr>\n",
       "      <th>1</th>\n",
       "      <td>&gt;MN908947.3 Severe acute respiratory syndrome ...</td>\n",
       "    </tr>\n",
       "    <tr>\n",
       "      <th>2</th>\n",
       "      <td>ATTAAAGGTTTATACCTTCCCAGGTAACAAACCAACCAACTTTCGA...</td>\n",
       "    </tr>\n",
       "    <tr>\n",
       "      <th>3</th>\n",
       "      <td>CGAACTTTAAAATCTGTGTGGCTGTCACTCGGCTGCATGCTTAGTG...</td>\n",
       "    </tr>\n",
       "    <tr>\n",
       "      <th>4</th>\n",
       "      <td>TAATTACTGTCGTTGACAGGACACGAGTAACTCGTCTATCTTCTGC...</td>\n",
       "    </tr>\n",
       "    <tr>\n",
       "      <th>5</th>\n",
       "      <td>TTGCAGCCGATCATCAGCACATCTAGGTTTCGTCCGGGTGTGACCG...</td>\n",
       "    </tr>\n",
       "    <tr>\n",
       "      <th>...</th>\n",
       "      <td>...</td>\n",
       "    </tr>\n",
       "    <tr>\n",
       "      <th>425</th>\n",
       "      <td>GTGCAGAATGAATTCTCGTAACTACATAGCACAAGTAGATGTAGTT...</td>\n",
       "    </tr>\n",
       "    <tr>\n",
       "      <th>426</th>\n",
       "      <td>TTAATCAGTGTGTAACATTAGGGAGGACTTGAAAGAGCCACCACAT...</td>\n",
       "    </tr>\n",
       "    <tr>\n",
       "      <th>427</th>\n",
       "      <td>GATCGAGTGTACAGTGAACAATGCTAGGGAGAGCTGCCTATATGGA...</td>\n",
       "    </tr>\n",
       "    <tr>\n",
       "      <th>428</th>\n",
       "      <td>TTTAGTAGTGCTATCCCCATGTGATTTTAATAGCTTCTTAGGAGAA...</td>\n",
       "    </tr>\n",
       "    <tr>\n",
       "      <th>429</th>\n",
       "      <td>AAAAAAAAAAAAA\\n</td>\n",
       "    </tr>\n",
       "  </tbody>\n",
       "</table>\n",
       "<p>429 rows × 1 columns</p>\n",
       "</div>"
      ],
      "text/plain": [
       "                                              sequence\n",
       "1    >MN908947.3 Severe acute respiratory syndrome ...\n",
       "2    ATTAAAGGTTTATACCTTCCCAGGTAACAAACCAACCAACTTTCGA...\n",
       "3    CGAACTTTAAAATCTGTGTGGCTGTCACTCGGCTGCATGCTTAGTG...\n",
       "4    TAATTACTGTCGTTGACAGGACACGAGTAACTCGTCTATCTTCTGC...\n",
       "5    TTGCAGCCGATCATCAGCACATCTAGGTTTCGTCCGGGTGTGACCG...\n",
       "..                                                 ...\n",
       "425  GTGCAGAATGAATTCTCGTAACTACATAGCACAAGTAGATGTAGTT...\n",
       "426  TTAATCAGTGTGTAACATTAGGGAGGACTTGAAAGAGCCACCACAT...\n",
       "427  GATCGAGTGTACAGTGAACAATGCTAGGGAGAGCTGCCTATATGGA...\n",
       "428  TTTAGTAGTGCTATCCCCATGTGATTTTAATAGCTTCTTAGGAGAA...\n",
       "429                                    AAAAAAAAAAAAA\\n\n",
       "\n",
       "[429 rows x 1 columns]"
      ]
     },
     "execution_count": 140,
     "metadata": {},
     "output_type": "execute_result"
    },
    {
     "data": {
      "application/javascript": [
       "\n",
       "            setTimeout(function() {\n",
       "                var nbb_cell_id = 140;\n",
       "                var nbb_unformatted_code = \"df1 = df1.drop(df1.index[0], axis=0)\\n\\ndf1\";\n",
       "                var nbb_formatted_code = \"df1 = df1.drop(df1.index[0], axis=0)\\n\\ndf1\";\n",
       "                var nbb_cells = Jupyter.notebook.get_cells();\n",
       "                for (var i = 0; i < nbb_cells.length; ++i) {\n",
       "                    if (nbb_cells[i].input_prompt_number == nbb_cell_id) {\n",
       "                        if (nbb_cells[i].get_text() == nbb_unformatted_code) {\n",
       "                             nbb_cells[i].set_text(nbb_formatted_code);\n",
       "                        }\n",
       "                        break;\n",
       "                    }\n",
       "                }\n",
       "            }, 500);\n",
       "            "
      ],
      "text/plain": [
       "<IPython.core.display.Javascript object>"
      ]
     },
     "metadata": {},
     "output_type": "display_data"
    }
   ],
   "source": [
    "df1 = df1.drop(df1.index[0], axis=0)\n",
    "\n",
    "df1"
   ]
  },
  {
   "cell_type": "code",
   "execution_count": 141,
   "id": "ed7d046b",
   "metadata": {},
   "outputs": [
    {
     "data": {
      "application/javascript": [
       "\n",
       "            setTimeout(function() {\n",
       "                var nbb_cell_id = 141;\n",
       "                var nbb_unformatted_code = \"df1 = df1.drop(df1.index[0], axis=0)\";\n",
       "                var nbb_formatted_code = \"df1 = df1.drop(df1.index[0], axis=0)\";\n",
       "                var nbb_cells = Jupyter.notebook.get_cells();\n",
       "                for (var i = 0; i < nbb_cells.length; ++i) {\n",
       "                    if (nbb_cells[i].input_prompt_number == nbb_cell_id) {\n",
       "                        if (nbb_cells[i].get_text() == nbb_unformatted_code) {\n",
       "                             nbb_cells[i].set_text(nbb_formatted_code);\n",
       "                        }\n",
       "                        break;\n",
       "                    }\n",
       "                }\n",
       "            }, 500);\n",
       "            "
      ],
      "text/plain": [
       "<IPython.core.display.Javascript object>"
      ]
     },
     "metadata": {},
     "output_type": "display_data"
    }
   ],
   "source": [
    "df1 = df1.drop(df1.index[0], axis=0)\n"
   ]
  },
  {
   "cell_type": "code",
   "execution_count": 142,
   "id": "3253be59",
   "metadata": {},
   "outputs": [
    {
     "data": {
      "text/html": [
       "<div>\n",
       "<style scoped>\n",
       "    .dataframe tbody tr th:only-of-type {\n",
       "        vertical-align: middle;\n",
       "    }\n",
       "\n",
       "    .dataframe tbody tr th {\n",
       "        vertical-align: top;\n",
       "    }\n",
       "\n",
       "    .dataframe thead th {\n",
       "        text-align: right;\n",
       "    }\n",
       "</style>\n",
       "<table border=\"1\" class=\"dataframe\">\n",
       "  <thead>\n",
       "    <tr style=\"text-align: right;\">\n",
       "      <th></th>\n",
       "      <th>sequence</th>\n",
       "    </tr>\n",
       "  </thead>\n",
       "  <tbody>\n",
       "    <tr>\n",
       "      <th>2</th>\n",
       "      <td>ATTAAAGGTTTATACCTTCCCAGGTAACAAACCAACCAACTTTCGA...</td>\n",
       "    </tr>\n",
       "    <tr>\n",
       "      <th>3</th>\n",
       "      <td>CGAACTTTAAAATCTGTGTGGCTGTCACTCGGCTGCATGCTTAGTG...</td>\n",
       "    </tr>\n",
       "    <tr>\n",
       "      <th>4</th>\n",
       "      <td>TAATTACTGTCGTTGACAGGACACGAGTAACTCGTCTATCTTCTGC...</td>\n",
       "    </tr>\n",
       "    <tr>\n",
       "      <th>5</th>\n",
       "      <td>TTGCAGCCGATCATCAGCACATCTAGGTTTCGTCCGGGTGTGACCG...</td>\n",
       "    </tr>\n",
       "    <tr>\n",
       "      <th>6</th>\n",
       "      <td>CCTGGTTTCAACGAGAAAACACACGTCCAACTCAGTTTGCCTGTTT...</td>\n",
       "    </tr>\n",
       "    <tr>\n",
       "      <th>...</th>\n",
       "      <td>...</td>\n",
       "    </tr>\n",
       "    <tr>\n",
       "      <th>425</th>\n",
       "      <td>GTGCAGAATGAATTCTCGTAACTACATAGCACAAGTAGATGTAGTT...</td>\n",
       "    </tr>\n",
       "    <tr>\n",
       "      <th>426</th>\n",
       "      <td>TTAATCAGTGTGTAACATTAGGGAGGACTTGAAAGAGCCACCACAT...</td>\n",
       "    </tr>\n",
       "    <tr>\n",
       "      <th>427</th>\n",
       "      <td>GATCGAGTGTACAGTGAACAATGCTAGGGAGAGCTGCCTATATGGA...</td>\n",
       "    </tr>\n",
       "    <tr>\n",
       "      <th>428</th>\n",
       "      <td>TTTAGTAGTGCTATCCCCATGTGATTTTAATAGCTTCTTAGGAGAA...</td>\n",
       "    </tr>\n",
       "    <tr>\n",
       "      <th>429</th>\n",
       "      <td>AAAAAAAAAAAAA\\n</td>\n",
       "    </tr>\n",
       "  </tbody>\n",
       "</table>\n",
       "<p>428 rows × 1 columns</p>\n",
       "</div>"
      ],
      "text/plain": [
       "                                              sequence\n",
       "2    ATTAAAGGTTTATACCTTCCCAGGTAACAAACCAACCAACTTTCGA...\n",
       "3    CGAACTTTAAAATCTGTGTGGCTGTCACTCGGCTGCATGCTTAGTG...\n",
       "4    TAATTACTGTCGTTGACAGGACACGAGTAACTCGTCTATCTTCTGC...\n",
       "5    TTGCAGCCGATCATCAGCACATCTAGGTTTCGTCCGGGTGTGACCG...\n",
       "6    CCTGGTTTCAACGAGAAAACACACGTCCAACTCAGTTTGCCTGTTT...\n",
       "..                                                 ...\n",
       "425  GTGCAGAATGAATTCTCGTAACTACATAGCACAAGTAGATGTAGTT...\n",
       "426  TTAATCAGTGTGTAACATTAGGGAGGACTTGAAAGAGCCACCACAT...\n",
       "427  GATCGAGTGTACAGTGAACAATGCTAGGGAGAGCTGCCTATATGGA...\n",
       "428  TTTAGTAGTGCTATCCCCATGTGATTTTAATAGCTTCTTAGGAGAA...\n",
       "429                                    AAAAAAAAAAAAA\\n\n",
       "\n",
       "[428 rows x 1 columns]"
      ]
     },
     "execution_count": 142,
     "metadata": {},
     "output_type": "execute_result"
    },
    {
     "data": {
      "application/javascript": [
       "\n",
       "            setTimeout(function() {\n",
       "                var nbb_cell_id = 142;\n",
       "                var nbb_unformatted_code = \"df1\";\n",
       "                var nbb_formatted_code = \"df1\";\n",
       "                var nbb_cells = Jupyter.notebook.get_cells();\n",
       "                for (var i = 0; i < nbb_cells.length; ++i) {\n",
       "                    if (nbb_cells[i].input_prompt_number == nbb_cell_id) {\n",
       "                        if (nbb_cells[i].get_text() == nbb_unformatted_code) {\n",
       "                             nbb_cells[i].set_text(nbb_formatted_code);\n",
       "                        }\n",
       "                        break;\n",
       "                    }\n",
       "                }\n",
       "            }, 500);\n",
       "            "
      ],
      "text/plain": [
       "<IPython.core.display.Javascript object>"
      ]
     },
     "metadata": {},
     "output_type": "display_data"
    }
   ],
   "source": [
    "df1"
   ]
  },
  {
   "cell_type": "code",
   "execution_count": 143,
   "id": "8f5c118a",
   "metadata": {},
   "outputs": [
    {
     "data": {
      "text/html": [
       "<div>\n",
       "<style scoped>\n",
       "    .dataframe tbody tr th:only-of-type {\n",
       "        vertical-align: middle;\n",
       "    }\n",
       "\n",
       "    .dataframe tbody tr th {\n",
       "        vertical-align: top;\n",
       "    }\n",
       "\n",
       "    .dataframe thead th {\n",
       "        text-align: right;\n",
       "    }\n",
       "</style>\n",
       "<table border=\"1\" class=\"dataframe\">\n",
       "  <thead>\n",
       "    <tr style=\"text-align: right;\">\n",
       "      <th></th>\n",
       "      <th>sequence</th>\n",
       "    </tr>\n",
       "  </thead>\n",
       "  <tbody>\n",
       "    <tr>\n",
       "      <th>2</th>\n",
       "      <td>ATTAAAGGTTTATACCTTCCCAGGTAACAAACCAACCAACTTTCGA...</td>\n",
       "    </tr>\n",
       "    <tr>\n",
       "      <th>3</th>\n",
       "      <td>CGAACTTTAAAATCTGTGTGGCTGTCACTCGGCTGCATGCTTAGTG...</td>\n",
       "    </tr>\n",
       "    <tr>\n",
       "      <th>4</th>\n",
       "      <td>TAATTACTGTCGTTGACAGGACACGAGTAACTCGTCTATCTTCTGC...</td>\n",
       "    </tr>\n",
       "    <tr>\n",
       "      <th>5</th>\n",
       "      <td>TTGCAGCCGATCATCAGCACATCTAGGTTTCGTCCGGGTGTGACCG...</td>\n",
       "    </tr>\n",
       "    <tr>\n",
       "      <th>6</th>\n",
       "      <td>CCTGGTTTCAACGAGAAAACACACGTCCAACTCAGTTTGCCTGTTT...</td>\n",
       "    </tr>\n",
       "    <tr>\n",
       "      <th>...</th>\n",
       "      <td>...</td>\n",
       "    </tr>\n",
       "    <tr>\n",
       "      <th>424</th>\n",
       "      <td>CAGACCACACAAGGCAGATGGGCTATATAAACGTTTTCGCTTTTCC...</td>\n",
       "    </tr>\n",
       "    <tr>\n",
       "      <th>425</th>\n",
       "      <td>GTGCAGAATGAATTCTCGTAACTACATAGCACAAGTAGATGTAGTT...</td>\n",
       "    </tr>\n",
       "    <tr>\n",
       "      <th>426</th>\n",
       "      <td>TTAATCAGTGTGTAACATTAGGGAGGACTTGAAAGAGCCACCACAT...</td>\n",
       "    </tr>\n",
       "    <tr>\n",
       "      <th>427</th>\n",
       "      <td>GATCGAGTGTACAGTGAACAATGCTAGGGAGAGCTGCCTATATGGA...</td>\n",
       "    </tr>\n",
       "    <tr>\n",
       "      <th>428</th>\n",
       "      <td>TTTAGTAGTGCTATCCCCATGTGATTTTAATAGCTTCTTAGGAGAA...</td>\n",
       "    </tr>\n",
       "  </tbody>\n",
       "</table>\n",
       "<p>427 rows × 1 columns</p>\n",
       "</div>"
      ],
      "text/plain": [
       "                                              sequence\n",
       "2    ATTAAAGGTTTATACCTTCCCAGGTAACAAACCAACCAACTTTCGA...\n",
       "3    CGAACTTTAAAATCTGTGTGGCTGTCACTCGGCTGCATGCTTAGTG...\n",
       "4    TAATTACTGTCGTTGACAGGACACGAGTAACTCGTCTATCTTCTGC...\n",
       "5    TTGCAGCCGATCATCAGCACATCTAGGTTTCGTCCGGGTGTGACCG...\n",
       "6    CCTGGTTTCAACGAGAAAACACACGTCCAACTCAGTTTGCCTGTTT...\n",
       "..                                                 ...\n",
       "424  CAGACCACACAAGGCAGATGGGCTATATAAACGTTTTCGCTTTTCC...\n",
       "425  GTGCAGAATGAATTCTCGTAACTACATAGCACAAGTAGATGTAGTT...\n",
       "426  TTAATCAGTGTGTAACATTAGGGAGGACTTGAAAGAGCCACCACAT...\n",
       "427  GATCGAGTGTACAGTGAACAATGCTAGGGAGAGCTGCCTATATGGA...\n",
       "428  TTTAGTAGTGCTATCCCCATGTGATTTTAATAGCTTCTTAGGAGAA...\n",
       "\n",
       "[427 rows x 1 columns]"
      ]
     },
     "execution_count": 143,
     "metadata": {},
     "output_type": "execute_result"
    },
    {
     "data": {
      "application/javascript": [
       "\n",
       "            setTimeout(function() {\n",
       "                var nbb_cell_id = 143;\n",
       "                var nbb_unformatted_code = \"df1 = df1.drop(df1.index[427], axis=0)\\ndf1\";\n",
       "                var nbb_formatted_code = \"df1 = df1.drop(df1.index[427], axis=0)\\ndf1\";\n",
       "                var nbb_cells = Jupyter.notebook.get_cells();\n",
       "                for (var i = 0; i < nbb_cells.length; ++i) {\n",
       "                    if (nbb_cells[i].input_prompt_number == nbb_cell_id) {\n",
       "                        if (nbb_cells[i].get_text() == nbb_unformatted_code) {\n",
       "                             nbb_cells[i].set_text(nbb_formatted_code);\n",
       "                        }\n",
       "                        break;\n",
       "                    }\n",
       "                }\n",
       "            }, 500);\n",
       "            "
      ],
      "text/plain": [
       "<IPython.core.display.Javascript object>"
      ]
     },
     "metadata": {},
     "output_type": "display_data"
    }
   ],
   "source": [
    "df1 = df1.drop(df1.index[427], axis=0)\n",
    "df1"
   ]
  },
  {
   "cell_type": "code",
   "execution_count": 144,
   "id": "0f4e4e08",
   "metadata": {},
   "outputs": [
    {
     "data": {
      "application/javascript": [
       "\n",
       "            setTimeout(function() {\n",
       "                var nbb_cell_id = 144;\n",
       "                var nbb_unformatted_code = \"abstracts = df1[\\\"sequence\\\"]\";\n",
       "                var nbb_formatted_code = \"abstracts = df1[\\\"sequence\\\"]\";\n",
       "                var nbb_cells = Jupyter.notebook.get_cells();\n",
       "                for (var i = 0; i < nbb_cells.length; ++i) {\n",
       "                    if (nbb_cells[i].input_prompt_number == nbb_cell_id) {\n",
       "                        if (nbb_cells[i].get_text() == nbb_unformatted_code) {\n",
       "                             nbb_cells[i].set_text(nbb_formatted_code);\n",
       "                        }\n",
       "                        break;\n",
       "                    }\n",
       "                }\n",
       "            }, 500);\n",
       "            "
      ],
      "text/plain": [
       "<IPython.core.display.Javascript object>"
      ]
     },
     "metadata": {},
     "output_type": "display_data"
    }
   ],
   "source": [
    "abstracts = df1[\"sequence\"]"
   ]
  },
  {
   "cell_type": "code",
   "execution_count": 145,
   "id": "66939212",
   "metadata": {},
   "outputs": [
    {
     "data": {
      "text/plain": [
       "pandas.core.series.Series"
      ]
     },
     "execution_count": 145,
     "metadata": {},
     "output_type": "execute_result"
    },
    {
     "data": {
      "application/javascript": [
       "\n",
       "            setTimeout(function() {\n",
       "                var nbb_cell_id = 145;\n",
       "                var nbb_unformatted_code = \"type(abstracts)\";\n",
       "                var nbb_formatted_code = \"type(abstracts)\";\n",
       "                var nbb_cells = Jupyter.notebook.get_cells();\n",
       "                for (var i = 0; i < nbb_cells.length; ++i) {\n",
       "                    if (nbb_cells[i].input_prompt_number == nbb_cell_id) {\n",
       "                        if (nbb_cells[i].get_text() == nbb_unformatted_code) {\n",
       "                             nbb_cells[i].set_text(nbb_formatted_code);\n",
       "                        }\n",
       "                        break;\n",
       "                    }\n",
       "                }\n",
       "            }, 500);\n",
       "            "
      ],
      "text/plain": [
       "<IPython.core.display.Javascript object>"
      ]
     },
     "metadata": {},
     "output_type": "display_data"
    }
   ],
   "source": [
    "type(abstracts)"
   ]
  },
  {
   "cell_type": "code",
   "execution_count": 146,
   "id": "b2f640f7",
   "metadata": {},
   "outputs": [
    {
     "data": {
      "application/javascript": [
       "\n",
       "            setTimeout(function() {\n",
       "                var nbb_cell_id = 146;\n",
       "                var nbb_unformatted_code = \"tokenizer = tf.keras.preprocessing.text.Tokenizer(\\n    num_words=None, filters=\\\"\\\\n\\\", lower=False, char_level=True\\n)\";\n",
       "                var nbb_formatted_code = \"tokenizer = tf.keras.preprocessing.text.Tokenizer(\\n    num_words=None, filters=\\\"\\\\n\\\", lower=False, char_level=True\\n)\";\n",
       "                var nbb_cells = Jupyter.notebook.get_cells();\n",
       "                for (var i = 0; i < nbb_cells.length; ++i) {\n",
       "                    if (nbb_cells[i].input_prompt_number == nbb_cell_id) {\n",
       "                        if (nbb_cells[i].get_text() == nbb_unformatted_code) {\n",
       "                             nbb_cells[i].set_text(nbb_formatted_code);\n",
       "                        }\n",
       "                        break;\n",
       "                    }\n",
       "                }\n",
       "            }, 500);\n",
       "            "
      ],
      "text/plain": [
       "<IPython.core.display.Javascript object>"
      ]
     },
     "metadata": {},
     "output_type": "display_data"
    }
   ],
   "source": [
    "tokenizer = tf.keras.preprocessing.text.Tokenizer(\n",
    "    num_words=None, filters=\"\\n\", lower=False, char_level=True\n",
    ")"
   ]
  },
  {
   "cell_type": "code",
   "execution_count": 147,
   "id": "5338c2cc",
   "metadata": {},
   "outputs": [
    {
     "data": {
      "application/javascript": [
       "\n",
       "            setTimeout(function() {\n",
       "                var nbb_cell_id = 147;\n",
       "                var nbb_unformatted_code = \"tokenizer.fit_on_texts(abstracts)\";\n",
       "                var nbb_formatted_code = \"tokenizer.fit_on_texts(abstracts)\";\n",
       "                var nbb_cells = Jupyter.notebook.get_cells();\n",
       "                for (var i = 0; i < nbb_cells.length; ++i) {\n",
       "                    if (nbb_cells[i].input_prompt_number == nbb_cell_id) {\n",
       "                        if (nbb_cells[i].get_text() == nbb_unformatted_code) {\n",
       "                             nbb_cells[i].set_text(nbb_formatted_code);\n",
       "                        }\n",
       "                        break;\n",
       "                    }\n",
       "                }\n",
       "            }, 500);\n",
       "            "
      ],
      "text/plain": [
       "<IPython.core.display.Javascript object>"
      ]
     },
     "metadata": {},
     "output_type": "display_data"
    }
   ],
   "source": [
    "tokenizer.fit_on_texts(abstracts)\n"
   ]
  },
  {
   "cell_type": "code",
   "execution_count": 148,
   "id": "3caf3f3f",
   "metadata": {},
   "outputs": [
    {
     "data": {
      "application/javascript": [
       "\n",
       "            setTimeout(function() {\n",
       "                var nbb_cell_id = 148;\n",
       "                var nbb_unformatted_code = \"sequences=tokenizer.texts_to_sequences(abstracts)\";\n",
       "                var nbb_formatted_code = \"sequences = tokenizer.texts_to_sequences(abstracts)\";\n",
       "                var nbb_cells = Jupyter.notebook.get_cells();\n",
       "                for (var i = 0; i < nbb_cells.length; ++i) {\n",
       "                    if (nbb_cells[i].input_prompt_number == nbb_cell_id) {\n",
       "                        if (nbb_cells[i].get_text() == nbb_unformatted_code) {\n",
       "                             nbb_cells[i].set_text(nbb_formatted_code);\n",
       "                        }\n",
       "                        break;\n",
       "                    }\n",
       "                }\n",
       "            }, 500);\n",
       "            "
      ],
      "text/plain": [
       "<IPython.core.display.Javascript object>"
      ]
     },
     "metadata": {},
     "output_type": "display_data"
    }
   ],
   "source": [
    "sequences=tokenizer.texts_to_sequences(abstracts)\n"
   ]
  },
  {
   "cell_type": "code",
   "execution_count": 149,
   "id": "160c70ee",
   "metadata": {},
   "outputs": [
    {
     "data": {
      "text/plain": [
       "list"
      ]
     },
     "execution_count": 149,
     "metadata": {},
     "output_type": "execute_result"
    },
    {
     "data": {
      "application/javascript": [
       "\n",
       "            setTimeout(function() {\n",
       "                var nbb_cell_id = 149;\n",
       "                var nbb_unformatted_code = \"type(sequences)\";\n",
       "                var nbb_formatted_code = \"type(sequences)\";\n",
       "                var nbb_cells = Jupyter.notebook.get_cells();\n",
       "                for (var i = 0; i < nbb_cells.length; ++i) {\n",
       "                    if (nbb_cells[i].input_prompt_number == nbb_cell_id) {\n",
       "                        if (nbb_cells[i].get_text() == nbb_unformatted_code) {\n",
       "                             nbb_cells[i].set_text(nbb_formatted_code);\n",
       "                        }\n",
       "                        break;\n",
       "                    }\n",
       "                }\n",
       "            }, 500);\n",
       "            "
      ],
      "text/plain": [
       "<IPython.core.display.Javascript object>"
      ]
     },
     "metadata": {},
     "output_type": "display_data"
    }
   ],
   "source": [
    "type(sequences)"
   ]
  },
  {
   "cell_type": "code",
   "execution_count": 150,
   "id": "d0e54794",
   "metadata": {},
   "outputs": [
    {
     "data": {
      "text/plain": [
       "'AAAAA'"
      ]
     },
     "execution_count": 150,
     "metadata": {},
     "output_type": "execute_result"
    },
    {
     "data": {
      "application/javascript": [
       "\n",
       "            setTimeout(function() {\n",
       "                var nbb_cell_id = 150;\n",
       "                var nbb_unformatted_code = \"idx_word = tokenizer.index_word\\n\\\"\\\".join(idx_word[2] for w in sequences[10][:5])\";\n",
       "                var nbb_formatted_code = \"idx_word = tokenizer.index_word\\n\\\"\\\".join(idx_word[2] for w in sequences[10][:5])\";\n",
       "                var nbb_cells = Jupyter.notebook.get_cells();\n",
       "                for (var i = 0; i < nbb_cells.length; ++i) {\n",
       "                    if (nbb_cells[i].input_prompt_number == nbb_cell_id) {\n",
       "                        if (nbb_cells[i].get_text() == nbb_unformatted_code) {\n",
       "                             nbb_cells[i].set_text(nbb_formatted_code);\n",
       "                        }\n",
       "                        break;\n",
       "                    }\n",
       "                }\n",
       "            }, 500);\n",
       "            "
      ],
      "text/plain": [
       "<IPython.core.display.Javascript object>"
      ]
     },
     "metadata": {},
     "output_type": "display_data"
    }
   ],
   "source": [
    "idx_word = tokenizer.index_word\n",
    "\"\".join(idx_word[2] for w in sequences[10][:5])"
   ]
  },
  {
   "cell_type": "code",
   "execution_count": 151,
   "id": "2dc9f1c9",
   "metadata": {},
   "outputs": [
    {
     "data": {
      "text/plain": [
       "{1: 'T', 2: 'A', 3: 'G', 4: 'C', 5: '\\n'}"
      ]
     },
     "execution_count": 151,
     "metadata": {},
     "output_type": "execute_result"
    },
    {
     "data": {
      "application/javascript": [
       "\n",
       "            setTimeout(function() {\n",
       "                var nbb_cell_id = 151;\n",
       "                var nbb_unformatted_code = \"(idx_word)\";\n",
       "                var nbb_formatted_code = \"(idx_word)\";\n",
       "                var nbb_cells = Jupyter.notebook.get_cells();\n",
       "                for (var i = 0; i < nbb_cells.length; ++i) {\n",
       "                    if (nbb_cells[i].input_prompt_number == nbb_cell_id) {\n",
       "                        if (nbb_cells[i].get_text() == nbb_unformatted_code) {\n",
       "                             nbb_cells[i].set_text(nbb_formatted_code);\n",
       "                        }\n",
       "                        break;\n",
       "                    }\n",
       "                }\n",
       "            }, 500);\n",
       "            "
      ],
      "text/plain": [
       "<IPython.core.display.Javascript object>"
      ]
     },
     "metadata": {},
     "output_type": "display_data"
    }
   ],
   "source": [
    "(idx_word)\n"
   ]
  },
  {
   "cell_type": "code",
   "execution_count": 152,
   "id": "0229944c",
   "metadata": {},
   "outputs": [
    {
     "data": {
      "application/javascript": [
       "\n",
       "            setTimeout(function() {\n",
       "                var nbb_cell_id = 152;\n",
       "                var nbb_unformatted_code = \"features = []\\nlabels = []\\ntraining_length = 70\\nfor seq in sequences:\\n    for i in range(training_length, len(seq)):\\n        extract = seq[i - training_length : i + 1]\\n        features.append(extract[:-1])\\n        labels.append(extract[-1])\";\n",
       "                var nbb_formatted_code = \"features = []\\nlabels = []\\ntraining_length = 70\\nfor seq in sequences:\\n    for i in range(training_length, len(seq)):\\n        extract = seq[i - training_length : i + 1]\\n        features.append(extract[:-1])\\n        labels.append(extract[-1])\";\n",
       "                var nbb_cells = Jupyter.notebook.get_cells();\n",
       "                for (var i = 0; i < nbb_cells.length; ++i) {\n",
       "                    if (nbb_cells[i].input_prompt_number == nbb_cell_id) {\n",
       "                        if (nbb_cells[i].get_text() == nbb_unformatted_code) {\n",
       "                             nbb_cells[i].set_text(nbb_formatted_code);\n",
       "                        }\n",
       "                        break;\n",
       "                    }\n",
       "                }\n",
       "            }, 500);\n",
       "            "
      ],
      "text/plain": [
       "<IPython.core.display.Javascript object>"
      ]
     },
     "metadata": {},
     "output_type": "display_data"
    }
   ],
   "source": [
    "features = []\n",
    "labels = []\n",
    "training_length = 70\n",
    "for seq in sequences:\n",
    "    for i in range(training_length, len(seq)):\n",
    "        extract = seq[i - training_length : i + 1]\n",
    "        features.append(extract[:-1])\n",
    "        labels.append(extract[-1])"
   ]
  },
  {
   "cell_type": "code",
   "execution_count": 155,
   "id": "55cacfd6",
   "metadata": {},
   "outputs": [
    {
     "data": {
      "text/plain": [
       "list"
      ]
     },
     "execution_count": 155,
     "metadata": {},
     "output_type": "execute_result"
    },
    {
     "data": {
      "application/javascript": [
       "\n",
       "            setTimeout(function() {\n",
       "                var nbb_cell_id = 155;\n",
       "                var nbb_unformatted_code = \"type(features)\";\n",
       "                var nbb_formatted_code = \"type(features)\";\n",
       "                var nbb_cells = Jupyter.notebook.get_cells();\n",
       "                for (var i = 0; i < nbb_cells.length; ++i) {\n",
       "                    if (nbb_cells[i].input_prompt_number == nbb_cell_id) {\n",
       "                        if (nbb_cells[i].get_text() == nbb_unformatted_code) {\n",
       "                             nbb_cells[i].set_text(nbb_formatted_code);\n",
       "                        }\n",
       "                        break;\n",
       "                    }\n",
       "                }\n",
       "            }, 500);\n",
       "            "
      ],
      "text/plain": [
       "<IPython.core.display.Javascript object>"
      ]
     },
     "metadata": {},
     "output_type": "display_data"
    }
   ],
   "source": [
    "type(features)\n"
   ]
  },
  {
   "cell_type": "code",
   "execution_count": 156,
   "id": "3893287d",
   "metadata": {},
   "outputs": [
    {
     "data": {
      "text/plain": [
       "6"
      ]
     },
     "execution_count": 156,
     "metadata": {},
     "output_type": "execute_result"
    },
    {
     "data": {
      "application/javascript": [
       "\n",
       "            setTimeout(function() {\n",
       "                var nbb_cell_id = 156;\n",
       "                var nbb_unformatted_code = \"num_words = len(idx_word) + 1\\nnum_words\";\n",
       "                var nbb_formatted_code = \"num_words = len(idx_word) + 1\\nnum_words\";\n",
       "                var nbb_cells = Jupyter.notebook.get_cells();\n",
       "                for (var i = 0; i < nbb_cells.length; ++i) {\n",
       "                    if (nbb_cells[i].input_prompt_number == nbb_cell_id) {\n",
       "                        if (nbb_cells[i].get_text() == nbb_unformatted_code) {\n",
       "                             nbb_cells[i].set_text(nbb_formatted_code);\n",
       "                        }\n",
       "                        break;\n",
       "                    }\n",
       "                }\n",
       "            }, 500);\n",
       "            "
      ],
      "text/plain": [
       "<IPython.core.display.Javascript object>"
      ]
     },
     "metadata": {},
     "output_type": "display_data"
    }
   ],
   "source": [
    "num_words = len(idx_word) + 1\n",
    "num_words"
   ]
  },
  {
   "cell_type": "code",
   "execution_count": 157,
   "id": "a4102594",
   "metadata": {},
   "outputs": [
    {
     "name": "stderr",
     "output_type": "stream",
     "text": [
      "c:\\users\\psraj\\appdata\\local\\programs\\python\\python38\\lib\\site-packages\\sklearn\\feature_selection\\_univariate_selection.py:108: RuntimeWarning: invalid value encountered in true_divide\n",
      "  msb = ssbn / float(dfbn)\n"
     ]
    },
    {
     "data": {
      "application/javascript": [
       "\n",
       "            setTimeout(function() {\n",
       "                var nbb_cell_id = 157;\n",
       "                var nbb_unformatted_code = \"selector = SelectKBest(f_classif, k=10)\\nselected_features = selector.fit_transform(features, labels)\";\n",
       "                var nbb_formatted_code = \"selector = SelectKBest(f_classif, k=10)\\nselected_features = selector.fit_transform(features, labels)\";\n",
       "                var nbb_cells = Jupyter.notebook.get_cells();\n",
       "                for (var i = 0; i < nbb_cells.length; ++i) {\n",
       "                    if (nbb_cells[i].input_prompt_number == nbb_cell_id) {\n",
       "                        if (nbb_cells[i].get_text() == nbb_unformatted_code) {\n",
       "                             nbb_cells[i].set_text(nbb_formatted_code);\n",
       "                        }\n",
       "                        break;\n",
       "                    }\n",
       "                }\n",
       "            }, 500);\n",
       "            "
      ],
      "text/plain": [
       "<IPython.core.display.Javascript object>"
      ]
     },
     "metadata": {},
     "output_type": "display_data"
    }
   ],
   "source": [
    "selector = SelectKBest(f_classif, k=10)\n",
    "selected_features = selector.fit_transform(features, labels)\n"
   ]
  },
  {
   "cell_type": "code",
   "execution_count": 120,
   "id": "e90b0598",
   "metadata": {},
   "outputs": [
    {
     "data": {
      "text/plain": [
       "(427, 10)"
      ]
     },
     "execution_count": 120,
     "metadata": {},
     "output_type": "execute_result"
    },
    {
     "data": {
      "application/javascript": [
       "\n",
       "            setTimeout(function() {\n",
       "                var nbb_cell_id = 120;\n",
       "                var nbb_unformatted_code = \"selected_features.shape\";\n",
       "                var nbb_formatted_code = \"selected_features.shape\";\n",
       "                var nbb_cells = Jupyter.notebook.get_cells();\n",
       "                for (var i = 0; i < nbb_cells.length; ++i) {\n",
       "                    if (nbb_cells[i].input_prompt_number == nbb_cell_id) {\n",
       "                        if (nbb_cells[i].get_text() == nbb_unformatted_code) {\n",
       "                             nbb_cells[i].set_text(nbb_formatted_code);\n",
       "                        }\n",
       "                        break;\n",
       "                    }\n",
       "                }\n",
       "            }, 500);\n",
       "            "
      ],
      "text/plain": [
       "<IPython.core.display.Javascript object>"
      ]
     },
     "metadata": {},
     "output_type": "display_data"
    }
   ],
   "source": [
    "selected_features.shape"
   ]
  },
  {
   "cell_type": "code",
   "execution_count": 158,
   "id": "593c7150",
   "metadata": {},
   "outputs": [
    {
     "data": {
      "application/javascript": [
       "\n",
       "            setTimeout(function() {\n",
       "                var nbb_cell_id = 158;\n",
       "                var nbb_unformatted_code = \"label_array = np.zeros((len(selected_features), num_words), dtype=np.int8)\";\n",
       "                var nbb_formatted_code = \"label_array = np.zeros((len(selected_features), num_words), dtype=np.int8)\";\n",
       "                var nbb_cells = Jupyter.notebook.get_cells();\n",
       "                for (var i = 0; i < nbb_cells.length; ++i) {\n",
       "                    if (nbb_cells[i].input_prompt_number == nbb_cell_id) {\n",
       "                        if (nbb_cells[i].get_text() == nbb_unformatted_code) {\n",
       "                             nbb_cells[i].set_text(nbb_formatted_code);\n",
       "                        }\n",
       "                        break;\n",
       "                    }\n",
       "                }\n",
       "            }, 500);\n",
       "            "
      ],
      "text/plain": [
       "<IPython.core.display.Javascript object>"
      ]
     },
     "metadata": {},
     "output_type": "display_data"
    }
   ],
   "source": [
    "label_array = np.zeros((len(selected_features), num_words), dtype=np.int8)"
   ]
  },
  {
   "cell_type": "code",
   "execution_count": 159,
   "id": "6d4238ea",
   "metadata": {},
   "outputs": [
    {
     "data": {
      "text/plain": [
       "array([[0, 0, 0, 0, 0, 0],\n",
       "       [0, 0, 0, 0, 0, 0],\n",
       "       [0, 0, 0, 0, 0, 0],\n",
       "       ...,\n",
       "       [0, 0, 0, 0, 0, 0],\n",
       "       [0, 0, 0, 0, 0, 0],\n",
       "       [0, 0, 0, 0, 0, 0]], dtype=int8)"
      ]
     },
     "execution_count": 159,
     "metadata": {},
     "output_type": "execute_result"
    },
    {
     "data": {
      "application/javascript": [
       "\n",
       "            setTimeout(function() {\n",
       "                var nbb_cell_id = 159;\n",
       "                var nbb_unformatted_code = \"label_array\";\n",
       "                var nbb_formatted_code = \"label_array\";\n",
       "                var nbb_cells = Jupyter.notebook.get_cells();\n",
       "                for (var i = 0; i < nbb_cells.length; ++i) {\n",
       "                    if (nbb_cells[i].input_prompt_number == nbb_cell_id) {\n",
       "                        if (nbb_cells[i].get_text() == nbb_unformatted_code) {\n",
       "                             nbb_cells[i].set_text(nbb_formatted_code);\n",
       "                        }\n",
       "                        break;\n",
       "                    }\n",
       "                }\n",
       "            }, 500);\n",
       "            "
      ],
      "text/plain": [
       "<IPython.core.display.Javascript object>"
      ]
     },
     "metadata": {},
     "output_type": "display_data"
    }
   ],
   "source": [
    "label_array"
   ]
  },
  {
   "cell_type": "code",
   "execution_count": 160,
   "id": "0bfffb18",
   "metadata": {},
   "outputs": [
    {
     "data": {
      "text/plain": [
       "(427, 6)"
      ]
     },
     "execution_count": 160,
     "metadata": {},
     "output_type": "execute_result"
    },
    {
     "data": {
      "application/javascript": [
       "\n",
       "            setTimeout(function() {\n",
       "                var nbb_cell_id = 160;\n",
       "                var nbb_unformatted_code = \"label_array.shape\";\n",
       "                var nbb_formatted_code = \"label_array.shape\";\n",
       "                var nbb_cells = Jupyter.notebook.get_cells();\n",
       "                for (var i = 0; i < nbb_cells.length; ++i) {\n",
       "                    if (nbb_cells[i].input_prompt_number == nbb_cell_id) {\n",
       "                        if (nbb_cells[i].get_text() == nbb_unformatted_code) {\n",
       "                             nbb_cells[i].set_text(nbb_formatted_code);\n",
       "                        }\n",
       "                        break;\n",
       "                    }\n",
       "                }\n",
       "            }, 500);\n",
       "            "
      ],
      "text/plain": [
       "<IPython.core.display.Javascript object>"
      ]
     },
     "metadata": {},
     "output_type": "display_data"
    }
   ],
   "source": [
    "label_array.shape"
   ]
  },
  {
   "cell_type": "code",
   "execution_count": 161,
   "id": "22b27ea9",
   "metadata": {},
   "outputs": [
    {
     "data": {
      "text/plain": [
       "(427, 6)"
      ]
     },
     "execution_count": 161,
     "metadata": {},
     "output_type": "execute_result"
    },
    {
     "data": {
      "application/javascript": [
       "\n",
       "            setTimeout(function() {\n",
       "                var nbb_cell_id = 161;\n",
       "                var nbb_unformatted_code = \"for example_index, word_index in enumerate(labels):\\n    label_array[example_index, word_index] = 1\\nlabel_array.shape\";\n",
       "                var nbb_formatted_code = \"for example_index, word_index in enumerate(labels):\\n    label_array[example_index, word_index] = 1\\nlabel_array.shape\";\n",
       "                var nbb_cells = Jupyter.notebook.get_cells();\n",
       "                for (var i = 0; i < nbb_cells.length; ++i) {\n",
       "                    if (nbb_cells[i].input_prompt_number == nbb_cell_id) {\n",
       "                        if (nbb_cells[i].get_text() == nbb_unformatted_code) {\n",
       "                             nbb_cells[i].set_text(nbb_formatted_code);\n",
       "                        }\n",
       "                        break;\n",
       "                    }\n",
       "                }\n",
       "            }, 500);\n",
       "            "
      ],
      "text/plain": [
       "<IPython.core.display.Javascript object>"
      ]
     },
     "metadata": {},
     "output_type": "display_data"
    }
   ],
   "source": [
    "for example_index, word_index in enumerate(labels):\n",
    "    label_array[example_index, word_index] = 1\n",
    "label_array.shape"
   ]
  },
  {
   "cell_type": "code",
   "execution_count": 125,
   "id": "12351ee0",
   "metadata": {},
   "outputs": [
    {
     "data": {
      "text/plain": [
       "array([[0, 0, 0, 0, 0, 1],\n",
       "       [0, 0, 0, 0, 0, 1],\n",
       "       [0, 0, 0, 0, 0, 1],\n",
       "       ...,\n",
       "       [0, 0, 0, 0, 0, 1],\n",
       "       [0, 0, 0, 0, 0, 1],\n",
       "       [0, 0, 0, 0, 0, 1]], dtype=int8)"
      ]
     },
     "execution_count": 125,
     "metadata": {},
     "output_type": "execute_result"
    },
    {
     "data": {
      "application/javascript": [
       "\n",
       "            setTimeout(function() {\n",
       "                var nbb_cell_id = 125;\n",
       "                var nbb_unformatted_code = \"label_array\";\n",
       "                var nbb_formatted_code = \"label_array\";\n",
       "                var nbb_cells = Jupyter.notebook.get_cells();\n",
       "                for (var i = 0; i < nbb_cells.length; ++i) {\n",
       "                    if (nbb_cells[i].input_prompt_number == nbb_cell_id) {\n",
       "                        if (nbb_cells[i].get_text() == nbb_unformatted_code) {\n",
       "                             nbb_cells[i].set_text(nbb_formatted_code);\n",
       "                        }\n",
       "                        break;\n",
       "                    }\n",
       "                }\n",
       "            }, 500);\n",
       "            "
      ],
      "text/plain": [
       "<IPython.core.display.Javascript object>"
      ]
     },
     "metadata": {},
     "output_type": "display_data"
    }
   ],
   "source": [
    "label_array"
   ]
  },
  {
   "cell_type": "code",
   "execution_count": 126,
   "id": "e1569516",
   "metadata": {},
   "outputs": [
    {
     "data": {
      "text/plain": [
       "[5,\n",
       " 5,\n",
       " 5,\n",
       " 5,\n",
       " 5,\n",
       " 5,\n",
       " 5,\n",
       " 5,\n",
       " 5,\n",
       " 5,\n",
       " 5,\n",
       " 5,\n",
       " 5,\n",
       " 5,\n",
       " 5,\n",
       " 5,\n",
       " 5,\n",
       " 5,\n",
       " 5,\n",
       " 5,\n",
       " 5,\n",
       " 5,\n",
       " 5,\n",
       " 5,\n",
       " 5,\n",
       " 5,\n",
       " 5,\n",
       " 5,\n",
       " 5,\n",
       " 5,\n",
       " 5,\n",
       " 5,\n",
       " 5,\n",
       " 5,\n",
       " 5,\n",
       " 5,\n",
       " 5,\n",
       " 5,\n",
       " 5,\n",
       " 5,\n",
       " 5,\n",
       " 5,\n",
       " 5,\n",
       " 5,\n",
       " 5,\n",
       " 5,\n",
       " 5,\n",
       " 5,\n",
       " 5,\n",
       " 5,\n",
       " 5,\n",
       " 5,\n",
       " 5,\n",
       " 5,\n",
       " 5,\n",
       " 5,\n",
       " 5,\n",
       " 5,\n",
       " 5,\n",
       " 5,\n",
       " 5,\n",
       " 5,\n",
       " 5,\n",
       " 5,\n",
       " 5,\n",
       " 5,\n",
       " 5,\n",
       " 5,\n",
       " 5,\n",
       " 5,\n",
       " 5,\n",
       " 5,\n",
       " 5,\n",
       " 5,\n",
       " 5,\n",
       " 5,\n",
       " 5,\n",
       " 5,\n",
       " 5,\n",
       " 5,\n",
       " 5,\n",
       " 5,\n",
       " 5,\n",
       " 5,\n",
       " 5,\n",
       " 5,\n",
       " 5,\n",
       " 5,\n",
       " 5,\n",
       " 5,\n",
       " 5,\n",
       " 5,\n",
       " 5,\n",
       " 5,\n",
       " 5,\n",
       " 5,\n",
       " 5,\n",
       " 5,\n",
       " 5,\n",
       " 5,\n",
       " 5,\n",
       " 5,\n",
       " 5,\n",
       " 5,\n",
       " 5,\n",
       " 5,\n",
       " 5,\n",
       " 5,\n",
       " 5,\n",
       " 5,\n",
       " 5,\n",
       " 5,\n",
       " 5,\n",
       " 5,\n",
       " 5,\n",
       " 5,\n",
       " 5,\n",
       " 5,\n",
       " 5,\n",
       " 5,\n",
       " 5,\n",
       " 5,\n",
       " 5,\n",
       " 5,\n",
       " 5,\n",
       " 5,\n",
       " 5,\n",
       " 5,\n",
       " 5,\n",
       " 5,\n",
       " 5,\n",
       " 5,\n",
       " 5,\n",
       " 5,\n",
       " 5,\n",
       " 5,\n",
       " 5,\n",
       " 5,\n",
       " 5,\n",
       " 5,\n",
       " 5,\n",
       " 5,\n",
       " 5,\n",
       " 5,\n",
       " 5,\n",
       " 5,\n",
       " 5,\n",
       " 5,\n",
       " 5,\n",
       " 5,\n",
       " 5,\n",
       " 5,\n",
       " 5,\n",
       " 5,\n",
       " 5,\n",
       " 5,\n",
       " 5,\n",
       " 5,\n",
       " 5,\n",
       " 5,\n",
       " 5,\n",
       " 5,\n",
       " 5,\n",
       " 5,\n",
       " 5,\n",
       " 5,\n",
       " 5,\n",
       " 5,\n",
       " 5,\n",
       " 5,\n",
       " 5,\n",
       " 5,\n",
       " 5,\n",
       " 5,\n",
       " 5,\n",
       " 5,\n",
       " 5,\n",
       " 5,\n",
       " 5,\n",
       " 5,\n",
       " 5,\n",
       " 5,\n",
       " 5,\n",
       " 5,\n",
       " 5,\n",
       " 5,\n",
       " 5,\n",
       " 5,\n",
       " 5,\n",
       " 5,\n",
       " 5,\n",
       " 5,\n",
       " 5,\n",
       " 5,\n",
       " 5,\n",
       " 5,\n",
       " 5,\n",
       " 5,\n",
       " 5,\n",
       " 5,\n",
       " 5,\n",
       " 5,\n",
       " 5,\n",
       " 5,\n",
       " 5,\n",
       " 5,\n",
       " 5,\n",
       " 5,\n",
       " 5,\n",
       " 5,\n",
       " 5,\n",
       " 5,\n",
       " 5,\n",
       " 5,\n",
       " 5,\n",
       " 5,\n",
       " 5,\n",
       " 5,\n",
       " 5,\n",
       " 5,\n",
       " 5,\n",
       " 5,\n",
       " 5,\n",
       " 5,\n",
       " 5,\n",
       " 5,\n",
       " 5,\n",
       " 5,\n",
       " 5,\n",
       " 5,\n",
       " 5,\n",
       " 5,\n",
       " 5,\n",
       " 5,\n",
       " 5,\n",
       " 5,\n",
       " 5,\n",
       " 5,\n",
       " 5,\n",
       " 5,\n",
       " 5,\n",
       " 5,\n",
       " 5,\n",
       " 5,\n",
       " 5,\n",
       " 5,\n",
       " 5,\n",
       " 5,\n",
       " 5,\n",
       " 5,\n",
       " 5,\n",
       " 5,\n",
       " 5,\n",
       " 5,\n",
       " 5,\n",
       " 5,\n",
       " 5,\n",
       " 5,\n",
       " 5,\n",
       " 5,\n",
       " 5,\n",
       " 5,\n",
       " 5,\n",
       " 5,\n",
       " 5,\n",
       " 5,\n",
       " 5,\n",
       " 5,\n",
       " 5,\n",
       " 5,\n",
       " 5,\n",
       " 5,\n",
       " 5,\n",
       " 5,\n",
       " 5,\n",
       " 5,\n",
       " 5,\n",
       " 5,\n",
       " 5,\n",
       " 5,\n",
       " 5,\n",
       " 5,\n",
       " 5,\n",
       " 5,\n",
       " 5,\n",
       " 5,\n",
       " 5,\n",
       " 5,\n",
       " 5,\n",
       " 5,\n",
       " 5,\n",
       " 5,\n",
       " 5,\n",
       " 5,\n",
       " 5,\n",
       " 5,\n",
       " 5,\n",
       " 5,\n",
       " 5,\n",
       " 5,\n",
       " 5,\n",
       " 5,\n",
       " 5,\n",
       " 5,\n",
       " 5,\n",
       " 5,\n",
       " 5,\n",
       " 5,\n",
       " 5,\n",
       " 5,\n",
       " 5,\n",
       " 5,\n",
       " 5,\n",
       " 5,\n",
       " 5,\n",
       " 5,\n",
       " 5,\n",
       " 5,\n",
       " 5,\n",
       " 5,\n",
       " 5,\n",
       " 5,\n",
       " 5,\n",
       " 5,\n",
       " 5,\n",
       " 5,\n",
       " 5,\n",
       " 5,\n",
       " 5,\n",
       " 5,\n",
       " 5,\n",
       " 5,\n",
       " 5,\n",
       " 5,\n",
       " 5,\n",
       " 5,\n",
       " 5,\n",
       " 5,\n",
       " 5,\n",
       " 5,\n",
       " 5,\n",
       " 5,\n",
       " 5,\n",
       " 5,\n",
       " 5,\n",
       " 5,\n",
       " 5,\n",
       " 5,\n",
       " 5,\n",
       " 5,\n",
       " 5,\n",
       " 5,\n",
       " 5,\n",
       " 5,\n",
       " 5,\n",
       " 5,\n",
       " 5,\n",
       " 5,\n",
       " 5,\n",
       " 5,\n",
       " 5,\n",
       " 5,\n",
       " 5,\n",
       " 5,\n",
       " 5,\n",
       " 5,\n",
       " 5,\n",
       " 5,\n",
       " 5,\n",
       " 5,\n",
       " 5,\n",
       " 5,\n",
       " 5,\n",
       " 5,\n",
       " 5,\n",
       " 5,\n",
       " 5,\n",
       " 5,\n",
       " 5,\n",
       " 5,\n",
       " 5,\n",
       " 5,\n",
       " 5,\n",
       " 5,\n",
       " 5,\n",
       " 5,\n",
       " 5,\n",
       " 5,\n",
       " 5,\n",
       " 5,\n",
       " 5,\n",
       " 5,\n",
       " 5,\n",
       " 5,\n",
       " 5,\n",
       " 5,\n",
       " 5,\n",
       " 5,\n",
       " 5,\n",
       " 5,\n",
       " 5,\n",
       " 5,\n",
       " 5,\n",
       " 5,\n",
       " 5,\n",
       " 5,\n",
       " 5,\n",
       " 5,\n",
       " 5,\n",
       " 5,\n",
       " 5,\n",
       " 5,\n",
       " 5,\n",
       " 5,\n",
       " 5,\n",
       " 5,\n",
       " 5,\n",
       " 5,\n",
       " 5,\n",
       " 5,\n",
       " 5,\n",
       " 5,\n",
       " 5,\n",
       " 5,\n",
       " 5,\n",
       " 5,\n",
       " 5]"
      ]
     },
     "execution_count": 126,
     "metadata": {},
     "output_type": "execute_result"
    },
    {
     "data": {
      "application/javascript": [
       "\n",
       "            setTimeout(function() {\n",
       "                var nbb_cell_id = 126;\n",
       "                var nbb_unformatted_code = \"labels\";\n",
       "                var nbb_formatted_code = \"labels\";\n",
       "                var nbb_cells = Jupyter.notebook.get_cells();\n",
       "                for (var i = 0; i < nbb_cells.length; ++i) {\n",
       "                    if (nbb_cells[i].input_prompt_number == nbb_cell_id) {\n",
       "                        if (nbb_cells[i].get_text() == nbb_unformatted_code) {\n",
       "                             nbb_cells[i].set_text(nbb_formatted_code);\n",
       "                        }\n",
       "                        break;\n",
       "                    }\n",
       "                }\n",
       "            }, 500);\n",
       "            "
      ],
      "text/plain": [
       "<IPython.core.display.Javascript object>"
      ]
     },
     "metadata": {},
     "output_type": "display_data"
    }
   ],
   "source": [
    "labels"
   ]
  },
  {
   "cell_type": "code",
   "execution_count": 162,
   "id": "657e7a8a",
   "metadata": {},
   "outputs": [
    {
     "name": "stdout",
     "output_type": "stream",
     "text": [
      "6.36 µs ± 345 ns per loop (mean ± std. dev. of 7 runs, 100000 loops each)\n"
     ]
    },
    {
     "data": {
      "application/javascript": [
       "\n",
       "            setTimeout(function() {\n",
       "                var nbb_cell_id = 162;\n",
       "                var nbb_unformatted_code = \"%timeit idx_word[np.argmax(label_array)]\";\n",
       "                var nbb_formatted_code = \"%timeit idx_word[np.argmax(label_array)]\";\n",
       "                var nbb_cells = Jupyter.notebook.get_cells();\n",
       "                for (var i = 0; i < nbb_cells.length; ++i) {\n",
       "                    if (nbb_cells[i].input_prompt_number == nbb_cell_id) {\n",
       "                        if (nbb_cells[i].get_text() == nbb_unformatted_code) {\n",
       "                             nbb_cells[i].set_text(nbb_formatted_code);\n",
       "                        }\n",
       "                        break;\n",
       "                    }\n",
       "                }\n",
       "            }, 500);\n",
       "            "
      ],
      "text/plain": [
       "<IPython.core.display.Javascript object>"
      ]
     },
     "metadata": {},
     "output_type": "display_data"
    }
   ],
   "source": [
    "%timeit idx_word[np.argmax(label_array)]"
   ]
  },
  {
   "cell_type": "code",
   "execution_count": 164,
   "id": "dddb8a5b",
   "metadata": {},
   "outputs": [
    {
     "data": {
      "text/plain": [
       "{1: 'T', 2: 'A', 3: 'G', 4: 'C', 5: '\\n'}"
      ]
     },
     "execution_count": 164,
     "metadata": {},
     "output_type": "execute_result"
    },
    {
     "data": {
      "application/javascript": [
       "\n",
       "            setTimeout(function() {\n",
       "                var nbb_cell_id = 164;\n",
       "                var nbb_unformatted_code = \"idx_word\";\n",
       "                var nbb_formatted_code = \"idx_word\";\n",
       "                var nbb_cells = Jupyter.notebook.get_cells();\n",
       "                for (var i = 0; i < nbb_cells.length; ++i) {\n",
       "                    if (nbb_cells[i].input_prompt_number == nbb_cell_id) {\n",
       "                        if (nbb_cells[i].get_text() == nbb_unformatted_code) {\n",
       "                             nbb_cells[i].set_text(nbb_formatted_code);\n",
       "                        }\n",
       "                        break;\n",
       "                    }\n",
       "                }\n",
       "            }, 500);\n",
       "            "
      ],
      "text/plain": [
       "<IPython.core.display.Javascript object>"
      ]
     },
     "metadata": {},
     "output_type": "display_data"
    }
   ],
   "source": [
    "idx_word"
   ]
  },
  {
   "cell_type": "code",
   "execution_count": 165,
   "id": "beed3f53",
   "metadata": {},
   "outputs": [
    {
     "data": {
      "application/javascript": [
       "\n",
       "            setTimeout(function() {\n",
       "                var nbb_cell_id = 165;\n",
       "                var nbb_unformatted_code = \"sequences = np.array(sequences)\";\n",
       "                var nbb_formatted_code = \"sequences = np.array(sequences)\";\n",
       "                var nbb_cells = Jupyter.notebook.get_cells();\n",
       "                for (var i = 0; i < nbb_cells.length; ++i) {\n",
       "                    if (nbb_cells[i].input_prompt_number == nbb_cell_id) {\n",
       "                        if (nbb_cells[i].get_text() == nbb_unformatted_code) {\n",
       "                             nbb_cells[i].set_text(nbb_formatted_code);\n",
       "                        }\n",
       "                        break;\n",
       "                    }\n",
       "                }\n",
       "            }, 500);\n",
       "            "
      ],
      "text/plain": [
       "<IPython.core.display.Javascript object>"
      ]
     },
     "metadata": {},
     "output_type": "display_data"
    }
   ],
   "source": [
    "sequences = np.array(sequences)"
   ]
  },
  {
   "cell_type": "code",
   "execution_count": 169,
   "id": "b17f4834",
   "metadata": {},
   "outputs": [
    {
     "data": {
      "text/plain": [
       "(427, 71)"
      ]
     },
     "execution_count": 169,
     "metadata": {},
     "output_type": "execute_result"
    },
    {
     "data": {
      "application/javascript": [
       "\n",
       "            setTimeout(function() {\n",
       "                var nbb_cell_id = 169;\n",
       "                var nbb_unformatted_code = \"(sequences.shape)\";\n",
       "                var nbb_formatted_code = \"(sequences.shape)\";\n",
       "                var nbb_cells = Jupyter.notebook.get_cells();\n",
       "                for (var i = 0; i < nbb_cells.length; ++i) {\n",
       "                    if (nbb_cells[i].input_prompt_number == nbb_cell_id) {\n",
       "                        if (nbb_cells[i].get_text() == nbb_unformatted_code) {\n",
       "                             nbb_cells[i].set_text(nbb_formatted_code);\n",
       "                        }\n",
       "                        break;\n",
       "                    }\n",
       "                }\n",
       "            }, 500);\n",
       "            "
      ],
      "text/plain": [
       "<IPython.core.display.Javascript object>"
      ]
     },
     "metadata": {},
     "output_type": "display_data"
    }
   ],
   "source": [
    "(sequences.shape)"
   ]
  },
  {
   "cell_type": "code",
   "execution_count": 81,
   "id": "c1b632df",
   "metadata": {},
   "outputs": [
    {
     "data": {
      "application/javascript": [
       "\n",
       "            setTimeout(function() {\n",
       "                var nbb_cell_id = 81;\n",
       "                var nbb_unformatted_code = \"sequences=sequences.reshape(7,61,71)\\nlabel_array=label_array.reshape(7,61,6)\";\n",
       "                var nbb_formatted_code = \"sequences = sequences.reshape(7, 61, 71)\\nlabel_array = label_array.reshape(7, 61, 6)\";\n",
       "                var nbb_cells = Jupyter.notebook.get_cells();\n",
       "                for (var i = 0; i < nbb_cells.length; ++i) {\n",
       "                    if (nbb_cells[i].input_prompt_number == nbb_cell_id) {\n",
       "                        if (nbb_cells[i].get_text() == nbb_unformatted_code) {\n",
       "                             nbb_cells[i].set_text(nbb_formatted_code);\n",
       "                        }\n",
       "                        break;\n",
       "                    }\n",
       "                }\n",
       "            }, 500);\n",
       "            "
      ],
      "text/plain": [
       "<IPython.core.display.Javascript object>"
      ]
     },
     "metadata": {},
     "output_type": "display_data"
    }
   ],
   "source": [
    "sequences = sequences.reshape(7, 61, 71)\n",
    "label_array = label_array.reshape(7, 61, 6)"
   ]
  },
  {
   "cell_type": "code",
   "execution_count": 82,
   "id": "bf52c507",
   "metadata": {},
   "outputs": [
    {
     "data": {
      "text/plain": [
       "array([[[2, 1, 1, ..., 2, 2, 5],\n",
       "        [4, 3, 2, ..., 2, 4, 5],\n",
       "        [1, 2, 2, ..., 1, 3, 5],\n",
       "        ...,\n",
       "        [3, 2, 1, ..., 1, 3, 5],\n",
       "        [2, 1, 3, ..., 2, 1, 5],\n",
       "        [3, 4, 1, ..., 2, 1, 5]],\n",
       "\n",
       "       [[3, 3, 1, ..., 1, 2, 5],\n",
       "        [1, 1, 2, ..., 3, 4, 5],\n",
       "        [2, 3, 2, ..., 2, 2, 5],\n",
       "        ...,\n",
       "        [3, 1, 3, ..., 2, 1, 5],\n",
       "        [2, 1, 3, ..., 2, 3, 5],\n",
       "        [2, 2, 1, ..., 2, 3, 5]],\n",
       "\n",
       "       [[4, 2, 4, ..., 1, 1, 5],\n",
       "        [1, 3, 1, ..., 2, 2, 5],\n",
       "        [2, 1, 4, ..., 1, 2, 5],\n",
       "        ...,\n",
       "        [1, 3, 2, ..., 4, 1, 5],\n",
       "        [3, 4, 1, ..., 1, 2, 5],\n",
       "        [4, 2, 4, ..., 4, 1, 5]],\n",
       "\n",
       "       ...,\n",
       "\n",
       "       [[3, 2, 4, ..., 3, 1, 5],\n",
       "        [3, 1, 2, ..., 2, 1, 5],\n",
       "        [2, 2, 2, ..., 2, 1, 5],\n",
       "        ...,\n",
       "        [2, 3, 4, ..., 1, 3, 5],\n",
       "        [3, 3, 2, ..., 1, 3, 5],\n",
       "        [3, 2, 1, ..., 1, 3, 5]],\n",
       "\n",
       "       [[3, 2, 3, ..., 1, 2, 5],\n",
       "        [2, 3, 3, ..., 2, 3, 5],\n",
       "        [3, 1, 2, ..., 2, 2, 5],\n",
       "        ...,\n",
       "        [2, 1, 4, ..., 1, 4, 5],\n",
       "        [3, 4, 3, ..., 4, 1, 5],\n",
       "        [1, 3, 4, ..., 3, 1, 5]],\n",
       "\n",
       "       [[3, 1, 1, ..., 1, 3, 5],\n",
       "        [3, 4, 4, ..., 2, 1, 5],\n",
       "        [2, 2, 1, ..., 1, 1, 5],\n",
       "        ...,\n",
       "        [1, 1, 2, ..., 2, 4, 5],\n",
       "        [3, 2, 1, ..., 2, 1, 5],\n",
       "        [1, 1, 1, ..., 2, 2, 5]]])"
      ]
     },
     "execution_count": 82,
     "metadata": {},
     "output_type": "execute_result"
    },
    {
     "data": {
      "application/javascript": [
       "\n",
       "            setTimeout(function() {\n",
       "                var nbb_cell_id = 82;\n",
       "                var nbb_unformatted_code = \"sequences\";\n",
       "                var nbb_formatted_code = \"sequences\";\n",
       "                var nbb_cells = Jupyter.notebook.get_cells();\n",
       "                for (var i = 0; i < nbb_cells.length; ++i) {\n",
       "                    if (nbb_cells[i].input_prompt_number == nbb_cell_id) {\n",
       "                        if (nbb_cells[i].get_text() == nbb_unformatted_code) {\n",
       "                             nbb_cells[i].set_text(nbb_formatted_code);\n",
       "                        }\n",
       "                        break;\n",
       "                    }\n",
       "                }\n",
       "            }, 500);\n",
       "            "
      ],
      "text/plain": [
       "<IPython.core.display.Javascript object>"
      ]
     },
     "metadata": {},
     "output_type": "display_data"
    }
   ],
   "source": [
    "sequences"
   ]
  },
  {
   "cell_type": "code",
   "execution_count": 83,
   "id": "d4cac9b9",
   "metadata": {},
   "outputs": [
    {
     "data": {
      "application/javascript": [
       "\n",
       "            setTimeout(function() {\n",
       "                var nbb_cell_id = 83;\n",
       "                var nbb_unformatted_code = \"x_train,x_test=train_test_split(sequences,test_size=1/7,shuffle=False)\\ny_train,y_test=train_test_split(label_array,test_size=1/7,shuffle=False)\";\n",
       "                var nbb_formatted_code = \"x_train, x_test = train_test_split(sequences, test_size=1 / 7, shuffle=False)\\ny_train, y_test = train_test_split(label_array, test_size=1 / 7, shuffle=False)\";\n",
       "                var nbb_cells = Jupyter.notebook.get_cells();\n",
       "                for (var i = 0; i < nbb_cells.length; ++i) {\n",
       "                    if (nbb_cells[i].input_prompt_number == nbb_cell_id) {\n",
       "                        if (nbb_cells[i].get_text() == nbb_unformatted_code) {\n",
       "                             nbb_cells[i].set_text(nbb_formatted_code);\n",
       "                        }\n",
       "                        break;\n",
       "                    }\n",
       "                }\n",
       "            }, 500);\n",
       "            "
      ],
      "text/plain": [
       "<IPython.core.display.Javascript object>"
      ]
     },
     "metadata": {},
     "output_type": "display_data"
    }
   ],
   "source": [
    "x_train, x_test = train_test_split(sequences, test_size=1 / 7, shuffle=False)\n",
    "y_train, y_test = train_test_split(label_array, test_size=1 / 7, shuffle=False)"
   ]
  },
  {
   "cell_type": "code",
   "execution_count": 91,
   "id": "9356e7ce",
   "metadata": {},
   "outputs": [
    {
     "data": {
      "application/javascript": [
       "\n",
       "            setTimeout(function() {\n",
       "                var nbb_cell_id = 91;\n",
       "                var nbb_unformatted_code = \"model = Sequential()\";\n",
       "                var nbb_formatted_code = \"model = Sequential()\";\n",
       "                var nbb_cells = Jupyter.notebook.get_cells();\n",
       "                for (var i = 0; i < nbb_cells.length; ++i) {\n",
       "                    if (nbb_cells[i].input_prompt_number == nbb_cell_id) {\n",
       "                        if (nbb_cells[i].get_text() == nbb_unformatted_code) {\n",
       "                             nbb_cells[i].set_text(nbb_formatted_code);\n",
       "                        }\n",
       "                        break;\n",
       "                    }\n",
       "                }\n",
       "            }, 500);\n",
       "            "
      ],
      "text/plain": [
       "<IPython.core.display.Javascript object>"
      ]
     },
     "metadata": {},
     "output_type": "display_data"
    }
   ],
   "source": [
    "model = Sequential()"
   ]
  },
  {
   "cell_type": "code",
   "execution_count": 92,
   "id": "eba2b12d",
   "metadata": {},
   "outputs": [
    {
     "data": {
      "application/javascript": [
       "\n",
       "            setTimeout(function() {\n",
       "                var nbb_cell_id = 92;\n",
       "                var nbb_unformatted_code = \"# recurrent layer\\nmodel.add(\\n    LSTM(16, input_shape=(x_train.shape[1:]), activation=\\\"tanh\\\", return_sequences=True)\\n)\";\n",
       "                var nbb_formatted_code = \"# recurrent layer\\nmodel.add(\\n    LSTM(16, input_shape=(x_train.shape[1:]), activation=\\\"tanh\\\", return_sequences=True)\\n)\";\n",
       "                var nbb_cells = Jupyter.notebook.get_cells();\n",
       "                for (var i = 0; i < nbb_cells.length; ++i) {\n",
       "                    if (nbb_cells[i].input_prompt_number == nbb_cell_id) {\n",
       "                        if (nbb_cells[i].get_text() == nbb_unformatted_code) {\n",
       "                             nbb_cells[i].set_text(nbb_formatted_code);\n",
       "                        }\n",
       "                        break;\n",
       "                    }\n",
       "                }\n",
       "            }, 500);\n",
       "            "
      ],
      "text/plain": [
       "<IPython.core.display.Javascript object>"
      ]
     },
     "metadata": {},
     "output_type": "display_data"
    }
   ],
   "source": [
    "# recurrent layer\n",
    "model.add(\n",
    "    LSTM(16, input_shape=(x_train.shape[1:]), activation=\"tanh\", return_sequences=True)\n",
    ")"
   ]
  },
  {
   "cell_type": "code",
   "execution_count": 93,
   "id": "2a306466",
   "metadata": {},
   "outputs": [
    {
     "data": {
      "application/javascript": [
       "\n",
       "            setTimeout(function() {\n",
       "                var nbb_cell_id = 93;\n",
       "                var nbb_unformatted_code = \"# fully connected layer\\nmodel.add(Dense(16, activation=\\\"sigmoid\\\"))\";\n",
       "                var nbb_formatted_code = \"# fully connected layer\\nmodel.add(Dense(16, activation=\\\"sigmoid\\\"))\";\n",
       "                var nbb_cells = Jupyter.notebook.get_cells();\n",
       "                for (var i = 0; i < nbb_cells.length; ++i) {\n",
       "                    if (nbb_cells[i].input_prompt_number == nbb_cell_id) {\n",
       "                        if (nbb_cells[i].get_text() == nbb_unformatted_code) {\n",
       "                             nbb_cells[i].set_text(nbb_formatted_code);\n",
       "                        }\n",
       "                        break;\n",
       "                    }\n",
       "                }\n",
       "            }, 500);\n",
       "            "
      ],
      "text/plain": [
       "<IPython.core.display.Javascript object>"
      ]
     },
     "metadata": {},
     "output_type": "display_data"
    }
   ],
   "source": [
    "# fully connected layer\n",
    "model.add(Dense(16, activation=\"sigmoid\"))"
   ]
  },
  {
   "cell_type": "code",
   "execution_count": 94,
   "id": "da0c2bd2",
   "metadata": {},
   "outputs": [
    {
     "data": {
      "application/javascript": [
       "\n",
       "            setTimeout(function() {\n",
       "                var nbb_cell_id = 94;\n",
       "                var nbb_unformatted_code = \"model.add(Dropout(0.2))\";\n",
       "                var nbb_formatted_code = \"model.add(Dropout(0.2))\";\n",
       "                var nbb_cells = Jupyter.notebook.get_cells();\n",
       "                for (var i = 0; i < nbb_cells.length; ++i) {\n",
       "                    if (nbb_cells[i].input_prompt_number == nbb_cell_id) {\n",
       "                        if (nbb_cells[i].get_text() == nbb_unformatted_code) {\n",
       "                             nbb_cells[i].set_text(nbb_formatted_code);\n",
       "                        }\n",
       "                        break;\n",
       "                    }\n",
       "                }\n",
       "            }, 500);\n",
       "            "
      ],
      "text/plain": [
       "<IPython.core.display.Javascript object>"
      ]
     },
     "metadata": {},
     "output_type": "display_data"
    }
   ],
   "source": [
    "model.add(Dropout(0.2))"
   ]
  },
  {
   "cell_type": "code",
   "execution_count": 95,
   "id": "2f37fcd8",
   "metadata": {},
   "outputs": [
    {
     "data": {
      "application/javascript": [
       "\n",
       "            setTimeout(function() {\n",
       "                var nbb_cell_id = 95;\n",
       "                var nbb_unformatted_code = \"# output layer\\nmodel.add(Dense(num_words, activation=\\\"softmax\\\"))\";\n",
       "                var nbb_formatted_code = \"# output layer\\nmodel.add(Dense(num_words, activation=\\\"softmax\\\"))\";\n",
       "                var nbb_cells = Jupyter.notebook.get_cells();\n",
       "                for (var i = 0; i < nbb_cells.length; ++i) {\n",
       "                    if (nbb_cells[i].input_prompt_number == nbb_cell_id) {\n",
       "                        if (nbb_cells[i].get_text() == nbb_unformatted_code) {\n",
       "                             nbb_cells[i].set_text(nbb_formatted_code);\n",
       "                        }\n",
       "                        break;\n",
       "                    }\n",
       "                }\n",
       "            }, 500);\n",
       "            "
      ],
      "text/plain": [
       "<IPython.core.display.Javascript object>"
      ]
     },
     "metadata": {},
     "output_type": "display_data"
    }
   ],
   "source": [
    "# output layer\n",
    "model.add(Dense(num_words, activation=\"softmax\"))"
   ]
  },
  {
   "cell_type": "code",
   "execution_count": 96,
   "id": "b727600a",
   "metadata": {},
   "outputs": [
    {
     "name": "stdout",
     "output_type": "stream",
     "text": [
      "Model: \"sequential_1\"\n",
      "_________________________________________________________________\n",
      " Layer (type)                Output Shape              Param #   \n",
      "=================================================================\n",
      " lstm_2 (LSTM)               (None, 61, 16)            5632      \n",
      "                                                                 \n",
      " dense_2 (Dense)             (None, 61, 16)            272       \n",
      "                                                                 \n",
      " dropout_1 (Dropout)         (None, 61, 16)            0         \n",
      "                                                                 \n",
      " dense_3 (Dense)             (None, 61, 6)             102       \n",
      "                                                                 \n",
      "=================================================================\n",
      "Total params: 6,006\n",
      "Trainable params: 6,006\n",
      "Non-trainable params: 0\n",
      "_________________________________________________________________\n"
     ]
    },
    {
     "data": {
      "application/javascript": [
       "\n",
       "            setTimeout(function() {\n",
       "                var nbb_cell_id = 96;\n",
       "                var nbb_unformatted_code = \"model.summary()\";\n",
       "                var nbb_formatted_code = \"model.summary()\";\n",
       "                var nbb_cells = Jupyter.notebook.get_cells();\n",
       "                for (var i = 0; i < nbb_cells.length; ++i) {\n",
       "                    if (nbb_cells[i].input_prompt_number == nbb_cell_id) {\n",
       "                        if (nbb_cells[i].get_text() == nbb_unformatted_code) {\n",
       "                             nbb_cells[i].set_text(nbb_formatted_code);\n",
       "                        }\n",
       "                        break;\n",
       "                    }\n",
       "                }\n",
       "            }, 500);\n",
       "            "
      ],
      "text/plain": [
       "<IPython.core.display.Javascript object>"
      ]
     },
     "metadata": {},
     "output_type": "display_data"
    }
   ],
   "source": [
    "model.summary()"
   ]
  },
  {
   "cell_type": "code",
   "execution_count": null,
   "id": "ee15a983",
   "metadata": {},
   "outputs": [],
   "source": []
  }
 ],
 "metadata": {
  "kernelspec": {
   "display_name": "Python 3 (ipykernel)",
   "language": "python",
   "name": "python3"
  },
  "language_info": {
   "codemirror_mode": {
    "name": "ipython",
    "version": 3
   },
   "file_extension": ".py",
   "mimetype": "text/x-python",
   "name": "python",
   "nbconvert_exporter": "python",
   "pygments_lexer": "ipython3",
   "version": "3.8.0"
  }
 },
 "nbformat": 4,
 "nbformat_minor": 5
}
