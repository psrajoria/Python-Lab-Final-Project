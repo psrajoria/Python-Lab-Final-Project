{
 "cells": [
  {
   "cell_type": "code",
   "execution_count": null,
   "id": "db126487",
   "metadata": {},
   "outputs": [],
   "source": [
    "%load_ext nb_black"
   ]
  },
  {
   "cell_type": "code",
   "execution_count": 3,
   "id": "378f5d03",
   "metadata": {},
   "outputs": [],
   "source": [
    "from random import randint\n",
    "import numpy as np\n",
    "import random\n",
    "from numpy import array\n",
    "from numpy import argmax\n",
    "from numpy import array_equal\n",
    "from tensorflow.keras.utils import to_categorical\n",
    "from keras.models import Model\n",
    "from keras.layers import Input\n",
    "from keras.layers import LSTM\n",
    "from keras.layers import Dense"
   ]
  },
  {
   "cell_type": "code",
   "execution_count": 4,
   "id": "40f6b297",
   "metadata": {},
   "outputs": [],
   "source": [
    "def random_dna_sequence(length):\n",
    "    return \"\".join(random.choice(\"ACTG\") for _ in range(length))\n",
    "\n",
    "\n",
    "def base_frequency(dna):\n",
    "    d = {}\n",
    "    for base in \"ATCG\":\n",
    "        d[base] = dna.count(base) / float(len(dna))\n",
    "    return d\n",
    "\n",
    "\n",
    "data = []\n",
    "for _ in range(100):\n",
    "    dna = random_dna_sequence(100)\n",
    "    data.append(dna)"
   ]
  },
  {
   "cell_type": "code",
   "execution_count": 5,
   "id": "16205716",
   "metadata": {},
   "outputs": [
    {
     "data": {
      "text/plain": [
       "['CACCGCCATCAGGTTATAGCTGCAATTTCATACAACTATTCCGGCGAGTCCGAGCTGGCACCACTGATCTAGTTCGTTAATGTACCGCATTCGTTACTAA',\n",
       " 'GACTTTGGGGTTTGATTGCGCATCCAACGTACAATCCAGTGTCCCTGGCTGAGGCGATCCGATGTCAGCTTTGCCGATGCAACGGACCACGACGTTTAAT',\n",
       " 'TAGGAACGCACTCATTGAATGGCGCACCCAACGAGGGCGGTTGGCGGCCTCTATCCGATGGATCTGCGGGCCGGTATATCCAACTCCGATTACGTATTCA',\n",
       " 'TCGGGGGCCTTTCTTAGAAAAAGTCAGGATATCACCCACATCTCACGCGAAGATCCGGCAAGTTCAGACCAGTGCCCACACGAAGCAAGCACCGCTGACG',\n",
       " 'TATGACCCCGCCCCTAAGCAGGGACGAAAGATGTCCGGCTCCTCTCAACTATAGTGAAGGTCGTGGAGAATCGACGTAACGATTAATAGTGTCGGAGATT',\n",
       " 'CATCGCAGGCGCATCTAAGACATGTTATTAGACGAATGGTAGGAAAATATAACCTGGATCCACCTGCACGTTTACACGGCGGTTCAGGTGCCCATACTCA',\n",
       " 'AGTATAATGACGGTGATTACGCAGAACGACACAGAAGCGGGGCCGCTTGGAGTGCTCGGTTGCGCTGAGTATCCCAATGTGGCAAGAGCCATAACTCACG',\n",
       " 'ACCCATTACACCTATTCCCCATCGGTAGACATAGGCAATAACTTGTTGTCTCCGGGAAGCCCTTCTCGACACGCCACCAAAGGGAGCACGTGCCCCGTAG',\n",
       " 'GTGCAATAAACCCTGGCACGTGTGGAATAATAAGTGACCAATTGTTGTTAGAAATCTTGTCAGGTCTTCGCCGACTGACCGCCACGTTCTAACCAAGTAG',\n",
       " 'AGCCGCCCATGCGTCCAAATTTGCAGGCCCTTCTCTAGAACAAAGCAAAACGTGACATACCCCGAGAACGCGGTGTTTGACCGGAAGTAGAGAATTATTG',\n",
       " 'CATCTTTACACTCCCCCCCCCTGCACAACCCCCATTTGTTCACTCGGTGTGATATCCGTGCGGTTGAGCTTTACAGATTCCAGGTTGACACATTCGGAGG',\n",
       " 'TGTAGGGCCACCTGGCAGAACGTTATGGGTACGGCCAATGGTGGCCCCCCAGCCAGAATTACATACAACTCTAGGGGTCTAAGGCACACATAAAAGACAA',\n",
       " 'CAGCCGGTATGCTAAACCAAACCAGGTAAAGACCGCAGAATCAAACTTAATAGTGTACTAGTCGAGAAAGAGGGATTAGGCGCTCGCACTCTTTGCTTAC',\n",
       " 'CCCCTCAGAGGTACTACCATAACAGCCATTCCCGGTGAAAGTAATAAGTCAAGGCGGTCGCTCCATTAATGCCGCAGACTTTTTACGTTCTAGCATGGAA',\n",
       " 'AAGCCACCAGGTACCGAGACGGTGCCGGGCAATACACCCATGTCTACTCGGGGGTGCGACCCGGAAAGGGCAAATGTACCGGACAGAAGACCGCGGCTTT',\n",
       " 'TTCACGGCACCAGGCTGCTCAAATCGATCCCAGTGCGCTTCTCGATTAAGGGGCCTGCCTTCCTGACGGTAGGGGTAAGACACCTTATTGGGCAGAAGGG',\n",
       " 'GATCTATCGAGAACATAGTTTTGTGGTCCACCTGTCCAACAAACGTAGCAATTCCTTTAGGCCTTCTTTAATGATCGCTAGCCTACTCAGCACACAAATA',\n",
       " 'GATTATGAAGATGCAGTGGCCCGTAGCAATTCGAAGTGCGGGTGCGGTATGAACTGCAAGCACGGGTGGCGTATTCCGAAATAGGTATAATATATGTGAT',\n",
       " 'CCCCGTAACAGTGGTGAGCACAACCACCGCGCAACAGCGATGCTGCAAAACATATGTTCCGGTTCACTTCCTATGACGTCGCAATCCGTCGCGGATATCC',\n",
       " 'CCTTCCCCGGATGGAACTGCGCTTTTGGGCCTTCATGGTTTAAATTTATAGCCAACCAATGCCGATACTATATCACAGTATTTTCGCTGAATAAGGGTTG',\n",
       " 'CATGCTTCTGTCCGGATGTTCTCCCTTTTATCTTCACAGAGCGTGTAGTTCTTGTGGAATACTTCTCGGTGACCAGATGTACGGGCAGCACCTTACTAGC',\n",
       " 'ACCGCTGTCAATCTGTTAAGCCACCAAAATCCCGACACAATCATAACAGTAGGGGCGCATGTCCAGGAGGAACTTTATCATGATAGCACAGAAATGTGTT',\n",
       " 'GCATGGGGGATGCAGTAATTCTTTCTGAGAAATGGACAGGTTGTACAGGTGCTCGTGTAGTTAGCGCAAATTTTGACCTGCGGGCGGAAACGCTGCTCCG',\n",
       " 'CCCCAATAACTAGGGTTCAGAGCTGCTGTTAGGCCTTTCCCCGGTTTGATACAACAGGCGTGTCTCCCTAGCGTGGACGTGAAGAGGAGTCGTTACTGCA',\n",
       " 'AACCACCGTGACCCATACTAAACTCGGAGAATGGCGGCATAGCCTTCCACGCCTTATTAGCTTCCATTGGGCGGGGTCCGAGCTTTAGCGCAAGGGACGC',\n",
       " 'CATCAGGAAGCAACAACCGACTAAATTCATTATCACGTCCGCTGGTATGGATTGCACAGCCATGTAGCGTTGCCTAGCCACGCCTCCGCTGAATGACTAC',\n",
       " 'TTCCGGAAAGAAAAAACTTTTATCACATCGGCCGCACGTCTTAATCGCATTTCGAATTGGACGTACTGTTTGTGACGGACCTCCAATCGGGGTTACGGAG',\n",
       " 'TGTTTCACGTCCGAGTGGACCGGCTCTTGGTGCCACTATAGTCTTCAGTCCCTCTCTACTTACGGTTAAATTTCCGAATACGTCCTACTTGATCATGCAG',\n",
       " 'GACCGCGAACGTCTTACCGTTACCTCCAGTGAGGCGGCACCTTTGTATAGACTTTCTACCTGAATTAATCTAGGCGTTCAGACTGACCATCATCGCAAGG',\n",
       " 'CATTATTTAAGGTTGCCAGAATACCCTATAATTTTTAATACAGAGGCCCCTGAGCCAAAACTCACGGGAAACTACTAATTCATCACCAGGCTGTGTGGCG',\n",
       " 'TCAAGAGGACCTGAAGCCACAACGTTGCAGCGCGACCGTCCATGCTCAATGTAACATTAGGAAAGATAAGTGCACGAGGCCACATGTGGTTTTGATGAGT',\n",
       " 'TATATCGCTGGGCACGGTTAGTATGCGATTCAGCCGATTCTAGCTGCTCCATTCTCAATATAAGTTTAAGTTGATGGGGATGCTCTCTCTCCAGTCACTT',\n",
       " 'ACTATAATCAGACTGGGAGGCTGATGGCCTCCTTGTACAAATCAAAACGCCCGCATGTAATTTCGAGCCCTGCCTGGTAAAATAACAGCTAAGATTCACC',\n",
       " 'GATAGCCACATTAATGGAACTTTGTTCGACGAAGGTCTACTCTAGTGAGTTGCTATCCCTCCTCCTTCAGAGACGTTTGGCAGAAAGCCAGTGTCTGGTA',\n",
       " 'TCATGCTATACCTCAGAGCATCGACACGACTATTCCCACGGGACACAGCGAGCACGCCTGAACGGAATGCGTGAACTCTGGGGCTGGGACATGTTTAGAC',\n",
       " 'GGAATCATCCCGCCTAGAGAACTCGTAGCGCACCAGACACCTATTGGGCTATGCGATACGCGATGTGGCTGAGCCGTATTTCAGTTTAGGGCGCGCACTA',\n",
       " 'GAGTGGATGCCTAAGAGGTCGTTAAGAGTTATCCTTCTGCCCTTGATGCACGCCGCCCTTGAAATCGTGGACTGATCTCTAGTCCTGACTCCTAAACAGT',\n",
       " 'GGTTCGGCGATATGGAACCAAGTTTCGATAGCCTTGTTTGATGCACAGTTAATTGAGCAAAAGGTACTCACTATCCAAGTACTGTGGTCTCGTCTTTCAT',\n",
       " 'CGCCTGAGCTCCCCCAGCGCTACTTATCTCCACTAAGGCGCCCCTCAAGATGAATCTGTAACGGCGCGTAGATACTGTTTATTCATAGTAACGGCCCTAG',\n",
       " 'GTATCGTGAACTGAAATGCCCATTTTTTCAATCTGCTCGGGGAGTCCGGCTAGCTGATAGAGAGATTGGGTGACGAAAAGCTCTGCCGCAAAAGGTAATA',\n",
       " 'TAACGTGTAGCAGATAAGATTCGTTGTTCGGGGAGTAGACGGCGCCATAATCTCGCGGCACCGCTTGAAGGTATAGTAATGGGTCTTCGGTGTATAGTCG',\n",
       " 'ACCGGCCTTTTAAATTTTGTCTTCAAACATGTCCATCTCCTCTCTCCGGACTGAGTTTTGACCGTCTTTATTCTGCTCTCATGCAAGGTTCGGTAGATCA',\n",
       " 'GACAAGTAACTAGTGCGTTTCATCGATGTATCAAACGGGAGTCTTCGACTTTTTAAGTGATCAAGAACAGAGGTAGACAGGGGTCGATACGCAGTTCATA',\n",
       " 'AGGATGGGCAACGGTGAATATGCTCTTGGCCAATTGCGATTCATTAAAACTGAGATCAATTGTGTAATTGCTGTCCTGACAAACTTACATGTTGTACCAA',\n",
       " 'GCTGGGAAGTAGCTCGACCAAGGAGATTCACCTTTCAGCTAGGGTCAATCTTGCCTGCCTTAAGTAACCAACCCGCTCTTTCAGTGGGAGGAATTCCCGA',\n",
       " 'GTCTCGAGACAGGAACGACCATTTCCAACTGGAATTGACAACTAGCTGCTCATGGCCTCATATCCTAAGGTAGTATCGATCTCCACTCTAAATACCAAGT',\n",
       " 'GTTTCCTTACCGGACGAACGCCGTTGCCATACAGGCTACGCACGCAGTCCGCTATTAGGCGACACGCACTACAACATCATTTAGACGTTGGACCACATTT',\n",
       " 'GCGCCGCAGGACCAAGCGTGTAGGGGTCAGGTCTACTGAGGTGAGATCGGCTGAGCGGGCCACGGCTTCTTGGGTGTGCTGCTTTGGTAAGGTGTACTAT',\n",
       " 'GTCGCCACATTGCTATAGTGCGCTTTGCCACAAGCACTGCGCAGGGACAAATGAGCAATGTTTTAATGAGTGTCATTCTTCCAATTCCCTGCAGAGTAAT',\n",
       " 'CGAACCATTCGCTCTGGGGGACGGATTCCTGAACATTCTAGCCGTACAAACCGCTGCGTCAAGTACGGGCGTCGAGCTGGAATCCCAATTGTATGTCTAG',\n",
       " 'AACTGGAATCGCTGGCCTGTACCCGGGGAGAAGACCCTATCGGTGTGCCCTAATCGTTATACCAAATCCTCCTACGTATCGCAGTCTGTTACTATCGCTT',\n",
       " 'ACGTCTCAAATCGCGGCTTTAAAATAAAGTATTTACACAATGTGACTGTGGTTCCCTTGAAAGTACTCGGAAGAAAAGCATTAGCACAGACGGACTAGGC',\n",
       " 'TTCCACGCTTTTTGACCCGTGCATCAGCTTGTAAATCAACTTCTGGTGACGAAGCCCTCCCACTACATCTCCGGCAAGCGCGCTTCCCGGATCGGAAAGA',\n",
       " 'AAAACCTCACTGCATTACGGGTGGAGTACGACAGGCTGTCGAATGAGTGATTCATACTGCGCTTAAGCTTAGTGCCGACGAGATGAAGGTCACGAGATGG',\n",
       " 'TGATATGGATAACATGGTGCATTATAGTTGGGTTTTGGACTATACAGTTTAGTGATAACATCATCCGTAATCTAGTAGCTGCCGTAGCCATGATAACATA',\n",
       " 'CGTTCGTCGTGATTGTCAACCGGTCTCGTAGAATATCAACGGAGTTTCTACTACCAGGCCATACTGGTACAGTCTCCAACAATCGCCGTCGTCTTGTTTA',\n",
       " 'ATTACCATTAGTACGCTATACAAATGGACTGATTGAGTTTTGTCAGACAGTTCTTATTCCTGCTACTAACGGAATAGCGCGCTCCACCTAGCGCTGGAAC',\n",
       " 'CCCCACGAGACATTTTCTATGCGAAATCGGAGGTCCACGTAACGCACAGAACCCCATCAGATGCGCAAATCGCCCTGTTCTGTCGCCACATCACGACACC',\n",
       " 'GGGTTCGGCTAGTATTGTCTCGACTTTACTTGACTCGGACTTTGAATGGGCGCTTACGGTCTATTCTGCAAATTAGCAGAGGGCTGGGAGGCGAACGCTA',\n",
       " 'GGAGCAGACTGTATCTTCGCTAATCGGAGACTTTTCCGATCGGGAGATCGTAACGTGCACATCACACGGGACGTCTTTCGCAGGTCGCCTTGAAATGATG',\n",
       " 'TAGCGGATTGGGGCGGAATGGCGTAGAGGCCATTTGACAGGGTCCAGATCGTGATTACCCGGGAAGGCCGAACTCTTGATGGACACGAAAAGGCGAGATT',\n",
       " 'CGCAACAAGCGTTATGATCTGGCCCACATTACTACCATTCTCCGCTAAGGAGGTAGTCATAAAACGGTGGCGCCCTAATAATCGGGTACGCCCGCAGGAG',\n",
       " 'CTCACCACTAAGCGAAATCCGTCGCGGGACCTCTTCCTCCTTGTATGTTATAGGCAATGCACTGGTAGATCTCGGTCACCGGAAAACTGATAAAATATGA',\n",
       " 'TCACCCTACTTTATAGAGAGCTCGTCGCCCTTTATAACGAGCGATTAGAGAAATCTTATTCATAGTACAGCAACGTACTCATTGCGAGTCCCGATTCTCC',\n",
       " 'ACCTCCAGTGGATGCAGAGACCTAATCAAAGAGTACCACATAAAAAACCATGAAAATCGAAAAGATGTATGTGGTGTACCAACCCCCCAACGACCTTGAG',\n",
       " 'GATCGATCCCTACTTCGCTCAGCTATCTCTTTAGGTTGGGATGTAATGCATACGCGTCTTCATGGAACCAATACTCCTAGTTTAAGAATCTGAACAAACT',\n",
       " 'CAAGGAGCCTGGTGGCTTGATAGACTCTGCTAATGTCAAAATCGATGGGGCGCAGCGGCGGTGCTCAGTCGTCTCAGATTCGATACTGTGAGCTTAGGAT',\n",
       " 'CGTGTGCAAGCTACTGGAGTCCCACCGAAAGACCAACTTGATGCTGGTCTATAGATGTCCAACTGACGTGTCTGATCTCTGGGCAGCCGGGATAAGACTT',\n",
       " 'TCCGACCGAAAGTAAATATGCTGAGCGCGGTTGTATGTCAACTCATAACTAATAGCACCTAGAACGGACGTGCCAGGCAGGGCGATACGTTATGGCTTGG',\n",
       " 'GCCAATTAAGTCTCGAAAGATATGGGTCTCCTCTAAAACTACCGATAGTAAGAAACGAGCTAATTATTCTTAGTGTGAGACGCGCTATCGACCCCTATGT',\n",
       " 'CTTTCATGTGGGGTTGTTCACTCGATGAAAATTGTTCTCTAACGTAGGACGTCCATCGCGTTCAGTCGTGCAGTTATACTACAGTAATGTATCACGGGCA',\n",
       " 'TTTTACAGCCATAGTCAGGCGAGCTCTGGTTCTGGGGCTCTACGTTGTACGCAACACCGATAATCCGTCTGAATTGGAGGGAATTGCCACAGTGTTGCTG',\n",
       " 'CCGTTTCCTCCCCGCGACTTGGGCGTAGCGAAATGCGCCCTAAATAAAGGGGTCGTTACTATATGAATAAGTGTGCAATGTTCACGCCACACGAGTGCAA',\n",
       " 'TGACCACGACAACGGAGTGCAACTGCGGAAATGATCCCACTTGGGGATGAACGGCGACGCGCTCGGGATTTGTGGGCCTAACGCTAATGGTTGCTCCGTC',\n",
       " 'TGCTCGCCATATACCGCGTATATGCTTAAGACCTTATGTCTCAGAGCTGAAAGAGTAGAAGGATACACGTTGCTTGCCCAGCACCTGAAAACTATTAGTG',\n",
       " 'CCCCATGAACAAGAACCTTAACGGCAAACATATCTTTAGATATGATCTCACAACAGATTCTTTTGCAATACTGAATGCCCCGACTTAAGCAATCACTCAT',\n",
       " 'CGGGAGACTCGGTAAGAGTTTCTTCTCGTCGTTCTGAGGGATTCCCGGTTAGAAAACAGGCGCGAAACTTTCTTCTCGAGGGCATAGTACTTACAGAAGT',\n",
       " 'GTGTATGTGAGTCGTTCAAAGGGCACGGCCCCGGGACTTGAGCTAAATTGTCCCGGGCATGATGGGTTCAGCGGCACCTGGGAGGTTGATGGTATTAACA',\n",
       " 'TGAACCTATCTTAGTAATCTGGAAAGGAGTCATAATGGACGCAAGTCGGTATACTGGCTCGGGCGGGAACATGCAGGAGTCGATTCCGGTTGGATCCTCA',\n",
       " 'AGGTCGTCAAATACAACCAACAATATTATAAAAATGCGAATATGCGTACCACCCTTGTACATCACTCTATGGAGGCGCGCACCGGGAGTGTCGAGCCCTC',\n",
       " 'GAGCCCAGGGCTAAGCTACTCTGGTTAGACTTTGTCATCGTATATAGAGTGCACACTTCGGCATATACAGAGGGAACCCGACCAATGTTCCACGGGCTTG',\n",
       " 'CGGCCCGTAATCCATTCAAATATAGTAATTAAAAGATCTTAATGTCCTTTGAGAAGTGGAGGGTGCATCTGCAAAGCTAGGGGTCAGGACGGGCTCGTCT',\n",
       " 'CGCCTGGCGTAGTACGTAGGCATTGTGGGCGCCCTACAAGGAGTGACCAGGCGTAATTTGGTCGGACAGTGTGGTGATATCCCATAACACTAGGGCGATT',\n",
       " 'TGCTCCCGGCATTGTCTTTTGATGACGGAACCGAGCCTGAGATGGACGCGACATCAGTGATCGGCCGCGCAATGAACGCCTGGCGCGAGTGGCGAAGCGC',\n",
       " 'ACAGTAGGCTTATCGTGAATACTAAAGCTATAAGCTAGAGAACACGTCCGGCTATCACGGGACAGCGTAAAGATAAAGGAACTGCGCGAGACTCACCCCA',\n",
       " 'GTCTCCCCGACTATTCCCGATTCATCCTTTAAGTCGTGTTAGAGCTGCAAGCGGGGGATATCCGACGCAACCGTCCTGATGCGCTCTCGACATCTCATAT',\n",
       " 'GAAACCACCCGGAATTAGGTACACTGTATGGTAGTTATATTAACCATATTCTCCCATTGAATTATCTGGTTCGTGTTAGTGCGCGTCCGTATACGAGCCT',\n",
       " 'AGCGCAAAAGCCGCTCGACAAACCGGTATCGGCGATGTAATGCCCAGGCCACTAAATCGGAAGCCCTGGGGACGTACACTATCTATTTTCGGACGGAGCG',\n",
       " 'TTTAGAAGAACGTAGAATGATTACGCGAATACCCCCAGATTAACCCGTCAACAAACTTTAATGCAGGTTGGATCTATACCTAGATACCGGGGTGCTGTTG',\n",
       " 'TCACAGTGCCAGCGGAAAGGTCACTGACGAGAGGACACCACAGAGGAGGCTATCGTATCGGGTTGGGAAGCTGCTGTGCTTTCTTCCAATGCGAGGAGGA',\n",
       " 'ACAGCACAAGTGCGTCTAATGCACCGAGGTACTTTCTTGAAATAGTTTCTAGCTTGAGTACGAGTAACCAGCTCTTCCAAAGCCTCCAAAGTGCGTTTAG',\n",
       " 'ATACGTCTTCTGACCAATGATAATGACTGAGCAGTTTTGGTTATTGTCTGCGCTCATGACTGTGCTGTATAACCAGAATTTCAACCAAAATTGTGGTCAG',\n",
       " 'AGTTATGCTGTGAGCAGCCCAGGACTCTGGGAGAAAATGGTACCAGCCATGCGTACGTGTAGAAGTTGAAAATATACTTGCATTTAAACTTGCGCGAGAG',\n",
       " 'CGCTCTATGATCATTGGGGACAGGGTGTTCTCTACGTGCGAATCCTTGTAAGGTCTATAGTCACGTTACCGCTTAATGAGAACAGCTTTGGAGCTTGGAT',\n",
       " 'TATTTTATCACCCAGCCATCACACCTCTGCCTAGCTGGTGATTCGGACGTTTTAGCGAAACGGTGTCGACAAGTTCGCTGTTTCTTCTAGGTACCTCGCA',\n",
       " 'GTGTCATACCCCCCATGACTAGCGCTGGAGGGATGGGAATGATGGCACTTATAAACCGATTGTTGGGGGAACGCCACATCGGTGTAACGCGAGGTCAAAA',\n",
       " 'CTCCTACACACGTATGATCTCAATACTTAAGGGGGAAACATTCGAGCATCGGGTACAGGCTGAGACATACGTTCCTATGACGGGACGGCCGAAAGAGCAG',\n",
       " 'GGGGCGTAACGGCATCATATAGATTAACTAGTGATCCCAGCATGGTCATTCGCTCTTCTCGGCGCCAAAAATTTTACGTGCTATCGGGATTGGGTGCCCG',\n",
       " 'GTAAAAGTCATAGAAGGGGATAATACTGCCAGATTAATGTTCATTAGTATTTCCAGTGTTGTGAAAACAGTAAACAATCCAGATGACGACCTACTGCCCC',\n",
       " 'TTTCGCACCTTTTCCCACGCCGGAGGACCTGAACGAAAGAGAGGGATGTTCAACTGGCGTGTCGCGTCGCAAGGCATAGAATTCACACTCTATGATGAAA']"
      ]
     },
     "execution_count": 5,
     "metadata": {},
     "output_type": "execute_result"
    }
   ],
   "source": [
    "data"
   ]
  },
  {
   "cell_type": "code",
   "execution_count": 16,
   "id": "93def634",
   "metadata": {},
   "outputs": [
    {
     "name": "stdout",
     "output_type": "stream",
     "text": [
      "4\n",
      "100\n"
     ]
    }
   ],
   "source": [
    "import numpy as np\n",
    "\n",
    "# seqs = [\"GAATTCTCGAA\", \"AAATTCTCGAA\"]\n",
    "\n",
    "CHARS = \"ACGT\"\n",
    "CHARS_COUNT = len(CHARS)\n",
    "print(CHARS_COUNT)\n",
    "\n",
    "maxlen = max(map(len, data))\n",
    "print(maxlen)\n",
    "res = np.zeros((len(data), CHARS_COUNT * maxlen))\n",
    "\n"
   ]
  },
  {
   "cell_type": "code",
   "execution_count": 17,
   "id": "230701ed",
   "metadata": {},
   "outputs": [
    {
     "data": {
      "text/plain": [
       "(100, 400)"
      ]
     },
     "execution_count": 17,
     "metadata": {},
     "output_type": "execute_result"
    }
   ],
   "source": [
    "res.shape"
   ]
  },
  {
   "cell_type": "code",
   "execution_count": 14,
   "id": "2bb98676",
   "metadata": {},
   "outputs": [],
   "source": [
    "for si, seq in enumerate(data):\n",
    "    seqlen = len(seq)\n",
    "    arr = np.chararray((seqlen,), buffer=seq)\n",
    "    for ii, char in enumerate(CHARS):\n",
    "        res[si][ii * seqlen : (ii + 1) * seqlen][arr == char] = 1\n"
   ]
  },
  {
   "cell_type": "code",
   "execution_count": 15,
   "id": "6dc695f6",
   "metadata": {},
   "outputs": [
    {
     "data": {
      "text/plain": [
       "array([1., 1., 1., 1., 1., 1., 1., 1., 1., 1., 1., 1., 1., 1., 1., 1., 1.,\n",
       "       1., 1., 1., 1., 1., 1., 1., 1., 1., 1., 1., 1., 1., 1., 1., 1., 1.,\n",
       "       1., 1., 1., 1., 1., 1., 1., 1., 1., 1., 1., 1., 1., 1., 1., 1., 1.,\n",
       "       1., 1., 1., 1., 1., 1., 1., 1., 1., 1., 1., 1., 1., 1., 1., 1., 1.,\n",
       "       1., 1., 1., 1., 1., 1., 1., 1., 1., 1., 1., 1., 1., 1., 1., 1., 1.,\n",
       "       1., 1., 1., 1., 1., 1., 1., 1., 1., 1., 1., 1., 1., 1., 1., 1., 1.,\n",
       "       1., 1., 1., 1., 1., 1., 1., 1., 1., 1., 1., 1., 1., 1., 1., 1., 1.,\n",
       "       1., 1., 1., 1., 1., 1., 1., 1., 1., 1., 1., 1., 1., 1., 1., 1., 1.,\n",
       "       1., 1., 1., 1., 1., 1., 1., 1., 1., 1., 1., 1., 1., 1., 1., 1., 1.,\n",
       "       1., 1., 1., 1., 1., 1., 1., 1., 1., 1., 1., 1., 1., 1., 1., 1., 1.,\n",
       "       1., 1., 1., 1., 1., 1., 1., 1., 1., 1., 1., 1., 1., 1., 1., 1., 1.,\n",
       "       1., 1., 1., 1., 1., 1., 1., 1., 1., 1., 1., 1., 1., 1., 1., 1., 1.,\n",
       "       1., 1., 1., 1., 1., 1., 1., 1., 1., 1., 1., 1., 1., 1., 1., 1., 1.,\n",
       "       1., 1., 1., 1., 1., 1., 1., 1., 1., 1., 1., 1., 1., 1., 1., 1., 1.,\n",
       "       1., 1., 1., 1., 1., 1., 1., 1., 1., 1., 1., 1., 1., 1., 1., 1., 1.,\n",
       "       1., 1., 1., 1., 1., 1., 1., 1., 1., 1., 1., 1., 1., 1., 1., 1., 1.,\n",
       "       1., 1., 1., 1., 1., 1., 1., 1., 1., 1., 1., 1., 1., 1., 1., 1., 1.,\n",
       "       1., 1., 1., 1., 1., 1., 1., 1., 1., 1., 1., 1., 1., 1., 1., 1., 1.,\n",
       "       1., 1., 1., 1., 1., 1., 1., 1., 1., 1., 1., 1., 1., 1., 1., 1., 1.,\n",
       "       1., 1., 1., 1., 1., 1., 1., 1., 1., 1., 1., 1., 1., 1., 1., 1., 1.,\n",
       "       1., 1., 1., 1., 1., 1., 1., 1., 1., 1., 1., 1., 1., 1., 1., 1., 1.,\n",
       "       1., 1., 1., 1., 1., 1., 1., 1., 1., 1., 1., 1., 1., 1., 1., 1., 1.,\n",
       "       1., 1., 1., 1., 1., 1., 1., 1., 1., 1., 1., 1., 1., 1., 1., 1., 1.,\n",
       "       1., 1., 1., 1., 1., 1., 1., 1., 1.])"
      ]
     },
     "execution_count": 15,
     "metadata": {},
     "output_type": "execute_result"
    }
   ],
   "source": [
    "res[0]"
   ]
  },
  {
   "cell_type": "code",
   "execution_count": null,
   "id": "fb100f4b",
   "metadata": {},
   "outputs": [],
   "source": []
  },
  {
   "cell_type": "code",
   "execution_count": null,
   "id": "04d43611",
   "metadata": {},
   "outputs": [],
   "source": []
  },
  {
   "cell_type": "code",
   "execution_count": null,
   "id": "8903be47",
   "metadata": {},
   "outputs": [],
   "source": []
  },
  {
   "cell_type": "code",
   "execution_count": null,
   "id": "25646014",
   "metadata": {},
   "outputs": [],
   "source": []
  },
  {
   "cell_type": "code",
   "execution_count": null,
   "id": "e899a0f0",
   "metadata": {},
   "outputs": [],
   "source": []
  },
  {
   "cell_type": "code",
   "execution_count": null,
   "id": "afed0739",
   "metadata": {},
   "outputs": [],
   "source": []
  },
  {
   "cell_type": "code",
   "execution_count": null,
   "id": "2a79ee7d",
   "metadata": {},
   "outputs": [],
   "source": []
  },
  {
   "cell_type": "code",
   "execution_count": null,
   "id": "1b8fbe9f",
   "metadata": {},
   "outputs": [],
   "source": []
  },
  {
   "cell_type": "code",
   "execution_count": null,
   "id": "c48e256b",
   "metadata": {},
   "outputs": [],
   "source": []
  },
  {
   "cell_type": "code",
   "execution_count": null,
   "id": "5dc5f298",
   "metadata": {},
   "outputs": [],
   "source": []
  },
  {
   "cell_type": "code",
   "execution_count": null,
   "id": "88ec69e8",
   "metadata": {},
   "outputs": [],
   "source": [
    "# generate a sequence of random integers\n",
    "def generate_sequence(length, n_unique):\n",
    "    return [randint(1, n_unique - 1) for _ in range(length)]"
   ]
  },
  {
   "cell_type": "code",
   "execution_count": null,
   "id": "339b5020",
   "metadata": {},
   "outputs": [],
   "source": [
    "# prepare data for the LSTM\n",
    "def get_dataset(n_in, n_out, cardinality, n_samples):\n",
    "    X1, X2, y = list(), list(), list()\n",
    "    for _ in range(n_samples):\n",
    "        # generate source sequence\n",
    "        source = generate_sequence(n_in, cardinality)\n",
    "        # define padded target sequence\n",
    "        target = source[:n_out]\n",
    "        target.reverse()\n",
    "        # create padded input target sequence\n",
    "        target_in = [0] + target[:-1]\n",
    "        # encode\n",
    "        src_encoded = to_categorical([source], num_classes=cardinality)\n",
    "        tar_encoded = to_categorical([target], num_classes=cardinality)\n",
    "        tar2_encoded = to_categorical([target_in], num_classes=cardinality)\n",
    "        # store\n",
    "        X1.append(src_encoded)\n",
    "        X2.append(tar2_encoded)\n",
    "        y.append(tar_encoded)\n",
    "    return array(X1), array(X2), array(y)"
   ]
  },
  {
   "cell_type": "code",
   "execution_count": null,
   "id": "25c789bf",
   "metadata": {},
   "outputs": [],
   "source": [
    "# returns train, inference_encoder and inference_decoder models\n",
    "def define_models(n_input, n_output, n_units):\n",
    "\t# define training encoder\n",
    "\tencoder_inputs = Input(shape=(None, n_input))\n",
    "\tencoder = LSTM(n_units, return_state=True)\n",
    "\tencoder_outputs, state_h, state_c = encoder(encoder_inputs)\n",
    "\tencoder_states = [state_h, state_c]\n",
    "\t# define training decoder\n",
    "\tdecoder_inputs = Input(shape=(None, n_output))\n",
    "\tdecoder_lstm = LSTM(n_units, return_sequences=True, return_state=True)\n",
    "\tdecoder_outputs, _, _ = decoder_lstm(decoder_inputs, initial_state=encoder_states)\n",
    "\tdecoder_dense = Dense(n_output, activation='softmax')\n",
    "\tdecoder_outputs = decoder_dense(decoder_outputs)\n",
    "\tmodel = Model([encoder_inputs, decoder_inputs], decoder_outputs)\n",
    "\t# define inference encoder\n",
    "\tencoder_model = Model(encoder_inputs, encoder_states)\n",
    "\t# define inference decoder\n",
    "\tdecoder_state_input_h = Input(shape=(n_units,))\n",
    "\tdecoder_state_input_c = Input(shape=(n_units,))\n",
    "\tdecoder_states_inputs = [decoder_state_input_h, decoder_state_input_c]\n",
    "\tdecoder_outputs, state_h, state_c = decoder_lstm(decoder_inputs, initial_state=decoder_states_inputs)\n",
    "\tdecoder_states = [state_h, state_c]\n",
    "\tdecoder_outputs = decoder_dense(decoder_outputs)\n",
    "\tdecoder_model = Model([decoder_inputs] + decoder_states_inputs, [decoder_outputs] + decoder_states)\n",
    "\t# return all models\n",
    "\treturn model, encoder_model, decoder_model\n"
   ]
  },
  {
   "cell_type": "code",
   "execution_count": null,
   "id": "cbe8e430",
   "metadata": {},
   "outputs": [],
   "source": [
    "# generate target given source sequence\n",
    "def predict_sequence(infenc, infdec, source, n_steps, cardinality):\n",
    "    # encode\n",
    "    state = infenc.predict(source)\n",
    "    # start of sequence input\n",
    "    target_seq = array([0.0 for _ in range(cardinality)]).reshape(1, 1, cardinality)\n",
    "    # collect predictions\n",
    "    output = list()\n",
    "    for t in range(n_steps):\n",
    "        # predict next char\n",
    "        yhat, h, c = infdec.predict([target_seq] + state)\n",
    "        # store prediction\n",
    "        output.append(yhat[0, 0, :])\n",
    "        # update state\n",
    "        state = [h, c]\n",
    "        # update target sequence\n",
    "        target_seq = yhat\n",
    "    return array(output)"
   ]
  },
  {
   "cell_type": "code",
   "execution_count": null,
   "id": "0587dab4",
   "metadata": {},
   "outputs": [],
   "source": [
    "# decode a one hot encoded string\n",
    "def one_hot_decode(encoded_seq):\n",
    "    return [argmax(vector) for vector in encoded_seq]"
   ]
  },
  {
   "cell_type": "code",
   "execution_count": null,
   "id": "8199799a",
   "metadata": {},
   "outputs": [],
   "source": [
    "# configure problem\n",
    "n_features = 50 + 1\n",
    "n_steps_in = 6\n",
    "n_steps_out = 3"
   ]
  },
  {
   "cell_type": "code",
   "execution_count": null,
   "id": "977cfdf4",
   "metadata": {},
   "outputs": [],
   "source": [
    "# define model\n",
    "train, infenc, infdec = define_models(n_features, n_features, 128)\n",
    "train.compile(optimizer=\"adam\", loss=\"categorical_crossentropy\", metrics=[\"accuracy\"])"
   ]
  },
  {
   "cell_type": "code",
   "execution_count": null,
   "id": "14a8f2fb",
   "metadata": {},
   "outputs": [],
   "source": [
    "# generate training dataset\n",
    "X1, X2, y = get_dataset(n_steps_in, n_steps_out, n_features, 100000)\n",
    "print(X1.shape, X2.shape, y.shape)\n"
   ]
  },
  {
   "cell_type": "code",
   "execution_count": null,
   "id": "47b8094b",
   "metadata": {},
   "outputs": [],
   "source": [
    "# train model\n",
    "train.fit([X1, X2], y, epochs=50)"
   ]
  },
  {
   "cell_type": "code",
   "execution_count": null,
   "id": "4afbf75a",
   "metadata": {},
   "outputs": [],
   "source": [
    "history = model.fit(X_train, Y_train, validation_data=(X_test, Y_test), batch_size=32, epochs=10, verbose=1)\n",
    "\n",
    "# Get training and test loss histories\n",
    "training_loss = history.history['loss']\n",
    "test_loss = history.history['val_loss']\n",
    "\n",
    "# Create count of the number of epochs\n",
    "epoch_count = range(1, len(training_loss) + 1)\n",
    "\n",
    "# Visualize loss history\n",
    "plt.plot(epoch_count, training_loss, 'r--')\n",
    "plt.plot(epoch_count, test_loss, 'b-')\n",
    "plt.legend(['Training Loss', 'Test Loss'])\n",
    "plt.xlabel('Epoch')\n",
    "plt.ylabel('Loss')\n",
    "plt.show();"
   ]
  },
  {
   "cell_type": "code",
   "execution_count": null,
   "id": "6c07afce",
   "metadata": {},
   "outputs": [],
   "source": [
    "# evaluate LSTM\n",
    "total, correct = 100, 0\n",
    "for _ in range(total):\n",
    "\tX1, X2, y = get_dataset(n_steps_in, n_steps_out, n_features, 1)\n",
    "\ttarget = predict_sequence(infenc, infdec, X1, n_steps_out, n_features)\n",
    "\tif array_equal(one_hot_decode(y[0]), one_hot_decode(target)):\n",
    "\t\tcorrect += 1\n",
    "print('Accuracy: %.2f%%' % (float(correct)/float(total)*100.0))\n",
    "# spot check some examples\n",
    "for _ in range(10):\n",
    "\tX1, X2, y = get_dataset(n_steps_in, n_steps_out, n_features, 1)\n",
    "\ttarget = predict_sequence(infenc, infdec, X1, n_steps_out, n_features)\n",
    "\tprint('X=%s y=%s, yhat=%s' % (one_hot_decode(X1[0]), one_hot_decode(y[0]), one_hot_decode(target)))"
   ]
  },
  {
   "cell_type": "code",
   "execution_count": null,
   "id": "605bba30",
   "metadata": {},
   "outputs": [],
   "source": [
    "# generate a sequence of random integers\n",
    "def generate_sequence(length, n_unique):\n",
    "    return [randint(1, n_unique - 1) for _ in range(length)]"
   ]
  },
  {
   "cell_type": "code",
   "execution_count": null,
   "id": "d8183a7d",
   "metadata": {},
   "outputs": [],
   "source": [
    "def get_dataset(n_in, n_out, cardinality, n_samples):\n",
    "    X1, X2, y = list(), list(), list()\n",
    "    for _ in range(n_samples):\n",
    "        # generate source sequence\n",
    "        source = generate_sequence(n_in, cardinality)\n",
    "        # define padded target sequence\n",
    "        target = source[:n_out]\n",
    "        target.reverse()\n",
    "        # create padded input target sequence\n",
    "        target_in = [0] + target[:-1]\n",
    "        # encode\n",
    "        src_encoded = to_categorical([source], num_classes=cardinality)\n",
    "        tar_encoded = to_categorical([target], num_classes=cardinality)\n",
    "        tar2_encoded = to_categorical([target_in], num_classes=cardinality)\n",
    "        # store\n",
    "        X1.append(src_encoded)\n",
    "        X2.append(tar2_encoded)\n",
    "        y.append(tar_encoded)\n",
    "    return array(X1), array(X2), array(y)"
   ]
  },
  {
   "cell_type": "code",
   "execution_count": null,
   "id": "f64e1a68",
   "metadata": {},
   "outputs": [],
   "source": [
    "X1[0]"
   ]
  },
  {
   "cell_type": "code",
   "execution_count": null,
   "id": "4a5659a1",
   "metadata": {},
   "outputs": [],
   "source": [
    "X1, X2, y = get_dataset(n_steps_in, n_steps_out, n_features, 100000)"
   ]
  },
  {
   "cell_type": "code",
   "execution_count": null,
   "id": "9fb8cbde",
   "metadata": {},
   "outputs": [],
   "source": [
    "# configure problem\n",
    "n_features = 51\n",
    "n_steps_in = 6\n",
    "n_steps_out = 3"
   ]
  },
  {
   "cell_type": "code",
   "execution_count": null,
   "id": "b9b91a9c",
   "metadata": {},
   "outputs": [],
   "source": [
    "m, n = y.shape[::2]\n",
    "y = y.transpose(0, 3, 1, 2).reshape(m, n, -1)"
   ]
  },
  {
   "cell_type": "code",
   "execution_count": null,
   "id": "7e1417e1",
   "metadata": {},
   "outputs": [],
   "source": [
    "m"
   ]
  },
  {
   "cell_type": "code",
   "execution_count": null,
   "id": "40bc90a7",
   "metadata": {},
   "outputs": [],
   "source": [
    "n"
   ]
  },
  {
   "cell_type": "code",
   "execution_count": null,
   "id": "dadbd2bf",
   "metadata": {},
   "outputs": [],
   "source": [
    "data_new.shape"
   ]
  },
  {
   "cell_type": "code",
   "execution_count": null,
   "id": "e7631d1c",
   "metadata": {},
   "outputs": [],
   "source": [
    "# generate training dataset\n",
    "\n",
    "print(X1.shape, X2.shape, y.shape)\n"
   ]
  },
  {
   "cell_type": "code",
   "execution_count": null,
   "id": "83c78427",
   "metadata": {},
   "outputs": [],
   "source": []
  }
 ],
 "metadata": {
  "kernelspec": {
   "display_name": "Python 3 (ipykernel)",
   "language": "python",
   "name": "python3"
  },
  "language_info": {
   "codemirror_mode": {
    "name": "ipython",
    "version": 3
   },
   "file_extension": ".py",
   "mimetype": "text/x-python",
   "name": "python",
   "nbconvert_exporter": "python",
   "pygments_lexer": "ipython3",
   "version": "3.8.0"
  }
 },
 "nbformat": 4,
 "nbformat_minor": 5
}
